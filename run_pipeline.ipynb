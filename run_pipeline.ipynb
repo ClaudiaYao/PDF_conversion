{
 "cells": [
  {
   "cell_type": "code",
   "execution_count": null,
   "metadata": {},
   "outputs": [],
   "source": [
    "import os\n",
    "import json\n",
    "import nltk\n",
    "nltk.download('stopwords')\n",
    "nltk.download('punkt')\n",
    "nltk.download('wordnet')\n",
    "from nltk.stem import WordNetLemmatizer #Used to lemmatize words\n",
    "from nltk.tokenize import sent_tokenize\n",
    "from nltk.corpus import stopwords\n",
    "import pandas as pd\n",
    "\n",
    "from processing_pdf.processing_pdf import *\n",
    "from model_summarizer.allenai_summarizer import SummarizationModel, load_data\n",
    "from data_preparation.gpt_summary import get_summaries\n",
    "from presentation_generation.generate_ppt import *\n",
    "\n",
    "stop_words = set(stopwords.words('english'))\n",
    "lemmatizer = WordNetLemmatizer()\n",
    "\n",
    "pd.options.display.max_colwidth = 1000"
   ]
  },
  {
   "cell_type": "markdown",
   "metadata": {},
   "source": [
    "# Preparation: \n",
    "### Modify variables for pipeline in this cell:"
   ]
  },
  {
   "cell_type": "code",
   "execution_count": null,
   "metadata": {},
   "outputs": [],
   "source": [
    "filename = \"1901.00039v2\" # Filename of the pdf\n",
    "summary_models = [\"allenai/led-large-16384-arxiv\", \"facebook/bart-large-xsum\", \"gpt-3.5-turbo-0125\"] # Available summarization models\n",
    "model_name = summary_models[0] # Selected summarization model\n",
    "use_gpt_ppt_parsing = False # True for GPT parsing, False for manual parsing"
   ]
  },
  {
   "cell_type": "markdown",
   "metadata": {},
   "source": [
    "# 1. Processing PDF\n",
    "- Reads the pdf file in the /data/paper_pdf directory\n",
    "- Try to retrieve the table of contents (manually specify if not available)\n",
    "- Extract text and images on section or subsection level based on the table of contents\n",
    "- Save extracted data in the /processed directory"
   ]
  },
  {
   "cell_type": "code",
   "execution_count": null,
   "metadata": {},
   "outputs": [],
   "source": [
    "pdf_file = f\"{filename}.pdf\"\n",
    "project_path = os.getcwd()\n",
    "project_data_path = project_path + \"/data/paper_pdf\"\n",
    "project_processed_data_path = project_path + \"/processed\"\n",
    "if not os.path.exists(project_data_path):\n",
    "    os.makedirs(project_data_path)\n",
    "if not os.path.exists(project_processed_data_path):\n",
    "    os.makedirs(project_processed_data_path)"
   ]
  },
  {
   "cell_type": "code",
   "execution_count": null,
   "metadata": {},
   "outputs": [],
   "source": [
    "doc, total_text, total_pages = open_file(project_data_path + \"/\" + pdf_file)\n",
    "\n",
    "# Use processing_pdf.auto_find_toc(), which will clean up the original toc\n",
    "# table_of_content = doc.get_toc()\n",
    "table_of_content = auto_find_toc(doc)\n",
    "display(table_of_content)"
   ]
  },
  {
   "cell_type": "code",
   "execution_count": null,
   "metadata": {},
   "outputs": [],
   "source": [
    "#uncomment this list to customize table-of-content\n",
    "# table_of_content = [[1, 'I. INTRODUCTION', 1],\n",
    "#  [1, 'II. SFC BASED ON IPV6 SEGMENT ROUTING', 2],\n",
    "#  [1, 'III. DESIGN OF THE SRV6 PROXY', 4],\n",
    "#  [2, 'A. General Concepts and State-of-the-art', 4],\n",
    "#  [2, 'B. SRNKv1', 5],\n",
    "#  [2, 'C. SRNKv2', 7],\n",
    "#  [2, 'D. Implementation of other SR proxy types', 8],\n",
    "#  [1, 'IV. TESTING ENVIRONMENT', 8],\n",
    "#  [1, 'V. PERFORMANCE ANALYSIS', 9],\n",
    "#  [1, 'VII. CONCLUSIONS', 11]]\n",
    "\n",
    "# separate content into sections\n",
    "clear_processed_folder(project_processed_data_path)\n",
    "title, authors, other_info, abstract = find_meta_data(doc, table_of_content)\n",
    "df_meta = pd.DataFrame([title, abstract]).T\n",
    "df_meta.columns = [\"Title\", \"Abstract\"]\n",
    "ds, json_dict = separate_content(total_text, table_of_content)\n",
    "save_dataframe(ds, df_meta, json_dict, project_processed_data_path,  pdf_file.rsplit(\".\", 1)[0])\n",
    "# extract images\n",
    "find_images(doc, table_of_content, total_pages, project_processed_data_path)\n",
    "\n",
    "# display(ds)\n",
    "print(f\"\\nTitle: {title}\")\n",
    "print(f\"\\nAuthors:{authors}\")\n",
    "print(f\"\\nOther info: {other_info}\")\n",
    "print(f\"\\nAbstract:{abstract}\")\n"
   ]
  },
  {
   "cell_type": "code",
   "execution_count": null,
   "metadata": {},
   "outputs": [],
   "source": [
    "# open json file\n",
    "with open(f\"{project_processed_data_path}/{filename}.json\") as f:\n",
    "    data = json.load(f)\n",
    "    for item in data:\n",
    "        display(item)"
   ]
  },
  {
   "cell_type": "markdown",
   "metadata": {},
   "source": [
    "# 2. Model Summarisation\n",
    "- If using GPT summarization (`model_name` is equal to 'gpt-3.5-turbo-0125'): Send query via OpenAI API\n",
    "- Else, load chosen fine-tuned summarization model and generate section level summaries (this is the default option)"
   ]
  },
  {
   "cell_type": "code",
   "execution_count": null,
   "metadata": {},
   "outputs": [],
   "source": [
    "if model_name == \"gpt-3.5-turbo-0125\":\n",
    "    with open(f\"processed/{filename}.json\", encoding='utf-8') as f:\n",
    "        data = json.load(f)\n",
    "    get_summaries(data)\n",
    "    with open(f\"gpt_summaries/{filename}.json\", 'w', encoding='utf-8') as f:\n",
    "        json.dump(data, f, ensure_ascii=False, indent=4)\n",
    "else:\n",
    "    summarizer = SummarizationModel(model_name)\n",
    "    model = summarizer.model\n",
    "\n",
    "    # path for the extracted pdf's json file\n",
    "    data_file_path = os.path.join('processed', f'{filename}.json')\n",
    "    # Load  the json file for summarization\n",
    "    pdf_data = load_data(data_file_path)\n",
    "\n",
    "    summarizer_model = SummarizationModel(model_name)\n",
    "\n",
    "    #Write the final summary to the summary jsonfile\n",
    "    output_file =os.path.join('model_summarizer/results/model-summary_results.json')\n",
    "    summarizer.summarize_pdf(pdf_data, output_file, summarizer_model)"
   ]
  },
  {
   "cell_type": "markdown",
   "metadata": {},
   "source": [
    "# 3. Generate PPT\n",
    "- Obtain the summaries and images\n",
    "- Caption images with pretrained image captioning model\n",
    "- Parse PPT JSON either w GPT or manually\n",
    "- Save JSON information as PowerPoint using python-pptx"
   ]
  },
  {
   "cell_type": "code",
   "execution_count": null,
   "metadata": {},
   "outputs": [],
   "source": [
    "section_texts = []\n",
    "section_names = []\n",
    "section_image_paths = []\n",
    "if model_name == \"gpt-3.5-turbo-0125\":\n",
    "    with open(f\"gpt_summaries/{filename}.json\", encoding='utf-8') as f:\n",
    "        data = json.load(f)\n",
    "    for section in data:\n",
    "        section_names.append(section[\"Section\"])\n",
    "        section_texts.append(get_section_groundtruth(section)) # Use GPT generated summaries\n",
    "        section_image_paths.append(get_section_image_paths(section))\n",
    "else:\n",
    "    with open(f\"processed/{filename}.json\", encoding='utf-8') as f:\n",
    "        data = json.load(f)\n",
    "    for section in data:\n",
    "        section_names.append(section[\"Section\"])\n",
    "        section_texts.append(get_section_summary(section)) # Use pretrained model generated summaries\n",
    "        section_image_paths.append(get_section_image_paths(section))"
   ]
  },
  {
   "cell_type": "markdown",
   "metadata": {},
   "source": [
    "Create the slide json"
   ]
  },
  {
   "cell_type": "code",
   "execution_count": null,
   "metadata": {},
   "outputs": [],
   "source": [
    "if use_gpt_ppt_parsing:\n",
    "    title_slide_data = get_title_slide_data(filename)\n",
    "    toc_slide_data = get_toc_slide_data(filename, section_names)\n",
    "    content_slide_datas = get_content_slide_datas(section_names, section_texts)\n",
    "else:\n",
    "    title_slide_data = {'title': filename, 'subtitle': 'Presentation subtitle'}\n",
    "    toc_slide_data = {'title': 'Table of Contents', 'content': [{'text': filename, 'indent_level': 0}]}\n",
    "    for section in data:\n",
    "        if section['Section'] == \"No_title\":\n",
    "            continue\n",
    "        toc_slide_data['content'].append({'text': section['Section'], 'indent_level': 1})\n",
    "    content_slide_datas = []\n",
    "    for i, section in enumerate(data):\n",
    "        if section['Section'] == \"No_title\":\n",
    "            continue\n",
    "        slide = {'title': section['Section'],\n",
    "                'content': []}\n",
    "        \n",
    "        sents = sent_tokenize(section_texts[i])\n",
    "        for sent in sents[1:]:\n",
    "            slide['content'].append({'text': sent, 'indent_level': 0})\n",
    "\n",
    "        content_slide_datas.append([slide])"
   ]
  },
  {
   "cell_type": "markdown",
   "metadata": {},
   "source": [
    "The generated presentation slides are put into subfolder <project_path>/data/powerpoints/"
   ]
  },
  {
   "cell_type": "code",
   "execution_count": null,
   "metadata": {},
   "outputs": [],
   "source": [
    "theme = \"Parcel\"\n",
    "prs = generate_section_level_ppt(theme, title_slide_data, toc_slide_data, content_slide_datas, section_image_paths)\n",
    "prs.save(f\"data/powerpoints/{filename}.pptx\")"
   ]
  },
  {
   "cell_type": "markdown",
   "metadata": {},
   "source": [
    "Done!"
   ]
  }
 ],
 "metadata": {
  "kernelspec": {
   "display_name": "Python 3.9.13 ('base')",
   "language": "python",
   "name": "python3"
  },
  "language_info": {
   "codemirror_mode": {
    "name": "ipython",
    "version": 3
   },
   "file_extension": ".py",
   "mimetype": "text/x-python",
   "name": "python",
   "nbconvert_exporter": "python",
   "pygments_lexer": "ipython3",
   "version": "3.10.14"
  },
  "vscode": {
   "interpreter": {
    "hash": "2e392266d6a5626032387dc1b7e3fce21e875c52abef25ac7b7f00de119355c6"
   }
  }
 },
 "nbformat": 4,
 "nbformat_minor": 2
}
