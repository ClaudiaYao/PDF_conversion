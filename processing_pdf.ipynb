{
  "cells": [
    {
      "cell_type": "code",
      "execution_count": 37,
      "metadata": {},
      "outputs": [
        {
          "name": "stdout",
          "output_type": "stream",
          "text": [
            "The autoreload extension is already loaded. To reload it, use:\n",
            "  %reload_ext autoreload\n"
          ]
        }
      ],
      "source": [
        "# ensure that the imported .py file will get auto imported and updated whenever there is a change\n",
        "%load_ext autoreload\n",
        "%autoreload 2"
      ]
    },
    {
      "cell_type": "code",
      "execution_count": 4,
      "metadata": {},
      "outputs": [
        {
          "name": "stdout",
          "output_type": "stream",
          "text": [
            "Requirement already satisfied: PyMuPDF in c:\\users\\claud\\appdata\\local\\programs\\python\\python311\\lib\\site-packages (1.24.0)\n",
            "Requirement already satisfied: PyMuPDFb==1.24.0 in c:\\users\\claud\\appdata\\local\\programs\\python\\python311\\lib\\site-packages (from PyMuPDF) (1.24.0)\n"
          ]
        }
      ],
      "source": [
        "!pip install PyMuPDF"
      ]
    },
    {
      "cell_type": "code",
      "execution_count": 5,
      "metadata": {
        "colab": {
          "base_uri": "https://localhost:8080/"
        },
        "id": "vbxlvBEhC-kO",
        "outputId": "faebd136-d3f6-4d9b-aa34-09c270578605"
      },
      "outputs": [],
      "source": [
        "\n",
        "import fitz\n",
        "import os"
      ]
    },
    {
      "cell_type": "code",
      "execution_count": 16,
      "metadata": {
        "id": "_V2cOEPzSe5U"
      },
      "outputs": [],
      "source": [
        "\n",
        "project_path = os.getcwd()\n",
        "project_data_path = project_path + \"/data\"\n",
        "project_processed_data_path = project_path + \"/processed\"\n",
        "if not os.path.exists(project_data_path):\n",
        "    os.makedirs(project_data_path)\n",
        "if not os.path.exists(project_processed_data_path):\n",
        "    os.makedirs(project_processed_data_path)"
      ]
    },
    {
      "cell_type": "code",
      "execution_count": 7,
      "metadata": {
        "colab": {
          "base_uri": "https://localhost:8080/"
        },
        "id": "x9of1D8dKPfj",
        "outputId": "7540a334-3420-47bb-e006-4d1dcd168097"
      },
      "outputs": [
        {
          "name": "stderr",
          "output_type": "stream",
          "text": [
            "[nltk_data] Downloading package stopwords to\n",
            "[nltk_data]     C:\\Users\\Claud\\AppData\\Roaming\\nltk_data...\n",
            "[nltk_data]   Package stopwords is already up-to-date!\n",
            "[nltk_data] Downloading package punkt to\n",
            "[nltk_data]     C:\\Users\\Claud\\AppData\\Roaming\\nltk_data...\n",
            "[nltk_data]   Package punkt is already up-to-date!\n",
            "[nltk_data] Downloading package wordnet to\n",
            "[nltk_data]     C:\\Users\\Claud\\AppData\\Roaming\\nltk_data...\n",
            "[nltk_data]   Package wordnet is already up-to-date!\n"
          ]
        }
      ],
      "source": [
        "import nltk\n",
        "from nltk.tokenize import word_tokenize #Used to extract words from documents\n",
        "from nltk.stem import WordNetLemmatizer #Used to lemmatize words\n",
        "from nltk.corpus import stopwords\n",
        "import re\n",
        "import pandas as pd\n",
        "pd.options.display.max_colwidth = 1000\n",
        "nltk.download('stopwords')\n",
        "stop_words = set(stopwords.words('english'))\n",
        "lemmatizer = WordNetLemmatizer()\n",
        "nltk.download('punkt')\n",
        "nltk.download('wordnet')\n",
        "\n",
        "import processing_pdf\n",
        "pd.options.display.max_colwidth = 2000"
      ]
    },
    {
      "cell_type": "code",
      "execution_count": 8,
      "metadata": {},
      "outputs": [
        {
          "name": "stdout",
          "output_type": "stream",
          "text": [
            "auto generated table of content:\n",
            "\n"
          ]
        },
        {
          "data": {
            "text/plain": [
              "[[1, '1 Introduction', 1],\n",
              " [1, '2 Observations and Data reduction', 2],\n",
              " [1, '3 Variability Analysis', 3],\n",
              " [2, '3.1 Cross-matches to external catalogs', 4],\n",
              " [2, '3.2 Variability cutoffs', 4],\n",
              " [2, '3.3 Variability Classification', 4],\n",
              " [2, '3.4 Blending Corrections', 6],\n",
              " [1, '4 Results', 6],\n",
              " [1, '5 Conclusions', 8]]"
            ]
          },
          "metadata": {},
          "output_type": "display_data"
        },
        {
          "name": "stdout",
          "output_type": "stream",
          "text": [
            "starting looking for all the sections according to the provided section title info...\n",
            "save the dataframe to d:\\Start_Dec_19_2023\\application\\NUS Course\\Semester_1\\Neural Network and Deep Learning\\PDF_Conversion/processed/1901.00009v1.csv\n",
            "save the dataframe to d:\\Start_Dec_19_2023\\application\\NUS Course\\Semester_1\\Neural Network and Deep Learning\\PDF_Conversion/processed/1901.00009v1.json\n"
          ]
        },
        {
          "data": {
            "text/html": [
              "<div>\n",
              "<style scoped>\n",
              "    .dataframe tbody tr th:only-of-type {\n",
              "        vertical-align: middle;\n",
              "    }\n",
              "\n",
              "    .dataframe tbody tr th {\n",
              "        vertical-align: top;\n",
              "    }\n",
              "\n",
              "    .dataframe thead th {\n",
              "        text-align: right;\n",
              "    }\n",
              "</style>\n",
              "<table border=\"1\" class=\"dataframe\">\n",
              "  <thead>\n",
              "    <tr style=\"text-align: right;\">\n",
              "      <th></th>\n",
              "      <th>level_1</th>\n",
              "      <th>level_1_text</th>\n",
              "      <th>level_2</th>\n",
              "      <th>level_2_content</th>\n",
              "    </tr>\n",
              "  </thead>\n",
              "  <tbody>\n",
              "    <tr>\n",
              "      <th>0</th>\n",
              "      <td>section summary</td>\n",
              "      <td>mnras preprint january compiled using mnras ex style ﬁle asas sn catalog variable stars iii variables southern tess continuous viewing zone jayasinghe stanek kochanek shappee holoien todd thompson prieto subo dong pawlak pejcha shields pojmanski otero hurst britt department astronomy ohio state university west th avenue columbus oh usa center cosmology astroparticle physics ohio state university woodruﬀavenue columbus oh usa institute astronomy university hawaii woodlawn drive honolulu hi usa carnegie observatories santa barbara street pasadena ca usa institute advanced study princeton nj n´ ucleo de astronom´ ıa de la facultad de ingenier´ ıa ciencias universidad diego portales av ej´ ercito santiago chile millennium institute astrophysics santiago chile kavli institute astronomy astrophysics peking university yi yuan road hai dian district china institute theoretical physics faculty mathematics physics charles university prague czech republic warsaw university observatory al ujazdowskie warsaw poland american association variable star observers bay state road cambridge usa asc technology services mendenhall laboratory south oval mall columbus oh usa accepted xxx received yyy original form zzz abstract sky automated survey supernovae provides long baseline light curves sources brighter v≲ mag across whole sky tran siting exoplanet survey satellite started produce high quality light curves baseline least days eventually sky combi nation asas sn tess light curves probes long short term variability great detail especially towards tess continuous viewing zones ecliptic poles produced million band light curves covering total deg towards southern tess cvz systematically searched sources variability identiﬁed variables including new dis coveries light curves characteristics variables available asas sn variable stars database also introduce online resource obtain pre computed asas sn band light curves starting light curves million sources studied work eﬀort extended pr...</td>\n",
              "      <td>NaN</td>\n",
              "      <td>NaN</td>\n",
              "    </tr>\n",
              "    <tr>\n",
              "      <th>1</th>\n",
              "      <td>1 Introduction</td>\n",
              "      <td>study stellar variability invigorated advent modern large scale sky surveys modern era recent surveys sky automated survey optical gravitational lensing experiment northern sky vari ability survey macho eros catalina real time transient survey asteroid terrestrial impact last alert system gaia collectively discovered variables variable stars excellent astrophysical probes used numerous astronomical contexts pul sating variables cepheids rr lyrae stars commonly used distance indicators owing period authors arxiv dec jayasinghe et al luminosity relationships seen amongst variables eclipsing binary stars excellent probes stellar systems suﬃcient radial velocity followup allow derivation useful astrophysical pa rameters including masses radii stars systems variable stars also useful study stellar populations galactic structure recently sky automated survey super novae monitored visible sky depth mag cadence days using two units chile hawaii telescopes starting asas sn expanded units telescopes new units started band ﬁlters original units switched band well asas sn telescopes hosted las cumbres observatory hawaii chile texas south africa asas sn primarily focuses detection bright supernovae tidal disruption events transients excellent baseline allows study variability amongst million bright sources across whole sky asas sn team members also studied relative speciﬁc type ia su penovae rates largest amplitude dwarf ﬂares seen asas sn paper reported new variables ﬂagged search supernovae located regions close galactic plane celestial poles well sampled previous surveys paper ii uniformly analyzed known variables vsx catalog developed robust variability classiﬁer utilizing asas sn band light curves data external catalogues also explored synergy asas sn apogee discovery ﬁrst likely non interacting binary composed black hole ﬁeld red giant detailed variability analysis apogee sources identify periodic variables also identiﬁed rare vari ables including long period detached ...</td>\n",
              "      <td>NaN</td>\n",
              "      <td>NaN</td>\n",
              "    </tr>\n",
              "    <tr>\n",
              "      <th>2</th>\n",
              "      <td>2 Observations and Data reduction</td>\n",
              "      <td>started aavso photometric sky survey dr catalog input source catalog selected apass sources mag asas sn ﬁelds central ﬁeld coordinates within deg southern ecliptic pole resulted list sources spanning total deg asas sn band observations made brutus cassius quadruple telescopes asas sn ﬁeld epochs observation depth mag camera ﬁeld view deg pixel scale ′′ fwhm pixels asas sn nominally saturates mag light curves saturated sources sometimes quite good due corrections made bleed trails light curves sources extracted de scribed jayasinghe et al using image subtraction aperture photome try subtracted images pixel radius aperture apass catalog used calibration zero point oﬀsets diﬀerent cameras corrected de scribed jayasinghe et al figure illustrates relationship mea sured mean asas sn band magnitudes apass dr band magnitudes sources vmean mag similar band magnitudes large fraction sources vmean mag show discrepancy asas sn apass measurements due blend ing ﬁelds signiﬁcant stellar densities relatively large asas sn pixel scale ′′ compared smaller apass pixel scale ′′ makes asas sn photometry susceptible blending thus asas sn band measurements systematically brighter sources lmc due blended light light curve extraction provides statistical error estimate scatter light curves apparently non variable sources generally larger expected given nominal statistical uncertainties jayasinghe et al used reduced statistic ndof \u0012vi −vmean vi band magnitude epoch vmean mnras asas sn catalog variable stars iii asas sn band magnitude residual apass dr band magnitude figure comparison mean asas sn band magni tudes apass dr band magnitudes red dashed line illustrates perfect calibration mean band magnitude determine typical tal uncertainty function magnitude work update approach estimating systematic uncertainties asas sn photometry view photometric errors quadrature sum estimated statistical uncertainty σstat sys tematic σsys sys stat measure root mean square scatter light curves non vari...</td>\n",
              "      <td>NaN</td>\n",
              "      <td>NaN</td>\n",
              "    </tr>\n",
              "    <tr>\n",
              "      <th>3</th>\n",
              "      <td>3 Variability Analysis</td>\n",
              "      <td>NaN</td>\n",
              "      <td>section summary</td>\n",
              "      <td>describe procedure used identify char acterize variables source list describe mnras jayasinghe et al cross matched apass sources external catalogues section section describe procedure took identify candidate variable sources section discuss application random forest classiﬁer model jayasinghe et al classify vari ables section discuss corrections done mitigate eﬀects blending candidate variables cross matches external catalogs</td>\n",
              "    </tr>\n",
              "    <tr>\n",
              "      <th>4</th>\n",
              "      <td>3 Variability Analysis</td>\n",
              "      <td>NaN</td>\n",
              "      <td>3.1 Cross-matches to external catalogs</td>\n",
              "      <td>identify cross matches apass sources gaia dr using pre computed cross matches marrese et al sources also cross matched probabilistic dis tance estimates bailer jones et al also crossmatch sources mass allwise using matching radius ′′ used topcat cross match apass sources mass wise catalogs large magellanic cloud lies within tess southern cvz used gaia dr identify sources source list lmc members sources lmc use distance kpc variability classiﬁer variability cutoﬀs numerous methods identify variable sources sample light curves commonly used method involves correlating variations observed mul tiple bands pick true variables false posi tives asas sn observations used work made single ﬁlter makes use multi band variability statistics impossible work used several methods including periodogram statistics light curve features external photometry identify variable sources used astropy implementation gener alized lomb scargle periodogram search periodicity range ≤p days sources utilize false alarm probability power best gls period means identifying signiﬁcantly periodic sources sources log gls power selected analysis calculated laﬂer kinmann string length statistic tempo ral light curve using deﬁnition ín ín clarke mi magnitudes sorted temporally mean magnitude also cal culate statistic sorting light curve based phase given period call identify red variables empirically isolate sources gaia dr color gbp −grp mag red variables typically long periods result notice able structure temporal light curves structure results smaller values light curves long period variables compared sources short term variability also compute ratio magnitudes brighter fainter average sources found paper ii eclipsing binaries larger values ahl variables ﬂag sources ahl analy sis variability cut expected improve identiﬁca tion detached eclipsing binaries also identify sources light curve rms larger th percentile stars magnitude bins mag order select sources signiﬁcant ﬂux variations variability cuts...</td>\n",
              "    </tr>\n",
              "    <tr>\n",
              "      <th>5</th>\n",
              "      <td>3 Variability Analysis</td>\n",
              "      <td>NaN</td>\n",
              "      <td>3.4 Blending Corrections</td>\n",
              "      <td>large pixel scale asas sn images fwhm results blending towards crowded gions apass catalog constructed images signiﬁcantly smaller pixel scale result multiple apass sources fall single asas sn pixel correct contaminating light photometry blended sources identify correct blended variable groups catalog since extracted light curves positions apass sources two sources inside single asas sn resolution element select sources another apass neighbor within ′′ ﬁnd variables neighbor within ′′ compute ﬂux variability amplitudes sources using random forest regression model majority variable groups consisted two sources groups consisting three sources variable group consider source largest ﬂux variability true variable remove overlapping sources ﬁnal list following treatment list variables consisted sources</td>\n",
              "    </tr>\n",
              "    <tr>\n",
              "      <th>6</th>\n",
              "      <td>4 Results</td>\n",
              "      <td>complete catalog variables available asas sn variable stars database along band light curves source table lists number sources vari ability type catalog paper ii used reddening free wesenheit mag nitudes wrp mgrp wjk mks variability classiﬁcation wesenheit wrp vs gbp grp color magnitude diagram variables shown figure sorted variables groups highlight diﬀerent classes variable sources owing magnitude limit asas sn able detect suﬃciently bright sources lmc evident wesenheit color magnitude diagram lmc sources sources outside lmc probe wider range magnitudes including rr lyrae rotational variables scuti variables also plotted wesenheit wrp vs gbp grp color magnitude diagram periodic variables figure points colored according period essentially highlights large dynamic range period probed asas sn light curves note identiﬁcation mira variables lmc hindered blending due blended light ob served asas sn amplitudes sources fall amplitude threshold mag used deﬁne mira variable pipeline reality fraction lmc semi regular variables catalog actually mira variables sample known semi regular variables lmc estimate fraction mira variables classiﬁed semi regular variables using color scheme combined wesenheit wjk plr diagram periodic variables shown figure plr sequences cepheids semi regular variables lmc well deﬁned eclipsing binaries identiﬁed lmc either detached semi detached systems follow well deﬁned plr contact binaries observed plr diagram sources outside lmc also show sky distribution variables iden tiﬁed work figure see distribution eclipsing binaries rotational variables random distribution cepheids strongly clus tered towards lmc expected also note clustering semi regularirregular variables wards lmc galactic disk matched list variables vsx catalog available october matching radius ′′ identify previously discovered variables mnras asas sn catalog variable stars iii table variables type vsx type description lmc lmc new discoveries cwa virginis type variables cwb virginis...</td>\n",
              "      <td>NaN</td>\n",
              "      <td>NaN</td>\n",
              "    </tr>\n",
              "    <tr>\n",
              "      <th>7</th>\n",
              "      <td>5 Conclusions</td>\n",
              "      <td>systematically searched variable sources deg region surrounding southern ecliptic pole region coincident southern continuous view ing zone tess satellite thus large majority sources excellent tess light curves search identiﬁed variable sources new discoveries variable sources identiﬁed lmc largely consist luminous variables including cepheids gcas variables red giants identify broader sample variables outside lmc including rr lyrae eclipsing binaries rotational variables scuti variables developed user friendly interface trieve pre computed asas sn band light curves apass sources band light curves mnras asas sn catalog variable stars iii log wjk lmc cepheids delta scuti eclipsing binaries rr lyrae rotational variables semi regular variables log wjk lmc figure wesenheit wj plr diagram periodic variables outside lmc lmc points colored figure sources studied work available online asas sn photometry database highlight possible blended sources ﬂag assigned source distance nearest apass neighbor ′′ new variable sources also added asas sn variable stars database part ongoing eﬀort systematically analyze million mag apass sources variabil ity gradually update database light curves sources across remainder sky course work provides long baseline band light curves large fraction sources tess southern cvz useful supplement short base line tess light curves possess better photometric pre cision acknowledgements thank las cumbres observatory staﬀfor continuing support asas sn project also thank ohio state university college arts sciences technology services helping us set maintain asas sn variable stars photometry databases asas sn supported gordon betty moore foundation grant gbmf ohio state university nsf grant ast development asas sn supported nsf grant ast mt cuba astronomical foundation center cos mology astroparticle physics ohio state univer sity chinese academy sciences south america cen ter astronomy villum foundation george skestos work supported part scialog scholar...</td>\n",
              "      <td>NaN</td>\n",
              "      <td>NaN</td>\n",
              "    </tr>\n",
              "  </tbody>\n",
              "</table>\n",
              "</div>"
            ],
            "text/plain": [
              "                             level_1  \\\n",
              "0                    section summary   \n",
              "1                     1 Introduction   \n",
              "2  2 Observations and Data reduction   \n",
              "3             3 Variability Analysis   \n",
              "4             3 Variability Analysis   \n",
              "5             3 Variability Analysis   \n",
              "6                          4 Results   \n",
              "7                      5 Conclusions   \n",
              "\n",
              "                                                                                                                                                                                                                                                                                                                                                                                                                                                                                                                                                                                                                                                                                                                                                                                                                                                                                                                                                                                                                                                                                                                                                                                                                                                                                                                                                                                                                                                                                                                                                                                                                                                                                                                                                                                                                                                                                                                                                                                                                                                                      level_1_text  \\\n",
              "0  mnras preprint january compiled using mnras ex style ﬁle asas sn catalog variable stars iii variables southern tess continuous viewing zone jayasinghe stanek kochanek shappee holoien todd thompson prieto subo dong pawlak pejcha shields pojmanski otero hurst britt department astronomy ohio state university west th avenue columbus oh usa center cosmology astroparticle physics ohio state university woodruﬀavenue columbus oh usa institute astronomy university hawaii woodlawn drive honolulu hi usa carnegie observatories santa barbara street pasadena ca usa institute advanced study princeton nj n´ ucleo de astronom´ ıa de la facultad de ingenier´ ıa ciencias universidad diego portales av ej´ ercito santiago chile millennium institute astrophysics santiago chile kavli institute astronomy astrophysics peking university yi yuan road hai dian district china institute theoretical physics faculty mathematics physics charles university prague czech republic warsaw university observatory al ujazdowskie warsaw poland american association variable star observers bay state road cambridge usa asc technology services mendenhall laboratory south oval mall columbus oh usa accepted xxx received yyy original form zzz abstract sky automated survey supernovae provides long baseline light curves sources brighter v≲ mag across whole sky tran siting exoplanet survey satellite started produce high quality light curves baseline least days eventually sky combi nation asas sn tess light curves probes long short term variability great detail especially towards tess continuous viewing zones ecliptic poles produced million band light curves covering total deg towards southern tess cvz systematically searched sources variability identiﬁed variables including new dis coveries light curves characteristics variables available asas sn variable stars database also introduce online resource obtain pre computed asas sn band light curves starting light curves million sources studied work eﬀort extended pr...   \n",
              "1  study stellar variability invigorated advent modern large scale sky surveys modern era recent surveys sky automated survey optical gravitational lensing experiment northern sky vari ability survey macho eros catalina real time transient survey asteroid terrestrial impact last alert system gaia collectively discovered variables variable stars excellent astrophysical probes used numerous astronomical contexts pul sating variables cepheids rr lyrae stars commonly used distance indicators owing period authors arxiv dec jayasinghe et al luminosity relationships seen amongst variables eclipsing binary stars excellent probes stellar systems suﬃcient radial velocity followup allow derivation useful astrophysical pa rameters including masses radii stars systems variable stars also useful study stellar populations galactic structure recently sky automated survey super novae monitored visible sky depth mag cadence days using two units chile hawaii telescopes starting asas sn expanded units telescopes new units started band ﬁlters original units switched band well asas sn telescopes hosted las cumbres observatory hawaii chile texas south africa asas sn primarily focuses detection bright supernovae tidal disruption events transients excellent baseline allows study variability amongst million bright sources across whole sky asas sn team members also studied relative speciﬁc type ia su penovae rates largest amplitude dwarf ﬂares seen asas sn paper reported new variables ﬂagged search supernovae located regions close galactic plane celestial poles well sampled previous surveys paper ii uniformly analyzed known variables vsx catalog developed robust variability classiﬁer utilizing asas sn band light curves data external catalogues also explored synergy asas sn apogee discovery ﬁrst likely non interacting binary composed black hole ﬁeld red giant detailed variability analysis apogee sources identify periodic variables also identiﬁed rare vari ables including long period detached ...   \n",
              "2  started aavso photometric sky survey dr catalog input source catalog selected apass sources mag asas sn ﬁelds central ﬁeld coordinates within deg southern ecliptic pole resulted list sources spanning total deg asas sn band observations made brutus cassius quadruple telescopes asas sn ﬁeld epochs observation depth mag camera ﬁeld view deg pixel scale ′′ fwhm pixels asas sn nominally saturates mag light curves saturated sources sometimes quite good due corrections made bleed trails light curves sources extracted de scribed jayasinghe et al using image subtraction aperture photome try subtracted images pixel radius aperture apass catalog used calibration zero point oﬀsets diﬀerent cameras corrected de scribed jayasinghe et al figure illustrates relationship mea sured mean asas sn band magnitudes apass dr band magnitudes sources vmean mag similar band magnitudes large fraction sources vmean mag show discrepancy asas sn apass measurements due blend ing ﬁelds signiﬁcant stellar densities relatively large asas sn pixel scale ′′ compared smaller apass pixel scale ′′ makes asas sn photometry susceptible blending thus asas sn band measurements systematically brighter sources lmc due blended light light curve extraction provides statistical error estimate scatter light curves apparently non variable sources generally larger expected given nominal statistical uncertainties jayasinghe et al used reduced statistic ndof \u0012vi −vmean vi band magnitude epoch vmean mnras asas sn catalog variable stars iii asas sn band magnitude residual apass dr band magnitude figure comparison mean asas sn band magni tudes apass dr band magnitudes red dashed line illustrates perfect calibration mean band magnitude determine typical tal uncertainty function magnitude work update approach estimating systematic uncertainties asas sn photometry view photometric errors quadrature sum estimated statistical uncertainty σstat sys tematic σsys sys stat measure root mean square scatter light curves non vari...   \n",
              "3                                                                                                                                                                                                                                                                                                                                                                                                                                                                                                                                                                                                                                                                                                                                                                                                                                                                                                                                                                                                                                                                                                                                                                                                                                                                                                                                                                                                                                                                                                                                                                                                                                                                                                                                                                                                                                                                                                                                                                                                                                                                              NaN   \n",
              "4                                                                                                                                                                                                                                                                                                                                                                                                                                                                                                                                                                                                                                                                                                                                                                                                                                                                                                                                                                                                                                                                                                                                                                                                                                                                                                                                                                                                                                                                                                                                                                                                                                                                                                                                                                                                                                                                                                                                                                                                                                                                              NaN   \n",
              "5                                                                                                                                                                                                                                                                                                                                                                                                                                                                                                                                                                                                                                                                                                                                                                                                                                                                                                                                                                                                                                                                                                                                                                                                                                                                                                                                                                                                                                                                                                                                                                                                                                                                                                                                                                                                                                                                                                                                                                                                                                                                              NaN   \n",
              "6  complete catalog variables available asas sn variable stars database along band light curves source table lists number sources vari ability type catalog paper ii used reddening free wesenheit mag nitudes wrp mgrp wjk mks variability classiﬁcation wesenheit wrp vs gbp grp color magnitude diagram variables shown figure sorted variables groups highlight diﬀerent classes variable sources owing magnitude limit asas sn able detect suﬃciently bright sources lmc evident wesenheit color magnitude diagram lmc sources sources outside lmc probe wider range magnitudes including rr lyrae rotational variables scuti variables also plotted wesenheit wrp vs gbp grp color magnitude diagram periodic variables figure points colored according period essentially highlights large dynamic range period probed asas sn light curves note identiﬁcation mira variables lmc hindered blending due blended light ob served asas sn amplitudes sources fall amplitude threshold mag used deﬁne mira variable pipeline reality fraction lmc semi regular variables catalog actually mira variables sample known semi regular variables lmc estimate fraction mira variables classiﬁed semi regular variables using color scheme combined wesenheit wjk plr diagram periodic variables shown figure plr sequences cepheids semi regular variables lmc well deﬁned eclipsing binaries identiﬁed lmc either detached semi detached systems follow well deﬁned plr contact binaries observed plr diagram sources outside lmc also show sky distribution variables iden tiﬁed work figure see distribution eclipsing binaries rotational variables random distribution cepheids strongly clus tered towards lmc expected also note clustering semi regularirregular variables wards lmc galactic disk matched list variables vsx catalog available october matching radius ′′ identify previously discovered variables mnras asas sn catalog variable stars iii table variables type vsx type description lmc lmc new discoveries cwa virginis type variables cwb virginis...   \n",
              "7  systematically searched variable sources deg region surrounding southern ecliptic pole region coincident southern continuous view ing zone tess satellite thus large majority sources excellent tess light curves search identiﬁed variable sources new discoveries variable sources identiﬁed lmc largely consist luminous variables including cepheids gcas variables red giants identify broader sample variables outside lmc including rr lyrae eclipsing binaries rotational variables scuti variables developed user friendly interface trieve pre computed asas sn band light curves apass sources band light curves mnras asas sn catalog variable stars iii log wjk lmc cepheids delta scuti eclipsing binaries rr lyrae rotational variables semi regular variables log wjk lmc figure wesenheit wj plr diagram periodic variables outside lmc lmc points colored figure sources studied work available online asas sn photometry database highlight possible blended sources ﬂag assigned source distance nearest apass neighbor ′′ new variable sources also added asas sn variable stars database part ongoing eﬀort systematically analyze million mag apass sources variabil ity gradually update database light curves sources across remainder sky course work provides long baseline band light curves large fraction sources tess southern cvz useful supplement short base line tess light curves possess better photometric pre cision acknowledgements thank las cumbres observatory staﬀfor continuing support asas sn project also thank ohio state university college arts sciences technology services helping us set maintain asas sn variable stars photometry databases asas sn supported gordon betty moore foundation grant gbmf ohio state university nsf grant ast development asas sn supported nsf grant ast mt cuba astronomical foundation center cos mology astroparticle physics ohio state univer sity chinese academy sciences south america cen ter astronomy villum foundation george skestos work supported part scialog scholar...   \n",
              "\n",
              "                                  level_2  \\\n",
              "0                                     NaN   \n",
              "1                                     NaN   \n",
              "2                                     NaN   \n",
              "3                         section summary   \n",
              "4  3.1 Cross-matches to external catalogs   \n",
              "5                3.4 Blending Corrections   \n",
              "6                                     NaN   \n",
              "7                                     NaN   \n",
              "\n",
              "                                                                                                                                                                                                                                                                                                                                                                                                                                                                                                                                                                                                                                                                                                                                                                                                                                                                                                                                                                                                                                                                                                                                                                                                                                                                                                                                                                                                                                                                                                                                                                                                                                                                                                                                                                                                                                                                                                                                                                                                                                                                   level_2_content  \n",
              "0                                                                                                                                                                                                                                                                                                                                                                                                                                                                                                                                                                                                                                                                                                                                                                                                                                                                                                                                                                                                                                                                                                                                                                                                                                                                                                                                                                                                                                                                                                                                                                                                                                                                                                                                                                                                                                                                                                                                                                                                                                                                              NaN  \n",
              "1                                                                                                                                                                                                                                                                                                                                                                                                                                                                                                                                                                                                                                                                                                                                                                                                                                                                                                                                                                                                                                                                                                                                                                                                                                                                                                                                                                                                                                                                                                                                                                                                                                                                                                                                                                                                                                                                                                                                                                                                                                                                              NaN  \n",
              "2                                                                                                                                                                                                                                                                                                                                                                                                                                                                                                                                                                                                                                                                                                                                                                                                                                                                                                                                                                                                                                                                                                                                                                                                                                                                                                                                                                                                                                                                                                                                                                                                                                                                                                                                                                                                                                                                                                                                                                                                                                                                              NaN  \n",
              "3                                                                                                                                                                                                                                                                                                                                                                                                                                                                                                                                                                                                                                                                                                                                                                                                                                                                                                                                                                                                                                                                                                                                                                                                                                                                                                                                                                                                                                                                                                                                                                                                                                    describe procedure used identify char acterize variables source list describe mnras jayasinghe et al cross matched apass sources external catalogues section section describe procedure took identify candidate variable sources section discuss application random forest classiﬁer model jayasinghe et al classify vari ables section discuss corrections done mitigate eﬀects blending candidate variables cross matches external catalogs  \n",
              "4  identify cross matches apass sources gaia dr using pre computed cross matches marrese et al sources also cross matched probabilistic dis tance estimates bailer jones et al also crossmatch sources mass allwise using matching radius ′′ used topcat cross match apass sources mass wise catalogs large magellanic cloud lies within tess southern cvz used gaia dr identify sources source list lmc members sources lmc use distance kpc variability classiﬁer variability cutoﬀs numerous methods identify variable sources sample light curves commonly used method involves correlating variations observed mul tiple bands pick true variables false posi tives asas sn observations used work made single ﬁlter makes use multi band variability statistics impossible work used several methods including periodogram statistics light curve features external photometry identify variable sources used astropy implementation gener alized lomb scargle periodogram search periodicity range ≤p days sources utilize false alarm probability power best gls period means identifying signiﬁcantly periodic sources sources log gls power selected analysis calculated laﬂer kinmann string length statistic tempo ral light curve using deﬁnition ín ín clarke mi magnitudes sorted temporally mean magnitude also cal culate statistic sorting light curve based phase given period call identify red variables empirically isolate sources gaia dr color gbp −grp mag red variables typically long periods result notice able structure temporal light curves structure results smaller values light curves long period variables compared sources short term variability also compute ratio magnitudes brighter fainter average sources found paper ii eclipsing binaries larger values ahl variables ﬂag sources ahl analy sis variability cut expected improve identiﬁca tion detached eclipsing binaries also identify sources light curve rms larger th percentile stars magnitude bins mag order select sources signiﬁcant ﬂux variations variability cuts...  \n",
              "5                                                                                                                                                                                                                                                                                                                                                                                                                                                                                                                                                                                                                                                                                                                                                                                                                                                                                                                                                                                                                                                                                                                                                                                                                                          large pixel scale asas sn images fwhm results blending towards crowded gions apass catalog constructed images signiﬁcantly smaller pixel scale result multiple apass sources fall single asas sn pixel correct contaminating light photometry blended sources identify correct blended variable groups catalog since extracted light curves positions apass sources two sources inside single asas sn resolution element select sources another apass neighbor within ′′ ﬁnd variables neighbor within ′′ compute ﬂux variability amplitudes sources using random forest regression model majority variable groups consisted two sources groups consisting three sources variable group consider source largest ﬂux variability true variable remove overlapping sources ﬁnal list following treatment list variables consisted sources  \n",
              "6                                                                                                                                                                                                                                                                                                                                                                                                                                                                                                                                                                                                                                                                                                                                                                                                                                                                                                                                                                                                                                                                                                                                                                                                                                                                                                                                                                                                                                                                                                                                                                                                                                                                                                                                                                                                                                                                                                                                                                                                                                                                              NaN  \n",
              "7                                                                                                                                                                                                                                                                                                                                                                                                                                                                                                                                                                                                                                                                                                                                                                                                                                                                                                                                                                                                                                                                                                                                                                                                                                                                                                                                                                                                                                                                                                                                                                                                                                                                                                                                                                                                                                                                                                                                                                                                                                                                              NaN  "
            ]
          },
          "metadata": {},
          "output_type": "display_data"
        }
      ],
      "source": [
        "# pdf_file =  \"An Empirical Survey on Long Document Summarization.pdf\"\n",
        "pdf_file = \"1901.00009v1.pdf\"\n",
        "doc, total_text = processing_pdf.open_file(project_data_path + \"/\" + pdf_file)\n",
        "table_of_content = doc.get_toc()\n",
        "\n",
        "print(\"auto generated table of content:\\n\")\n",
        "display(table_of_content)\n",
        "\n",
        "# uncomment this list to customize table-of-content\n",
        "# table_of_content = [[1, 'Abstract', 1],\n",
        "#  [1, '1 Introduction', 1],\n",
        "#  [1, '2 Observations and Data reduction', 2],\n",
        "#  [1, '3 Variability Analysis', 3],\n",
        "#  [2, '3.1 Cross-matches to external catalogs', 4],\n",
        "#  [2, '3.2 Variability cutoffs', 4],\n",
        "#  [2, '3.3 Variability Classification', 4],\n",
        "#  [2, '3.4 Blending Corrections', 6],\n",
        "#  [1, '4 Results', 6],\n",
        "#  [1, '5 Conclusions', 8]]\n",
        "\n",
        "ds = processing_pdf.separate_content(total_text, table_of_content)\n",
        "processing_pdf.save_dataframe(ds, project_processed_data_path,  pdf_file.rsplit(\".\", 1)[0])\n",
        "display(ds)\n"
      ]
    },
    {
      "cell_type": "code",
      "execution_count": 36,
      "metadata": {},
      "outputs": [
        {
          "data": {
            "text/plain": [
              "1"
            ]
          },
          "execution_count": 36,
          "metadata": {},
          "output_type": "execute_result"
        }
      ],
      "source": [
        "# pdf_file = \"An Empirical Survey on Long Document Summarization.pdf\"\n",
        "pdf_file = \"1901.00009v1.pdf\"\n",
        "\n",
        "\n",
        "# doc, total_text, total_pages = processing_pdf.open_file(project_data_path + \"/\" + pdf_file)\n",
        "# table_of_content = doc.get_toc()\n",
        "# # display(table_of_content)\n",
        "# res = processing_pdf.get_page_sections(table_of_content, total_pages)\n",
        "# display(res)\n",
        "\n",
        "# processing_pdf.find_images(doc, table_of_content, total_pages, project_processed_data_path)"
      ]
    }
  ],
  "metadata": {
    "colab": {
      "provenance": []
    },
    "kernelspec": {
      "display_name": "Python 3",
      "name": "python3"
    },
    "language_info": {
      "codemirror_mode": {
        "name": "ipython",
        "version": 3
      },
      "file_extension": ".py",
      "mimetype": "text/x-python",
      "name": "python",
      "nbconvert_exporter": "python",
      "pygments_lexer": "ipython3",
      "version": "3.11.4"
    }
  },
  "nbformat": 4,
  "nbformat_minor": 0
}
