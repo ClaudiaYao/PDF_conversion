{
  "cells": [
    {
      "cell_type": "code",
      "execution_count": 1,
      "metadata": {},
      "outputs": [],
      "source": [
        "# ensure that the imported .py file will get auto imported and updated whenever there is a change\n",
        "%load_ext autoreload\n",
        "%autoreload 2"
      ]
    },
    {
      "cell_type": "code",
      "execution_count": 2,
      "metadata": {},
      "outputs": [
        {
          "name": "stdout",
          "output_type": "stream",
          "text": [
            "Requirement already satisfied: PyMuPDF in c:\\users\\claud\\appdata\\local\\programs\\python\\python311\\lib\\site-packages (1.24.0)\n",
            "Requirement already satisfied: PyMuPDFb==1.24.0 in c:\\users\\claud\\appdata\\local\\programs\\python\\python311\\lib\\site-packages (from PyMuPDF) (1.24.0)\n"
          ]
        }
      ],
      "source": [
        "!pip install PyMuPDF"
      ]
    },
    {
      "cell_type": "code",
      "execution_count": 3,
      "metadata": {
        "colab": {
          "base_uri": "https://localhost:8080/"
        },
        "id": "vbxlvBEhC-kO",
        "outputId": "faebd136-d3f6-4d9b-aa34-09c270578605"
      },
      "outputs": [],
      "source": [
        "\n",
        "import fitz\n",
        "import os"
      ]
    },
    {
      "cell_type": "code",
      "execution_count": 4,
      "metadata": {
        "id": "_V2cOEPzSe5U"
      },
      "outputs": [],
      "source": [
        "\n",
        "project_path = os.getcwd()\n",
        "project_data_path = project_path + \"/data\"\n",
        "project_processed_data_path = project_path + \"/processed\"\n",
        "if not os.path.exists(project_data_path):\n",
        "    os.makedirs(project_data_path)\n",
        "if not os.path.exists(project_processed_data_path):\n",
        "    os.makedirs(project_processed_data_path)\n"
      ]
    },
    {
      "cell_type": "code",
      "execution_count": 5,
      "metadata": {
        "colab": {
          "base_uri": "https://localhost:8080/"
        },
        "id": "x9of1D8dKPfj",
        "outputId": "7540a334-3420-47bb-e006-4d1dcd168097"
      },
      "outputs": [
        {
          "name": "stderr",
          "output_type": "stream",
          "text": [
            "[nltk_data] Downloading package stopwords to\n",
            "[nltk_data]     C:\\Users\\Claud\\AppData\\Roaming\\nltk_data...\n",
            "[nltk_data]   Package stopwords is already up-to-date!\n",
            "[nltk_data] Downloading package punkt to\n",
            "[nltk_data]     C:\\Users\\Claud\\AppData\\Roaming\\nltk_data...\n",
            "[nltk_data]   Package punkt is already up-to-date!\n",
            "[nltk_data] Downloading package wordnet to\n",
            "[nltk_data]     C:\\Users\\Claud\\AppData\\Roaming\\nltk_data...\n",
            "[nltk_data]   Package wordnet is already up-to-date!\n"
          ]
        }
      ],
      "source": [
        "import nltk\n",
        "from nltk.tokenize import word_tokenize #Used to extract words from documents\n",
        "from nltk.stem import WordNetLemmatizer #Used to lemmatize words\n",
        "from nltk.corpus import stopwords\n",
        "import re\n",
        "import pandas as pd\n",
        "pd.options.display.max_colwidth = 1000\n",
        "nltk.download('stopwords')\n",
        "stop_words = set(stopwords.words('english'))\n",
        "lemmatizer = WordNetLemmatizer()\n",
        "nltk.download('punkt')\n",
        "nltk.download('wordnet')\n",
        "\n",
        "import processing_pdf\n",
        "pd.options.display.max_colwidth = 2000"
      ]
    },
    {
      "cell_type": "code",
      "execution_count": 6,
      "metadata": {},
      "outputs": [
        {
          "name": "stdout",
          "output_type": "stream",
          "text": [
            "starting looking for all the sections according to the provided section title info...\n",
            "save the dataframe to d:\\Start_Dec_19_2023\\application\\NUS Course\\Semester_1\\Neural Network and Deep Learning\\PDF_Conversion/processed/1901.csv\n",
            "save the dataframe to d:\\Start_Dec_19_2023\\application\\NUS Course\\Semester_1\\Neural Network and Deep Learning\\PDF_Conversion/processed/1901.json\n"
          ]
        },
        {
          "data": {
            "text/html": [
              "<div>\n",
              "<style scoped>\n",
              "    .dataframe tbody tr th:only-of-type {\n",
              "        vertical-align: middle;\n",
              "    }\n",
              "\n",
              "    .dataframe tbody tr th {\n",
              "        vertical-align: top;\n",
              "    }\n",
              "\n",
              "    .dataframe thead th {\n",
              "        text-align: right;\n",
              "    }\n",
              "</style>\n",
              "<table border=\"1\" class=\"dataframe\">\n",
              "  <thead>\n",
              "    <tr style=\"text-align: right;\">\n",
              "      <th></th>\n",
              "      <th>level_1</th>\n",
              "      <th>level_1_text</th>\n",
              "      <th>level_2</th>\n",
              "      <th>level_2_content</th>\n",
              "    </tr>\n",
              "  </thead>\n",
              "  <tbody>\n",
              "    <tr>\n",
              "      <th>0</th>\n",
              "      <td>1 Introduction</td>\n",
              "      <td>mnras 000, 1–13 (2018)\\npreprint 3 january 2019\\ncompiled using mnras l\\na\\nt\\nex style ﬁle v3.0\\nthe asas-sn catalog of variable stars iii: variables in\\nthe southern tess continuous viewing zone\\nt. jayasinghe1,2⋆, k. z. stanek1,2, c. s. kochanek1,2, b. j. shappee3,\\nt. w. -s. holoien4, todd a. thompson1,2,5, j. l. prieto6,7, subo dong8, m. pawlak9,\\no. pejcha9, j. v. shields1, g. pojmanski10, s. otero11, n. hurst12, c. a. britt12,\\nd. will1,12\\n1department of astronomy, the ohio state university, 140 west 18th avenue, columbus, oh 43210, usa\\n2center for cosmology and astroparticle physics, the ohio state university, 191 w. woodruﬀavenue, columbus, oh 43210, usa\\n3institute for astronomy, university of hawaii, 2680 woodlawn drive, honolulu, hi 96822,usa\\n4carnegie observatories, 813 santa barbara street, pasadena, ca 91101, usa\\n5institute for advanced study, princeton, nj, 08540\\n6n´\\nucleo de astronom´\\nıa de la facultad de ingenier´\\nıa y ciencias, universidad diego portales, av. ej´\\nercito 441, santiago, chile\\n7millennium institute of astrophysics, santiago, chile\\n8kavli institute for astronomy and astrophysics, peking university, yi he yuan road 5, hai dian district, china\\n9institute of theoretical physics, faculty of mathematics and physics, charles university in prague, czech republic\\n10warsaw university observatory, al ujazdowskie 4, 00-478 warsaw, poland\\n11the american association of variable star observers, 49 bay state road, cambridge, ma 02138, usa\\n12asc technology services, 433 mendenhall laboratory 125 south oval mall columbus oh, 43210, usa\\naccepted xxx. received yyy; in original form zzz\\nabstract\\nthe all-sky automated survey for supernovae (asas-sn) provides long baseline (∼4\\nyrs) light curves for sources brighter than v≲17 mag across the whole sky. the tran-\\nsiting exoplanet survey satellite (tess) has started to produce high-quality light\\ncurves with a baseline of at least 27 days, eventually for most of the sky. the combi-\\nnat...</td>\n",
              "      <td>NaN</td>\n",
              "      <td>NaN</td>\n",
              "    </tr>\n",
              "    <tr>\n",
              "      <th>1</th>\n",
              "      <td>2 Observations and Data reduction</td>\n",
              "      <td>we started with the aavso photometric all-sky survey\\n(apass; henden et al. 2015) dr9 catalog as our input\\nsource catalog. we selected all the apass sources with\\nv &lt; 17 mag in all the asas-sn ﬁelds with central ﬁeld\\ncoordinates within 18 deg from the southern ecliptic pole\\n(α = 90 deg, δ = −66.55 deg). this resulted in a list of ∼1.3m\\nsources spanning a total of ∼1, 000 deg2. asas-sn v-band\\nobservations were made by the“brutus”(haleakala, hawaii)\\nand “cassius” (ctio, chile) quadruple telescopes between\\n2013 and 2018. each asas-sn ﬁeld has ∼200-600 epochs\\nof observation to a depth of v ≲17 mag. each camera has a\\nﬁeld of view of 4.5 deg2, the pixel scale is 8.\\n′′0 and the fwhm\\nis ∼2 pixels. asas-sn nominally saturates at ∼10−11 mag,\\nbut light curves of saturated sources are sometimes quite\\ngood due to corrections made for bleed trails (see kochanek\\net al. 2017).\\nthe light curves for these sources were extracted as de-\\nscribed in jayasinghe et al. (2018a) using image subtraction\\n(alard &amp; lupton 1998; alard 2000) and aperture photome-\\ntry on the subtracted images with a 2 pixel radius aperture.\\nthe apass catalog was used for calibration. the zero point\\noﬀsets between the diﬀerent cameras were corrected as de-\\nscribed in jayasinghe et al. (2018a).\\nfigure 1 illustrates the relationship between the mea-\\nsured mean asas-sn v-band magnitudes and the apass\\ndr9 v-band magnitudes. sources with vmean ≲14 mag\\nhave similar v-band magnitudes, but a large fraction of the\\nsources with vmean ≳14 mag show a discrepancy between the\\nasas-sn and apass measurements. this is due to blend-\\ning in ﬁelds with signiﬁcant stellar densities (i.e., the lmc\\nin this work). the relatively large asas-sn pixel scale of\\n8.\\n′′0 as compared to the smaller apass pixel scale of 2.\\n′′6\\nmakes asas-sn photometry more susceptible to blending.\\nthus, asas-sn v-band measurements are systematically\\nbrighter for most sources in the lmc due to blended light.\\nthe light curve ex...</td>\n",
              "      <td>NaN</td>\n",
              "      <td>NaN</td>\n",
              "    </tr>\n",
              "    <tr>\n",
              "      <th>2</th>\n",
              "      <td>3 Variability Analysis</td>\n",
              "      <td>NaN</td>\n",
              "      <td>3.1 Cross-matches to external catalogs</td>\n",
              "      <td>here we describe the procedure we used to identify and char-\\nacterize variables in the source list. we describe how we\\nmnras 000, 1–13 (2018)\\n4\\nt. jayasinghe et al.\\ncross-matched the apass sources to external catalogues in\\nsection §3.1. in section §3.2, we describe the procedure we\\ntook to identify candidate variable sources. in section §3.3,\\nwe discuss the application of the v2 random forest classiﬁer\\nmodel from jayasinghe et al. (2018b) to classify these vari-\\nables, and in section §3.4, we discuss the corrections done to\\nmitigate the eﬀects of blending on the candidate variables.\\n3.1\\ncross-matches to external catalogs\\n</td>\n",
              "    </tr>\n",
              "    <tr>\n",
              "      <th>3</th>\n",
              "      <td>3 Variability Analysis</td>\n",
              "      <td>NaN</td>\n",
              "      <td>3.4 Blending Corrections</td>\n",
              "      <td>the large pixel scale of the asas-sn images (8.\\n′′0) and the\\nfwhm (∼16.\\n′′0) results in blending towards crowded re-\\ngions. the apass catalog was constructed with images that\\nhave a signiﬁcantly smaller pixel scale (2.\\n′′6), and as a result\\nof this, multiple apass sources can fall into a single asas-\\nsn pixel. we do not correct for the contaminating light in\\nthe photometry of the blended sources, but we identify and\\ncorrect blended variable groups in our catalog.\\nsince we extracted light curves for the positions of\\napass sources, we can have two or more such sources inside\\na single asas-sn resolution element. if we select the sources\\nwith another apass neighbor within 30.\\n′′0, we ﬁnd that 559\\nof the ∼12, 300 variables had a neighbor within 30.\\n′′0. we\\ncompute the ﬂux variability amplitudes for these sources\\nusing a random forest regression model (jayasinghe et al.\\n2018b). the majority of the variable groups consisted of two\\nsources, with a few groups consisting of up to three sources.\\nfor each variable group, we consider the source with the\\nlargest ﬂux variability as the ‘true’ variable, and remove the\\nother overlapping sources from the ﬁnal list. following this\\ntreatment, our list of variables consisted of ∼11, 700 sources.\\n</td>\n",
              "    </tr>\n",
              "    <tr>\n",
              "      <th>4</th>\n",
              "      <td>4 Results</td>\n",
              "      <td>the complete catalog of ∼11, 700 variables is available\\nat the asas-sn variable stars database (https://asas-\\nsn.osu.edu/variables) along with the v-band light curves for\\neach source. table 2 lists the number of sources of each vari-\\nability type in the catalog.\\nin paper ii, we used the reddening-free wesenheit mag-\\nnitudes (madore 1982; lebzelter et al. 2018)\\nwrp = mgrp −1.3(gbp −grp),\\n(6)\\nand\\nwjk = mks −0.686(j −ks)\\n(7)\\nfor variability classiﬁcation. the wesenheit wrp vs. gbp −\\ngrp color-magnitude diagram for all the variables is shown\\nin figure 7. we have sorted the variables into groups to\\nhighlight the diﬀerent classes of variable sources. owing to\\nthe magnitude limit of asas-sn, we are only able to detect\\nsuﬃciently bright sources (v ≲16 mag, wrp ≲1.5 mag) in\\nthe lmc. this is evident in the wesenheit color-magnitude\\ndiagram for the lmc sources. for the sources outside the\\nlmc, we probe a wider range of magnitudes (wrp ≲6\\nmag), including rr lyrae, rotational variables and δ scuti\\nvariables.\\nwe have also plotted the wesenheit wrp vs. gbp −\\ngrp color-magnitude diagram for all the periodic variables\\nin figure 8, with the points colored according to the period.\\nthis essentially highlights the large dynamic range in period\\nprobed by the asas-sn light curves.\\nwe note that the identiﬁcation of mira variables in the\\nlmc is hindered by blending. due to blended light, the ob-\\nserved asas-sn amplitudes of these sources fall below the\\namplitude threshold of v &gt; 2 mag that is used to deﬁne a\\nmira variable in our pipeline. in reality, some fraction of the\\nlmc semi-regular variables in this catalog are actually mira\\nvariables. from the sample of known semi-regular variables\\nin the lmc, we estimate that the fraction of mira variables\\nclassiﬁed as semi-regular variables is ∼23%.\\nusing the same color scheme, the combined wesenheit\\nwjk plr diagram for the periodic variables is shown in\\nfigure 9. the plr sequences for the cepheids and sem...</td>\n",
              "      <td>NaN</td>\n",
              "      <td>NaN</td>\n",
              "    </tr>\n",
              "    <tr>\n",
              "      <th>5</th>\n",
              "      <td>5 Conclusions</td>\n",
              "      <td>we\\nsystematically\\nsearched\\nfor\\nvariable\\nsources\\nin\\na\\n∼1000 deg2 region surrounding the southern ecliptic pole.\\nthis region is coincident with the southern continuous view-\\ning zone for the tess satellite and thus, a large majority of\\nthese sources will have excellent tess light curves.\\nthrough our search, we identiﬁed ∼11, 700 variable\\nsources, of which ∼7, 000 are new discoveries. variable\\nsources identiﬁed in the lmc largely consist of luminous\\nvariables, including cepheids, gcas variables (be stars)\\nand red giants. we identify a broader sample of variables\\noutside the lmc, including rr lyrae, eclipsing binaries,\\nrotational variables and δ scuti variables.\\nwe have developed a user friendly interface to re-\\ntrieve pre-computed asas-sn v-band light curves for\\napass sources. the v-band light curves of all the ∼1.3m\\nmnras 000, 1–13 (2018)\\nasas-sn catalog of variable stars iii\\n9\\n1\\n0\\n1\\n2\\n3\\nlog10(p/days)\\n10\\n8\\n6\\n4\\n2\\n0\\n2\\n4\\nwjk\\nnot lmc\\ncepheids\\ndelta scuti\\neclipsing binaries\\nrr lyrae\\nrotational variables\\nsemi-regular variables\\n1\\n0\\n1\\n2\\n3\\nlog10(p/days)\\n14\\n12\\n10\\n8\\n6\\n4\\n2\\nwjk\\nlmc\\nfigure 9. the wesenheit wj k plr diagram for the periodic variables, outside the lmc (left), and in the lmc (right). the points are\\ncolored as in figure 7.\\nsources studied in this work are available online at the\\nasas-sn photometry database (https://asas-sn.osu.\\nedu/photometry). to highlight the possible blended sources,\\na ﬂag is assigned to each source if the distance to the nearest\\napass neighbor is &lt;16.\\n′′0. the new variable sources have\\nalso been added to the asas-sn variable stars database\\n(https://asas-sn.osu.edu/variables).\\nas part of our ongoing eﬀort to systematically analyze\\nall the ∼50 million v &lt; 17 mag apass sources for variabil-\\nity, we will gradually update this database with the light\\ncurves for the sources across the remainder of the sky over\\nthe course of 2019. this work provides long baseline v-band\\nlight...</td>\n",
              "      <td>NaN</td>\n",
              "      <td>NaN</td>\n",
              "    </tr>\n",
              "  </tbody>\n",
              "</table>\n",
              "</div>"
            ],
            "text/plain": [
              "                             level_1  \\\n",
              "0                     1 Introduction   \n",
              "1  2 Observations and Data reduction   \n",
              "2             3 Variability Analysis   \n",
              "3             3 Variability Analysis   \n",
              "4                          4 Results   \n",
              "5                      5 Conclusions   \n",
              "\n",
              "                                                                                                                                                                                                                                                                                                                                                                                                                                                                                                                                                                                                                                                                                                                                                                                                                                                                                                                                                                                                                                                                                                                                                                                                                                                                                                                                                                                                                                                                                                                                                                                                                                                                                                                                                                                                                                                                                                                                                                                                                                                                      level_1_text  \\\n",
              "0  mnras 000, 1–13 (2018)\\npreprint 3 january 2019\\ncompiled using mnras l\\na\\nt\\nex style ﬁle v3.0\\nthe asas-sn catalog of variable stars iii: variables in\\nthe southern tess continuous viewing zone\\nt. jayasinghe1,2⋆, k. z. stanek1,2, c. s. kochanek1,2, b. j. shappee3,\\nt. w. -s. holoien4, todd a. thompson1,2,5, j. l. prieto6,7, subo dong8, m. pawlak9,\\no. pejcha9, j. v. shields1, g. pojmanski10, s. otero11, n. hurst12, c. a. britt12,\\nd. will1,12\\n1department of astronomy, the ohio state university, 140 west 18th avenue, columbus, oh 43210, usa\\n2center for cosmology and astroparticle physics, the ohio state university, 191 w. woodruﬀavenue, columbus, oh 43210, usa\\n3institute for astronomy, university of hawaii, 2680 woodlawn drive, honolulu, hi 96822,usa\\n4carnegie observatories, 813 santa barbara street, pasadena, ca 91101, usa\\n5institute for advanced study, princeton, nj, 08540\\n6n´\\nucleo de astronom´\\nıa de la facultad de ingenier´\\nıa y ciencias, universidad diego portales, av. ej´\\nercito 441, santiago, chile\\n7millennium institute of astrophysics, santiago, chile\\n8kavli institute for astronomy and astrophysics, peking university, yi he yuan road 5, hai dian district, china\\n9institute of theoretical physics, faculty of mathematics and physics, charles university in prague, czech republic\\n10warsaw university observatory, al ujazdowskie 4, 00-478 warsaw, poland\\n11the american association of variable star observers, 49 bay state road, cambridge, ma 02138, usa\\n12asc technology services, 433 mendenhall laboratory 125 south oval mall columbus oh, 43210, usa\\naccepted xxx. received yyy; in original form zzz\\nabstract\\nthe all-sky automated survey for supernovae (asas-sn) provides long baseline (∼4\\nyrs) light curves for sources brighter than v≲17 mag across the whole sky. the tran-\\nsiting exoplanet survey satellite (tess) has started to produce high-quality light\\ncurves with a baseline of at least 27 days, eventually for most of the sky. the combi-\\nnat...   \n",
              "1  we started with the aavso photometric all-sky survey\\n(apass; henden et al. 2015) dr9 catalog as our input\\nsource catalog. we selected all the apass sources with\\nv < 17 mag in all the asas-sn ﬁelds with central ﬁeld\\ncoordinates within 18 deg from the southern ecliptic pole\\n(α = 90 deg, δ = −66.55 deg). this resulted in a list of ∼1.3m\\nsources spanning a total of ∼1, 000 deg2. asas-sn v-band\\nobservations were made by the“brutus”(haleakala, hawaii)\\nand “cassius” (ctio, chile) quadruple telescopes between\\n2013 and 2018. each asas-sn ﬁeld has ∼200-600 epochs\\nof observation to a depth of v ≲17 mag. each camera has a\\nﬁeld of view of 4.5 deg2, the pixel scale is 8.\\n′′0 and the fwhm\\nis ∼2 pixels. asas-sn nominally saturates at ∼10−11 mag,\\nbut light curves of saturated sources are sometimes quite\\ngood due to corrections made for bleed trails (see kochanek\\net al. 2017).\\nthe light curves for these sources were extracted as de-\\nscribed in jayasinghe et al. (2018a) using image subtraction\\n(alard & lupton 1998; alard 2000) and aperture photome-\\ntry on the subtracted images with a 2 pixel radius aperture.\\nthe apass catalog was used for calibration. the zero point\\noﬀsets between the diﬀerent cameras were corrected as de-\\nscribed in jayasinghe et al. (2018a).\\nfigure 1 illustrates the relationship between the mea-\\nsured mean asas-sn v-band magnitudes and the apass\\ndr9 v-band magnitudes. sources with vmean ≲14 mag\\nhave similar v-band magnitudes, but a large fraction of the\\nsources with vmean ≳14 mag show a discrepancy between the\\nasas-sn and apass measurements. this is due to blend-\\ning in ﬁelds with signiﬁcant stellar densities (i.e., the lmc\\nin this work). the relatively large asas-sn pixel scale of\\n8.\\n′′0 as compared to the smaller apass pixel scale of 2.\\n′′6\\nmakes asas-sn photometry more susceptible to blending.\\nthus, asas-sn v-band measurements are systematically\\nbrighter for most sources in the lmc due to blended light.\\nthe light curve ex...   \n",
              "2                                                                                                                                                                                                                                                                                                                                                                                                                                                                                                                                                                                                                                                                                                                                                                                                                                                                                                                                                                                                                                                                                                                                                                                                                                                                                                                                                                                                                                                                                                                                                                                                                                                                                                                                                                                                                                                                                                                                                                                                                                                                              NaN   \n",
              "3                                                                                                                                                                                                                                                                                                                                                                                                                                                                                                                                                                                                                                                                                                                                                                                                                                                                                                                                                                                                                                                                                                                                                                                                                                                                                                                                                                                                                                                                                                                                                                                                                                                                                                                                                                                                                                                                                                                                                                                                                                                                              NaN   \n",
              "4  the complete catalog of ∼11, 700 variables is available\\nat the asas-sn variable stars database (https://asas-\\nsn.osu.edu/variables) along with the v-band light curves for\\neach source. table 2 lists the number of sources of each vari-\\nability type in the catalog.\\nin paper ii, we used the reddening-free wesenheit mag-\\nnitudes (madore 1982; lebzelter et al. 2018)\\nwrp = mgrp −1.3(gbp −grp),\\n(6)\\nand\\nwjk = mks −0.686(j −ks)\\n(7)\\nfor variability classiﬁcation. the wesenheit wrp vs. gbp −\\ngrp color-magnitude diagram for all the variables is shown\\nin figure 7. we have sorted the variables into groups to\\nhighlight the diﬀerent classes of variable sources. owing to\\nthe magnitude limit of asas-sn, we are only able to detect\\nsuﬃciently bright sources (v ≲16 mag, wrp ≲1.5 mag) in\\nthe lmc. this is evident in the wesenheit color-magnitude\\ndiagram for the lmc sources. for the sources outside the\\nlmc, we probe a wider range of magnitudes (wrp ≲6\\nmag), including rr lyrae, rotational variables and δ scuti\\nvariables.\\nwe have also plotted the wesenheit wrp vs. gbp −\\ngrp color-magnitude diagram for all the periodic variables\\nin figure 8, with the points colored according to the period.\\nthis essentially highlights the large dynamic range in period\\nprobed by the asas-sn light curves.\\nwe note that the identiﬁcation of mira variables in the\\nlmc is hindered by blending. due to blended light, the ob-\\nserved asas-sn amplitudes of these sources fall below the\\namplitude threshold of v > 2 mag that is used to deﬁne a\\nmira variable in our pipeline. in reality, some fraction of the\\nlmc semi-regular variables in this catalog are actually mira\\nvariables. from the sample of known semi-regular variables\\nin the lmc, we estimate that the fraction of mira variables\\nclassiﬁed as semi-regular variables is ∼23%.\\nusing the same color scheme, the combined wesenheit\\nwjk plr diagram for the periodic variables is shown in\\nfigure 9. the plr sequences for the cepheids and sem...   \n",
              "5  we\\nsystematically\\nsearched\\nfor\\nvariable\\nsources\\nin\\na\\n∼1000 deg2 region surrounding the southern ecliptic pole.\\nthis region is coincident with the southern continuous view-\\ning zone for the tess satellite and thus, a large majority of\\nthese sources will have excellent tess light curves.\\nthrough our search, we identiﬁed ∼11, 700 variable\\nsources, of which ∼7, 000 are new discoveries. variable\\nsources identiﬁed in the lmc largely consist of luminous\\nvariables, including cepheids, gcas variables (be stars)\\nand red giants. we identify a broader sample of variables\\noutside the lmc, including rr lyrae, eclipsing binaries,\\nrotational variables and δ scuti variables.\\nwe have developed a user friendly interface to re-\\ntrieve pre-computed asas-sn v-band light curves for\\napass sources. the v-band light curves of all the ∼1.3m\\nmnras 000, 1–13 (2018)\\nasas-sn catalog of variable stars iii\\n9\\n1\\n0\\n1\\n2\\n3\\nlog10(p/days)\\n10\\n8\\n6\\n4\\n2\\n0\\n2\\n4\\nwjk\\nnot lmc\\ncepheids\\ndelta scuti\\neclipsing binaries\\nrr lyrae\\nrotational variables\\nsemi-regular variables\\n1\\n0\\n1\\n2\\n3\\nlog10(p/days)\\n14\\n12\\n10\\n8\\n6\\n4\\n2\\nwjk\\nlmc\\nfigure 9. the wesenheit wj k plr diagram for the periodic variables, outside the lmc (left), and in the lmc (right). the points are\\ncolored as in figure 7.\\nsources studied in this work are available online at the\\nasas-sn photometry database (https://asas-sn.osu.\\nedu/photometry). to highlight the possible blended sources,\\na ﬂag is assigned to each source if the distance to the nearest\\napass neighbor is <16.\\n′′0. the new variable sources have\\nalso been added to the asas-sn variable stars database\\n(https://asas-sn.osu.edu/variables).\\nas part of our ongoing eﬀort to systematically analyze\\nall the ∼50 million v < 17 mag apass sources for variabil-\\nity, we will gradually update this database with the light\\ncurves for the sources across the remainder of the sky over\\nthe course of 2019. this work provides long baseline v-band\\nlight...   \n",
              "\n",
              "                                  level_2  \\\n",
              "0                                     NaN   \n",
              "1                                     NaN   \n",
              "2  3.1 Cross-matches to external catalogs   \n",
              "3                3.4 Blending Corrections   \n",
              "4                                     NaN   \n",
              "5                                     NaN   \n",
              "\n",
              "                                                                                                                                                                                                                                                                                                                                                                                                                                                                                                                                                                                                                                                                                                                                                                                                                                                                                                                                                                                                                                                                                                                                                                                                                                                                                                           level_2_content  \n",
              "0                                                                                                                                                                                                                                                                                                                                                                                                                                                                                                                                                                                                                                                                                                                                                                                                                                                                                                                                                                                                                                                                                                                                                                                                                                                                                                                      NaN  \n",
              "1                                                                                                                                                                                                                                                                                                                                                                                                                                                                                                                                                                                                                                                                                                                                                                                                                                                                                                                                                                                                                                                                                                                                                                                                                                                                                                                      NaN  \n",
              "2                                                                                                                                                                                                                                                                                                                                                                                                                                                                                                                                                                                                                                                      here we describe the procedure we used to identify and char-\\nacterize variables in the source list. we describe how we\\nmnras 000, 1–13 (2018)\\n4\\nt. jayasinghe et al.\\ncross-matched the apass sources to external catalogues in\\nsection §3.1. in section §3.2, we describe the procedure we\\ntook to identify candidate variable sources. in section §3.3,\\nwe discuss the application of the v2 random forest classiﬁer\\nmodel from jayasinghe et al. (2018b) to classify these vari-\\nables, and in section §3.4, we discuss the corrections done to\\nmitigate the eﬀects of blending on the candidate variables.\\n3.1\\ncross-matches to external catalogs\\n  \n",
              "3  the large pixel scale of the asas-sn images (8.\\n′′0) and the\\nfwhm (∼16.\\n′′0) results in blending towards crowded re-\\ngions. the apass catalog was constructed with images that\\nhave a signiﬁcantly smaller pixel scale (2.\\n′′6), and as a result\\nof this, multiple apass sources can fall into a single asas-\\nsn pixel. we do not correct for the contaminating light in\\nthe photometry of the blended sources, but we identify and\\ncorrect blended variable groups in our catalog.\\nsince we extracted light curves for the positions of\\napass sources, we can have two or more such sources inside\\na single asas-sn resolution element. if we select the sources\\nwith another apass neighbor within 30.\\n′′0, we ﬁnd that 559\\nof the ∼12, 300 variables had a neighbor within 30.\\n′′0. we\\ncompute the ﬂux variability amplitudes for these sources\\nusing a random forest regression model (jayasinghe et al.\\n2018b). the majority of the variable groups consisted of two\\nsources, with a few groups consisting of up to three sources.\\nfor each variable group, we consider the source with the\\nlargest ﬂux variability as the ‘true’ variable, and remove the\\nother overlapping sources from the ﬁnal list. following this\\ntreatment, our list of variables consisted of ∼11, 700 sources.\\n  \n",
              "4                                                                                                                                                                                                                                                                                                                                                                                                                                                                                                                                                                                                                                                                                                                                                                                                                                                                                                                                                                                                                                                                                                                                                                                                                                                                                                                      NaN  \n",
              "5                                                                                                                                                                                                                                                                                                                                                                                                                                                                                                                                                                                                                                                                                                                                                                                                                                                                                                                                                                                                                                                                                                                                                                                                                                                                                                                      NaN  "
            ]
          },
          "metadata": {},
          "output_type": "display_data"
        }
      ],
      "source": [
        "pdf_file =  \"An Empirical Survey on Long Document Summarization.pdf\"\n",
        "pdf_file = \"1901.00009v1.pdf\"\n",
        "doc, total_text = processing_pdf.open_file(project_data_path + \"/\" + pdf_file)\n",
        "table_of_content = doc.get_toc()\n",
        "\n",
        "# you could customize the table of content\n",
        "# display(table_of_content)\n",
        "# table_of_content = [[1, 'Abstract', 1],\n",
        "#  [1, '1 Introduction', 1],\n",
        "#  [1, '2 Fundamentals of Long Document Summarization', 3],\n",
        "#  [2, '2.1 Length of Document', 3],\n",
        "#  [2, '2.2 Breadth of Content', 4],\n",
        "#  [2, '2.3 Degree of Coherence', 4],\n",
        "#  [1, '3 Datasets', 4],\n",
        "#  [2, '3.1 Corpora', 5],\n",
        "#  [2, '3.2 Data Metrics', 5],\n",
        "#  [2, '3.3 Intrinsic Characteristics of Datasets', 6],\n",
        "#  [2, '3.4 Fine-grained Analysis on ArXiv', 9],\n",
        "#  [1, '4 Models', 10],\n",
        "#  [2, '4.1 Overview', 10],\n",
        "#  [2, '4.2 Main Architecture and its Mechanisms', 12],\n",
        "#  [2, '4.3 Mechanisms of Transformer-based Architectures', 14],\n",
        "#  [2, '4.4 Summary of Trends in Long Document Summarization Systems', 17],\n",
        "#  [1, '5 Multi-dimensional Analysis of Long Document Summarizers', 18],\n",
        "#  [2, '5.1 Implementation', 19],\n",
        "#  [2, '5.2 Results and Analysis', 20],\n",
        "\n",
        "\n",
        "ds = processing_pdf.separate_content(total_text, table_of_content)\n",
        "processing_pdf.save_dataframe(ds, project_processed_data_path,  pdf_file.split(\".\")[0])\n",
        "display(ds)\n"
      ]
    }
  ],
  "metadata": {
    "colab": {
      "provenance": []
    },
    "kernelspec": {
      "display_name": "Python 3",
      "name": "python3"
    },
    "language_info": {
      "codemirror_mode": {
        "name": "ipython",
        "version": 3
      },
      "file_extension": ".py",
      "mimetype": "text/x-python",
      "name": "python",
      "nbconvert_exporter": "python",
      "pygments_lexer": "ipython3",
      "version": "3.11.4"
    }
  },
  "nbformat": 4,
  "nbformat_minor": 0
}
