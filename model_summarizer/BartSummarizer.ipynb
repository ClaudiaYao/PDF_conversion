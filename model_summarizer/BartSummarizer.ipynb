{
 "cells": [
  {
   "cell_type": "code",
   "execution_count": 1,
   "metadata": {},
   "outputs": [],
   "source": [
    "# ensure that the imported .py file will get auto imported and updated whenever there is a change\n",
    "%load_ext autoreload\n",
    "%autoreload 2"
   ]
  },
  {
   "cell_type": "markdown",
   "metadata": {},
   "source": [
    "# Num Of Epochs\n",
    "\n",
    "First, we attempt to find the number of epochs that achieve the best training results."
   ]
  },
  {
   "cell_type": "code",
   "execution_count": 5,
   "metadata": {},
   "outputs": [],
   "source": [
    "import os, json\n",
    "from BartSummarizer import train_model, load_json, test_model\n",
    "from torch.utils.data import DataLoader\n",
    "import matplotlib.pyplot as plt\n",
    "from transformers.trainer_utils import SchedulerType\n",
    "\n",
    "# MODEL_NAME = 'allenai/led-large-16384-arxiv'\n",
    "# MODEL_NAME = 'allenai/led-base-16384'\n",
    "# MODEL_NAME = 'facebook/bart-large'\n",
    "MODEL_NAME = 'facebook/bart-large-xsum'\n",
    "# MODEL_NAME = 'facebook/bart-large-cnn'"
   ]
  },
  {
   "cell_type": "code",
   "execution_count": 20,
   "metadata": {},
   "outputs": [
    {
     "name": "stderr",
     "output_type": "stream",
     "text": [
      "Map: 100%|██████████| 697/697 [00:02<00:00, 272.93 examples/s]\n",
      "Map: 100%|██████████| 174/174 [00:00<00:00, 239.59 examples/s]\n",
      "100%|██████████| 88/88 [00:17<00:00,  5.79it/s]\n",
      "100%|██████████| 88/88 [00:18<00:00,  5.79it/s]Some non-default generation parameters are set in the model config. These should go into a GenerationConfig file (https://huggingface.co/docs/transformers/generation_strategies#save-a-custom-decoding-strategy-with-your-model) instead. This warning will be raised to an exception in v4.41.\n",
      "Non-default generation parameters: {'early_stopping': True, 'num_beams': 4, 'no_repeat_ngram_size': 3, 'forced_bos_token_id': 0, 'forced_eos_token_id': 2}\n"
     ]
    },
    {
     "name": "stdout",
     "output_type": "stream",
     "text": [
      "{'eval_loss': 3.16508412361145, 'eval_runtime': 1.3172, 'eval_samples_per_second': 132.097, 'eval_steps_per_second': 16.702, 'epoch': 1.0}\n"
     ]
    },
    {
     "name": "stderr",
     "output_type": "stream",
     "text": [
      "100%|██████████| 88/88 [00:21<00:00,  4.02it/s]\n"
     ]
    },
    {
     "name": "stdout",
     "output_type": "stream",
     "text": [
      "{'train_runtime': 21.9162, 'train_samples_per_second': 31.803, 'train_steps_per_second': 4.015, 'train_loss': 5.176422119140625, 'epoch': 1.0}\n"
     ]
    },
    {
     "name": "stderr",
     "output_type": "stream",
     "text": [
      "100%|██████████| 22/22 [00:01<00:00, 16.41it/s]\n"
     ]
    },
    {
     "name": "stdout",
     "output_type": "stream",
     "text": [
      "{'eval_loss': 3.16508412361145, 'eval_runtime': 1.4104, 'eval_samples_per_second': 123.365, 'eval_steps_per_second': 15.598, 'epoch': 1.0}\n",
      "Training results for Num Of Epochs 1\n",
      "{'eval_loss': 3.16508412361145, 'eval_runtime': 1.4104, 'eval_samples_per_second': 123.365, 'eval_steps_per_second': 15.598, 'epoch': 1.0}\n"
     ]
    },
    {
     "name": "stderr",
     "output_type": "stream",
     "text": [
      "Map: 100%|██████████| 697/697 [00:02<00:00, 269.10 examples/s]\n",
      "Map: 100%|██████████| 174/174 [00:00<00:00, 234.23 examples/s]\n",
      " 50%|█████     | 88/176 [00:17<00:15,  5.87it/s]\n",
      " 50%|█████     | 88/176 [00:19<00:15,  5.87it/s]Some non-default generation parameters are set in the model config. These should go into a GenerationConfig file (https://huggingface.co/docs/transformers/generation_strategies#save-a-custom-decoding-strategy-with-your-model) instead. This warning will be raised to an exception in v4.41.\n",
      "Non-default generation parameters: {'early_stopping': True, 'num_beams': 4, 'no_repeat_ngram_size': 3, 'forced_bos_token_id': 0, 'forced_eos_token_id': 2}\n"
     ]
    },
    {
     "name": "stdout",
     "output_type": "stream",
     "text": [
      "{'eval_loss': 1.8297150135040283, 'eval_runtime': 1.3147, 'eval_samples_per_second': 132.354, 'eval_steps_per_second': 16.734, 'epoch': 1.0}\n"
     ]
    },
    {
     "name": "stderr",
     "output_type": "stream",
     "text": [
      " 99%|█████████▉| 175/176 [00:40<00:00,  5.04it/s]\n",
      "100%|██████████| 176/176 [00:41<00:00,  5.04it/s]Some non-default generation parameters are set in the model config. These should go into a GenerationConfig file (https://huggingface.co/docs/transformers/generation_strategies#save-a-custom-decoding-strategy-with-your-model) instead. This warning will be raised to an exception in v4.41.\n",
      "Non-default generation parameters: {'early_stopping': True, 'num_beams': 4, 'no_repeat_ngram_size': 3, 'forced_bos_token_id': 0, 'forced_eos_token_id': 2}\n"
     ]
    },
    {
     "name": "stdout",
     "output_type": "stream",
     "text": [
      "{'eval_loss': 1.086682915687561, 'eval_runtime': 1.2785, 'eval_samples_per_second': 136.096, 'eval_steps_per_second': 17.208, 'epoch': 2.0}\n"
     ]
    },
    {
     "name": "stderr",
     "output_type": "stream",
     "text": [
      "100%|██████████| 176/176 [00:44<00:00,  3.95it/s]\n"
     ]
    },
    {
     "name": "stdout",
     "output_type": "stream",
     "text": [
      "{'train_runtime': 44.524, 'train_samples_per_second': 31.309, 'train_steps_per_second': 3.953, 'train_loss': 3.006506486372514, 'epoch': 2.0}\n"
     ]
    },
    {
     "name": "stderr",
     "output_type": "stream",
     "text": [
      "100%|██████████| 22/22 [00:01<00:00, 16.20it/s]\n"
     ]
    },
    {
     "name": "stdout",
     "output_type": "stream",
     "text": [
      "{'eval_loss': 1.086682915687561, 'eval_runtime': 1.4392, 'eval_samples_per_second': 120.899, 'eval_steps_per_second': 15.286, 'epoch': 2.0}\n",
      "Training results for Num Of Epochs 2\n",
      "{'eval_loss': 1.086682915687561, 'eval_runtime': 1.4392, 'eval_samples_per_second': 120.899, 'eval_steps_per_second': 15.286, 'epoch': 2.0}\n"
     ]
    },
    {
     "name": "stderr",
     "output_type": "stream",
     "text": [
      "Map: 100%|██████████| 697/697 [00:02<00:00, 270.31 examples/s]\n",
      "Map: 100%|██████████| 174/174 [00:00<00:00, 242.20 examples/s]\n",
      " 33%|███▎      | 88/264 [00:17<00:30,  5.81it/s]\n",
      " 33%|███▎      | 88/264 [00:18<00:30,  5.81it/s]Some non-default generation parameters are set in the model config. These should go into a GenerationConfig file (https://huggingface.co/docs/transformers/generation_strategies#save-a-custom-decoding-strategy-with-your-model) instead. This warning will be raised to an exception in v4.41.\n",
      "Non-default generation parameters: {'early_stopping': True, 'num_beams': 4, 'no_repeat_ngram_size': 3, 'forced_bos_token_id': 0, 'forced_eos_token_id': 2}\n"
     ]
    },
    {
     "name": "stdout",
     "output_type": "stream",
     "text": [
      "{'eval_loss': 1.5024982690811157, 'eval_runtime': 1.3201, 'eval_samples_per_second': 131.809, 'eval_steps_per_second': 16.666, 'epoch': 1.0}\n"
     ]
    },
    {
     "name": "stderr",
     "output_type": "stream",
     "text": [
      " 66%|██████▋   | 175/264 [00:39<00:17,  4.97it/s]\n",
      " 67%|██████▋   | 176/264 [00:41<00:17,  4.97it/s]Some non-default generation parameters are set in the model config. These should go into a GenerationConfig file (https://huggingface.co/docs/transformers/generation_strategies#save-a-custom-decoding-strategy-with-your-model) instead. This warning will be raised to an exception in v4.41.\n",
      "Non-default generation parameters: {'early_stopping': True, 'num_beams': 4, 'no_repeat_ngram_size': 3, 'forced_bos_token_id': 0, 'forced_eos_token_id': 2}\n"
     ]
    },
    {
     "name": "stdout",
     "output_type": "stream",
     "text": [
      "{'eval_loss': 1.029956340789795, 'eval_runtime': 1.2888, 'eval_samples_per_second': 135.014, 'eval_steps_per_second': 17.071, 'epoch': 2.0}\n"
     ]
    },
    {
     "name": "stderr",
     "output_type": "stream",
     "text": [
      "100%|█████████▉| 263/264 [01:02<00:00,  5.03it/s]\n",
      "100%|██████████| 264/264 [01:03<00:00,  5.03it/s]Some non-default generation parameters are set in the model config. These should go into a GenerationConfig file (https://huggingface.co/docs/transformers/generation_strategies#save-a-custom-decoding-strategy-with-your-model) instead. This warning will be raised to an exception in v4.41.\n",
      "Non-default generation parameters: {'early_stopping': True, 'num_beams': 4, 'no_repeat_ngram_size': 3, 'forced_bos_token_id': 0, 'forced_eos_token_id': 2}\n"
     ]
    },
    {
     "name": "stdout",
     "output_type": "stream",
     "text": [
      "{'eval_loss': 1.0024207830429077, 'eval_runtime': 1.2829, 'eval_samples_per_second': 135.635, 'eval_steps_per_second': 17.149, 'epoch': 3.0}\n"
     ]
    },
    {
     "name": "stderr",
     "output_type": "stream",
     "text": [
      "100%|██████████| 264/264 [01:06<00:00,  3.96it/s]\n"
     ]
    },
    {
     "name": "stdout",
     "output_type": "stream",
     "text": [
      "{'train_runtime': 66.7425, 'train_samples_per_second': 31.329, 'train_steps_per_second': 3.956, 'train_loss': 2.1543290109345405, 'epoch': 3.0}\n"
     ]
    },
    {
     "name": "stderr",
     "output_type": "stream",
     "text": [
      "100%|██████████| 22/22 [00:01<00:00, 16.49it/s]\n"
     ]
    },
    {
     "name": "stdout",
     "output_type": "stream",
     "text": [
      "{'eval_loss': 1.0024207830429077, 'eval_runtime': 1.404, 'eval_samples_per_second': 123.932, 'eval_steps_per_second': 15.67, 'epoch': 3.0}\n",
      "Training results for Num Of Epochs 3\n",
      "{'eval_loss': 1.0024207830429077, 'eval_runtime': 1.404, 'eval_samples_per_second': 123.932, 'eval_steps_per_second': 15.67, 'epoch': 3.0}\n"
     ]
    },
    {
     "name": "stderr",
     "output_type": "stream",
     "text": [
      "Map: 100%|██████████| 697/697 [00:02<00:00, 273.78 examples/s]\n",
      "Map: 100%|██████████| 174/174 [00:00<00:00, 233.82 examples/s]\n",
      " 25%|██▌       | 88/352 [00:17<00:44,  5.89it/s]\n",
      " 25%|██▌       | 88/352 [00:18<00:44,  5.89it/s]Some non-default generation parameters are set in the model config. These should go into a GenerationConfig file (https://huggingface.co/docs/transformers/generation_strategies#save-a-custom-decoding-strategy-with-your-model) instead. This warning will be raised to an exception in v4.41.\n",
      "Non-default generation parameters: {'early_stopping': True, 'num_beams': 4, 'no_repeat_ngram_size': 3, 'forced_bos_token_id': 0, 'forced_eos_token_id': 2}\n"
     ]
    },
    {
     "name": "stdout",
     "output_type": "stream",
     "text": [
      "{'eval_loss': 1.340977430343628, 'eval_runtime': 1.3052, 'eval_samples_per_second': 133.317, 'eval_steps_per_second': 16.856, 'epoch': 1.0}\n"
     ]
    },
    {
     "name": "stderr",
     "output_type": "stream",
     "text": [
      " 50%|████▉     | 175/352 [00:39<00:35,  5.04it/s]\n",
      " 50%|█████     | 176/352 [00:40<00:34,  5.04it/s]Some non-default generation parameters are set in the model config. These should go into a GenerationConfig file (https://huggingface.co/docs/transformers/generation_strategies#save-a-custom-decoding-strategy-with-your-model) instead. This warning will be raised to an exception in v4.41.\n",
      "Non-default generation parameters: {'early_stopping': True, 'num_beams': 4, 'no_repeat_ngram_size': 3, 'forced_bos_token_id': 0, 'forced_eos_token_id': 2}\n"
     ]
    },
    {
     "name": "stdout",
     "output_type": "stream",
     "text": [
      "{'eval_loss': 1.0467076301574707, 'eval_runtime': 1.2829, 'eval_samples_per_second': 135.626, 'eval_steps_per_second': 17.148, 'epoch': 2.0}\n"
     ]
    },
    {
     "name": "stderr",
     "output_type": "stream",
     "text": [
      " 75%|███████▍  | 263/352 [01:01<00:17,  5.02it/s]\n",
      " 75%|███████▌  | 264/352 [01:02<00:17,  5.02it/s]Some non-default generation parameters are set in the model config. These should go into a GenerationConfig file (https://huggingface.co/docs/transformers/generation_strategies#save-a-custom-decoding-strategy-with-your-model) instead. This warning will be raised to an exception in v4.41.\n",
      "Non-default generation parameters: {'early_stopping': True, 'num_beams': 4, 'no_repeat_ngram_size': 3, 'forced_bos_token_id': 0, 'forced_eos_token_id': 2}\n"
     ]
    },
    {
     "name": "stdout",
     "output_type": "stream",
     "text": [
      "{'eval_loss': 1.0183203220367432, 'eval_runtime': 1.2826, 'eval_samples_per_second': 135.666, 'eval_steps_per_second': 17.153, 'epoch': 3.0}\n"
     ]
    },
    {
     "name": "stderr",
     "output_type": "stream",
     "text": [
      "100%|█████████▉| 351/352 [01:23<00:00,  5.02it/s]\n",
      "100%|██████████| 352/352 [01:24<00:00,  5.02it/s]Some non-default generation parameters are set in the model config. These should go into a GenerationConfig file (https://huggingface.co/docs/transformers/generation_strategies#save-a-custom-decoding-strategy-with-your-model) instead. This warning will be raised to an exception in v4.41.\n",
      "Non-default generation parameters: {'early_stopping': True, 'num_beams': 4, 'no_repeat_ngram_size': 3, 'forced_bos_token_id': 0, 'forced_eos_token_id': 2}\n"
     ]
    },
    {
     "name": "stdout",
     "output_type": "stream",
     "text": [
      "{'eval_loss': 1.0166796445846558, 'eval_runtime': 1.2785, 'eval_samples_per_second': 136.1, 'eval_steps_per_second': 17.208, 'epoch': 4.0}\n"
     ]
    },
    {
     "name": "stderr",
     "output_type": "stream",
     "text": [
      "100%|██████████| 352/352 [01:27<00:00,  4.02it/s]\n"
     ]
    },
    {
     "name": "stdout",
     "output_type": "stream",
     "text": [
      "{'train_runtime': 87.5099, 'train_samples_per_second': 31.859, 'train_steps_per_second': 4.022, 'train_loss': 1.7839000008322976, 'epoch': 4.0}\n"
     ]
    },
    {
     "name": "stderr",
     "output_type": "stream",
     "text": [
      "100%|██████████| 22/22 [00:01<00:00, 16.74it/s]\n"
     ]
    },
    {
     "name": "stdout",
     "output_type": "stream",
     "text": [
      "{'eval_loss': 1.0166796445846558, 'eval_runtime': 1.384, 'eval_samples_per_second': 125.719, 'eval_steps_per_second': 15.895, 'epoch': 4.0}\n",
      "Training results for Num Of Epochs 4\n",
      "{'eval_loss': 1.0166796445846558, 'eval_runtime': 1.384, 'eval_samples_per_second': 125.719, 'eval_steps_per_second': 15.895, 'epoch': 4.0}\n"
     ]
    },
    {
     "name": "stderr",
     "output_type": "stream",
     "text": [
      "Map: 100%|██████████| 697/697 [00:02<00:00, 272.27 examples/s]\n",
      "Map: 100%|██████████| 174/174 [00:00<00:00, 241.00 examples/s]\n",
      " 20%|██        | 88/440 [00:17<01:01,  5.75it/s]\n",
      " 20%|██        | 88/440 [00:18<01:01,  5.75it/s]Some non-default generation parameters are set in the model config. These should go into a GenerationConfig file (https://huggingface.co/docs/transformers/generation_strategies#save-a-custom-decoding-strategy-with-your-model) instead. This warning will be raised to an exception in v4.41.\n",
      "Non-default generation parameters: {'early_stopping': True, 'num_beams': 4, 'no_repeat_ngram_size': 3, 'forced_bos_token_id': 0, 'forced_eos_token_id': 2}\n"
     ]
    },
    {
     "name": "stdout",
     "output_type": "stream",
     "text": [
      "{'eval_loss': 1.2912414073944092, 'eval_runtime': 1.3022, 'eval_samples_per_second': 133.615, 'eval_steps_per_second': 16.894, 'epoch': 1.0}\n"
     ]
    },
    {
     "name": "stderr",
     "output_type": "stream",
     "text": [
      " 40%|███▉      | 175/440 [00:39<00:52,  5.00it/s]\n",
      " 40%|████      | 176/440 [00:40<00:52,  5.00it/s]Some non-default generation parameters are set in the model config. These should go into a GenerationConfig file (https://huggingface.co/docs/transformers/generation_strategies#save-a-custom-decoding-strategy-with-your-model) instead. This warning will be raised to an exception in v4.41.\n",
      "Non-default generation parameters: {'early_stopping': True, 'num_beams': 4, 'no_repeat_ngram_size': 3, 'forced_bos_token_id': 0, 'forced_eos_token_id': 2}\n"
     ]
    },
    {
     "name": "stdout",
     "output_type": "stream",
     "text": [
      "{'eval_loss': 1.0590075254440308, 'eval_runtime': 1.2853, 'eval_samples_per_second': 135.379, 'eval_steps_per_second': 17.117, 'epoch': 2.0}\n"
     ]
    },
    {
     "name": "stderr",
     "output_type": "stream",
     "text": [
      " 60%|█████▉    | 263/440 [01:01<00:35,  4.97it/s]\n",
      " 60%|██████    | 264/440 [01:03<00:35,  4.97it/s]Some non-default generation parameters are set in the model config. These should go into a GenerationConfig file (https://huggingface.co/docs/transformers/generation_strategies#save-a-custom-decoding-strategy-with-your-model) instead. This warning will be raised to an exception in v4.41.\n",
      "Non-default generation parameters: {'early_stopping': True, 'num_beams': 4, 'no_repeat_ngram_size': 3, 'forced_bos_token_id': 0, 'forced_eos_token_id': 2}\n"
     ]
    },
    {
     "name": "stdout",
     "output_type": "stream",
     "text": [
      "{'eval_loss': 1.0307480096817017, 'eval_runtime': 1.2937, 'eval_samples_per_second': 134.494, 'eval_steps_per_second': 17.005, 'epoch': 3.0}\n"
     ]
    },
    {
     "name": "stderr",
     "output_type": "stream",
     "text": [
      " 80%|███████▉  | 351/440 [01:23<00:17,  5.06it/s]\n",
      " 80%|████████  | 352/440 [01:24<00:17,  5.06it/s]Some non-default generation parameters are set in the model config. These should go into a GenerationConfig file (https://huggingface.co/docs/transformers/generation_strategies#save-a-custom-decoding-strategy-with-your-model) instead. This warning will be raised to an exception in v4.41.\n",
      "Non-default generation parameters: {'early_stopping': True, 'num_beams': 4, 'no_repeat_ngram_size': 3, 'forced_bos_token_id': 0, 'forced_eos_token_id': 2}\n"
     ]
    },
    {
     "name": "stdout",
     "output_type": "stream",
     "text": [
      "{'eval_loss': 1.0263102054595947, 'eval_runtime': 1.2821, 'eval_samples_per_second': 135.719, 'eval_steps_per_second': 17.16, 'epoch': 4.0}\n"
     ]
    },
    {
     "name": "stderr",
     "output_type": "stream",
     "text": [
      "100%|█████████▉| 439/440 [01:45<00:00,  5.06it/s]\n",
      "100%|██████████| 440/440 [01:46<00:00,  5.06it/s]Some non-default generation parameters are set in the model config. These should go into a GenerationConfig file (https://huggingface.co/docs/transformers/generation_strategies#save-a-custom-decoding-strategy-with-your-model) instead. This warning will be raised to an exception in v4.41.\n",
      "Non-default generation parameters: {'early_stopping': True, 'num_beams': 4, 'no_repeat_ngram_size': 3, 'forced_bos_token_id': 0, 'forced_eos_token_id': 2}\n"
     ]
    },
    {
     "name": "stdout",
     "output_type": "stream",
     "text": [
      "{'eval_loss': 1.0441032648086548, 'eval_runtime': 1.2847, 'eval_samples_per_second': 135.443, 'eval_steps_per_second': 17.125, 'epoch': 5.0}\n"
     ]
    },
    {
     "name": "stderr",
     "output_type": "stream",
     "text": [
      "100%|██████████| 440/440 [01:49<00:00,  4.01it/s]\n"
     ]
    },
    {
     "name": "stdout",
     "output_type": "stream",
     "text": [
      "{'train_runtime': 109.7714, 'train_samples_per_second': 31.748, 'train_steps_per_second': 4.008, 'train_loss': 1.569034784490412, 'epoch': 5.0}\n"
     ]
    },
    {
     "name": "stderr",
     "output_type": "stream",
     "text": [
      "100%|██████████| 22/22 [00:01<00:00, 16.33it/s]\n"
     ]
    },
    {
     "name": "stdout",
     "output_type": "stream",
     "text": [
      "{'eval_loss': 1.0441032648086548, 'eval_runtime': 1.4172, 'eval_samples_per_second': 122.779, 'eval_steps_per_second': 15.524, 'epoch': 5.0}\n",
      "Training results for Num Of Epochs 5\n",
      "{'eval_loss': 1.0441032648086548, 'eval_runtime': 1.4172, 'eval_samples_per_second': 122.779, 'eval_steps_per_second': 15.524, 'epoch': 5.0}\n"
     ]
    },
    {
     "name": "stderr",
     "output_type": "stream",
     "text": [
      "Map: 100%|██████████| 697/697 [00:02<00:00, 270.00 examples/s]\n",
      "Map: 100%|██████████| 174/174 [00:00<00:00, 240.43 examples/s]\n",
      " 17%|█▋        | 88/528 [00:17<01:19,  5.52it/s]\n",
      " 17%|█▋        | 88/528 [00:18<01:19,  5.52it/s]Some non-default generation parameters are set in the model config. These should go into a GenerationConfig file (https://huggingface.co/docs/transformers/generation_strategies#save-a-custom-decoding-strategy-with-your-model) instead. This warning will be raised to an exception in v4.41.\n",
      "Non-default generation parameters: {'early_stopping': True, 'num_beams': 4, 'no_repeat_ngram_size': 3, 'forced_bos_token_id': 0, 'forced_eos_token_id': 2}\n"
     ]
    },
    {
     "name": "stdout",
     "output_type": "stream",
     "text": [
      "{'eval_loss': 1.3221782445907593, 'eval_runtime': 1.3189, 'eval_samples_per_second': 131.928, 'eval_steps_per_second': 16.681, 'epoch': 1.0}\n"
     ]
    },
    {
     "name": "stderr",
     "output_type": "stream",
     "text": [
      " 33%|███▎      | 175/528 [00:39<01:10,  5.03it/s]\n",
      " 33%|███▎      | 176/528 [00:40<01:09,  5.03it/s]Some non-default generation parameters are set in the model config. These should go into a GenerationConfig file (https://huggingface.co/docs/transformers/generation_strategies#save-a-custom-decoding-strategy-with-your-model) instead. This warning will be raised to an exception in v4.41.\n",
      "Non-default generation parameters: {'early_stopping': True, 'num_beams': 4, 'no_repeat_ngram_size': 3, 'forced_bos_token_id': 0, 'forced_eos_token_id': 2}\n"
     ]
    },
    {
     "name": "stdout",
     "output_type": "stream",
     "text": [
      "{'eval_loss': 1.047270655632019, 'eval_runtime': 1.2879, 'eval_samples_per_second': 135.103, 'eval_steps_per_second': 17.082, 'epoch': 2.0}\n"
     ]
    },
    {
     "name": "stderr",
     "output_type": "stream",
     "text": [
      " 50%|████▉     | 263/528 [01:01<00:52,  5.02it/s]\n",
      " 50%|█████     | 264/528 [01:02<00:52,  5.02it/s]Some non-default generation parameters are set in the model config. These should go into a GenerationConfig file (https://huggingface.co/docs/transformers/generation_strategies#save-a-custom-decoding-strategy-with-your-model) instead. This warning will be raised to an exception in v4.41.\n",
      "Non-default generation parameters: {'early_stopping': True, 'num_beams': 4, 'no_repeat_ngram_size': 3, 'forced_bos_token_id': 0, 'forced_eos_token_id': 2}\n"
     ]
    },
    {
     "name": "stdout",
     "output_type": "stream",
     "text": [
      "{'eval_loss': 1.0311648845672607, 'eval_runtime': 1.2822, 'eval_samples_per_second': 135.703, 'eval_steps_per_second': 17.158, 'epoch': 3.0}\n"
     ]
    },
    {
     "name": "stderr",
     "output_type": "stream",
     "text": [
      " 66%|██████▋   | 351/528 [01:23<00:35,  5.01it/s]\n",
      " 67%|██████▋   | 352/528 [01:24<00:35,  5.01it/s]Some non-default generation parameters are set in the model config. These should go into a GenerationConfig file (https://huggingface.co/docs/transformers/generation_strategies#save-a-custom-decoding-strategy-with-your-model) instead. This warning will be raised to an exception in v4.41.\n",
      "Non-default generation parameters: {'early_stopping': True, 'num_beams': 4, 'no_repeat_ngram_size': 3, 'forced_bos_token_id': 0, 'forced_eos_token_id': 2}\n"
     ]
    },
    {
     "name": "stdout",
     "output_type": "stream",
     "text": [
      "{'eval_loss': 1.0299016237258911, 'eval_runtime': 1.2997, 'eval_samples_per_second': 133.881, 'eval_steps_per_second': 16.928, 'epoch': 4.0}\n"
     ]
    },
    {
     "name": "stderr",
     "output_type": "stream",
     "text": [
      " 83%|████████▎ | 439/528 [01:45<00:17,  5.02it/s]\n",
      " 83%|████████▎ | 440/528 [01:46<00:17,  5.02it/s]Some non-default generation parameters are set in the model config. These should go into a GenerationConfig file (https://huggingface.co/docs/transformers/generation_strategies#save-a-custom-decoding-strategy-with-your-model) instead. This warning will be raised to an exception in v4.41.\n",
      "Non-default generation parameters: {'early_stopping': True, 'num_beams': 4, 'no_repeat_ngram_size': 3, 'forced_bos_token_id': 0, 'forced_eos_token_id': 2}\n"
     ]
    },
    {
     "name": "stdout",
     "output_type": "stream",
     "text": [
      "{'eval_loss': 1.0514702796936035, 'eval_runtime': 1.2829, 'eval_samples_per_second': 135.63, 'eval_steps_per_second': 17.149, 'epoch': 5.0}\n"
     ]
    },
    {
     "name": "stderr",
     "output_type": "stream",
     "text": [
      " 95%|█████████▍| 501/528 [02:01<00:05,  5.02it/s]"
     ]
    },
    {
     "name": "stdout",
     "output_type": "stream",
     "text": [
      "{'loss': 1.5194, 'grad_norm': 1.7546899318695068, 'learning_rate': 2.651515151515152e-06, 'epoch': 5.68}\n"
     ]
    },
    {
     "name": "stderr",
     "output_type": "stream",
     "text": [
      "100%|█████████▉| 527/528 [02:07<00:00,  5.00it/s]\n",
      "100%|██████████| 528/528 [02:08<00:00,  5.00it/s]Some non-default generation parameters are set in the model config. These should go into a GenerationConfig file (https://huggingface.co/docs/transformers/generation_strategies#save-a-custom-decoding-strategy-with-your-model) instead. This warning will be raised to an exception in v4.41.\n",
      "Non-default generation parameters: {'early_stopping': True, 'num_beams': 4, 'no_repeat_ngram_size': 3, 'forced_bos_token_id': 0, 'forced_eos_token_id': 2}\n"
     ]
    },
    {
     "name": "stdout",
     "output_type": "stream",
     "text": [
      "{'eval_loss': 1.0628952980041504, 'eval_runtime': 1.2868, 'eval_samples_per_second': 135.216, 'eval_steps_per_second': 17.096, 'epoch': 6.0}\n"
     ]
    },
    {
     "name": "stderr",
     "output_type": "stream",
     "text": [
      "100%|██████████| 528/528 [02:11<00:00,  4.02it/s]\n"
     ]
    },
    {
     "name": "stdout",
     "output_type": "stream",
     "text": [
      "{'train_runtime': 131.4392, 'train_samples_per_second': 31.817, 'train_steps_per_second': 4.017, 'train_loss': 1.4700210708560366, 'epoch': 6.0}\n"
     ]
    },
    {
     "name": "stderr",
     "output_type": "stream",
     "text": [
      "100%|██████████| 22/22 [00:01<00:00, 17.04it/s]\n"
     ]
    },
    {
     "name": "stdout",
     "output_type": "stream",
     "text": [
      "{'eval_loss': 1.0628952980041504, 'eval_runtime': 1.3628, 'eval_samples_per_second': 127.68, 'eval_steps_per_second': 16.143, 'epoch': 6.0}\n",
      "Training results for Num Of Epochs 6\n",
      "{'eval_loss': 1.0628952980041504, 'eval_runtime': 1.3628, 'eval_samples_per_second': 127.68, 'eval_steps_per_second': 16.143, 'epoch': 6.0}\n"
     ]
    },
    {
     "name": "stderr",
     "output_type": "stream",
     "text": [
      "Map: 100%|██████████| 697/697 [00:02<00:00, 273.62 examples/s]\n",
      "Map: 100%|██████████| 174/174 [00:00<00:00, 240.52 examples/s]\n",
      " 14%|█▍        | 88/616 [00:17<01:39,  5.31it/s]\n",
      " 14%|█▍        | 88/616 [00:18<01:39,  5.31it/s]Some non-default generation parameters are set in the model config. These should go into a GenerationConfig file (https://huggingface.co/docs/transformers/generation_strategies#save-a-custom-decoding-strategy-with-your-model) instead. This warning will be raised to an exception in v4.41.\n",
      "Non-default generation parameters: {'early_stopping': True, 'num_beams': 4, 'no_repeat_ngram_size': 3, 'forced_bos_token_id': 0, 'forced_eos_token_id': 2}\n"
     ]
    },
    {
     "name": "stdout",
     "output_type": "stream",
     "text": [
      "{'eval_loss': 1.2744641304016113, 'eval_runtime': 1.3142, 'eval_samples_per_second': 132.403, 'eval_steps_per_second': 16.741, 'epoch': 1.0}\n"
     ]
    },
    {
     "name": "stderr",
     "output_type": "stream",
     "text": [
      " 28%|██▊       | 175/616 [00:39<01:27,  5.04it/s]\n",
      " 29%|██▊       | 176/616 [00:40<01:27,  5.04it/s]Some non-default generation parameters are set in the model config. These should go into a GenerationConfig file (https://huggingface.co/docs/transformers/generation_strategies#save-a-custom-decoding-strategy-with-your-model) instead. This warning will be raised to an exception in v4.41.\n",
      "Non-default generation parameters: {'early_stopping': True, 'num_beams': 4, 'no_repeat_ngram_size': 3, 'forced_bos_token_id': 0, 'forced_eos_token_id': 2}\n"
     ]
    },
    {
     "name": "stdout",
     "output_type": "stream",
     "text": [
      "{'eval_loss': 1.054577112197876, 'eval_runtime': 1.2866, 'eval_samples_per_second': 135.244, 'eval_steps_per_second': 17.1, 'epoch': 2.0}\n"
     ]
    },
    {
     "name": "stderr",
     "output_type": "stream",
     "text": [
      " 43%|████▎     | 263/616 [01:01<01:10,  5.00it/s]\n",
      " 43%|████▎     | 264/616 [01:02<01:10,  5.00it/s]Some non-default generation parameters are set in the model config. These should go into a GenerationConfig file (https://huggingface.co/docs/transformers/generation_strategies#save-a-custom-decoding-strategy-with-your-model) instead. This warning will be raised to an exception in v4.41.\n",
      "Non-default generation parameters: {'early_stopping': True, 'num_beams': 4, 'no_repeat_ngram_size': 3, 'forced_bos_token_id': 0, 'forced_eos_token_id': 2}\n"
     ]
    },
    {
     "name": "stdout",
     "output_type": "stream",
     "text": [
      "{'eval_loss': 1.0365893840789795, 'eval_runtime': 1.2937, 'eval_samples_per_second': 134.495, 'eval_steps_per_second': 17.005, 'epoch': 3.0}\n"
     ]
    },
    {
     "name": "stderr",
     "output_type": "stream",
     "text": [
      " 57%|█████▋    | 351/616 [01:23<00:52,  5.00it/s]\n",
      " 57%|█████▋    | 352/616 [01:24<00:52,  5.00it/s]Some non-default generation parameters are set in the model config. These should go into a GenerationConfig file (https://huggingface.co/docs/transformers/generation_strategies#save-a-custom-decoding-strategy-with-your-model) instead. This warning will be raised to an exception in v4.41.\n",
      "Non-default generation parameters: {'early_stopping': True, 'num_beams': 4, 'no_repeat_ngram_size': 3, 'forced_bos_token_id': 0, 'forced_eos_token_id': 2}\n"
     ]
    },
    {
     "name": "stdout",
     "output_type": "stream",
     "text": [
      "{'eval_loss': 1.0422825813293457, 'eval_runtime': 1.2989, 'eval_samples_per_second': 133.961, 'eval_steps_per_second': 16.938, 'epoch': 4.0}\n"
     ]
    },
    {
     "name": "stderr",
     "output_type": "stream",
     "text": [
      " 71%|███████▏  | 439/616 [01:45<00:35,  4.98it/s]\n",
      " 71%|███████▏  | 440/616 [01:46<00:35,  4.98it/s]Some non-default generation parameters are set in the model config. These should go into a GenerationConfig file (https://huggingface.co/docs/transformers/generation_strategies#save-a-custom-decoding-strategy-with-your-model) instead. This warning will be raised to an exception in v4.41.\n",
      "Non-default generation parameters: {'early_stopping': True, 'num_beams': 4, 'no_repeat_ngram_size': 3, 'forced_bos_token_id': 0, 'forced_eos_token_id': 2}\n"
     ]
    },
    {
     "name": "stdout",
     "output_type": "stream",
     "text": [
      "{'eval_loss': 1.069538950920105, 'eval_runtime': 1.2938, 'eval_samples_per_second': 134.491, 'eval_steps_per_second': 17.005, 'epoch': 5.0}\n"
     ]
    },
    {
     "name": "stderr",
     "output_type": "stream",
     "text": [
      " 81%|████████▏ | 501/616 [02:02<00:23,  4.97it/s]"
     ]
    },
    {
     "name": "stdout",
     "output_type": "stream",
     "text": [
      "{'loss': 1.4704, 'grad_norm': 1.8068394660949707, 'learning_rate': 9.415584415584416e-06, 'epoch': 5.68}\n"
     ]
    },
    {
     "name": "stderr",
     "output_type": "stream",
     "text": [
      " 86%|████████▌ | 527/616 [02:07<00:17,  5.01it/s]\n",
      " 86%|████████▌ | 528/616 [02:08<00:17,  5.01it/s]Some non-default generation parameters are set in the model config. These should go into a GenerationConfig file (https://huggingface.co/docs/transformers/generation_strategies#save-a-custom-decoding-strategy-with-your-model) instead. This warning will be raised to an exception in v4.41.\n",
      "Non-default generation parameters: {'early_stopping': True, 'num_beams': 4, 'no_repeat_ngram_size': 3, 'forced_bos_token_id': 0, 'forced_eos_token_id': 2}\n"
     ]
    },
    {
     "name": "stdout",
     "output_type": "stream",
     "text": [
      "{'eval_loss': 1.093504548072815, 'eval_runtime': 1.2956, 'eval_samples_per_second': 134.299, 'eval_steps_per_second': 16.98, 'epoch': 6.0}\n"
     ]
    },
    {
     "name": "stderr",
     "output_type": "stream",
     "text": [
      "100%|█████████▉| 615/616 [02:29<00:00,  5.01it/s]\n",
      "100%|██████████| 616/616 [02:30<00:00,  5.01it/s]Some non-default generation parameters are set in the model config. These should go into a GenerationConfig file (https://huggingface.co/docs/transformers/generation_strategies#save-a-custom-decoding-strategy-with-your-model) instead. This warning will be raised to an exception in v4.41.\n",
      "Non-default generation parameters: {'early_stopping': True, 'num_beams': 4, 'no_repeat_ngram_size': 3, 'forced_bos_token_id': 0, 'forced_eos_token_id': 2}\n"
     ]
    },
    {
     "name": "stdout",
     "output_type": "stream",
     "text": [
      "{'eval_loss': 1.1005114316940308, 'eval_runtime': 1.2943, 'eval_samples_per_second': 134.435, 'eval_steps_per_second': 16.998, 'epoch': 7.0}\n"
     ]
    },
    {
     "name": "stderr",
     "output_type": "stream",
     "text": [
      "100%|██████████| 616/616 [02:33<00:00,  4.01it/s]\n"
     ]
    },
    {
     "name": "stdout",
     "output_type": "stream",
     "text": [
      "{'train_runtime': 153.6945, 'train_samples_per_second': 31.745, 'train_steps_per_second': 4.008, 'train_loss': 1.2910176623951306, 'epoch': 7.0}\n"
     ]
    },
    {
     "name": "stderr",
     "output_type": "stream",
     "text": [
      "100%|██████████| 22/22 [00:01<00:00, 16.81it/s]\n"
     ]
    },
    {
     "name": "stdout",
     "output_type": "stream",
     "text": [
      "{'eval_loss': 1.1005114316940308, 'eval_runtime': 1.3794, 'eval_samples_per_second': 126.142, 'eval_steps_per_second': 15.949, 'epoch': 7.0}\n",
      "Training results for Num Of Epochs 7\n",
      "{'eval_loss': 1.1005114316940308, 'eval_runtime': 1.3794, 'eval_samples_per_second': 126.142, 'eval_steps_per_second': 15.949, 'epoch': 7.0}\n"
     ]
    },
    {
     "name": "stderr",
     "output_type": "stream",
     "text": [
      "Map: 100%|██████████| 697/697 [00:02<00:00, 274.02 examples/s]\n",
      "Map: 100%|██████████| 174/174 [00:00<00:00, 237.11 examples/s]\n",
      " 12%|█▎        | 88/704 [00:17<02:00,  5.10it/s]\n",
      " 12%|█▎        | 88/704 [00:19<02:00,  5.10it/s]Some non-default generation parameters are set in the model config. These should go into a GenerationConfig file (https://huggingface.co/docs/transformers/generation_strategies#save-a-custom-decoding-strategy-with-your-model) instead. This warning will be raised to an exception in v4.41.\n",
      "Non-default generation parameters: {'early_stopping': True, 'num_beams': 4, 'no_repeat_ngram_size': 3, 'forced_bos_token_id': 0, 'forced_eos_token_id': 2}\n"
     ]
    },
    {
     "name": "stdout",
     "output_type": "stream",
     "text": [
      "{'eval_loss': 1.2449432611465454, 'eval_runtime': 1.3283, 'eval_samples_per_second': 130.995, 'eval_steps_per_second': 16.563, 'epoch': 1.0}\n"
     ]
    },
    {
     "name": "stderr",
     "output_type": "stream",
     "text": [
      " 25%|██▍       | 175/704 [00:39<01:45,  5.00it/s]\n",
      " 25%|██▌       | 176/704 [00:40<01:45,  5.00it/s]Some non-default generation parameters are set in the model config. These should go into a GenerationConfig file (https://huggingface.co/docs/transformers/generation_strategies#save-a-custom-decoding-strategy-with-your-model) instead. This warning will be raised to an exception in v4.41.\n",
      "Non-default generation parameters: {'early_stopping': True, 'num_beams': 4, 'no_repeat_ngram_size': 3, 'forced_bos_token_id': 0, 'forced_eos_token_id': 2}\n"
     ]
    },
    {
     "name": "stdout",
     "output_type": "stream",
     "text": [
      "{'eval_loss': 1.0630546808242798, 'eval_runtime': 1.2947, 'eval_samples_per_second': 134.398, 'eval_steps_per_second': 16.993, 'epoch': 2.0}\n"
     ]
    },
    {
     "name": "stderr",
     "output_type": "stream",
     "text": [
      " 37%|███▋      | 263/704 [01:01<01:28,  4.98it/s]\n",
      " 38%|███▊      | 264/704 [01:02<01:28,  4.98it/s]Some non-default generation parameters are set in the model config. These should go into a GenerationConfig file (https://huggingface.co/docs/transformers/generation_strategies#save-a-custom-decoding-strategy-with-your-model) instead. This warning will be raised to an exception in v4.41.\n",
      "Non-default generation parameters: {'early_stopping': True, 'num_beams': 4, 'no_repeat_ngram_size': 3, 'forced_bos_token_id': 0, 'forced_eos_token_id': 2}\n"
     ]
    },
    {
     "name": "stdout",
     "output_type": "stream",
     "text": [
      "{'eval_loss': 1.0491232872009277, 'eval_runtime': 1.298, 'eval_samples_per_second': 134.055, 'eval_steps_per_second': 16.949, 'epoch': 3.0}\n"
     ]
    },
    {
     "name": "stderr",
     "output_type": "stream",
     "text": [
      " 50%|████▉     | 351/704 [01:23<01:10,  5.00it/s]\n",
      " 50%|█████     | 352/704 [01:24<01:10,  5.00it/s]Some non-default generation parameters are set in the model config. These should go into a GenerationConfig file (https://huggingface.co/docs/transformers/generation_strategies#save-a-custom-decoding-strategy-with-your-model) instead. This warning will be raised to an exception in v4.41.\n",
      "Non-default generation parameters: {'early_stopping': True, 'num_beams': 4, 'no_repeat_ngram_size': 3, 'forced_bos_token_id': 0, 'forced_eos_token_id': 2}\n"
     ]
    },
    {
     "name": "stdout",
     "output_type": "stream",
     "text": [
      "{'eval_loss': 1.0618176460266113, 'eval_runtime': 1.2996, 'eval_samples_per_second': 133.882, 'eval_steps_per_second': 16.928, 'epoch': 4.0}\n"
     ]
    },
    {
     "name": "stderr",
     "output_type": "stream",
     "text": [
      " 62%|██████▏   | 439/704 [01:45<00:52,  5.00it/s]\n",
      " 62%|██████▎   | 440/704 [01:46<00:52,  5.00it/s]Some non-default generation parameters are set in the model config. These should go into a GenerationConfig file (https://huggingface.co/docs/transformers/generation_strategies#save-a-custom-decoding-strategy-with-your-model) instead. This warning will be raised to an exception in v4.41.\n",
      "Non-default generation parameters: {'early_stopping': True, 'num_beams': 4, 'no_repeat_ngram_size': 3, 'forced_bos_token_id': 0, 'forced_eos_token_id': 2}\n"
     ]
    },
    {
     "name": "stdout",
     "output_type": "stream",
     "text": [
      "{'eval_loss': 1.083153486251831, 'eval_runtime': 1.2984, 'eval_samples_per_second': 134.01, 'eval_steps_per_second': 16.944, 'epoch': 5.0}\n"
     ]
    },
    {
     "name": "stderr",
     "output_type": "stream",
     "text": [
      " 71%|███████   | 501/704 [02:02<00:40,  4.99it/s]"
     ]
    },
    {
     "name": "stdout",
     "output_type": "stream",
     "text": [
      "{'loss': 1.4797, 'grad_norm': 1.7612028121948242, 'learning_rate': 1.4488636363636366e-05, 'epoch': 5.68}\n"
     ]
    },
    {
     "name": "stderr",
     "output_type": "stream",
     "text": [
      " 75%|███████▍  | 527/704 [02:07<00:35,  4.98it/s]\n",
      " 75%|███████▌  | 528/704 [02:08<00:35,  4.98it/s]Some non-default generation parameters are set in the model config. These should go into a GenerationConfig file (https://huggingface.co/docs/transformers/generation_strategies#save-a-custom-decoding-strategy-with-your-model) instead. This warning will be raised to an exception in v4.41.\n",
      "Non-default generation parameters: {'early_stopping': True, 'num_beams': 4, 'no_repeat_ngram_size': 3, 'forced_bos_token_id': 0, 'forced_eos_token_id': 2}\n"
     ]
    },
    {
     "name": "stdout",
     "output_type": "stream",
     "text": [
      "{'eval_loss': 1.1039398908615112, 'eval_runtime': 1.2971, 'eval_samples_per_second': 134.149, 'eval_steps_per_second': 16.961, 'epoch': 6.0}\n"
     ]
    },
    {
     "name": "stderr",
     "output_type": "stream",
     "text": [
      " 87%|████████▋ | 615/704 [02:29<00:17,  4.95it/s]\n",
      " 88%|████████▊ | 616/704 [02:31<00:17,  4.95it/s]Some non-default generation parameters are set in the model config. These should go into a GenerationConfig file (https://huggingface.co/docs/transformers/generation_strategies#save-a-custom-decoding-strategy-with-your-model) instead. This warning will be raised to an exception in v4.41.\n",
      "Non-default generation parameters: {'early_stopping': True, 'num_beams': 4, 'no_repeat_ngram_size': 3, 'forced_bos_token_id': 0, 'forced_eos_token_id': 2}\n"
     ]
    },
    {
     "name": "stdout",
     "output_type": "stream",
     "text": [
      "{'eval_loss': 1.1217098236083984, 'eval_runtime': 1.3089, 'eval_samples_per_second': 132.937, 'eval_steps_per_second': 16.808, 'epoch': 7.0}\n"
     ]
    },
    {
     "name": "stderr",
     "output_type": "stream",
     "text": [
      "100%|█████████▉| 703/704 [02:51<00:00,  5.05it/s]\n",
      "100%|██████████| 704/704 [02:53<00:00,  5.05it/s]Some non-default generation parameters are set in the model config. These should go into a GenerationConfig file (https://huggingface.co/docs/transformers/generation_strategies#save-a-custom-decoding-strategy-with-your-model) instead. This warning will be raised to an exception in v4.41.\n",
      "Non-default generation parameters: {'early_stopping': True, 'num_beams': 4, 'no_repeat_ngram_size': 3, 'forced_bos_token_id': 0, 'forced_eos_token_id': 2}\n"
     ]
    },
    {
     "name": "stdout",
     "output_type": "stream",
     "text": [
      "{'eval_loss': 1.1402466297149658, 'eval_runtime': 1.2811, 'eval_samples_per_second': 135.824, 'eval_steps_per_second': 17.173, 'epoch': 8.0}\n"
     ]
    },
    {
     "name": "stderr",
     "output_type": "stream",
     "text": [
      "100%|██████████| 704/704 [02:56<00:00,  4.00it/s]\n"
     ]
    },
    {
     "name": "stdout",
     "output_type": "stream",
     "text": [
      "{'train_runtime': 176.0835, 'train_samples_per_second': 31.667, 'train_steps_per_second': 3.998, 'train_loss': 1.193372748114846, 'epoch': 8.0}\n"
     ]
    },
    {
     "name": "stderr",
     "output_type": "stream",
     "text": [
      "100%|██████████| 22/22 [00:01<00:00, 16.30it/s]\n"
     ]
    },
    {
     "name": "stdout",
     "output_type": "stream",
     "text": [
      "{'eval_loss': 1.1402466297149658, 'eval_runtime': 1.4216, 'eval_samples_per_second': 122.399, 'eval_steps_per_second': 15.476, 'epoch': 8.0}\n",
      "Training results for Num Of Epochs 8\n",
      "{'eval_loss': 1.1402466297149658, 'eval_runtime': 1.4216, 'eval_samples_per_second': 122.399, 'eval_steps_per_second': 15.476, 'epoch': 8.0}\n"
     ]
    },
    {
     "name": "stderr",
     "output_type": "stream",
     "text": [
      "Map: 100%|██████████| 697/697 [00:02<00:00, 269.05 examples/s]\n",
      "Map: 100%|██████████| 174/174 [00:00<00:00, 237.43 examples/s]\n",
      " 11%|█         | 88/792 [00:17<01:59,  5.87it/s]\n",
      " 11%|█         | 88/792 [00:18<01:59,  5.87it/s]Some non-default generation parameters are set in the model config. These should go into a GenerationConfig file (https://huggingface.co/docs/transformers/generation_strategies#save-a-custom-decoding-strategy-with-your-model) instead. This warning will be raised to an exception in v4.41.\n",
      "Non-default generation parameters: {'early_stopping': True, 'num_beams': 4, 'no_repeat_ngram_size': 3, 'forced_bos_token_id': 0, 'forced_eos_token_id': 2}\n"
     ]
    },
    {
     "name": "stdout",
     "output_type": "stream",
     "text": [
      "{'eval_loss': 1.2673497200012207, 'eval_runtime': 1.308, 'eval_samples_per_second': 133.028, 'eval_steps_per_second': 16.82, 'epoch': 1.0}\n"
     ]
    },
    {
     "name": "stderr",
     "output_type": "stream",
     "text": [
      " 22%|██▏       | 175/792 [00:39<02:02,  5.05it/s]\n",
      " 22%|██▏       | 176/792 [00:40<02:02,  5.05it/s]Some non-default generation parameters are set in the model config. These should go into a GenerationConfig file (https://huggingface.co/docs/transformers/generation_strategies#save-a-custom-decoding-strategy-with-your-model) instead. This warning will be raised to an exception in v4.41.\n",
      "Non-default generation parameters: {'early_stopping': True, 'num_beams': 4, 'no_repeat_ngram_size': 3, 'forced_bos_token_id': 0, 'forced_eos_token_id': 2}\n"
     ]
    },
    {
     "name": "stdout",
     "output_type": "stream",
     "text": [
      "{'eval_loss': 1.069916844367981, 'eval_runtime': 1.279, 'eval_samples_per_second': 136.039, 'eval_steps_per_second': 17.2, 'epoch': 2.0}\n"
     ]
    },
    {
     "name": "stderr",
     "output_type": "stream",
     "text": [
      " 33%|███▎      | 263/792 [01:00<01:44,  5.07it/s]\n",
      " 33%|███▎      | 264/792 [01:02<01:44,  5.07it/s]Some non-default generation parameters are set in the model config. These should go into a GenerationConfig file (https://huggingface.co/docs/transformers/generation_strategies#save-a-custom-decoding-strategy-with-your-model) instead. This warning will be raised to an exception in v4.41.\n",
      "Non-default generation parameters: {'early_stopping': True, 'num_beams': 4, 'no_repeat_ngram_size': 3, 'forced_bos_token_id': 0, 'forced_eos_token_id': 2}\n"
     ]
    },
    {
     "name": "stdout",
     "output_type": "stream",
     "text": [
      "{'eval_loss': 1.0437568426132202, 'eval_runtime': 1.2815, 'eval_samples_per_second': 135.777, 'eval_steps_per_second': 17.167, 'epoch': 3.0}\n"
     ]
    },
    {
     "name": "stderr",
     "output_type": "stream",
     "text": [
      " 44%|████▍     | 351/792 [01:22<01:27,  5.04it/s]\n",
      " 44%|████▍     | 352/792 [01:24<01:27,  5.04it/s]Some non-default generation parameters are set in the model config. These should go into a GenerationConfig file (https://huggingface.co/docs/transformers/generation_strategies#save-a-custom-decoding-strategy-with-your-model) instead. This warning will be raised to an exception in v4.41.\n",
      "Non-default generation parameters: {'early_stopping': True, 'num_beams': 4, 'no_repeat_ngram_size': 3, 'forced_bos_token_id': 0, 'forced_eos_token_id': 2}\n"
     ]
    },
    {
     "name": "stdout",
     "output_type": "stream",
     "text": [
      "{'eval_loss': 1.0434296131134033, 'eval_runtime': 1.2768, 'eval_samples_per_second': 136.28, 'eval_steps_per_second': 17.231, 'epoch': 4.0}\n"
     ]
    },
    {
     "name": "stderr",
     "output_type": "stream",
     "text": [
      " 55%|█████▌    | 439/792 [01:44<01:10,  4.99it/s]\n",
      " 56%|█████▌    | 440/792 [01:46<01:10,  4.99it/s]Some non-default generation parameters are set in the model config. These should go into a GenerationConfig file (https://huggingface.co/docs/transformers/generation_strategies#save-a-custom-decoding-strategy-with-your-model) instead. This warning will be raised to an exception in v4.41.\n",
      "Non-default generation parameters: {'early_stopping': True, 'num_beams': 4, 'no_repeat_ngram_size': 3, 'forced_bos_token_id': 0, 'forced_eos_token_id': 2}\n"
     ]
    },
    {
     "name": "stdout",
     "output_type": "stream",
     "text": [
      "{'eval_loss': 1.0857917070388794, 'eval_runtime': 1.2939, 'eval_samples_per_second': 134.481, 'eval_steps_per_second': 17.003, 'epoch': 5.0}\n"
     ]
    },
    {
     "name": "stderr",
     "output_type": "stream",
     "text": [
      " 63%|██████▎   | 501/792 [02:01<00:58,  4.97it/s]"
     ]
    },
    {
     "name": "stdout",
     "output_type": "stream",
     "text": [
      "{'loss': 1.4556, 'grad_norm': 1.7101519107818604, 'learning_rate': 1.8434343434343433e-05, 'epoch': 5.68}\n"
     ]
    },
    {
     "name": "stderr",
     "output_type": "stream",
     "text": [
      " 67%|██████▋   | 527/792 [02:06<00:53,  4.98it/s]\n",
      " 67%|██████▋   | 528/792 [02:08<00:53,  4.98it/s]Some non-default generation parameters are set in the model config. These should go into a GenerationConfig file (https://huggingface.co/docs/transformers/generation_strategies#save-a-custom-decoding-strategy-with-your-model) instead. This warning will be raised to an exception in v4.41.\n",
      "Non-default generation parameters: {'early_stopping': True, 'num_beams': 4, 'no_repeat_ngram_size': 3, 'forced_bos_token_id': 0, 'forced_eos_token_id': 2}\n"
     ]
    },
    {
     "name": "stdout",
     "output_type": "stream",
     "text": [
      "{'eval_loss': 1.1173882484436035, 'eval_runtime': 1.2925, 'eval_samples_per_second': 134.624, 'eval_steps_per_second': 17.021, 'epoch': 6.0}\n"
     ]
    },
    {
     "name": "stderr",
     "output_type": "stream",
     "text": [
      " 78%|███████▊  | 615/792 [02:28<00:34,  5.06it/s]\n",
      " 78%|███████▊  | 616/792 [02:29<00:34,  5.06it/s]Some non-default generation parameters are set in the model config. These should go into a GenerationConfig file (https://huggingface.co/docs/transformers/generation_strategies#save-a-custom-decoding-strategy-with-your-model) instead. This warning will be raised to an exception in v4.41.\n",
      "Non-default generation parameters: {'early_stopping': True, 'num_beams': 4, 'no_repeat_ngram_size': 3, 'forced_bos_token_id': 0, 'forced_eos_token_id': 2}\n"
     ]
    },
    {
     "name": "stdout",
     "output_type": "stream",
     "text": [
      "{'eval_loss': 1.1460435390472412, 'eval_runtime': 1.28, 'eval_samples_per_second': 135.942, 'eval_steps_per_second': 17.188, 'epoch': 7.0}\n"
     ]
    },
    {
     "name": "stderr",
     "output_type": "stream",
     "text": [
      " 89%|████████▉ | 703/792 [02:50<00:17,  4.96it/s]\n",
      " 89%|████████▉ | 704/792 [02:51<00:17,  4.96it/s]Some non-default generation parameters are set in the model config. These should go into a GenerationConfig file (https://huggingface.co/docs/transformers/generation_strategies#save-a-custom-decoding-strategy-with-your-model) instead. This warning will be raised to an exception in v4.41.\n",
      "Non-default generation parameters: {'early_stopping': True, 'num_beams': 4, 'no_repeat_ngram_size': 3, 'forced_bos_token_id': 0, 'forced_eos_token_id': 2}\n"
     ]
    },
    {
     "name": "stdout",
     "output_type": "stream",
     "text": [
      "{'eval_loss': 1.1820591688156128, 'eval_runtime': 1.2881, 'eval_samples_per_second': 135.083, 'eval_steps_per_second': 17.079, 'epoch': 8.0}\n"
     ]
    },
    {
     "name": "stderr",
     "output_type": "stream",
     "text": [
      "100%|█████████▉| 791/792 [03:12<00:00,  5.05it/s]\n",
      "100%|██████████| 792/792 [03:13<00:00,  5.05it/s]Some non-default generation parameters are set in the model config. These should go into a GenerationConfig file (https://huggingface.co/docs/transformers/generation_strategies#save-a-custom-decoding-strategy-with-your-model) instead. This warning will be raised to an exception in v4.41.\n",
      "Non-default generation parameters: {'early_stopping': True, 'num_beams': 4, 'no_repeat_ngram_size': 3, 'forced_bos_token_id': 0, 'forced_eos_token_id': 2}\n"
     ]
    },
    {
     "name": "stdout",
     "output_type": "stream",
     "text": [
      "{'eval_loss': 1.1925865411758423, 'eval_runtime': 1.2844, 'eval_samples_per_second': 135.473, 'eval_steps_per_second': 17.129, 'epoch': 9.0}\n"
     ]
    },
    {
     "name": "stderr",
     "output_type": "stream",
     "text": [
      "100%|██████████| 792/792 [03:16<00:00,  4.02it/s]\n"
     ]
    },
    {
     "name": "stdout",
     "output_type": "stream",
     "text": [
      "{'train_runtime': 196.7876, 'train_samples_per_second': 31.877, 'train_steps_per_second': 4.025, 'train_loss': 1.0788176758120758, 'epoch': 9.0}\n"
     ]
    },
    {
     "name": "stderr",
     "output_type": "stream",
     "text": [
      "100%|██████████| 22/22 [00:01<00:00, 16.30it/s]\n"
     ]
    },
    {
     "name": "stdout",
     "output_type": "stream",
     "text": [
      "{'eval_loss': 1.1925865411758423, 'eval_runtime': 1.4219, 'eval_samples_per_second': 122.369, 'eval_steps_per_second': 15.472, 'epoch': 9.0}\n",
      "Training results for Num Of Epochs 9\n",
      "{'eval_loss': 1.1925865411758423, 'eval_runtime': 1.4219, 'eval_samples_per_second': 122.369, 'eval_steps_per_second': 15.472, 'epoch': 9.0}\n"
     ]
    },
    {
     "name": "stderr",
     "output_type": "stream",
     "text": [
      "Map: 100%|██████████| 697/697 [00:02<00:00, 267.81 examples/s]\n",
      "Map: 100%|██████████| 174/174 [00:00<00:00, 236.60 examples/s]\n",
      " 10%|█         | 88/880 [00:17<02:15,  5.87it/s]\n",
      " 10%|█         | 88/880 [00:18<02:15,  5.87it/s]Some non-default generation parameters are set in the model config. These should go into a GenerationConfig file (https://huggingface.co/docs/transformers/generation_strategies#save-a-custom-decoding-strategy-with-your-model) instead. This warning will be raised to an exception in v4.41.\n",
      "Non-default generation parameters: {'early_stopping': True, 'num_beams': 4, 'no_repeat_ngram_size': 3, 'forced_bos_token_id': 0, 'forced_eos_token_id': 2}\n"
     ]
    },
    {
     "name": "stdout",
     "output_type": "stream",
     "text": [
      "{'eval_loss': 1.2949165105819702, 'eval_runtime': 1.3091, 'eval_samples_per_second': 132.916, 'eval_steps_per_second': 16.806, 'epoch': 1.0}\n"
     ]
    },
    {
     "name": "stderr",
     "output_type": "stream",
     "text": [
      " 20%|█▉        | 175/880 [00:39<02:19,  5.06it/s]\n",
      " 20%|██        | 176/880 [00:40<02:19,  5.06it/s]Some non-default generation parameters are set in the model config. These should go into a GenerationConfig file (https://huggingface.co/docs/transformers/generation_strategies#save-a-custom-decoding-strategy-with-your-model) instead. This warning will be raised to an exception in v4.41.\n",
      "Non-default generation parameters: {'early_stopping': True, 'num_beams': 4, 'no_repeat_ngram_size': 3, 'forced_bos_token_id': 0, 'forced_eos_token_id': 2}\n"
     ]
    },
    {
     "name": "stdout",
     "output_type": "stream",
     "text": [
      "{'eval_loss': 1.08240807056427, 'eval_runtime': 1.2798, 'eval_samples_per_second': 135.958, 'eval_steps_per_second': 17.19, 'epoch': 2.0}\n"
     ]
    },
    {
     "name": "stderr",
     "output_type": "stream",
     "text": [
      " 30%|██▉       | 263/880 [01:01<02:02,  5.03it/s]\n",
      " 30%|███       | 264/880 [01:02<02:02,  5.03it/s]Some non-default generation parameters are set in the model config. These should go into a GenerationConfig file (https://huggingface.co/docs/transformers/generation_strategies#save-a-custom-decoding-strategy-with-your-model) instead. This warning will be raised to an exception in v4.41.\n",
      "Non-default generation parameters: {'early_stopping': True, 'num_beams': 4, 'no_repeat_ngram_size': 3, 'forced_bos_token_id': 0, 'forced_eos_token_id': 2}\n"
     ]
    },
    {
     "name": "stdout",
     "output_type": "stream",
     "text": [
      "{'eval_loss': 1.0501078367233276, 'eval_runtime': 1.2847, 'eval_samples_per_second': 135.441, 'eval_steps_per_second': 17.125, 'epoch': 3.0}\n"
     ]
    },
    {
     "name": "stderr",
     "output_type": "stream",
     "text": [
      " 40%|███▉      | 351/880 [01:23<01:44,  5.04it/s]\n",
      " 40%|████      | 352/880 [01:24<01:44,  5.04it/s]Some non-default generation parameters are set in the model config. These should go into a GenerationConfig file (https://huggingface.co/docs/transformers/generation_strategies#save-a-custom-decoding-strategy-with-your-model) instead. This warning will be raised to an exception in v4.41.\n",
      "Non-default generation parameters: {'early_stopping': True, 'num_beams': 4, 'no_repeat_ngram_size': 3, 'forced_bos_token_id': 0, 'forced_eos_token_id': 2}\n"
     ]
    },
    {
     "name": "stdout",
     "output_type": "stream",
     "text": [
      "{'eval_loss': 1.0431541204452515, 'eval_runtime': 1.2891, 'eval_samples_per_second': 134.978, 'eval_steps_per_second': 17.066, 'epoch': 4.0}\n"
     ]
    },
    {
     "name": "stderr",
     "output_type": "stream",
     "text": [
      " 50%|████▉     | 439/880 [01:44<01:28,  5.00it/s]\n",
      " 50%|█████     | 440/880 [01:46<01:27,  5.00it/s]Some non-default generation parameters are set in the model config. These should go into a GenerationConfig file (https://huggingface.co/docs/transformers/generation_strategies#save-a-custom-decoding-strategy-with-your-model) instead. This warning will be raised to an exception in v4.41.\n",
      "Non-default generation parameters: {'early_stopping': True, 'num_beams': 4, 'no_repeat_ngram_size': 3, 'forced_bos_token_id': 0, 'forced_eos_token_id': 2}\n"
     ]
    },
    {
     "name": "stdout",
     "output_type": "stream",
     "text": [
      "{'eval_loss': 1.0991718769073486, 'eval_runtime': 1.2802, 'eval_samples_per_second': 135.912, 'eval_steps_per_second': 17.184, 'epoch': 5.0}\n"
     ]
    },
    {
     "name": "stderr",
     "output_type": "stream",
     "text": [
      " 57%|█████▋    | 501/880 [02:01<01:15,  4.99it/s]"
     ]
    },
    {
     "name": "stdout",
     "output_type": "stream",
     "text": [
      "{'loss': 1.5592, 'grad_norm': 2.1307668685913086, 'learning_rate': 2.1590909090909093e-05, 'epoch': 5.68}\n"
     ]
    },
    {
     "name": "stderr",
     "output_type": "stream",
     "text": [
      " 60%|█████▉    | 527/880 [02:06<01:12,  4.90it/s]\n",
      " 60%|██████    | 528/880 [02:08<01:11,  4.90it/s]Some non-default generation parameters are set in the model config. These should go into a GenerationConfig file (https://huggingface.co/docs/transformers/generation_strategies#save-a-custom-decoding-strategy-with-your-model) instead. This warning will be raised to an exception in v4.41.\n",
      "Non-default generation parameters: {'early_stopping': True, 'num_beams': 4, 'no_repeat_ngram_size': 3, 'forced_bos_token_id': 0, 'forced_eos_token_id': 2}\n"
     ]
    },
    {
     "name": "stdout",
     "output_type": "stream",
     "text": [
      "{'eval_loss': 1.1098994016647339, 'eval_runtime': 1.2899, 'eval_samples_per_second': 134.893, 'eval_steps_per_second': 17.055, 'epoch': 6.0}\n"
     ]
    },
    {
     "name": "stderr",
     "output_type": "stream",
     "text": [
      " 70%|██████▉   | 615/880 [02:28<00:52,  5.06it/s]\n",
      " 70%|███████   | 616/880 [02:30<00:52,  5.06it/s]Some non-default generation parameters are set in the model config. These should go into a GenerationConfig file (https://huggingface.co/docs/transformers/generation_strategies#save-a-custom-decoding-strategy-with-your-model) instead. This warning will be raised to an exception in v4.41.\n",
      "Non-default generation parameters: {'early_stopping': True, 'num_beams': 4, 'no_repeat_ngram_size': 3, 'forced_bos_token_id': 0, 'forced_eos_token_id': 2}\n"
     ]
    },
    {
     "name": "stdout",
     "output_type": "stream",
     "text": [
      "{'eval_loss': 1.1536558866500854, 'eval_runtime': 1.2903, 'eval_samples_per_second': 134.849, 'eval_steps_per_second': 17.05, 'epoch': 7.0}\n"
     ]
    },
    {
     "name": "stderr",
     "output_type": "stream",
     "text": [
      " 80%|███████▉  | 703/880 [02:50<00:35,  5.04it/s]\n",
      " 80%|████████  | 704/880 [02:52<00:34,  5.04it/s]Some non-default generation parameters are set in the model config. These should go into a GenerationConfig file (https://huggingface.co/docs/transformers/generation_strategies#save-a-custom-decoding-strategy-with-your-model) instead. This warning will be raised to an exception in v4.41.\n",
      "Non-default generation parameters: {'early_stopping': True, 'num_beams': 4, 'no_repeat_ngram_size': 3, 'forced_bos_token_id': 0, 'forced_eos_token_id': 2}\n"
     ]
    },
    {
     "name": "stdout",
     "output_type": "stream",
     "text": [
      "{'eval_loss': 1.1932564973831177, 'eval_runtime': 1.2844, 'eval_samples_per_second': 135.473, 'eval_steps_per_second': 17.129, 'epoch': 8.0}\n"
     ]
    },
    {
     "name": "stderr",
     "output_type": "stream",
     "text": [
      " 90%|████████▉ | 791/880 [03:12<00:17,  5.04it/s]\n",
      " 90%|█████████ | 792/880 [03:13<00:17,  5.04it/s]Some non-default generation parameters are set in the model config. These should go into a GenerationConfig file (https://huggingface.co/docs/transformers/generation_strategies#save-a-custom-decoding-strategy-with-your-model) instead. This warning will be raised to an exception in v4.41.\n",
      "Non-default generation parameters: {'early_stopping': True, 'num_beams': 4, 'no_repeat_ngram_size': 3, 'forced_bos_token_id': 0, 'forced_eos_token_id': 2}\n"
     ]
    },
    {
     "name": "stdout",
     "output_type": "stream",
     "text": [
      "{'eval_loss': 1.2028428316116333, 'eval_runtime': 1.2963, 'eval_samples_per_second': 134.229, 'eval_steps_per_second': 16.971, 'epoch': 9.0}\n"
     ]
    },
    {
     "name": "stderr",
     "output_type": "stream",
     "text": [
      "100%|█████████▉| 879/880 [03:34<00:00,  5.03it/s]\n",
      "100%|██████████| 880/880 [03:35<00:00,  5.03it/s]Some non-default generation parameters are set in the model config. These should go into a GenerationConfig file (https://huggingface.co/docs/transformers/generation_strategies#save-a-custom-decoding-strategy-with-your-model) instead. This warning will be raised to an exception in v4.41.\n",
      "Non-default generation parameters: {'early_stopping': True, 'num_beams': 4, 'no_repeat_ngram_size': 3, 'forced_bos_token_id': 0, 'forced_eos_token_id': 2}\n"
     ]
    },
    {
     "name": "stdout",
     "output_type": "stream",
     "text": [
      "{'eval_loss': 1.235280156135559, 'eval_runtime': 1.2839, 'eval_samples_per_second': 135.526, 'eval_steps_per_second': 17.135, 'epoch': 10.0}\n"
     ]
    },
    {
     "name": "stderr",
     "output_type": "stream",
     "text": [
      "100%|██████████| 880/880 [03:38<00:00,  4.03it/s]\n"
     ]
    },
    {
     "name": "stdout",
     "output_type": "stream",
     "text": [
      "{'train_runtime': 218.5954, 'train_samples_per_second': 31.885, 'train_steps_per_second': 4.026, 'train_loss': 1.0656627481633967, 'epoch': 10.0}\n"
     ]
    },
    {
     "name": "stderr",
     "output_type": "stream",
     "text": [
      "100%|██████████| 22/22 [00:01<00:00, 17.04it/s]"
     ]
    },
    {
     "name": "stdout",
     "output_type": "stream",
     "text": [
      "{'eval_loss': 1.235280156135559, 'eval_runtime': 1.3634, 'eval_samples_per_second': 127.62, 'eval_steps_per_second': 16.136, 'epoch': 10.0}\n",
      "Training results for Num Of Epochs 10\n",
      "{'eval_loss': 1.235280156135559, 'eval_runtime': 1.3634, 'eval_samples_per_second': 127.62, 'eval_steps_per_second': 16.136, 'epoch': 10.0}\n",
      "[{'eval_loss': 3.16508412361145, 'eval_runtime': 1.4104, 'eval_samples_per_second': 123.365, 'eval_steps_per_second': 15.598, 'epoch': 1.0}, {'eval_loss': 1.086682915687561, 'eval_runtime': 1.4392, 'eval_samples_per_second': 120.899, 'eval_steps_per_second': 15.286, 'epoch': 2.0}, {'eval_loss': 1.0024207830429077, 'eval_runtime': 1.404, 'eval_samples_per_second': 123.932, 'eval_steps_per_second': 15.67, 'epoch': 3.0}, {'eval_loss': 1.0166796445846558, 'eval_runtime': 1.384, 'eval_samples_per_second': 125.719, 'eval_steps_per_second': 15.895, 'epoch': 4.0}, {'eval_loss': 1.0441032648086548, 'eval_runtime': 1.4172, 'eval_samples_per_second': 122.779, 'eval_steps_per_second': 15.524, 'epoch': 5.0}, {'eval_loss': 1.0628952980041504, 'eval_runtime': 1.3628, 'eval_samples_per_second': 127.68, 'eval_steps_per_second': 16.143, 'epoch': 6.0}, {'eval_loss': 1.1005114316940308, 'eval_runtime': 1.3794, 'eval_samples_per_second': 126.142, 'eval_steps_per_second': 15.949, 'epoch': 7.0}, {'eval_loss': 1.1402466297149658, 'eval_runtime': 1.4216, 'eval_samples_per_second': 122.399, 'eval_steps_per_second': 15.476, 'epoch': 8.0}, {'eval_loss': 1.1925865411758423, 'eval_runtime': 1.4219, 'eval_samples_per_second': 122.369, 'eval_steps_per_second': 15.472, 'epoch': 9.0}, {'eval_loss': 1.235280156135559, 'eval_runtime': 1.3634, 'eval_samples_per_second': 127.62, 'eval_steps_per_second': 16.136, 'epoch': 10.0}]\n"
     ]
    },
    {
     "name": "stderr",
     "output_type": "stream",
     "text": [
      "\n"
     ]
    }
   ],
   "source": [
    "\n",
    "all_metrics = []\n",
    "def tweak_num_epochs(num_train_epochs):\n",
    "  _, _, metrics = train_model(MODEL_NAME, num_train_epochs=num_train_epochs)\n",
    "  print(f\"Training results for Num Of Epochs {num_train_epochs}\")\n",
    "  print(metrics)\n",
    "  all_metrics.append(metrics)\n",
    "\n",
    "for i in range(1, 11):\n",
    "  # Using default learning rate\n",
    "  tweak_num_epochs(num_train_epochs=i)\n",
    "\n",
    "print(all_metrics)"
   ]
  },
  {
   "cell_type": "code",
   "execution_count": 23,
   "metadata": {},
   "outputs": [
    {
     "name": "stdout",
     "output_type": "stream",
     "text": [
      "[3.16508412361145, 1.086682915687561, 1.0024207830429077, 1.0166796445846558, 1.0441032648086548, 1.0628952980041504, 1.1005114316940308, 1.1402466297149658, 1.1925865411758423, 1.235280156135559]\n"
     ]
    },
    {
     "data": {
      "image/png": "[encoded data removed]",
      "text/plain": [
       "<Figure size 640x480 with 1 Axes>"
      ]
     },
     "metadata": {},
     "output_type": "display_data"
    }
   ],
   "source": [
    "# metrics from previous trainings\n",
    "metrics = [{'eval_loss': 3.16508412361145, 'eval_runtime': 1.4104, 'eval_samples_per_second': 123.365, 'eval_steps_per_second': 15.598, 'epoch': 1.0}, {'eval_loss': 1.086682915687561, 'eval_runtime': 1.4392, 'eval_samples_per_second': 120.899, 'eval_steps_per_second': 15.286, 'epoch': 2.0}, {'eval_loss': 1.0024207830429077, 'eval_runtime': 1.404, 'eval_samples_per_second': 123.932, 'eval_steps_per_second': 15.67, 'epoch': 3.0}, {'eval_loss': 1.0166796445846558, 'eval_runtime': 1.384, 'eval_samples_per_second': 125.719, 'eval_steps_per_second': 15.895, 'epoch': 4.0}, {'eval_loss': 1.0441032648086548, 'eval_runtime': 1.4172, 'eval_samples_per_second': 122.779, 'eval_steps_per_second': 15.524, 'epoch': 5.0}, {'eval_loss': 1.0628952980041504, 'eval_runtime': 1.3628, 'eval_samples_per_second': 127.68, 'eval_steps_per_second': 16.143, 'epoch': 6.0}, {'eval_loss': 1.1005114316940308, 'eval_runtime': 1.3794, 'eval_samples_per_second': 126.142, 'eval_steps_per_second': 15.949, 'epoch': 7.0}, {'eval_loss': 1.1402466297149658, 'eval_runtime': 1.4216, 'eval_samples_per_second': 122.399, 'eval_steps_per_second': 15.476, 'epoch': 8.0}, {'eval_loss': 1.1925865411758423, 'eval_runtime': 1.4219, 'eval_samples_per_second': 122.369, 'eval_steps_per_second': 15.472, 'epoch': 9.0}, {'eval_loss': 1.235280156135559, 'eval_runtime': 1.3634, 'eval_samples_per_second': 127.62, 'eval_steps_per_second': 16.136, 'epoch': 10.0}]\n",
    "\n",
    "epochs = range(1, 11)\n",
    "data = [metric['eval_loss'] for metric in metrics]\n",
    "print(data)\n",
    "plt.plot(epochs, data)\n",
    "\n",
    "plt.xlabel('Number of Epochs')\n",
    "plt.ylabel('Eval Loss')\n",
    "plt.title('Eval Loss vs Number of Epochs')\n",
    "plt.grid(True)\n",
    "plt.show()"
   ]
  },
  {
   "cell_type": "markdown",
   "metadata": {},
   "source": [
    "# Learning Rate\n",
    "\n",
    "Next we fix the other hyperparameters and tweak the learning rate"
   ]
  },
  {
   "cell_type": "code",
   "execution_count": 6,
   "metadata": {},
   "outputs": [
    {
     "name": "stderr",
     "output_type": "stream",
     "text": [
      "Map: 100%|██████████| 697/697 [00:02<00:00, 257.82 examples/s]\n",
      "Map: 100%|██████████| 174/174 [00:00<00:00, 211.95 examples/s]\n",
      " 33%|███▎      | 88/264 [00:23<00:39,  4.45it/s]\n",
      " 33%|███▎      | 88/264 [00:24<00:39,  4.45it/s]Some non-default generation parameters are set in the model config. These should go into a GenerationConfig file (https://huggingface.co/docs/transformers/generation_strategies#save-a-custom-decoding-strategy-with-your-model) instead. This warning will be raised to an exception in v4.41.\n",
      "Non-default generation parameters: {'max_length': 62, 'min_length': 11, 'early_stopping': True, 'num_beams': 6, 'no_repeat_ngram_size': 3, 'forced_eos_token_id': 2}\n"
     ]
    },
    {
     "name": "stdout",
     "output_type": "stream",
     "text": [
      "{'eval_loss': 1.8328534364700317, 'eval_runtime': 1.7781, 'eval_samples_per_second': 97.857, 'eval_steps_per_second': 12.373, 'epoch': 1.0}\n"
     ]
    },
    {
     "name": "stderr",
     "output_type": "stream",
     "text": [
      " 67%|██████▋   | 176/264 [00:51<00:19,  4.54it/s]\n",
      " 67%|██████▋   | 176/264 [00:53<00:19,  4.54it/s]Some non-default generation parameters are set in the model config. These should go into a GenerationConfig file (https://huggingface.co/docs/transformers/generation_strategies#save-a-custom-decoding-strategy-with-your-model) instead. This warning will be raised to an exception in v4.41.\n",
      "Non-default generation parameters: {'max_length': 62, 'min_length': 11, 'early_stopping': True, 'num_beams': 6, 'no_repeat_ngram_size': 3, 'forced_eos_token_id': 2}\n"
     ]
    },
    {
     "name": "stdout",
     "output_type": "stream",
     "text": [
      "{'eval_loss': 1.2924892902374268, 'eval_runtime': 1.8893, 'eval_samples_per_second': 92.096, 'eval_steps_per_second': 11.644, 'epoch': 2.0}\n"
     ]
    },
    {
     "name": "stderr",
     "output_type": "stream",
     "text": [
      "100%|██████████| 264/264 [01:20<00:00,  4.53it/s]\n",
      "100%|██████████| 264/264 [01:21<00:00,  4.53it/s]Some non-default generation parameters are set in the model config. These should go into a GenerationConfig file (https://huggingface.co/docs/transformers/generation_strategies#save-a-custom-decoding-strategy-with-your-model) instead. This warning will be raised to an exception in v4.41.\n",
      "Non-default generation parameters: {'max_length': 62, 'min_length': 11, 'early_stopping': True, 'num_beams': 6, 'no_repeat_ngram_size': 3, 'forced_eos_token_id': 2}\n"
     ]
    },
    {
     "name": "stdout",
     "output_type": "stream",
     "text": [
      "{'eval_loss': 1.2324775457382202, 'eval_runtime': 1.7831, 'eval_samples_per_second': 97.581, 'eval_steps_per_second': 12.338, 'epoch': 3.0}\n"
     ]
    },
    {
     "name": "stderr",
     "output_type": "stream",
     "text": [
      "100%|██████████| 264/264 [01:25<00:00,  3.10it/s]\n"
     ]
    },
    {
     "name": "stdout",
     "output_type": "stream",
     "text": [
      "{'train_runtime': 85.243, 'train_samples_per_second': 24.53, 'train_steps_per_second': 3.097, 'train_loss': 2.4219598481149385, 'epoch': 3.0}\n"
     ]
    },
    {
     "name": "stderr",
     "output_type": "stream",
     "text": [
      "100%|██████████| 22/22 [00:02<00:00,  9.28it/s]"
     ]
    },
    {
     "name": "stdout",
     "output_type": "stream",
     "text": [
      "{'eval_loss': 1.2324775457382202, 'eval_runtime': 2.4738, 'eval_samples_per_second': 70.336, 'eval_steps_per_second': 8.893, 'epoch': 3.0}\n",
      "Training results for Learning Rate: 5e-06\n",
      "{'eval_loss': 1.2324775457382202, 'eval_runtime': 2.4738, 'eval_samples_per_second': 70.336, 'eval_steps_per_second': 8.893, 'epoch': 3.0}\n",
      "[(BartForConditionalGeneration(\n",
      "  (model): BartModel(\n",
      "    (shared): Embedding(50264, 1024, padding_idx=1)\n",
      "    (encoder): BartEncoder(\n",
      "      (embed_tokens): Embedding(50264, 1024, padding_idx=1)\n",
      "      (embed_positions): BartLearnedPositionalEmbedding(1026, 1024)\n",
      "      (layers): ModuleList(\n",
      "        (0-11): 12 x BartEncoderLayer(\n",
      "          (self_attn): BartSdpaAttention(\n",
      "            (k_proj): Linear(in_features=1024, out_features=1024, bias=True)\n",
      "            (v_proj): Linear(in_features=1024, out_features=1024, bias=True)\n",
      "            (q_proj): Linear(in_features=1024, out_features=1024, bias=True)\n",
      "            (out_proj): Linear(in_features=1024, out_features=1024, bias=True)\n",
      "          )\n",
      "          (self_attn_layer_norm): LayerNorm((1024,), eps=1e-05, elementwise_affine=True)\n",
      "          (activation_fn): GELUActivation()\n",
      "          (fc1): Linear(in_features=1024, out_features=4096, bias=True)\n",
      "          (fc2): Linear(in_features=4096, out_features=1024, bias=True)\n",
      "          (final_layer_norm): LayerNorm((1024,), eps=1e-05, elementwise_affine=True)\n",
      "        )\n",
      "      )\n",
      "      (layernorm_embedding): LayerNorm((1024,), eps=1e-05, elementwise_affine=True)\n",
      "    )\n",
      "    (decoder): BartDecoder(\n",
      "      (embed_tokens): Embedding(50264, 1024, padding_idx=1)\n",
      "      (embed_positions): BartLearnedPositionalEmbedding(1026, 1024)\n",
      "      (layers): ModuleList(\n",
      "        (0-11): 12 x BartDecoderLayer(\n",
      "          (self_attn): BartSdpaAttention(\n",
      "            (k_proj): Linear(in_features=1024, out_features=1024, bias=True)\n",
      "            (v_proj): Linear(in_features=1024, out_features=1024, bias=True)\n",
      "            (q_proj): Linear(in_features=1024, out_features=1024, bias=True)\n",
      "            (out_proj): Linear(in_features=1024, out_features=1024, bias=True)\n",
      "          )\n",
      "          (activation_fn): GELUActivation()\n",
      "          (self_attn_layer_norm): LayerNorm((1024,), eps=1e-05, elementwise_affine=True)\n",
      "          (encoder_attn): BartSdpaAttention(\n",
      "            (k_proj): Linear(in_features=1024, out_features=1024, bias=True)\n",
      "            (v_proj): Linear(in_features=1024, out_features=1024, bias=True)\n",
      "            (q_proj): Linear(in_features=1024, out_features=1024, bias=True)\n",
      "            (out_proj): Linear(in_features=1024, out_features=1024, bias=True)\n",
      "          )\n",
      "          (encoder_attn_layer_norm): LayerNorm((1024,), eps=1e-05, elementwise_affine=True)\n",
      "          (fc1): Linear(in_features=1024, out_features=4096, bias=True)\n",
      "          (fc2): Linear(in_features=4096, out_features=1024, bias=True)\n",
      "          (final_layer_norm): LayerNorm((1024,), eps=1e-05, elementwise_affine=True)\n",
      "        )\n",
      "      )\n",
      "      (layernorm_embedding): LayerNorm((1024,), eps=1e-05, elementwise_affine=True)\n",
      "    )\n",
      "  )\n",
      "  (lm_head): Linear(in_features=1024, out_features=50264, bias=False)\n",
      "), BartTokenizer(name_or_path='facebook/bart-large-xsum', vocab_size=50265, model_max_length=1024, is_fast=False, padding_side='right', truncation_side='right', special_tokens={'bos_token': '<s>', 'eos_token': '</s>', 'unk_token': '<unk>', 'sep_token': '</s>', 'pad_token': '<pad>', 'cls_token': '<s>', 'mask_token': '<mask>'}, clean_up_tokenization_spaces=True),  added_tokens_decoder={\n",
      "\t0: AddedToken(\"<s>\", rstrip=False, lstrip=False, single_word=False, normalized=True, special=True),\n",
      "\t1: AddedToken(\"<pad>\", rstrip=False, lstrip=False, single_word=False, normalized=True, special=True),\n",
      "\t2: AddedToken(\"</s>\", rstrip=False, lstrip=False, single_word=False, normalized=True, special=True),\n",
      "\t3: AddedToken(\"<unk>\", rstrip=False, lstrip=False, single_word=False, normalized=True, special=True),\n",
      "\t50264: AddedToken(\"<mask>\", rstrip=False, lstrip=True, single_word=False, normalized=True, special=True),\n",
      "}, {'eval_loss': 1.2324775457382202, 'eval_runtime': 2.4738, 'eval_samples_per_second': 70.336, 'eval_steps_per_second': 8.893, 'epoch': 3.0})]\n"
     ]
    },
    {
     "name": "stderr",
     "output_type": "stream",
     "text": [
      "\n"
     ]
    }
   ],
   "source": [
    "model, tokenizer, metrics = None, None, []\n",
    "def tweak_learning_rate(learning_rates):\n",
    "  results = []\n",
    "  for learning_rate in learning_rates:\n",
    "    model, tokenizer, metrics = train_model(MODEL_NAME, learning_rate=learning_rate)\n",
    "    print(f\"Training results for Learning Rate: {learning_rate}\")\n",
    "    print(metrics)\n",
    "    results.append((model, tokenizer, metrics))\n",
    "  return results\n",
    "\n",
    "learning_rates = [\n",
    "  5e-10,\n",
    "  5e-9,\n",
    "  5e-8,\n",
    "  5e-7,\n",
    "  5e-6,\n",
    "  5e-5, \n",
    "  5e-4, \n",
    "  5e-3, \n",
    "  5e-2, \n",
    "]\n",
    "\n",
    "results = tweak_learning_rate(learning_rates)\n",
    "print(results)\n"
   ]
  },
  {
   "cell_type": "code",
   "execution_count": 7,
   "metadata": {},
   "outputs": [
    {
     "name": "stdout",
     "output_type": "stream",
     "text": [
      "[7.9033589363098145, 7.877323627471924, 7.6204304695129395, 9.65340518951416, 5.103395462036133, 1.0034829378128052, 6.006220817565918, 4.173675060272217, 6.677041530609131]\n"
     ]
    },
    {
     "data": {
      "image/png": "[encoded data removed]",
      "text/plain": [
       "<Figure size 640x480 with 1 Axes>"
      ]
     },
     "metadata": {},
     "output_type": "display_data"
    }
   ],
   "source": [
    "# Recorded results from previous trainings\n",
    "learning_rate_metrics = [\n",
    "  {'eval_loss': 7.9033589363098145, 'eval_runtime': 2.2266, 'eval_samples_per_second': 78.147, 'eval_steps_per_second': 9.881, 'epoch': 3.0},\n",
    "  {'eval_loss': 7.877323627471924, 'eval_runtime': 2.2325, 'eval_samples_per_second': 77.938, 'eval_steps_per_second': 9.854, 'epoch': 3.0},\n",
    "  {'eval_loss': 7.6204304695129395, 'eval_runtime': 2.0795, 'eval_samples_per_second': 83.675, 'eval_steps_per_second': 10.58, 'epoch': 3.0},\n",
    "  {'eval_loss': 9.65340518951416, 'eval_runtime': 2.5363, 'eval_samples_per_second': 68.603, 'eval_steps_per_second': 8.674, 'epoch': 3.0},\n",
    "  {'eval_loss': 5.103395462036133, 'eval_runtime': 1.9718, 'eval_samples_per_second': 88.243, 'eval_steps_per_second': 11.157, 'epoch': 3.0},\n",
    "  {'eval_loss': 1.0034829378128052, 'eval_runtime': 1.3766, 'eval_samples_per_second': 126.403, 'eval_steps_per_second': 15.982, 'epoch': 3.0},\n",
    "  {'eval_loss': 6.006220817565918, 'eval_runtime': 1.4036, 'eval_samples_per_second': 123.964, 'eval_steps_per_second': 15.674, 'epoch': 3.0},\n",
    "  {'eval_loss': 4.173675060272217, 'eval_runtime': 1.4065, 'eval_samples_per_second': 123.712, 'eval_steps_per_second': 15.642, 'epoch': 3.0},\n",
    "  {'eval_loss': 6.677041530609131, 'eval_runtime': 1.3979, 'eval_samples_per_second': 124.474, 'eval_steps_per_second': 15.738, 'epoch': 3.0},\n",
    "]\n",
    "\n",
    "data = [\n",
    "  metric['eval_loss']\n",
    "  for metric in learning_rate_metrics\n",
    "]\n",
    "\n",
    "print(data)\n",
    "\n",
    "learning_rates = [\n",
    "  5e-10,\n",
    "  5e-9,\n",
    "  5e-8,\n",
    "  5e-7,\n",
    "  5e-6,\n",
    "  5e-5, \n",
    "  5e-4, \n",
    "  5e-3, \n",
    "  5e-2, \n",
    "]\n",
    "plt.plot(learning_rates, data)\n",
    "\n",
    "plt.xlabel('Learning Rates')\n",
    "plt.ylabel('Eval Loss')\n",
    "plt.title('Eval Loss vs Learning Rates')\n",
    "plt.grid(True)\n",
    "plt.show()"
   ]
  },
  {
   "cell_type": "markdown",
   "metadata": {},
   "source": [
    "# LR Scheduler Type"
   ]
  },
  {
   "cell_type": "code",
   "execution_count": 4,
   "metadata": {},
   "outputs": [
    {
     "name": "stdout",
     "output_type": "stream",
     "text": [
      "[<SchedulerType.LINEAR: 'linear'>, <SchedulerType.COSINE: 'cosine'>, <SchedulerType.COSINE_WITH_RESTARTS: 'cosine_with_restarts'>, <SchedulerType.POLYNOMIAL: 'polynomial'>, <SchedulerType.CONSTANT: 'constant'>, <SchedulerType.CONSTANT_WITH_WARMUP: 'constant_with_warmup'>, <SchedulerType.INVERSE_SQRT: 'inverse_sqrt'>, <SchedulerType.REDUCE_ON_PLATEAU: 'reduce_lr_on_plateau'>]\n",
      "Training SchedulerType.LINEAR\n"
     ]
    },
    {
     "name": "stderr",
     "output_type": "stream",
     "text": [
      "Map: 100%|██████████| 697/697 [00:02<00:00, 246.63 examples/s]\n",
      "Map: 100%|██████████| 174/174 [00:00<00:00, 227.09 examples/s]\n",
      "  0%|          | 0/264 [00:00<?, ?it/s]d:\\miniconda3\\envs\\main\\Lib\\site-packages\\transformers\\models\\bart\\modeling_bart.py:587: UserWarning: 1Torch was not compiled with flash attention. (Triggered internally at ..\\aten\\src\\ATen\\native\\transformers\\cuda\\sdp_utils.cpp:263.)\n",
      "  attn_output = torch.nn.functional.scaled_dot_product_attention(\n",
      "                                                \n",
      " 33%|███▎      | 88/264 [00:26<00:41,  4.23it/s]Some non-default generation parameters are set in the model config. These should go into a GenerationConfig file (https://huggingface.co/docs/transformers/generation_strategies#save-a-custom-decoding-strategy-with-your-model) instead. This warning will be raised to an exception in v4.41.\n",
      "Non-default generation parameters: {'max_length': 62, 'min_length': 11, 'early_stopping': True, 'num_beams': 6, 'no_repeat_ngram_size': 3, 'forced_eos_token_id': 2}\n"
     ]
    },
    {
     "name": "stdout",
     "output_type": "stream",
     "text": [
      "{'eval_loss': 1.6791504621505737, 'eval_runtime': 1.8773, 'eval_samples_per_second': 92.685, 'eval_steps_per_second': 11.719, 'epoch': 1.0}\n"
     ]
    },
    {
     "name": "stderr",
     "output_type": "stream",
     "text": [
      "                                                 \n",
      " 67%|██████▋   | 176/264 [00:57<00:20,  4.26it/s]Some non-default generation parameters are set in the model config. These should go into a GenerationConfig file (https://huggingface.co/docs/transformers/generation_strategies#save-a-custom-decoding-strategy-with-your-model) instead. This warning will be raised to an exception in v4.41.\n",
      "Non-default generation parameters: {'max_length': 62, 'min_length': 11, 'early_stopping': True, 'num_beams': 6, 'no_repeat_ngram_size': 3, 'forced_eos_token_id': 2}\n"
     ]
    },
    {
     "name": "stdout",
     "output_type": "stream",
     "text": [
      "{'eval_loss': 1.609755039215088, 'eval_runtime': 1.8769, 'eval_samples_per_second': 92.707, 'eval_steps_per_second': 11.722, 'epoch': 2.0}\n"
     ]
    },
    {
     "name": "stderr",
     "output_type": "stream",
     "text": [
      "                                                 \n",
      "100%|██████████| 264/264 [01:27<00:00,  4.30it/s]Some non-default generation parameters are set in the model config. These should go into a GenerationConfig file (https://huggingface.co/docs/transformers/generation_strategies#save-a-custom-decoding-strategy-with-your-model) instead. This warning will be raised to an exception in v4.41.\n",
      "Non-default generation parameters: {'max_length': 62, 'min_length': 11, 'early_stopping': True, 'num_beams': 6, 'no_repeat_ngram_size': 3, 'forced_eos_token_id': 2}\n"
     ]
    },
    {
     "name": "stdout",
     "output_type": "stream",
     "text": [
      "{'eval_loss': 1.6933766603469849, 'eval_runtime': 1.8733, 'eval_samples_per_second': 92.884, 'eval_steps_per_second': 11.744, 'epoch': 3.0}\n"
     ]
    },
    {
     "name": "stderr",
     "output_type": "stream",
     "text": [
      "100%|██████████| 264/264 [01:30<00:00,  2.90it/s]\n"
     ]
    },
    {
     "name": "stdout",
     "output_type": "stream",
     "text": [
      "{'train_runtime': 90.9387, 'train_samples_per_second': 22.994, 'train_steps_per_second': 2.903, 'train_loss': 1.0746476144501658, 'epoch': 3.0}\n"
     ]
    },
    {
     "name": "stderr",
     "output_type": "stream",
     "text": [
      "100%|██████████| 22/22 [00:02<00:00,  9.14it/s]\n"
     ]
    },
    {
     "name": "stdout",
     "output_type": "stream",
     "text": [
      "{'eval_loss': 1.6933766603469849, 'eval_runtime': 2.5436, 'eval_samples_per_second': 68.406, 'eval_steps_per_second': 8.649, 'epoch': 3.0}\n",
      "Training results for SchedulerType.LINEAR\n",
      "{'eval_loss': 1.6933766603469849, 'eval_runtime': 2.5436, 'eval_samples_per_second': 68.406, 'eval_steps_per_second': 8.649, 'epoch': 3.0}\n",
      "Training SchedulerType.COSINE\n"
     ]
    },
    {
     "name": "stderr",
     "output_type": "stream",
     "text": [
      "Map: 100%|██████████| 697/697 [00:02<00:00, 253.57 examples/s]\n",
      "Map: 100%|██████████| 174/174 [00:00<00:00, 222.22 examples/s]\n",
      "                                                \n",
      " 33%|███▎      | 88/264 [00:27<00:45,  3.91it/s]Some non-default generation parameters are set in the model config. These should go into a GenerationConfig file (https://huggingface.co/docs/transformers/generation_strategies#save-a-custom-decoding-strategy-with-your-model) instead. This warning will be raised to an exception in v4.41.\n",
      "Non-default generation parameters: {'max_length': 62, 'min_length': 11, 'early_stopping': True, 'num_beams': 6, 'no_repeat_ngram_size': 3, 'forced_eos_token_id': 2}\n"
     ]
    },
    {
     "name": "stdout",
     "output_type": "stream",
     "text": [
      "{'eval_loss': 1.080041766166687, 'eval_runtime': 2.099, 'eval_samples_per_second': 82.896, 'eval_steps_per_second': 10.481, 'epoch': 1.0}\n"
     ]
    },
    {
     "name": "stderr",
     "output_type": "stream",
     "text": [
      "                                                 \n",
      " 67%|██████▋   | 176/264 [00:58<00:20,  4.36it/s]Some non-default generation parameters are set in the model config. These should go into a GenerationConfig file (https://huggingface.co/docs/transformers/generation_strategies#save-a-custom-decoding-strategy-with-your-model) instead. This warning will be raised to an exception in v4.41.\n",
      "Non-default generation parameters: {'max_length': 62, 'min_length': 11, 'early_stopping': True, 'num_beams': 6, 'no_repeat_ngram_size': 3, 'forced_eos_token_id': 2}\n"
     ]
    },
    {
     "name": "stdout",
     "output_type": "stream",
     "text": [
      "{'eval_loss': 1.05549156665802, 'eval_runtime': 1.8653, 'eval_samples_per_second': 93.285, 'eval_steps_per_second': 11.795, 'epoch': 2.0}\n"
     ]
    },
    {
     "name": "stderr",
     "output_type": "stream",
     "text": [
      "                                                 \n",
      "100%|██████████| 264/264 [01:28<00:00,  4.36it/s]Some non-default generation parameters are set in the model config. These should go into a GenerationConfig file (https://huggingface.co/docs/transformers/generation_strategies#save-a-custom-decoding-strategy-with-your-model) instead. This warning will be raised to an exception in v4.41.\n",
      "Non-default generation parameters: {'max_length': 62, 'min_length': 11, 'early_stopping': True, 'num_beams': 6, 'no_repeat_ngram_size': 3, 'forced_eos_token_id': 2}\n"
     ]
    },
    {
     "name": "stdout",
     "output_type": "stream",
     "text": [
      "{'eval_loss': 1.1853681802749634, 'eval_runtime': 1.8809, 'eval_samples_per_second': 92.51, 'eval_steps_per_second': 11.697, 'epoch': 3.0}\n"
     ]
    },
    {
     "name": "stderr",
     "output_type": "stream",
     "text": [
      "100%|██████████| 264/264 [01:31<00:00,  2.89it/s]\n"
     ]
    },
    {
     "name": "stdout",
     "output_type": "stream",
     "text": [
      "{'train_runtime': 91.3957, 'train_samples_per_second': 22.879, 'train_steps_per_second': 2.889, 'train_loss': 1.1139220035437383, 'epoch': 3.0}\n"
     ]
    },
    {
     "name": "stderr",
     "output_type": "stream",
     "text": [
      "100%|██████████| 22/22 [00:02<00:00, 10.63it/s]\n"
     ]
    },
    {
     "name": "stdout",
     "output_type": "stream",
     "text": [
      "{'eval_loss': 1.1853681802749634, 'eval_runtime': 2.2612, 'eval_samples_per_second': 76.951, 'eval_steps_per_second': 9.729, 'epoch': 3.0}\n",
      "Training results for SchedulerType.COSINE\n",
      "{'eval_loss': 1.1853681802749634, 'eval_runtime': 2.2612, 'eval_samples_per_second': 76.951, 'eval_steps_per_second': 9.729, 'epoch': 3.0}\n",
      "Training SchedulerType.COSINE_WITH_RESTARTS\n"
     ]
    },
    {
     "name": "stderr",
     "output_type": "stream",
     "text": [
      "Map: 100%|██████████| 697/697 [00:02<00:00, 251.61 examples/s]\n",
      "Map: 100%|██████████| 174/174 [00:00<00:00, 222.78 examples/s]\n",
      "                                                \n",
      " 33%|███▎      | 88/264 [00:27<00:47,  3.71it/s]Some non-default generation parameters are set in the model config. These should go into a GenerationConfig file (https://huggingface.co/docs/transformers/generation_strategies#save-a-custom-decoding-strategy-with-your-model) instead. This warning will be raised to an exception in v4.41.\n",
      "Non-default generation parameters: {'max_length': 62, 'min_length': 11, 'early_stopping': True, 'num_beams': 6, 'no_repeat_ngram_size': 3, 'forced_eos_token_id': 2}\n"
     ]
    },
    {
     "name": "stdout",
     "output_type": "stream",
     "text": [
      "{'eval_loss': 1.0693637132644653, 'eval_runtime': 2.1976, 'eval_samples_per_second': 79.176, 'eval_steps_per_second': 10.011, 'epoch': 1.0}\n"
     ]
    },
    {
     "name": "stderr",
     "output_type": "stream",
     "text": [
      "                                                 \n",
      " 67%|██████▋   | 176/264 [00:57<00:20,  4.27it/s]Some non-default generation parameters are set in the model config. These should go into a GenerationConfig file (https://huggingface.co/docs/transformers/generation_strategies#save-a-custom-decoding-strategy-with-your-model) instead. This warning will be raised to an exception in v4.41.\n",
      "Non-default generation parameters: {'max_length': 62, 'min_length': 11, 'early_stopping': True, 'num_beams': 6, 'no_repeat_ngram_size': 3, 'forced_eos_token_id': 2}\n"
     ]
    },
    {
     "name": "stdout",
     "output_type": "stream",
     "text": [
      "{'eval_loss': 1.0170060396194458, 'eval_runtime': 1.8863, 'eval_samples_per_second': 92.243, 'eval_steps_per_second': 11.663, 'epoch': 2.0}\n"
     ]
    },
    {
     "name": "stderr",
     "output_type": "stream",
     "text": [
      "                                                 \n",
      "100%|██████████| 264/264 [01:28<00:00,  4.28it/s]Some non-default generation parameters are set in the model config. These should go into a GenerationConfig file (https://huggingface.co/docs/transformers/generation_strategies#save-a-custom-decoding-strategy-with-your-model) instead. This warning will be raised to an exception in v4.41.\n",
      "Non-default generation parameters: {'max_length': 62, 'min_length': 11, 'early_stopping': True, 'num_beams': 6, 'no_repeat_ngram_size': 3, 'forced_eos_token_id': 2}\n"
     ]
    },
    {
     "name": "stdout",
     "output_type": "stream",
     "text": [
      "{'eval_loss': 1.037064790725708, 'eval_runtime': 1.8818, 'eval_samples_per_second': 92.462, 'eval_steps_per_second': 11.691, 'epoch': 3.0}\n"
     ]
    },
    {
     "name": "stderr",
     "output_type": "stream",
     "text": [
      "100%|██████████| 264/264 [01:31<00:00,  2.89it/s]\n"
     ]
    },
    {
     "name": "stdout",
     "output_type": "stream",
     "text": [
      "{'train_runtime': 91.3334, 'train_samples_per_second': 22.894, 'train_steps_per_second': 2.891, 'train_loss': 1.1257968093409683, 'epoch': 3.0}\n"
     ]
    },
    {
     "name": "stderr",
     "output_type": "stream",
     "text": [
      "100%|██████████| 22/22 [00:02<00:00, 10.52it/s]\n"
     ]
    },
    {
     "name": "stdout",
     "output_type": "stream",
     "text": [
      "{'eval_loss': 1.037064790725708, 'eval_runtime': 2.2759, 'eval_samples_per_second': 76.452, 'eval_steps_per_second': 9.666, 'epoch': 3.0}\n",
      "Training results for SchedulerType.COSINE_WITH_RESTARTS\n",
      "{'eval_loss': 1.037064790725708, 'eval_runtime': 2.2759, 'eval_samples_per_second': 76.452, 'eval_steps_per_second': 9.666, 'epoch': 3.0}\n",
      "Training SchedulerType.POLYNOMIAL\n"
     ]
    },
    {
     "name": "stderr",
     "output_type": "stream",
     "text": [
      "Map: 100%|██████████| 697/697 [00:02<00:00, 250.26 examples/s]\n",
      "Map: 100%|██████████| 174/174 [00:00<00:00, 220.96 examples/s]\n",
      " 33%|███▎      | 88/264 [00:25<00:42,  4.19it/s]\n",
      " 33%|███▎      | 88/264 [00:27<00:42,  4.19it/s]Some non-default generation parameters are set in the model config. These should go into a GenerationConfig file (https://huggingface.co/docs/transformers/generation_strategies#save-a-custom-decoding-strategy-with-your-model) instead. This warning will be raised to an exception in v4.41.\n",
      "Non-default generation parameters: {'max_length': 62, 'min_length': 11, 'early_stopping': True, 'num_beams': 6, 'no_repeat_ngram_size': 3, 'forced_eos_token_id': 2}\n"
     ]
    },
    {
     "name": "stdout",
     "output_type": "stream",
     "text": [
      "{'eval_loss': 1.0759943723678589, 'eval_runtime': 1.9834, 'eval_samples_per_second': 87.726, 'eval_steps_per_second': 11.092, 'epoch': 1.0}\n"
     ]
    },
    {
     "name": "stderr",
     "output_type": "stream",
     "text": [
      " 67%|██████▋   | 176/264 [00:55<00:20,  4.22it/s]\n",
      " 67%|██████▋   | 176/264 [00:57<00:20,  4.22it/s]Some non-default generation parameters are set in the model config. These should go into a GenerationConfig file (https://huggingface.co/docs/transformers/generation_strategies#save-a-custom-decoding-strategy-with-your-model) instead. This warning will be raised to an exception in v4.41.\n",
      "Non-default generation parameters: {'max_length': 62, 'min_length': 11, 'early_stopping': True, 'num_beams': 6, 'no_repeat_ngram_size': 3, 'forced_eos_token_id': 2}\n"
     ]
    },
    {
     "name": "stdout",
     "output_type": "stream",
     "text": [
      "{'eval_loss': 1.0372523069381714, 'eval_runtime': 1.9336, 'eval_samples_per_second': 89.989, 'eval_steps_per_second': 11.378, 'epoch': 2.0}\n"
     ]
    },
    {
     "name": "stderr",
     "output_type": "stream",
     "text": [
      "100%|██████████| 264/264 [01:26<00:00,  4.32it/s]\n",
      "100%|██████████| 264/264 [01:28<00:00,  4.32it/s]Some non-default generation parameters are set in the model config. These should go into a GenerationConfig file (https://huggingface.co/docs/transformers/generation_strategies#save-a-custom-decoding-strategy-with-your-model) instead. This warning will be raised to an exception in v4.41.\n",
      "Non-default generation parameters: {'max_length': 62, 'min_length': 11, 'early_stopping': True, 'num_beams': 6, 'no_repeat_ngram_size': 3, 'forced_eos_token_id': 2}\n"
     ]
    },
    {
     "name": "stdout",
     "output_type": "stream",
     "text": [
      "{'eval_loss': 1.254083514213562, 'eval_runtime': 1.8971, 'eval_samples_per_second': 91.721, 'eval_steps_per_second': 11.597, 'epoch': 3.0}\n"
     ]
    },
    {
     "name": "stderr",
     "output_type": "stream",
     "text": [
      "100%|██████████| 264/264 [01:31<00:00,  2.89it/s]\n"
     ]
    },
    {
     "name": "stdout",
     "output_type": "stream",
     "text": [
      "{'train_runtime': 91.452, 'train_samples_per_second': 22.864, 'train_steps_per_second': 2.887, 'train_loss': 1.1010285579796992, 'epoch': 3.0}\n"
     ]
    },
    {
     "name": "stderr",
     "output_type": "stream",
     "text": [
      "100%|██████████| 22/22 [00:02<00:00, 10.46it/s]\n"
     ]
    },
    {
     "name": "stdout",
     "output_type": "stream",
     "text": [
      "{'eval_loss': 1.254083514213562, 'eval_runtime': 2.2602, 'eval_samples_per_second': 76.983, 'eval_steps_per_second': 9.733, 'epoch': 3.0}\n",
      "Training results for SchedulerType.POLYNOMIAL\n",
      "{'eval_loss': 1.254083514213562, 'eval_runtime': 2.2602, 'eval_samples_per_second': 76.983, 'eval_steps_per_second': 9.733, 'epoch': 3.0}\n",
      "Training SchedulerType.CONSTANT\n"
     ]
    },
    {
     "name": "stderr",
     "output_type": "stream",
     "text": [
      "Map: 100%|██████████| 697/697 [00:02<00:00, 259.27 examples/s]\n",
      "Map: 100%|██████████| 174/174 [00:00<00:00, 227.23 examples/s]\n",
      " 33%|███▎      | 88/264 [00:25<00:42,  4.15it/s]\n",
      " 33%|███▎      | 88/264 [00:27<00:42,  4.15it/s]Some non-default generation parameters are set in the model config. These should go into a GenerationConfig file (https://huggingface.co/docs/transformers/generation_strategies#save-a-custom-decoding-strategy-with-your-model) instead. This warning will be raised to an exception in v4.41.\n",
      "Non-default generation parameters: {'max_length': 62, 'min_length': 11, 'early_stopping': True, 'num_beams': 6, 'no_repeat_ngram_size': 3, 'forced_eos_token_id': 2}\n"
     ]
    },
    {
     "name": "stdout",
     "output_type": "stream",
     "text": [
      "{'eval_loss': 1.0706448554992676, 'eval_runtime': 1.997, 'eval_samples_per_second': 87.13, 'eval_steps_per_second': 11.016, 'epoch': 1.0}\n"
     ]
    },
    {
     "name": "stderr",
     "output_type": "stream",
     "text": [
      " 67%|██████▋   | 176/264 [00:56<00:20,  4.24it/s]\n",
      " 67%|██████▋   | 176/264 [00:58<00:20,  4.24it/s]Some non-default generation parameters are set in the model config. These should go into a GenerationConfig file (https://huggingface.co/docs/transformers/generation_strategies#save-a-custom-decoding-strategy-with-your-model) instead. This warning will be raised to an exception in v4.41.\n",
      "Non-default generation parameters: {'max_length': 62, 'min_length': 11, 'early_stopping': True, 'num_beams': 6, 'no_repeat_ngram_size': 3, 'forced_eos_token_id': 2}\n"
     ]
    },
    {
     "name": "stdout",
     "output_type": "stream",
     "text": [
      "{'eval_loss': 1.0478824377059937, 'eval_runtime': 1.8987, 'eval_samples_per_second': 91.643, 'eval_steps_per_second': 11.587, 'epoch': 2.0}\n"
     ]
    },
    {
     "name": "stderr",
     "output_type": "stream",
     "text": [
      "100%|██████████| 264/264 [01:27<00:00,  4.24it/s]\n",
      "100%|██████████| 264/264 [01:29<00:00,  4.24it/s]Some non-default generation parameters are set in the model config. These should go into a GenerationConfig file (https://huggingface.co/docs/transformers/generation_strategies#save-a-custom-decoding-strategy-with-your-model) instead. This warning will be raised to an exception in v4.41.\n",
      "Non-default generation parameters: {'max_length': 62, 'min_length': 11, 'early_stopping': True, 'num_beams': 6, 'no_repeat_ngram_size': 3, 'forced_eos_token_id': 2}\n"
     ]
    },
    {
     "name": "stdout",
     "output_type": "stream",
     "text": [
      "{'eval_loss': 1.1042007207870483, 'eval_runtime': 1.9866, 'eval_samples_per_second': 87.586, 'eval_steps_per_second': 11.074, 'epoch': 3.0}\n"
     ]
    },
    {
     "name": "stderr",
     "output_type": "stream",
     "text": [
      "100%|██████████| 264/264 [01:32<00:00,  2.86it/s]\n"
     ]
    },
    {
     "name": "stdout",
     "output_type": "stream",
     "text": [
      "{'train_runtime': 92.3956, 'train_samples_per_second': 22.631, 'train_steps_per_second': 2.857, 'train_loss': 1.07401298754143, 'epoch': 3.0}\n"
     ]
    },
    {
     "name": "stderr",
     "output_type": "stream",
     "text": [
      "100%|██████████| 22/22 [00:01<00:00, 11.53it/s]\n"
     ]
    },
    {
     "name": "stdout",
     "output_type": "stream",
     "text": [
      "{'eval_loss': 1.1042007207870483, 'eval_runtime': 2.0875, 'eval_samples_per_second': 83.352, 'eval_steps_per_second': 10.539, 'epoch': 3.0}\n",
      "Training results for SchedulerType.CONSTANT\n",
      "{'eval_loss': 1.1042007207870483, 'eval_runtime': 2.0875, 'eval_samples_per_second': 83.352, 'eval_steps_per_second': 10.539, 'epoch': 3.0}\n",
      "Training SchedulerType.CONSTANT_WITH_WARMUP\n"
     ]
    },
    {
     "name": "stderr",
     "output_type": "stream",
     "text": [
      "Map: 100%|██████████| 697/697 [00:02<00:00, 251.32 examples/s]\n",
      "Map: 100%|██████████| 174/174 [00:00<00:00, 221.82 examples/s]\n",
      " 33%|███▎      | 88/264 [00:25<00:44,  3.94it/s]\n",
      " 33%|███▎      | 88/264 [00:27<00:44,  3.94it/s]Some non-default generation parameters are set in the model config. These should go into a GenerationConfig file (https://huggingface.co/docs/transformers/generation_strategies#save-a-custom-decoding-strategy-with-your-model) instead. This warning will be raised to an exception in v4.41.\n",
      "Non-default generation parameters: {'max_length': 62, 'min_length': 11, 'early_stopping': True, 'num_beams': 6, 'no_repeat_ngram_size': 3, 'forced_eos_token_id': 2}\n"
     ]
    },
    {
     "name": "stdout",
     "output_type": "stream",
     "text": [
      "{'eval_loss': 1.0776599645614624, 'eval_runtime': 1.9971, 'eval_samples_per_second': 87.128, 'eval_steps_per_second': 11.016, 'epoch': 1.0}\n"
     ]
    },
    {
     "name": "stderr",
     "output_type": "stream",
     "text": [
      " 67%|██████▋   | 176/264 [00:56<00:20,  4.26it/s]\n",
      " 67%|██████▋   | 176/264 [00:58<00:20,  4.26it/s]Some non-default generation parameters are set in the model config. These should go into a GenerationConfig file (https://huggingface.co/docs/transformers/generation_strategies#save-a-custom-decoding-strategy-with-your-model) instead. This warning will be raised to an exception in v4.41.\n",
      "Non-default generation parameters: {'max_length': 62, 'min_length': 11, 'early_stopping': True, 'num_beams': 6, 'no_repeat_ngram_size': 3, 'forced_eos_token_id': 2}\n"
     ]
    },
    {
     "name": "stdout",
     "output_type": "stream",
     "text": [
      "{'eval_loss': 1.0514321327209473, 'eval_runtime': 1.9764, 'eval_samples_per_second': 88.039, 'eval_steps_per_second': 11.131, 'epoch': 2.0}\n"
     ]
    },
    {
     "name": "stderr",
     "output_type": "stream",
     "text": [
      "100%|██████████| 264/264 [01:27<00:00,  4.18it/s]\n",
      "100%|██████████| 264/264 [01:29<00:00,  4.18it/s]Some non-default generation parameters are set in the model config. These should go into a GenerationConfig file (https://huggingface.co/docs/transformers/generation_strategies#save-a-custom-decoding-strategy-with-your-model) instead. This warning will be raised to an exception in v4.41.\n",
      "Non-default generation parameters: {'max_length': 62, 'min_length': 11, 'early_stopping': True, 'num_beams': 6, 'no_repeat_ngram_size': 3, 'forced_eos_token_id': 2}\n"
     ]
    },
    {
     "name": "stdout",
     "output_type": "stream",
     "text": [
      "{'eval_loss': 1.0946723222732544, 'eval_runtime': 1.9111, 'eval_samples_per_second': 91.047, 'eval_steps_per_second': 11.512, 'epoch': 3.0}\n"
     ]
    },
    {
     "name": "stderr",
     "output_type": "stream",
     "text": [
      "100%|██████████| 264/264 [01:32<00:00,  2.86it/s]\n"
     ]
    },
    {
     "name": "stdout",
     "output_type": "stream",
     "text": [
      "{'train_runtime': 92.2817, 'train_samples_per_second': 22.659, 'train_steps_per_second': 2.861, 'train_loss': 1.0433586582993015, 'epoch': 3.0}\n"
     ]
    },
    {
     "name": "stderr",
     "output_type": "stream",
     "text": [
      "100%|██████████| 22/22 [00:02<00:00,  9.00it/s]\n"
     ]
    },
    {
     "name": "stdout",
     "output_type": "stream",
     "text": [
      "{'eval_loss': 1.0946723222732544, 'eval_runtime': 2.6069, 'eval_samples_per_second': 66.746, 'eval_steps_per_second': 8.439, 'epoch': 3.0}\n",
      "Training results for SchedulerType.CONSTANT_WITH_WARMUP\n",
      "{'eval_loss': 1.0946723222732544, 'eval_runtime': 2.6069, 'eval_samples_per_second': 66.746, 'eval_steps_per_second': 8.439, 'epoch': 3.0}\n",
      "Training SchedulerType.INVERSE_SQRT\n"
     ]
    },
    {
     "name": "stderr",
     "output_type": "stream",
     "text": [
      "Map: 100%|██████████| 697/697 [00:02<00:00, 257.18 examples/s]\n",
      "Map: 100%|██████████| 174/174 [00:00<00:00, 226.12 examples/s]\n",
      " 33%|███▎      | 88/264 [03:58<01:27,  2.00it/s]\n",
      " 33%|███▎      | 88/264 [04:03<01:27,  2.00it/s]Some non-default generation parameters are set in the model config. These should go into a GenerationConfig file (https://huggingface.co/docs/transformers/generation_strategies#save-a-custom-decoding-strategy-with-your-model) instead. This warning will be raised to an exception in v4.41.\n",
      "Non-default generation parameters: {'max_length': 62, 'min_length': 11, 'early_stopping': True, 'num_beams': 6, 'no_repeat_ngram_size': 3, 'forced_eos_token_id': 2}\n"
     ]
    },
    {
     "name": "stdout",
     "output_type": "stream",
     "text": [
      "{'eval_loss': 1.0790880918502808, 'eval_runtime': 4.6605, 'eval_samples_per_second': 37.335, 'eval_steps_per_second': 4.72, 'epoch': 1.0}\n"
     ]
    },
    {
     "name": "stderr",
     "output_type": "stream",
     "text": [
      " 67%|██████▋   | 176/264 [04:59<00:42,  2.09it/s]\n",
      " 67%|██████▋   | 176/264 [05:03<00:42,  2.09it/s]Some non-default generation parameters are set in the model config. These should go into a GenerationConfig file (https://huggingface.co/docs/transformers/generation_strategies#save-a-custom-decoding-strategy-with-your-model) instead. This warning will be raised to an exception in v4.41.\n",
      "Non-default generation parameters: {'max_length': 62, 'min_length': 11, 'early_stopping': True, 'num_beams': 6, 'no_repeat_ngram_size': 3, 'forced_eos_token_id': 2}\n"
     ]
    },
    {
     "name": "stdout",
     "output_type": "stream",
     "text": [
      "{'eval_loss': 1.0587712526321411, 'eval_runtime': 4.8436, 'eval_samples_per_second': 35.924, 'eval_steps_per_second': 4.542, 'epoch': 2.0}\n"
     ]
    },
    {
     "name": "stderr",
     "output_type": "stream",
     "text": [
      "100%|██████████| 264/264 [06:00<00:00,  2.05it/s]\n",
      "100%|██████████| 264/264 [06:05<00:00,  2.05it/s]Some non-default generation parameters are set in the model config. These should go into a GenerationConfig file (https://huggingface.co/docs/transformers/generation_strategies#save-a-custom-decoding-strategy-with-your-model) instead. This warning will be raised to an exception in v4.41.\n",
      "Non-default generation parameters: {'max_length': 62, 'min_length': 11, 'early_stopping': True, 'num_beams': 6, 'no_repeat_ngram_size': 3, 'forced_eos_token_id': 2}\n"
     ]
    },
    {
     "name": "stdout",
     "output_type": "stream",
     "text": [
      "{'eval_loss': 1.0939048528671265, 'eval_runtime': 4.9256, 'eval_samples_per_second': 35.326, 'eval_steps_per_second': 4.467, 'epoch': 3.0}\n"
     ]
    },
    {
     "name": "stderr",
     "output_type": "stream",
     "text": [
      "100%|██████████| 264/264 [06:08<00:00,  1.39s/it]\n"
     ]
    },
    {
     "name": "stdout",
     "output_type": "stream",
     "text": [
      "{'train_runtime': 368.2687, 'train_samples_per_second': 5.678, 'train_steps_per_second': 0.717, 'train_loss': 1.04185659235174, 'epoch': 3.0}\n"
     ]
    },
    {
     "name": "stderr",
     "output_type": "stream",
     "text": [
      "100%|██████████| 22/22 [00:04<00:00,  4.66it/s]\n"
     ]
    },
    {
     "name": "stdout",
     "output_type": "stream",
     "text": [
      "{'eval_loss': 1.0939048528671265, 'eval_runtime': 4.9752, 'eval_samples_per_second': 34.973, 'eval_steps_per_second': 4.422, 'epoch': 3.0}\n",
      "Training results for SchedulerType.INVERSE_SQRT\n",
      "{'eval_loss': 1.0939048528671265, 'eval_runtime': 4.9752, 'eval_samples_per_second': 34.973, 'eval_steps_per_second': 4.422, 'epoch': 3.0}\n",
      "Training SchedulerType.REDUCE_ON_PLATEAU\n"
     ]
    },
    {
     "name": "stderr",
     "output_type": "stream",
     "text": [
      "Map: 100%|██████████| 697/697 [00:02<00:00, 257.31 examples/s]\n",
      "Map: 100%|██████████| 174/174 [00:00<00:00, 223.77 examples/s]\n",
      " 33%|███▎      | 88/264 [06:01<01:12,  2.42it/s]  \n",
      " 33%|███▎      | 88/264 [07:06<01:12,  2.42it/s]Some non-default generation parameters are set in the model config. These should go into a GenerationConfig file (https://huggingface.co/docs/transformers/generation_strategies#save-a-custom-decoding-strategy-with-your-model) instead. This warning will be raised to an exception in v4.41.\n",
      "Non-default generation parameters: {'max_length': 62, 'min_length': 11, 'early_stopping': True, 'num_beams': 6, 'no_repeat_ngram_size': 3, 'forced_eos_token_id': 2}\n"
     ]
    },
    {
     "name": "stdout",
     "output_type": "stream",
     "text": [
      "{'eval_loss': 1.0803794860839844, 'eval_runtime': 65.0747, 'eval_samples_per_second': 2.674, 'eval_steps_per_second': 0.338, 'epoch': 1.0}\n"
     ]
    },
    {
     "name": "stderr",
     "output_type": "stream",
     "text": [
      " 67%|██████▋   | 176/264 [08:21<00:17,  5.04it/s] \n",
      " 67%|██████▋   | 176/264 [08:23<00:17,  5.04it/s]Some non-default generation parameters are set in the model config. These should go into a GenerationConfig file (https://huggingface.co/docs/transformers/generation_strategies#save-a-custom-decoding-strategy-with-your-model) instead. This warning will be raised to an exception in v4.41.\n",
      "Non-default generation parameters: {'max_length': 62, 'min_length': 11, 'early_stopping': True, 'num_beams': 6, 'no_repeat_ngram_size': 3, 'forced_eos_token_id': 2}\n"
     ]
    },
    {
     "name": "stdout",
     "output_type": "stream",
     "text": [
      "{'eval_loss': 1.0444999933242798, 'eval_runtime': 1.607, 'eval_samples_per_second': 108.276, 'eval_steps_per_second': 13.69, 'epoch': 2.0}\n"
     ]
    },
    {
     "name": "stderr",
     "output_type": "stream",
     "text": [
      "100%|██████████| 264/264 [08:50<00:00,  4.59it/s]\n",
      "100%|██████████| 264/264 [08:52<00:00,  4.59it/s]Some non-default generation parameters are set in the model config. These should go into a GenerationConfig file (https://huggingface.co/docs/transformers/generation_strategies#save-a-custom-decoding-strategy-with-your-model) instead. This warning will be raised to an exception in v4.41.\n",
      "Non-default generation parameters: {'max_length': 62, 'min_length': 11, 'early_stopping': True, 'num_beams': 6, 'no_repeat_ngram_size': 3, 'forced_eos_token_id': 2}\n"
     ]
    },
    {
     "name": "stdout",
     "output_type": "stream",
     "text": [
      "{'eval_loss': 1.100622296333313, 'eval_runtime': 1.8244, 'eval_samples_per_second': 95.374, 'eval_steps_per_second': 12.059, 'epoch': 3.0}\n"
     ]
    },
    {
     "name": "stderr",
     "output_type": "stream",
     "text": [
      "100%|██████████| 264/264 [08:55<00:00,  2.03s/it]\n"
     ]
    },
    {
     "name": "stdout",
     "output_type": "stream",
     "text": [
      "{'train_runtime': 535.649, 'train_samples_per_second': 3.904, 'train_steps_per_second': 0.493, 'train_loss': 1.0262564456824101, 'epoch': 3.0}\n"
     ]
    },
    {
     "name": "stderr",
     "output_type": "stream",
     "text": [
      "100%|██████████| 22/22 [00:02<00:00, 10.56it/s]"
     ]
    },
    {
     "name": "stdout",
     "output_type": "stream",
     "text": [
      "{'eval_loss': 1.100622296333313, 'eval_runtime': 2.2553, 'eval_samples_per_second': 77.151, 'eval_steps_per_second': 9.755, 'epoch': 3.0}\n",
      "Training results for SchedulerType.REDUCE_ON_PLATEAU\n",
      "{'eval_loss': 1.100622296333313, 'eval_runtime': 2.2553, 'eval_samples_per_second': 77.151, 'eval_steps_per_second': 9.755, 'epoch': 3.0}\n"
     ]
    },
    {
     "name": "stderr",
     "output_type": "stream",
     "text": [
      "\n"
     ]
    },
    {
     "ename": "NameError",
     "evalue": "name 'results' is not defined",
     "output_type": "error",
     "traceback": [
      "\u001b[1;31m---------------------------------------------------------------------------\u001b[0m",
      "\u001b[1;31mNameError\u001b[0m                                 Traceback (most recent call last)",
      "Cell \u001b[1;32mIn[4], line 25\u001b[0m\n\u001b[0;32m     23\u001b[0m \u001b[38;5;28mprint\u001b[39m(types)\n\u001b[0;32m     24\u001b[0m lr_scheduler_results \u001b[38;5;241m=\u001b[39m tweak_lr_scheduler_type(types)\n\u001b[1;32m---> 25\u001b[0m \u001b[38;5;28mprint\u001b[39m(\u001b[43mresults\u001b[49m)\n",
      "\u001b[1;31mNameError\u001b[0m: name 'results' is not defined"
     ]
    }
   ],
   "source": [
    "\n",
    "def tweak_lr_scheduler_type(lr_scheduler_types):\n",
    "  results = []\n",
    "  for lr_scheduler_type in lr_scheduler_types:\n",
    "    print(f'Training {lr_scheduler_type}')\n",
    "    model, tokenizer, metrics = train_model(MODEL_NAME, lr_scheduler_type=lr_scheduler_type)\n",
    "    results.append((lr_scheduler_type, model, tokenizer, metrics))\n",
    "    print(f'Training results for {lr_scheduler_type}')\n",
    "    print(metrics)\n",
    "  return results\n",
    "\n",
    "types = [\n",
    "  SchedulerType.LINEAR,\n",
    "  SchedulerType.COSINE,\n",
    "  SchedulerType.COSINE_WITH_RESTARTS,\n",
    "  SchedulerType.POLYNOMIAL,\n",
    "  SchedulerType.CONSTANT,\n",
    "  SchedulerType.CONSTANT_WITH_WARMUP,\n",
    "  SchedulerType.INVERSE_SQRT,\n",
    "  SchedulerType.REDUCE_ON_PLATEAU,\n",
    "]\n",
    "print(types)\n",
    "lr_scheduler_results = tweak_lr_scheduler_type(types)\n",
    "print(lr_scheduler_results)\n"
   ]
  },
  {
   "cell_type": "code",
   "execution_count": 8,
   "metadata": {},
   "outputs": [
    {
     "data": {
      "image/png": "[encoded data removed]",
      "text/plain": [
       "<Figure size 640x480 with 1 Axes>"
      ]
     },
     "metadata": {},
     "output_type": "display_data"
    }
   ],
   "source": [
    "metrics = [\n",
    "  (\n",
    "    SchedulerType.LINEAR,\n",
    "    {'eval_loss': 1.6933766603469849, 'eval_runtime': 2.5436, 'eval_samples_per_second': 68.406, 'eval_steps_per_second': 8.649, 'epoch': 3.0},\n",
    "  ),\n",
    "  (\n",
    "    SchedulerType.COSINE,\n",
    "    {'eval_loss': 1.1853681802749634, 'eval_runtime': 2.2612, 'eval_samples_per_second': 76.951, 'eval_steps_per_second': 9.729, 'epoch': 3.0},\n",
    "  ),\n",
    "  (\n",
    "    SchedulerType.COSINE_WITH_RESTARTS,\n",
    "    {'eval_loss': 1.037064790725708, 'eval_runtime': 2.2759, 'eval_samples_per_second': 76.452, 'eval_steps_per_second': 9.666, 'epoch': 3.0},\n",
    "  ),\n",
    "  (\n",
    "    SchedulerType.POLYNOMIAL,\n",
    "    {'eval_loss': 1.254083514213562, 'eval_runtime': 2.2602, 'eval_samples_per_second': 76.983, 'eval_steps_per_second': 9.733, 'epoch': 3.0},\n",
    "  ),\n",
    "  (\n",
    "    SchedulerType.CONSTANT,\n",
    "    {'eval_loss': 1.1042007207870483, 'eval_runtime': 2.0875, 'eval_samples_per_second': 83.352, 'eval_steps_per_second': 10.539, 'epoch': 3.0},\n",
    "  ),\n",
    "  (\n",
    "    SchedulerType.CONSTANT_WITH_WARMUP,\n",
    "    {'eval_loss': 1.0946723222732544, 'eval_runtime': 2.6069, 'eval_samples_per_second': 66.746, 'eval_steps_per_second': 8.439, 'epoch': 3.0},\n",
    "  ),\n",
    "  (\n",
    "    SchedulerType.INVERSE_SQRT,\n",
    "    {'eval_loss': 1.0939048528671265, 'eval_runtime': 4.9752, 'eval_samples_per_second': 34.973, 'eval_steps_per_second': 4.422, 'epoch': 3.0},\n",
    "  ),\n",
    "  (\n",
    "    SchedulerType.REDUCE_ON_PLATEAU,\n",
    "    {'eval_loss': 1.100622296333313, 'eval_runtime': 2.2553, 'eval_samples_per_second': 77.151, 'eval_steps_per_second': 9.755, 'epoch': 3.0},\n",
    "  ),\n",
    "]\n",
    "\n",
    "scheduler_types = [\n",
    "  scheduler_type\n",
    "  for scheduler_type, _ in metrics\n",
    "]\n",
    "data = [\n",
    "  metric['eval_loss']\n",
    "  for _, metric in metrics\n",
    "]\n",
    "plt.bar(scheduler_types, data)\n",
    "plt.xlabel('Scheduler Type')\n",
    "plt.ylabel('Eval Loss')\n",
    "plt.title('Eval Loss vs Scheduler Types')\n",
    "plt.xticks(rotation=45, ha='right')\n",
    "plt.ylim(0.9, 1.15)\n",
    "plt.show()"
   ]
  },
  {
   "cell_type": "markdown",
   "metadata": {},
   "source": [
    "# Test Model\n",
    "\n",
    "The training results show that the lowest loss happens when:\n",
    "\n",
    "* num_epochs is 3\n",
    "* learning rate is 5e-6\n",
    "* scheduler type is Cosine With Restarts\n",
    "\n",
    "Using these hyperparameters to test the model."
   ]
  },
  {
   "cell_type": "code",
   "execution_count": 6,
   "metadata": {},
   "outputs": [],
   "source": [
    "def do_testing(result_file, **kwargs):\n",
    "  model, tokenizer, _ = train_model(MODEL_NAME, **kwargs)\n",
    "\n",
    "  test_file_path =  os.path.join('..', 'data', 'dataset', 'dataset_test_ground_truth.json')   #20 pdfs\n",
    "  test_data = load_json(test_file_path)\n",
    "  test_loader = DataLoader(test_data, batch_size=1, shuffle=False)\n",
    "\n",
    "  # Calculate average ROUGE scores across all sections\n",
    "  all_results = []\n",
    "  for item in test_loader:\n",
    "      section_result = test_model(item, model, tokenizer)\n",
    "      all_results.append(section_result)\n",
    "  total_sections = len(all_results)\n",
    "  print(\"total sections\",total_sections)\n",
    "  total_rouge1 = sum(result.get(\"ROUGE-1 F1\", 0) for result in all_results)\n",
    "  total_rouge2 = sum(result.get(\"ROUGE-2 F1\", 0) for result in all_results)\n",
    "  total_rougeL = sum(result.get(\"ROUGE-L F1\", 0) for result in all_results)\n",
    "\n",
    "  average_rouge1 = total_rouge1 / total_sections\n",
    "  average_rouge2 = total_rouge2 / total_sections\n",
    "  average_rougeL = total_rougeL / total_sections\n",
    "\n",
    "  print(\"Average ROUGE-1 F1:\", average_rouge1)\n",
    "  print(\"Average ROUGE-2 F1:\", average_rouge2)\n",
    "  print(\"Average ROUGE-L F1:\", average_rougeL)\n",
    "\n",
    "  # Save results to JSON file\n",
    "  with open(result_file, \"w\") as json_file:\n",
    "      json.dump(all_results, json_file, indent=4)\n"
   ]
  },
  {
   "cell_type": "code",
   "execution_count": 7,
   "metadata": {},
   "outputs": [
    {
     "name": "stderr",
     "output_type": "stream",
     "text": [
      "Map: 100%|██████████| 697/697 [00:02<00:00, 241.03 examples/s]\n",
      "Map: 100%|██████████| 174/174 [00:00<00:00, 241.64 examples/s]\n",
      "  0%|          | 0/264 [00:00<?, ?it/s]d:\\miniconda3\\envs\\main\\Lib\\site-packages\\transformers\\models\\bart\\modeling_bart.py:587: UserWarning: 1Torch was not compiled with flash attention. (Triggered internally at ..\\aten\\src\\ATen\\native\\transformers\\cuda\\sdp_utils.cpp:263.)\n",
      "  attn_output = torch.nn.functional.scaled_dot_product_attention(\n",
      "                                                \n",
      " 33%|███▎      | 88/264 [00:18<00:29,  5.90it/s]Some non-default generation parameters are set in the model config. These should go into a GenerationConfig file (https://huggingface.co/docs/transformers/generation_strategies#save-a-custom-decoding-strategy-with-your-model) instead. This warning will be raised to an exception in v4.41.\n",
      "Non-default generation parameters: {'max_length': 62, 'min_length': 11, 'early_stopping': True, 'num_beams': 6, 'no_repeat_ngram_size': 3, 'forced_eos_token_id': 2}\n"
     ]
    },
    {
     "name": "stdout",
     "output_type": "stream",
     "text": [
      "{'eval_loss': 1.328634262084961, 'eval_runtime': 1.2796, 'eval_samples_per_second': 135.982, 'eval_steps_per_second': 17.193, 'epoch': 1.0}\n"
     ]
    },
    {
     "name": "stderr",
     "output_type": "stream",
     "text": [
      "                                                 \n",
      " 67%|██████▋   | 176/264 [00:41<00:17,  5.16it/s]Some non-default generation parameters are set in the model config. These should go into a GenerationConfig file (https://huggingface.co/docs/transformers/generation_strategies#save-a-custom-decoding-strategy-with-your-model) instead. This warning will be raised to an exception in v4.41.\n",
      "Non-default generation parameters: {'max_length': 62, 'min_length': 11, 'early_stopping': True, 'num_beams': 6, 'no_repeat_ngram_size': 3, 'forced_eos_token_id': 2}\n"
     ]
    },
    {
     "name": "stdout",
     "output_type": "stream",
     "text": [
      "{'eval_loss': 1.1771899461746216, 'eval_runtime': 1.2748, 'eval_samples_per_second': 136.488, 'eval_steps_per_second': 17.257, 'epoch': 2.0}\n"
     ]
    },
    {
     "name": "stderr",
     "output_type": "stream",
     "text": [
      "                                                 \n",
      "100%|██████████| 264/264 [01:02<00:00,  5.15it/s]Some non-default generation parameters are set in the model config. These should go into a GenerationConfig file (https://huggingface.co/docs/transformers/generation_strategies#save-a-custom-decoding-strategy-with-your-model) instead. This warning will be raised to an exception in v4.41.\n",
      "Non-default generation parameters: {'max_length': 62, 'min_length': 11, 'early_stopping': True, 'num_beams': 6, 'no_repeat_ngram_size': 3, 'forced_eos_token_id': 2}\n"
     ]
    },
    {
     "name": "stdout",
     "output_type": "stream",
     "text": [
      "{'eval_loss': 1.162537693977356, 'eval_runtime': 1.2844, 'eval_samples_per_second': 135.476, 'eval_steps_per_second': 17.129, 'epoch': 3.0}\n"
     ]
    },
    {
     "name": "stderr",
     "output_type": "stream",
     "text": [
      "100%|██████████| 264/264 [01:05<00:00,  4.03it/s]\n"
     ]
    },
    {
     "name": "stdout",
     "output_type": "stream",
     "text": [
      "{'train_runtime': 65.584, 'train_samples_per_second': 31.883, 'train_steps_per_second': 4.025, 'train_loss': 1.9975831002900095, 'epoch': 3.0}\n"
     ]
    },
    {
     "name": "stderr",
     "output_type": "stream",
     "text": [
      "100%|██████████| 22/22 [00:01<00:00, 16.40it/s]\n"
     ]
    },
    {
     "name": "stdout",
     "output_type": "stream",
     "text": [
      "{'eval_loss': 1.162537693977356, 'eval_runtime': 1.4148, 'eval_samples_per_second': 122.985, 'eval_steps_per_second': 15.55, 'epoch': 3.0}\n",
      "Section Name:  ['Abstract']\n",
      "Generated Summary:   textkey-higson bijection is a one-to-one correspondence between irreducible\n",
      "tempered representations of g group reductive group and irreducible unitary\n",
      "representations of a cartan motion group. The correspondence discusses the facts\n",
      "about the topology of the tempered dual E unit unitary dual, the group groups.\n",
      "It also that the mackey-higson bijection is the tempered groups is continuous.\n",
      "The\n",
      "Section Name:  ['1. Introduction']\n",
      "Generated Summary:   text discusses the existencekey-higson bijection, e tempered dual of unitary\n",
      "dual of a connected reductive algebraic group. a group line. The research has\n",
      "shown that natural-to-one correspondence between the twos, which implications\n",
      "for representation theory. group c-algebras. The bijection is when not being\n",
      "haomorphicism, is significant implicationsological implications and is to the\n",
      "studyergartKnes biHirchov biomorphism. The text of the groupjection is discussed\n",
      "in with the importanceological properties and importance to the-utative groups.\n",
      "The text also to themissible groupss of the propertiesification, on the-.comm..\n",
      "with theures that the solutionsic groups groupological relations. The text also\n",
      "on the relationship dual of of to their existence of the group topology.\n",
      "themissible duals.\n",
      "Section Name:  ['2. Topology of the tempered dual']\n",
      "Generated Summary:   text discusses the Harological of a category representations of a connected\n",
      "reductive algebraic group. a group field. The is the conceptish-chandra\n",
      "decomposition, the direct of continuous representations of The also the\n",
      "presentationposition of the representations in a of the groups. The presentation\n",
      "also discusses the presentation of theets of the group group of the a of\n",
      "examples for to thereducible representations representations. the properties--\n",
      "comm., it discusses a on the presentation of the of the group dual of\n",
      "Section Name:  ['3. Topology of the motion group dual and remarks on the Mackey-Higson bijection']\n",
      "Generated Summary:  itary irreducible representations of motion motion group G mackey parameters for\n",
      "and two mackey-higson bijection is to to The textjection is : e g c e g is\n",
      "auous, the is e are equivalentomorphic, Theatellt's the Macology of the g and\n",
      "and that thekey parameters are to the- of the g and The text of the bijection is\n",
      "discussed by the Mac set of parameters, thegroups, sub. Thegett discusses work\n",
      "is to the specific general theory, providing a into the points and the Mac of\n",
      "the unitimirectors.\n",
      "Section Name:  ['4. Continuity of the Mackey-Higson bijection']\n",
      "Generated Summary:   text discusses the proof of a biMill-Bley continuousjection, which that if\n",
      "bijection is continuous continuous. checking that a any sequence of E bi\n",
      "component of E representations, there the sequence of ir ofges to a, there there\n",
      "is a subsequence of image admits m bijection admits admitsges to The text\n",
      "alsoves into the settingctive and of a resultsations and focusing of parabolic\n",
      "subgroups, parameters series representations, and thekey-. The concludes\n",
      "discusses on the representationag of the groupyl group, with group, and--comm,\n",
      "and thebi thewellt- theorem for the limit of the Mackey-Higson bijection. The\n",
      "text concludes a proofsmmaas, proofs, prove the existence of of the bijection.\n",
      "Section Name:  ['Abstract']\n",
      "Generated Summary:   text discussesves into foundational foundational of poincar E spacesity,\n",
      "including foundational results on poincar E spaces and applications\n",
      "applications. One, it is a relative of an old conjecture of establishing.T.\n",
      "wall. wall in The, the section proves a existence of a relative c pair\n",
      "satisfying relative poincar E duality in dimension n. with also proving that\n",
      "relative of theincaré duality in dimension cases. The, it relative version of a\n",
      "result of Gottlieb is brincar E duality and brermility is proved.\n",
      "Section Name:  ['3. The Thom Isomorphism']\n",
      "Generated Summary:  TheThe authorpsonsolaist, the relationship of dualincarÃ duality, theic\n",
      "termsology,\n",
      "Section Name:  ['8. Historical Remarks']\n",
      "Generated Summary:   text Sectionains section discusses the key of poincar E dual, were been\n",
      "introduced in the surgery for Theder introduced the notion definition most\n",
      "definition, while was adequate for simply connected surgery. inadequate for the\n",
      "complex cases. Klein introduced a def of Poincaré dual that controls both the\n",
      "and boundary su, Klein den was introduced for Kleinivak, which is adequate for\n",
      "the absolute setting but inadequate thecient for the in the general of poincar E\n",
      "pairs. Klein section conclude the section also a equivalent definition for is\n",
      "theuities in different different den. The section concludes discusses the\n",
      "existence of uniquenessomorphism of of Poincaré dual. which discusses is the\n",
      "importance of benefitsleties of the the implementing these. to theseincaré\n",
      "pairs. The section conclude the importance of the properties in the context of\n",
      "the work.. theolds. the topics.\n",
      "Section Name:  ['Abstract']\n",
      "Generated Summary:  renkov light imaging in a to astroparticle physics to detect and measure\n",
      "extraterrestrial particles imp earth. The text is the use of fastrenkov- in by\n",
      "fast charged particles in transparent die such air or water. The experiments\n",
      "techniques are used to this, including breakthrough results discusses\n",
      "breakthrough detection principles and experiments breakthrough with with\n",
      "breakthrough breakthrough breakthrough. Future developments are the field are\n",
      "highlighted discussed. with the focus on neutroparticle detectors and neutrenkov\n",
      "detectors, neutrino telescopes, gamma-ray telescopes, and cosmic-ray detectors.\n",
      "Section Name:  ['1 Introduction']\n",
      "Generated Summary:   text of the award Prize in to Pavel Alexrenkov is a Mikhail and and Igor Yamm\n",
      "is their discoveryrenkov interpretation is markedated with their contribution\n",
      "contribution on astroparticle physics. Cherenkov radiation techniques were been\n",
      "important for the neutrino oscillations, cosmic-energy cosmic neutrinos, and-\n",
      "based gamma-ray astronomy, and the in cosmic-ray physics. The text angle of\n",
      "intensity of Cherenkov radiation are governed by the particleractive index and\n",
      "with velocity, and the ref-Tamm formula. Theing have thisodultiplier methods and\n",
      "filters detectorsodultiplier are differentometersconds times are a key role in\n",
      "the Cherenkov radiation. determine the velories. determine their vel.ing devices\n",
      "the radiation and a for as the between the detectors is the development is key.\n",
      "research of detectorsrenkov radiation are theroparticle physics are being,\n",
      "including the and on examples results.\n",
      "Section Name:  ['2 Ground-based gamma-ray detectors']\n",
      "Generated Summary:  ma-ray imaging are used to Earth Earth to measure the-ray in g energies. are be\n",
      "be measured by satellite experiments. to their collection. These-based\n",
      "instruments are the air cherenkov telescopes are clear nights unob nights and\n",
      "sites elev with measure light pollution. These instruments are a higher focus of\n",
      "view and can measure gamma-ray at high sensitivity.ing arrays at higher\n",
      "altitudeitudes can directly measure gamma-induced particleinduced particle\n",
      "cascadeades. but a larger fraction and the sky. with limited sensitivity. lower\n",
      "energies. to groundrenkov telescopes.\n",
      "Section Name:  ['2.1 Detection principle of Cherenkov telescopes']\n",
      "Generated Summary:  renkov radiation are gamma-ray with g of in the rangeV range, are, focusing the\n",
      "che cascadeades. form. the atmosphere. The Cherenkov angle pool is proportional\n",
      "to the initial gamma-ray energy, The Che also aodultiplier filters photMP\n",
      "techniques to measure the Cherenkov light, at ground detector. a few\n",
      "nanoseconds. The focusing the Che Che,, the researchers identify measure the\n",
      "Che-ray energy and energy, high of 100, of 1% respectively. The raysray-ades are\n",
      "be studied measured by the Si, opticalology and The Che of the gamma is limited\n",
      "by the scattering, the radiation. the energies. the the presence of of high\n",
      "energies. Cheivities of the gamma background gamma-ray sources are also to on\n",
      "the and the observed experiments.\n",
      "Section Name:  ['2.2 Current Cherenkov telescopes']\n",
      "Generated Summary:  -based gamma-ray astronomy was first demonstrated in the late Sixties early by\n",
      "the such theipple and HegraRA, These second generation of i and Telescoperenkov\n",
      "instrumentsopes (Iactss) was operational in the early and and theEGS.S. Magic.\n",
      "MagicS, and VitasAS. These instruments have along with the ground-based iactss,\n",
      "have provided improved sensitivity and gamma gamma-ray sources in They\n",
      "propertiesrenkov telescopes ( (HA) is has been a new of gamma instruments'\n",
      "properties, the table. The instruments have established gamma-ray astronomy as a\n",
      "major field of and more a-ray sources in the tev regime. providing high-energy\n",
      "processes in the universe. gamma- have including as radionov,, havears\n",
      "sourcesingsbulae, and high gamma nuclei, have been observed, gamma-ray sources.\n",
      "have decay. thev.., the C EarthASray telescoperenkov Telescope (GGP) has with\n",
      "aNCC has been used to gamma-term gamma of providing the sensitivityenergy gamma\n",
      "of in the-band gamma.\n",
      "Section Name:  ['2.3 Cherenkov Telescope Array']\n",
      "Generated Summary:   cherenkov telescope array (CTA) is a next-generation i of telescopes designed\n",
      "installed for the between the.E.S. and. MagicS and and theitasAS. TheTA will\n",
      "consist installed in two sites, one in the Palma, Chile northern hemisphere and\n",
      "one other in theO Paranal observ in Chile. The C will consist of telescopes of\n",
      "three sizes, with large, (opes (LSTs), Medium Size Telescopes (MSTs), and Small\n",
      "Telescope Telescopes (SSTs). The C will be on the spectral instruments, as the\n",
      "surveys and, radio ultraviolet, the stars, high holes. and high into the Earth\n",
      "of the matter.TA will designed to be operations operations in 2018 2018 near\n",
      "operational operational in this with significant advances in the-ray and. deep-\n",
      "energy physicsysics. first will be installed in part opticalatory in with the\n",
      "components facilities being for the firstTA..\n",
      "Section Name:  ['2.4 Timing arrays']\n",
      "Generated Summary:   highitudes exceeding about,, gamma showersades induced by gamma-ray and cosmic\n",
      "rays reach be observed using arrays arrays. as water tanks. ultra-going charged\n",
      "particles. cherenkov light. by PT. The showers are the intensity time of the\n",
      "shower front front as determine energy energy of the particle particle and The\n",
      "intensityACC detector array in Mexico is with an altitude of about,5 km, is the\n",
      "the most common to its type. with high effective estimate for on mu mu's and mu\n",
      "on. TheAWC also also leptonic and hadronic showers using provide a array\n",
      "resolution of about 1.5 m. both-ray and. the mV. the detector detector of\n",
      "interest, a- potential, HAWC can able suitedplacedited for observing these-\n",
      "energy particles-ray showers. the space such such insights insights for future\n",
      "research. the ray and other-ray emissions.\n",
      "Section Name:  ['3 Neutrino telescopes']\n",
      "Generated Summary:  NeNeutrino telescopes are high neut of neutrenkov light from by neut secondary\n",
      "particles emerging from neutrino reactions. detect neutrino. and are difficult\n",
      "to detect in to their small interaction cross section. Ne neut are use of\n",
      "detectors and with high dieleric medium and a in multionicassiplier detectors\n",
      "(PMT). Ne-energy neut are installed in deep undergroundunderground caverns and\n",
      "aT covering large large percentage of the detector. while high-energy detectors\n",
      "are water abundant volumes or ice..ed with three-dimensional arrays of PMTs.-\n",
      "detectors neutiodes (SDs) are used suited for neut in neutrino telescopes due to\n",
      "their high noise rates.\n",
      "Section Name:  ['3.1 Low-energy neutrino detectors']\n",
      "Generated Summary:  -energy neutrinos X have neutrino interactionses from the sources, as the sun,\n",
      "supernovae, and neutrinos, and cosmic neutrinos for cosmicators. These types are\n",
      "detected, different particle, with as the neut, solar neutrinos and high- N for\n",
      "for atmosphericnova neutrinos. The physics questions are through neutrino\n",
      "oscillations, processes in the sun and innovae, and searches for relic neut\n",
      "sterile neutrinos. The detectors detectors have the-Kamiokande inJapan) in Japan\n",
      "and the subury neututrino Ob in Canada, have provided outstanding results. and S\n",
      "in Canada remote in a underground-reat of neut, is a key role in the discovery\n",
      "of neutrino oscillations. studybury Neutrino Observatory has Canada has which\n",
      "a-, has provided to the the neut neutrino oscill. providing therino\n",
      "oscillations. study window neutrino interactionsations in to the discovery Prize\n",
      "in Physics in awarded for theerenceaki Togiw, the Frediss Mats for 2014.\n",
      "Section Name:  ['3.2 Deep-ice and deep-water neutrino telescopes']\n",
      "Generated Summary:  utrino- are which as thoseCube and the South Pole, areib in the Mediterranean\n",
      "Sea, and the L C- inut in the North Sea are designed for accessing neut-energy\n",
      "neutrinos. atmospheric effects. These instruments are high ice and deep- a\n",
      "platform platform, with the of highometersultiplier tubes attachedPMT) attached\n",
      "to the structures. measure neutrenkov photons. by neutrinos-. The- and the first\n",
      "neut-energy neutrino detector in is been the observation of neut-energy neut\n",
      "neutrinos at mu construction of neutrino with neutysical neut.ares is the not\n",
      "than is been been the advances to therino astronomy. aim section of the will the\n",
      "theCube and the new3NeT in a will be a neut capabilities and neut detection\n",
      "resolution and sensitivity. and for reach neutrino detection. provideation\n",
      "detection., the projectaf Ne (ector ( the Baikal ( the, is being development,\n",
      "study increase therino astronomy in. instruments will a key role in the-phenger\n",
      "neut, provide-.. the neut neut.\n",
      "Section Name:  ['3.3 Other neutrino detectors']\n",
      "Generated Summary:  : A refers new approach for detecting high-energy neutrinos is using particles\n",
      "ofactiverenkovactsopes (Iactss) directed on the sea surface surface surface\n",
      "surface. Theutrinos are the earth under high z and charged with are aau\n",
      "neutukosp, which are into the atmosphere. producing an air showers. The\n",
      "mechanism method has been the method, with other experiments approaches have\n",
      "detecting tau neutrinos have the mechanisms have discussed consideration.\n",
      "Section Name:  ['4 Cosmic-ray and hybrid detectors']\n",
      "Generated Summary:   hybrid detector infrastructures are cherenkov and with other measurement, sc\n",
      "uorescence light, direct particle detection with or radio detection. The hybrid\n",
      "infrastructures are target on cosmic rays, gamma in gamma-ray and neutrino\n",
      "measurements. The largest-er observ in Argentina is a largest hybrid detector\n",
      "system to combining water tanks and direct detection detection with Uorescence\n",
      "telescopes observing search the showers. The Patory searches the rays and the\n",
      "Earth range theA searches for gamma-ray and neutrinos in the same energy.\n",
      "Theer's a a insightss in the work remain the ray and unanswered. to are theer\n",
      "are are theintillator and, improve the detection detection and research are\n",
      "theASu and thea are aim Che inf systems. cosmic ray and. research are theAS and\n",
      "and and the and the- toASAS1PC in in LSel in being on combining-ray and with-\n",
      "fast- cosmic rays, and otherrino.\n",
      "Section Name:  ['5 Conclusion and Outlook']\n",
      "Generated Summary:  renkov detectors play fundamental for the-ray, nerino and and cosmic-ray\n",
      "physicsroparticle physics. and breakthrough breakthroughs. future for future\n",
      "experiments. The studies are projects are cherenkov detectors are including as\n",
      "the-K. experiments.T. areS, and,AS, and,, and the-er,, are a key role in the\n",
      "theseroparticle physics., Che in solid detectors are theirodultiplier are\n",
      "enhance to the development. growth. developments are being for the the\n",
      "understanding of these-energy physics and space universe.\n",
      "Section Name:  ['Abstract']\n",
      "Generated Summary:   text discusses the algorithms algorithms for ranking scores inference from\n",
      "comparison data. The key of the ranking scores to items based on observed\n",
      "comparison data. information including as information search, aggregation\n",
      "opinions,, electronic online learning algorithms. The key is on the evaluation-Z\n",
      "algorithm, its application to machine comparisons and choice, and full ranking\n",
      "outcomes. The study algorithm is applied for its performance estimation accuracy\n",
      "likelihood posteriori estimation estimation. ranking parameters. The\n",
      "couplingisation of the model rate are the Bradley algorithm are also, with the\n",
      "focus algorithm of the the rates results show the algorithm performance rate.\n",
      "the Bradley Bradley algorithm. suggest promising gains. the addition algorithm.\n",
      "Section Name:  ['1 Introduction']\n",
      "Generated Summary:   aggregation is an task task that a applications, as recommender systems, online\n",
      "gaming, and evaluation learning algorithms It goal is to infer ranking scores of\n",
      "items or on observed data that contains partial between The some section, the\n",
      "focus is on developing development of accuracy of ranking algorithm algorithms\n",
      "for ranking scores inference from with accelerated accelerated algorithm of\n",
      "improve this- and The algorithm also discusses the techniques for ranking scores\n",
      "and including the use-K model of algorithms, The study of the clustisation, the\n",
      "models, the algorithms thes, and the performance of the data on on performance\n",
      "rates, The text algorithm algorithm is significant performance in performance\n",
      "rates, paper also is theyingity and, the analysis, therices. with a models for\n",
      "predictions results results. the performance performance of the algorithm\n",
      "algorithm.\n",
      "Section Name:  ['2 Problem formulation']\n",
      "Generated Summary:   text discusses generalized Br-ter model of paired comparisons with focusing\n",
      "each are paired with a-lose pairs. The model of outcomes is given by with the\n",
      "model is parameter studied in categ literature. The convergence estimates is\n",
      "convergence are are are addressed, with the on the and and as parameterRA and\n",
      "the descent. Thegence results are the models are discussed, with the importance\n",
      "of the a-param optimization for. The data like categxity are discussed\n",
      "discussed, help in the the model of.\n",
      "Section Name:  ['3 Convergence rates']\n",
      "Generated Summary:   text presents general rates for gradient descent and map algorithms for the\n",
      "likelihood models map likelihood posteriori estimation for the br-ter model of\n",
      "paired comparisons with The convergence theorems are strongly convex and smooth\n",
      "functions are presented, withizing the rates for terms of strong parameters.\n",
      "These results are extended extended to other convergence rate bounds for the br-\n",
      "ter model of other generalized, including as the Ra-kupper model of Race choice\n",
      "model, and Plackett-luuce ranking model. The results can insights results rates\n",
      "boundsiza for with the on for the text on The\n",
      "Section Name:  ['3.1 General convergence theorems']\n",
      "Generated Summary:   any smooth function satisfying the inequalities, gradient gradient descent\n",
      "algorithm with a convergence with the rate rate of The result is due to Nesterov\n",
      "and a be proved in the simple in Boy and vanenhe. The, the new result shows\n",
      "presented showing that the mm algorithm also has linear convergence, smooth and\n",
      "strongly convex functions. gradient conditions. The textms are in that the\n",
      "convergence algorithm is a lin rate rate to to the - descent algorithm. and the\n",
      "rate difference being the increase step step step function.. The\n",
      "Section Name:  ['3.2 Maximum likelihood estimation']\n",
      "Generated Summary:   text discusses the likelihood estimation for the Br-ter model of paired\n",
      "comparisons. The model log- likelihoodlihood function is - by zero a par vector\n",
      "that The parameter is - convex on smooth on with the rates defined in in terms\n",
      "of the parameterplacian matrix.igenvalue. The model rate is determined, with the\n",
      "determined on the La of La items comparisons. The model also discusses on the\n",
      "likelihoodveriorlihood andability (imation ( with the importance between the\n",
      "rates between to the Alihood Est. and that convergence rates higher-.. The\n",
      "section concludes with a the importanceness of the model rate for in the model\n",
      "model of\n",
      "Section Name:  ['3.4 Tightness of the rate of convergence']\n",
      "Generated Summary:   example with two items, m times allows a closed formform representation for\n",
      "parameter parameter vector estimate w and the log-a posteriori probability\n",
      "function ( Thegence is is is tight theiting = = = Â + m \u0013 for with the constant\n",
      "of convergence /m for small items The simple illustrative example shows that\n",
      "small-off between the number of it and convergence versus parameter. Theer\n",
      "values of parameter to slower convergence, map and while the algorithm algorithm\n",
      "for map can be slower slower. for ml. The rate rate is be defined by tw||,\n",
      "establishing tight tightness of the rate of convergence bound.\n",
      "Section Name:  ['3.5 A simple illustrative numerical example']\n",
      "Generated Summary:  TheThe text discusses the rate of convergence for randomly randomly example\n",
      "example, paired comparisons. The demonstrates how the number of iterations grows\n",
      "as the value becomes increases. how the affects affected by the value value. The\n",
      "convergence is a randomly-ter model of a parameter parameter vector.. The show\n",
      "that the convergence algorithm for map estimation is parameter parameter\n",
      "parameter is is be much than the mm algorithm for ML estimation. Thegence time\n",
      "for gradient descent and mm algorithms for also using different parameters\n",
      "values, with results of real equal parameters times. different parameter values.\n",
      "The comparisonuous in the times is also, with that parameter for different\n",
      "problems values. Theient descent and tested, aging times over a specific\n",
      "parameter. not much for larger the right parameter. convergence map. The\n",
      "Section Name:  ['4 Accelerated MAP inference']\n",
      "Generated Summary:   new algorithm algorithm for gradient estimation and presented, this section,\n",
      "introducing transformed descent and map algorithms for The transformed element\n",
      "is a transformation transformation estimate in the of the optimization obj along\n",
      "ensuring-order properties of maintained along Theformed versions of gradient\n",
      "descent and mm algorithms are introduced, a mapping and and The are convergence\n",
      "are guarantee are discussed, with the need of ensuring function and mapping..\n",
      "Section Name:  ['4.1 General convergence theorems']\n",
      "Generated Summary:   text discusses theizations conditionsorems for to standard and. The theorems\n",
      "assume crucial on the on as standardness and st gradientxness, and orth st\n",
      "gradient.. a vector function value Theoreorems are a of convergence for\n",
      "certain-, are-. and a convexity and. on a. the gradient f is orthogonal to\n",
      "vector vector vector. The, the conditionmma is introduced to the convergence of\n",
      "of, which involves the specificx set orth-transiated function with a specific-\n",
      "imfinite function.. which the convergencesl inequality is satisfied. The\n",
      "Section Name:  ['4.2 Convergence rate for the BT model']\n",
      "Generated Summary:   section discusses on theising the convergence rate for the estimation in the\n",
      "Br-ter model of paired comparisons. The framework de in used to define the log-a\n",
      "posteriori prob function for which the descent and mm algorithms. The for the\n",
      "are demonstrated, with that in the rates and to previous methods. The analysis\n",
      "method algorithm is also, aaled and, the convergence times The data show that\n",
      "use of the framework mm for the the times.\n",
      "Section Name:  ['5 Numerical results']\n",
      "Generated Summary:   section presents evaluation evaluation on convergence times of generalized\n",
      "algorithms for different generalized br-ter models for real-world datasets. The\n",
      "convergence is to provideically validate the properties. The numerical show that\n",
      "the convergence time mm mm algorithm for map likelihood priori mapM) estimation\n",
      "is be much than that map a (ML) estimation. The convergence algorithm for map\n",
      "estimation has convergence convergence time as parameter parameter distribution\n",
      "parameter. The accelerated mm algorithm can in section section can reduces the\n",
      "time. The section and datasets for reproduicating experiments experiments are\n",
      "available online.:://github.com/gdmmbt/ acceleratedceleratedbradleyterry.\n",
      "Section Name:  ['5.1 Datasets']\n",
      "Generated Summary:   datasets are considered to this study to gififgif, chess, and aLP. Theifgif\n",
      "contains contains user evaluations of digital images by paired comparisons.\n",
      "different such amusement, content, and happiness. Chess dataset dataset contains\n",
      "game- for matches among chess players. N Nascar dataset contains game- results\n",
      "results for The algorithms were tested for the of the datasets. including the\n",
      "Bradley-ter model Z-Zley models. Thesequentlypling the performed to evaluate\n",
      "convergence convergence of a convergence ( for the where multiple datasetic\n",
      "model was the paired was low. The\n",
      "Section Name:  ['5.2 Experimental results']\n",
      "Generated Summary:  TheThe the section Procedures section, the convergence time den the algorithm is\n",
      "defined based on the difference of iterations needed a convergence criteria is\n",
      "reached. The algorithm convergence criteria is used to with the difference of\n",
      "successive param estimates estimates. The algorithm time is defined as the\n",
      "smallest int with w parameter is satisfied. The results show that the the\n",
      "algorithms, algorithms, the convergence time is significantly The algorithm\n",
      "algorithm is ranking inference isges to than the other algorithms. leading for\n",
      "the datasets estimates. The algorithmated M algorithm is a significant\n",
      "improvement in the times compared to the standard algorithm. any. The is\n",
      "estimated that the consideration of the algorithm values is the dataset is\n",
      "possible for efficient accurate. and it in experiments results. in\n",
      "Section Name:  ['6 Further discussion']\n",
      "Generated Summary:   generalized br-ter models, gradient gradient descent and gradient algorithms\n",
      "for the likelihood estimationML) estimation have linear convergence with the\n",
      "convergence time bound of o/a), where d is the maximum number of observed\n",
      "comparisons per item and a is the algebraic connect of the matrix m of observed\n",
      "counts-pair co-occurrences. For convergence time for gradient estimation\n",
      "algorithms tight lin, with a tight bound. O(artupleO, The slow algorithm\n",
      "algorithm for ranking estimation is the convergence issues for with an into the\n",
      "to comparisons data table the map time. The study time for shown by the such and\n",
      "matrix matrix with the n being a best convergence times Theized algorithmsrices\n",
      "are aoulli-ness are also shown for with a convergence time being by a time of\n",
      "the matrix matrix. The generalized estimation, a descent algorithms mm\n",
      "algorithms, the convergence time is is tight(sq),m),m(m), with a matrix being\n",
      "O(n). = the matrix matrix. The\n",
      "Section Name:  ['7 Proofs and Additional Results']\n",
      "Generated Summary:  TheThe text discusses a proof of the theorem on to gradient descent iter. The\n",
      "theorem involves that the the conditions are met, the algorithm f is be defined\n",
      "as terms of the - descent the. The theorem also the assumption that f is smooth\n",
      "on the the - inequality. The taking the inequality inequality for f particular,\n",
      "the algorithm theorem can proven. The\n",
      "Section Name:  ['7.2 Proof of Theorem 3.2']\n",
      "Generated Summary:   text discusses a proof of theorem M.1, the context of iter M algorithm. update\n",
      "for It the the facts, arguments, it proof proves the existence between the Mant\n",
      "surrogate function and the majorness condition on with to the conclusion that\n",
      "the theorem. The, it comparison of made between the theorem 3.2 and the\n",
      "proposition in theairal theorem theorem. showing on the relation of of of from\n",
      "the facts inequalities. the case of iter convex functions. the functions. The\n",
      "proof shows with the theorem rate of is the theorem 3.2 is be expressed than\n",
      "expected of the theorem 3 the conditions are satisfied. leading the the case-B\n",
      "case..\n",
      "Section Name:  ['7.4 Proof of Lemma 3.1']\n",
      "Generated Summary:   textian of the negative log-likelihood function has defined to be he elements,\n",
      "on the he between the. The is shown that be c-strongly convex on smooth-smooth\n",
      "on ir ir. The, it properties are to the heet he are shown, showingirming that\n",
      "existence between the.\n",
      "Section Name:  ['7.5 Proof of Lemma 3.3']\n",
      "Generated Summary:   text discusses the use of theann-.0, which that the positive type with a semi-\n",
      "deninite, a Taylor expansion. The also discusses the surrogate function for the\n",
      "br-ter model, shows the the is an r-order sur function. The text rate for also\n",
      "to be a log function, with the for made to improve the algorithms of to therices\n",
      "and the mat. The\n",
      "Section Name:  ['7.7 Proof of Lemma 3.4']\n",
      "Generated Summary:   text discusses the log of to theann's.1, showing the log-like posteriori\n",
      "probability function and The shows the concept-alihood function and prior prior\n",
      "log-likelihood function. with are to a proof matrix with The proof also the the\n",
      "log is e-strongly convex on smoothsmooth on w given set of with a support on the\n",
      "conclusion.\n",
      "Section Name:  ['7.8 The asymptote in Section 3.4']\n",
      "Generated Summary:   the case where two items are compared m times, with the number of comparisons\n",
      "won by items items increasingoted by d and d, Theojnovic, Y and and Zhou\n",
      "introduce an ranking algorithms for ranking scores inference from comparison\n",
      "data. The algorithm iterates w such to a linearlinear dynamical system, with a\n",
      "limit point as the. where by the. The explicit for derived for the = ( + a),\n",
      "which the solution limit point The a, the is shown that the = log log from\n",
      "algorithm is a is derived as a linear s +Â + m \u0013t for The algorithm of is the\n",
      "algorithm functioncur functioni is is is determined to be 1iting, = for logÂ m\n",
      "\u0013t The\n",
      "Section Name:  ['7.9 Proof of Theorem 4.1']\n",
      "Generated Summary:   text discusses a proof of that f all x ir the,n, f ff)f) = f (f) The following\n",
      "the steps as those the proof of the- proof, it shows shown that f (f)x) = a to f\n",
      "(f) and to the conclusion that f (f) = f(x(x) The\n",
      "Section Name:  ['7.10 Proof of Lemma 4.1']\n",
      "Generated Summary:   text discusses the limited of limitedann-.0, which states a a limited Taylor\n",
      "expansion to a that for any x,, Y, a,2, f operators are. all specific of = F\n",
      "assuming f + v, on the den, and Y, the is shown that f = be expressed as terms\n",
      "of f + v. The text also discusses the for show prove the relationship f and\n",
      "terms of ax and y, and min., it text shows that that f any a,, f relations are f\n",
      "and ax, and r are. and leading to aore of = fv..\n",
      "Section Name:  ['7.11 Proof of Lemma 4.2']\n",
      "Generated Summary:   this section, theann's,1, the is shown that the mapping mapping is equivalent\n",
      "to a expression, and the specificwisewise-step proofation.. The proof involves\n",
      "proving the to proving the, theappings, and proving that inequalities the\n",
      "conditions. the mapping range. The show obtained by theic inequalities, proof of\n",
      "the inequalities of\n",
      "Section Name:  ['7.12 Proof of Lemma 7.1']\n",
      "Generated Summary:   text discusses the log of logann's's1, the series section, showing on the log-\n",
      "likelihood of for its comparisons. the data. The shows the importance between\n",
      "log comparisons and tie outcomes. items. and j. and with the implications of\n",
      "log-j and ti,j. The text is defined to be robust-likeoot, then- log-log,-x on ir\n",
      "ir y log log that the,x n - The\n",
      "Section Name:  ['7.13 Proof of Lemma 7.5']\n",
      "Generated Summary:  ectann's. The presents the convergence of the in the set set. The combining the,\n",
      "the,, v, and w variable of, it is possible that for properties between the can\n",
      "the set is the conditions. results leads to convergence convergence that the\n",
      "space and the set with and the properties of in the sectionmma. le also\n",
      "discusses the between therices and theates the key of convergence\n",
      "convergenceacency.rices. resultates in the convergence time bound for the\n",
      "particular set. which the for the convergence complexity of the functions.\n",
      "Section Name:  ['Abstract']\n",
      "Generated Summary:   text discusses a pedagogical introduction to the sterile of the neutrinos, a is\n",
      "used particles that to resolve anomalies in neutrino data and retain consistency\n",
      "with observed observed widths of the w and Z bosons. The text discusses existing\n",
      "anomalies and theation parameters, and for de sterile neutrinos, and the search\n",
      "consequences of their existence. The also the potential loss of coherence in\n",
      "neutrino oscillations models with sterile neutrinos. and the importance in The,\n",
      "the current discusses discusses searches search status of searches for a\n",
      "neutrino states. The\n",
      "Section Name:  ['1 Introduction']\n",
      "Generated Summary:   text model of three generations of leptons grouped the, positon, and wau. which\n",
      "with in sults. Theutrinos are these double are den to the specialary p,\n",
      "Theutrinos-ations states with special field, in the interaction of lerino and\n",
      "and the with the bosboson, is the interactions in thept numbers.. The\n",
      "studyations is is definedscopic, the on therino masses. The the specific model-\n",
      "dimensionalutrino model is the-, the more complex one functionformaging model\n",
      "shows a properties, the energyation rate.- neutrino oscillations rates are the\n",
      "different-neutrino model, with a propertiesrino properties and and\n",
      "Section Name:  ['2 Anomalies in neutrino data']\n",
      "Generated Summary:   text of an in neutrino data is been to the proposal of a sterile neutrino\n",
      "state. The anomalies are be described by a three-neutrino model, are instead in\n",
      "an appearance appearance and disappear of neutrinos. The\n",
      "Section Name:  ['2.1 Appearance and disappearance data']\n",
      "Generated Summary:   text discusses the and disappearance data from to neutrino energy in TheND\n",
      "observed an excess of e Erino in their study of with a sign neutrino energy of\n",
      "about mev. a sign sign of three three standard deviations. Minibole observed\n",
      "observed an excess of e neutrinos, aineutrinos, a sign of about three\n",
      "deviations. Theearance data include calibration fraction dec in e neutrino from\n",
      "aineutrinos from calibration sources and the and GalLClex experiments\n",
      "experiments. but a % dec of electron neutrinos from reactors. to a calculation.\n",
      "The of these anomalies show a distinct lation dependence pre predicted by\n",
      "Section Name:  ['2.2 Interpretation of anomalies within the hypothesis of neutrino oscillation']\n",
      "Generated Summary:  TheThe text discusses that neut in be explained by neutrino oscillation, but the\n",
      "such evM ev and sin ( (s) being used parameters describing the observed. The,\n",
      "the concept m ev does not fit with measured values of by the extension. The\n",
      "leads the concept extension of the le Model ( adding an lerinos to to the in the\n",
      "widths of w and z bosons. The text of arino from the sul doublet adds increases\n",
      "the parameterss, leading the uncertainties. Theing the concept of sterile\n",
      "neutrino is recommended essential to with the need for further research.\n",
      "Section Name:  ['3 Concept of Sterile Neutrino']\n",
      "Generated Summary:   text neutrino state is the a neutrino state without the Standard Model ( adding\n",
      "left left-handed le. leptons. Theermions masses are the SM Model are mass via\n",
      "theawa interactions with scal scalar eld with twoermions-. The concept of frinos\n",
      "are acquired by the left left in the equationrangian with such in a neutstile\n",
      "neut neut-handed neutrino state. is not include with lefterm left.ons. Theizable\n",
      "the a neut of leptons is introducing left-handed left to the left andptons and\n",
      "leftrinos. Theagram particles of the-zeroagonal particles- is used by the\n",
      "ofrices, allowing to a with the andons and W non of. W left andptons and\n",
      "neutrinos.\n",
      "Section Name:  ['3.2 Four right-handed neutrinos and three left-handed doublets']\n",
      "Generated Summary:  terile neutrino emerge be if there are four right-handed neutrino and still\n",
      "left-handed doublets. The equation between the fourth right-handed neutrino with\n",
      "with the Higgs bos left-handed neutrino in to non-diagonal terms like the\n",
      "interaction-. The is in a new matrix with is the dimension of theG H neutons.\n",
      "The relationship- of the neutrino fields is the interaction of of of the and\n",
      "Z,ons, The relationship of a neutrino in be the energy ratess W bosons. leading\n",
      "the result rates reduced to the mass of neut neutrino states. relationship of\n",
      "sterile neutrino is a diagonal for matrix matrix neut passive neutrino fields.\n",
      "with to a non- of the neut neutrino fields. different energy. the and Z bosons.\n",
      "Section Name:  ['3.3 How sterile neutrino state can be observed']\n",
      "Generated Summary:  terile neutrinos oscill are be measured in neutrino oscillation as the dec of\n",
      "the event rate and a dec pattern in appear- disappearance channels. charged\n",
      "charged and neutral currents. The presencearity of the pm is the P is the\n",
      "existence of sterile neutrinos. Thisments of neutrino- in decayrino-less beta\n",
      "decays of measurements insights into the neutrino. The theine, neut neut\n",
      "neutrino is the-field neutiomes and the decay of of neut neut. The ratesrino are\n",
      "to the formation transfer of neut neut, leading by the neut neutrino.. The\n",
      "Section Name:  ['3.4 Loss of coherence for sterile neutrino']\n",
      "Generated Summary:   argument exponential in the second of responsible for the cohe of neutrino\n",
      "states at production and detection. Ithe is neut is possible if uncertainty\n",
      "uncertainty in the the intermediate of much larger than m determination\n",
      "determined. Theutrino from pion decayays are co for atmospheric and accelerator\n",
      "neutrinos, The argument of that existence that arino cohe, in plane plane wave\n",
      "model. The equation of the relat function model shows shown to the measurement\n",
      "of therino coations.. The analysis shows the the neutptons are not formate in to\n",
      "the high mass. to non neut of the measurements. The\n",
      "Section Name:  ['3.5 Confusions in terminology']\n",
      "Generated Summary:  icists working cosmologists use the term sterilestile neutrino\" to the meanings.\n",
      "Theicists working with neutrino oscillations and it sterile neutrino as a\n",
      "coherent superposition of mass eigenstates. Cos contrastm, sterile term sterile\n",
      "used used to refer to the fourth state, with the conditions. The\n",
      "Section Name:  ['3.6 Current status and perspectives']\n",
      "Generated Summary:   world research program is carried the possible existence of a sterile neutrino\n",
      "state. There experiments have data suggest the existence, the neutrinos, but the\n",
      "are also on parameter parameter space for this still particle. The neut\n",
      "antineutrino anomaly, which dec in calculations E calculationsineutrino, to\n",
      "calculations, and been addressed by a including DansSA and NOS. The observeda\n",
      "Bay experiment has a in reactor Eineutrino due due due to the presenceope U, The\n",
      "excluded DAS and Dastley were which reported equal neutrinos oscillations, also\n",
      "also line with the results of from the experiments. Themological data on limit\n",
      "the parameter parameter of sterile neutrinos. with the for the experiments neut\n",
      "and and the. the Big ray background.\n",
      "Section Name:  ['4 Summary']\n",
      "Generated Summary:  terile neutrinos are a super particle coined to resolve anomaliesrino data\n",
      "anomalies. the framework Model ( The the section, a neutrinos are defined super\n",
      "of super neutrinos states and with the interaction amplitude being on the\n",
      "numberherence of the neut neutrino field. The interaction avoids that the in\n",
      "observations can be avoided by neut is a disparity between the number of neut\n",
      "neut inert neutrino species. an extension Model.. The data supports consistent\n",
      "consistent of the sterile neutrino hypothesis, a bulk of ev,V, a oscill\n",
      "conditions of The, the is a evidence for accelerator and at data. support doubt\n",
      "on the. to the neutrino oscillation. Themologyological models also supports the\n",
      "sterile of a fourth neutrino with ev mass and energy parameters. leading the\n",
      "applic neut range. The these challenges, the research suggest shown potential to\n",
      "improve the concept of of sterile neutrino.\n",
      "Section Name:  ['5 Acknowledgments']\n",
      "Generated Summary:   text discusses references. Na. Naumov, C. K. Kullenberg for reading assistance\n",
      "of comments comments on the manuscript. The also acknowledges references number\n",
      "range of references references, references proceedings, to high-energy physics.\n",
      "including the by P authors. proceedings. as theuk Aonte P, al. high. Pir,Hvalo,\n",
      "al, A. Dak Fulsahir,, al, and Saki M. Mhn,, al. in references are a ranging\n",
      "highrino-, highysics, and high physics.\n",
      "Section Name:  ['Abstract']\n",
      "Generated Summary:   text presents questions question of semusible rings by establishing the\n",
      "questions posed in establishing a new characterization of semiprime left goldie\n",
      "rings. The also presented that a semiprime ring r left goldie i it has regular\n",
      "left fusible and has a left left goldie dimension. The\n",
      "Section Name:  ['1. Introduction']\n",
      "Generated Summary:   text introduces the concept of leftusible rings, the context of associative\n",
      "rings. unity. The f divdivisors are left regular div are introduced in with the\n",
      "notation of left annihilusible decom is introduced. The text also theusible\n",
      "rings left rings, focusing left and zerousible rings, left discusses the between\n",
      "leftisarime left zerof-. Thenomial left are left left are theusible rings are\n",
      "also, be left fusible, The text also to clarify the about by in introduces new\n",
      "concepts into left concept of leftusible rings.\n",
      "Section Name:  ['2. Results']\n",
      "Generated Summary:   text discusses the definition of regular left fusible rings. discusses\n",
      "properties. It states a and showing, and proofsmmaas. to the fusible rings.\n",
      "their left fusible rings. The also the definition between left andible and left\n",
      "leftusible, the, showing the the context of leftelian rings. left-f.fethf. The\n",
      "text also discusses a related suchollaries, and examplesorems related left\n",
      "leftusible in andaritypointity, and ff rings, and fteness rings, and left rings.\n",
      "left left fusible rings. text concludes with a argument that the existence of\n",
      "left left left fusible rings in leftlynomial ring. left.\n",
      "Section Name:  ['Abstract']\n",
      "Generated Summary:   text discusses the X Phi knights Landing, a new-level, method that allows high\n",
      "execution and for also the importance of theMP and high, the fly, allows the use\n",
      "of the's Phi KnightsL in the tasks. text also the use of theMP to and Xeon Phi\n",
      "Knights and the Landing in the context.\n",
      "Section Name:  ['1 Введение.']\n",
      "Generated Summary:   text to the key of publication of the HX system system, the detection and with\n",
      "in use to the case of artificial. The study is been promising in predicting and\n",
      "in the systems, including is use in been tested developed by the addition of a\n",
      "\"I code-. is is been the accuracy's performance in accuracyability, allowing it\n",
      "capable potential tool for detecting researchers.\n",
      "Section Name:  ['2 Постановка задачи.']\n",
      "Generated Summary:   text discusses the series structure involving the t of inequalities, their. by\n",
      "the set of inequalities. their. formulas involves the the between the in the\n",
      "series set. the the conditions. to the.. formulas involves the problem involves\n",
      "a the distributionidean distance between points of points. a set space.\n",
      "Section Name:  ['2.2 Последовательный алгоритм.']\n",
      "Generated Summary:   section discusses the pie approach for theian, which a Hwise decom\n",
      "approximation ofPAA) method. The involves the of as:,tmu) and variance (\n",
      "(Smuigma) to the such the points. result is to achieve theant and the specific\n",
      "and using the between the points. the the average possible between the errors.\n",
      "Section Name:  ['3 Параллельный алгоритм поиска диссонансов PhiDD']\n",
      "Generated Summary:   section discusses the new structure for calculatingance in, \"-, algorithm is\n",
      "based to the X Phi and and is a-ations to find identify data. is a operations\n",
      "for a, a of with the the defining the. on the parameters. algorithm is includes\n",
      "a like the, the terms. determine the compareise the.. the searchance search..\n",
      "Section Name:  ['3.2 Реализация алгоритма']\n",
      "Generated Summary:   text discusses the overview for of a parameters, as:-isation, word\n",
      "multiplication, and decom, and index selection. operations is aMP and discussed\n",
      "for parallel parallel. algorithm is to achieve the problemsords and the parallel\n",
      "normal using the between generating the potential.. algorithm involves a steps\n",
      "for the operations, theMP and achieve performance and\n",
      "Section Name:  ['4 Вычислительные эксперименты.']\n",
      "Generated Summary:   text discusses the methods in a programming in aMP parallel. the.. code involve\n",
      "aating over a dataence, determine the between times. the parallel for. data and\n",
      "as a X processors Intel processors processors are used to achieve parallel\n",
      "parallel.. with the maximum on the processing..DPUs and high highnlops.. code\n",
      "also a calculations and the between determine the most efficient dataence for.\n",
      "Section Name:  ['4.2 Результаты экспериментов']\n",
      "Generated Summary:   text shows the code for to the Intel of the X Phi in in including the Landing\n",
      "andIntel)) and Knights Corner (KNNC). The text involved that such as the power,\n",
      "the of other platforms, Intel Xeon Phi Intel Xeon.PCMX parameters are as speedD\n",
      "and PD-M are used to assess the. with the focus on the operations.. the power.\n",
      "Section Name:  ['5 Заключение.']\n",
      "Generated Summary:   text of discusses the series on a new approach discord for high timearding in a\n",
      "series.. a basis Xeon Phi platform landing machine-time machine. The paper\n",
      "isages theCL, to high conc, with the- results: parallel-putingation and\n",
      "parallel. The results show that performanceability and the algorithm, approach\n",
      "is being for the reasons, high, finance, and finance change. rely on high series\n",
      "data. paper is the computation mining and parallel-, high performance. the\n",
      "processor Xeon Phi. Landing..\n",
      "Section Name:  ['Abstract']\n",
      "Generated Summary:  ust editing is also known as correlation clustering, is the a graph to adding or\n",
      "deleting edges to form a cluster graph. The-world networks often overlap\n",
      "overlapping clusters, and as those social networks biological networks. This new\n",
      "variant of in this paper involves vertexices to be split into two vertices, such\n",
      "cluster more to be to a than one cluster. The variant approach is which \"\n",
      "editing with vertex splitting, is well to be effective-complete and\n",
      "effectiveable in appliedized using a appropriate number of clusters clusters\n",
      "pairsvertitting edges vertex-spliting operations. The paper isates a development\n",
      "of cluster problem in with insights into the application and applic\n",
      "applications. future the..\n",
      "Section Name:  ['Introduction']\n",
      "Generated Summary:  uster editing is the a graph into a disjoint union of cliques by edge sequence\n",
      "number of edge-editing operations. The problem is NP-complete and tract\n",
      "tractable when parameterized by k total number edge-. The clustering methods the\n",
      "vertex to one cluster, leading vertex can be be the when theices play involved\n",
      "in multiple clusters. as shown in the regulatory networks. A address this issue\n",
      "a new variant of introduced, cluster editing with vertex splitting. which for\n",
      "the clusters. This text introduces that concept variant to NP-complete and tract\n",
      "the applicization parameter. The newlynomial- is introduced, a parameterique,\n",
      "The paper also also as a on the, algorithms,, and-, and clique, and, and the\n",
      "work.\n",
      "Section Name:  ['Preliminaries']\n",
      "Generated Summary:   text discusses ainaries to graph graph paper of graph theory, introduces-. It\n",
      "introduces a for graphs, positive up using-, and, andgraphs, and logized\n",
      "complexity. It introduces parameter concept-time hypothesis, introduces graphs.\n",
      "It text also parameter concept of for the graphs and the- and the the existence-\n",
      "completeputableteness. It text of the proof of logsat to to a- parameter- to -\n",
      "the using --. The text is the the log graph can can S- can NP-complete. the a\n",
      "known solution. the S-time hypothesis. The\n",
      "Section Name:  ['NP-hardness']\n",
      "Generated Summary:   text discusses the existence-hardness of cluster editing with vertex splitting.\n",
      "focusing that the are no O O for the conditions are met. The section for in the\n",
      "section does not produce in in with constant maximum degree. but instead\n",
      "produces to cluster degree to the maximum of variables appearances. clauses. The\n",
      "results a to the fact-hardness of cluster-basedortingaction of the are defined\n",
      "to four in four most four clauses. The, the reductionollary is that cluster\n",
      "editing with vertex splitting remains NP-hard on graphs with maximum degree..\n",
      "Section Name:  ['The Edit-Sequence Approach']\n",
      "Generated Summary:   this section of cluster editing with vertex splitting, the section\n",
      "SequenceSequence section discusses that a to a spec structure, it it edges, then\n",
      "removing edges, and finally splitting vertices. The approach holds to any-\n",
      "problems, vertex adding addition, deletion deletion, or vertex splitting. The\n",
      "section also that vertex vertex splittings can be moved to the back of an edit\n",
      "sequence, affecting the cluster. The, it shows that twoanging edges pairs and\n",
      "the front or the edit is in a equivalent edit sequence. The results are to a le\n",
      "that any edit sequence can be equivalent into an cluster edit.. all addition and\n",
      "deletes aree vertex splitsittings. The section analysis of proof of the section\n",
      "is a clear approach for solving cluster graph- problems.\n",
      "Section Name:  ['Critical Cliques']\n",
      "Generated Summary:   cliques are a subset for to understand theique structure in graphs. The are\n",
      "defined withets of vertices with at vertex appears in one one critical clique.\n",
      "The critical clique quotient graph c a for each critical clique in and\n",
      "edgesacency conditions critical being thatacency. criticaliques. The criticalmma\n",
      "based from le work by the to the- and a-. with that two a critical clique, a\n",
      "graph, there vert are be satisfied. order presence graph.. The lemma is followed\n",
      "to derive a set decomorderingtex decom for provides associ set for the analysis\n",
      "analysis.\n",
      "Section Name:  ['A 6k-vertex kernel ']\n",
      "Generated Summary:   text discusses a existence of a problem kernel for cluster editing with vertex\n",
      "splitting with based three most k vertices. based on the rules based a clique\n",
      "lemas. The reduction reduction rules are proposed, and that safe time\n",
      "performanceability. cluster a kernel kernel. The final is reducing isolated\n",
      "isolated cliques, bound the cliques to sizes. on the critical cliques. sizes.\n",
      "The there cl one clices are, the, the is in an cluster-ob cluster The approach\n",
      "is clusteriving a kernel kernel is vertex vertices is then to be efficient.\n",
      "linear time. a reduction of operations. examples. the rules. The study of a the\n",
      "kernel by is, important question.\n",
      "Section Name:  ['An FPT algorithm']\n",
      "Generated Summary:  uster editing with vertex splitting is x to be x-parameter tractable by with a\n",
      "running time of o.k log k + n + m) The proof involves computing the cliques for\n",
      "each vertex and and a graph clique quotient,, and computingating over the\n",
      "solutions-. find the optimal solution. The assuming assumptions le of\n",
      "assumptions guesses, computing optimal operations, theices, the optimal solution\n",
      "is be found. The the fact for error performance, the graph time, the solution\n",
      "different approach is be needed to cluster cluster-clansion clustercl cluster.\n",
      "to the complexity of the values. The\n",
      "Section Name:  ['Conclusion']\n",
      "Generated Summary:   text introduces the the editing with allowing a vertex to split into two\n",
      "vertices. It text problem is which cluster editing with vertex splitting, is NP\n",
      "to be NP-complete and no O-time or poly poly-time algorithms needed but gaps\n",
      "k-vertex kernel and an-time algorithm are needed. The questions include whether\n",
      "existence of a O--time algorithm for the linear-size kernel. The work will\n",
      "needed to address the parameters of the graphs, such edits, and theimations of\n",
      "The text splitting algorithm is described to be NP to clust clusters clusters,\n",
      "data be extended to clust clust- such The newgement are references are provided\n",
      "provided for\n",
      "Section Name:  ['Abstract']\n",
      "Generated Summary:   text explores the prospects for of charming charm quark decaying into one one\n",
      "particlegs boson along charm charm quark in top quark pair production at the\n",
      "Cern Large Hadron Collider. future hadron colliders. The study a general-iggs\n",
      "doublet model to study the changingchanging neutral interactionsgs interactions\n",
      "with t ch and followed to promising w and e /t and. Prom study also the\n",
      "discovery potential for the signal and with the background from dominant\n",
      "processes with including realistic cuts and tagging andiencies. Promising\n",
      "results for found for the LHC running at Tev and. center HadCiders. T mass. The\n",
      "Section Name:  ['I Introduction']\n",
      "Generated Summary:   standard model has based in explaining almost data to leading the standardiggs\n",
      "boson, is to study propertiesiggs properties and search physics beyond the\n",
      "standard model. The include the discovery between theermion massesvectoriggs\n",
      "interactionsplings, the lack of av interactionsH neutral interactions. the\n",
      "levels. The H quark is decay is the decay into are also, The new-iggs bost is\n",
      "isHG) is these related as theermion-Higgs interactions, the quark decay decay\n",
      "The results are the LargeHC and with the model results. The of the H of of the-\n",
      "changing neutral currentsiggs bos and the quays and the LHC. also. along the of\n",
      "and decay rates, and the experimentsider design.\n",
      "Section Name:  ['II The Higgs Signal and Physics Background']\n",
      "Generated Summary:   section presents cross cross section for the FN signaliggs signal in Pton-\n",
      "proton collisions, as well as the the dominant physics background processes. The\n",
      "shows aynman diagrams of top quark pair production in Pton-proton collisions.\n",
      "gluon fusion and quark-antiquark fusion. followed one top quark decaying into a\n",
      "higiggs boson and charm charm quark. while the other decaying into a charm-on.\n",
      "charm charm charmarks. The\n",
      "Section Name:  ['A The Higgs Signal in Top Decay']\n",
      "Generated Summary:   text discusses the decay width light lightologicalark in the bosiggs boson and\n",
      "F bos bosark. using on the interactioniggs bos and theological. The uses\n",
      "applying the Lagrangian and and general the parameters, as c,, decay width.. The\n",
      "text also the on the decay,, proposes a decay decay between the Hawa\n",
      "interactions. The study decay is the decay width is calculated, with with the\n",
      "the decay decay of of the decay. the decayays. the parameters. study also\n",
      "discusses the effects of the-order decay and the of the and. the decay decay- of\n",
      "the decayiggs bos. the decayays. differentHC. H decayin.\n",
      "Section Name:  ['B The Physics Background']\n",
      "Generated Summary:   text background to the Njjc+ state state of comes from top quark pair\n",
      "production along two light jets,tJ and with every particle quark decays into a\n",
      "bqujetark and with w boson is and a b- jet is mis- as a c-jet. The physics\n",
      "include include top involving top w boson decaying into j w, with well as\n",
      "particle involving two and mass jetsjetowing interactionsarks decay. into b. The\n",
      "cross section of physics backgrounds backgrounds is Pton-pton collisions is\n",
      "evaluated with proper tagging and mistagging eacies. with the atAS tagging\n",
      "eiencies. The analysis-jetging error is approximately, with probability of mist\n",
      "c-jet being mistagged as a b-jet is approximately%,, and the probabilityagging\n",
      "probability for any b particle is a b-jet is approximately. The\n",
      "Section Name:  ['C Mass Reconstruction']\n",
      "Generated Summary:   text discusses the proposed of the invari massark mass as theiggs signal from\n",
      "from top quark pair production with It text involves using the invari top mass\n",
      "as the invariant mass of Bjj from T bw bjj along along another top quark decays\n",
      "into a Higgs boson and charm charm quark. The transverse mass distributions are\n",
      "used to + and C+ neut missing transverse energy ( neutrinos. enhance statistical\n",
      "statistical sign of the signaliggs signal. reduce the background background The\n",
      "text shows aant mass distributions for J particles, including as Jj and bjj,\n",
      "with basic cuts. in The applying suitable cuts, cutting suitable cuts, the Hions\n",
      "are the Higgs signal and H mass are greatly. The analysis transverse mass\n",
      "distributions are broad peaks near M Miggs mass C mass, with a statistical for\n",
      "studying reduction. enhancing the statisticaliggs signal.\n",
      "Section Name:  ['III Realistic Acceptance Cuts']\n",
      "Generated Summary:   text potential of a Fcnh signal from top decays at the LHC is explored by\n",
      "applying realistic basic cuts, tagging invari cuts on tagging andiencies,\n",
      "jetsjjets, and tagging cuts on invariant mass of jets and cluster transverse\n",
      "mass of e background events. The cuts requirements remove more 90% of the total\n",
      "background. Thement uncertainties in jet and lepton momenta as to spread masses\n",
      "with from the values. mt and m. The applying the masses, on the and C spec, the\n",
      "cross reveals a cross section of the t T - tch bjjc++ as /t + x at s�T = te,v\n",
      "and te TeV. a function of TC. with with the and. The study also explores a\n",
      "analysis and section of for the. the temperaturesosityities. the levels. and the\n",
      "potential potential and at well function pointussian andog is thea and also to\n",
      "the for the in\n",
      "Section Name:  ['IV Discovery Potential at the LHC']\n",
      "Generated Summary:   text presents the results potential for theiggs signal at the Large Hadron\n",
      "Collider (LHC) and cross Hadron colliders. The presents cross for crossiggs\n",
      "signal at the sites levels, including sections for H processes, and analysis\n",
      "discovery for detecting discoveryability. The text also the cross curves\n",
      "sections for for the. and uncertainty, and discovery noise detection. The of the\n",
      "discoveryiggs signal with sections with. background signal signal with signal\n",
      "section for H, the energiesosityities, and the potential for different LH.\n",
      "different signal levels. The study are that signal for the HAS and, the\n",
      "energiesosities. higher. curvesours are the L- are theT] s, are estimated, the\n",
      "signal levels. the LH. with a results for the-energy HHC and different-\n",
      "osityities. the range fraction range., the study H on for theAS is H- and te is\n",
      "is shown, with the potentialorter area showing the value showing the. the lower%\n",
      "confidence level.\n",
      "Section Name:  ['V Conclusions']\n",
      "Generated Summary:  icle theories beyond the standard model can have cont to tree-level Fcnh\n",
      "interactions, especially for third generationgeneration quarks. The\n",
      "contributions arise naturally made in models with additional highiggs doublets,\n",
      "such the special-iggs doublets model for the top quark. The P colliders will be\n",
      "to cont interactions, as shown in the discovery contours at the planecos, tc]\n",
      "plane. future particle levels. The current discusses the discoveryf ofect = T\n",
      "limit limits in different currentHC. and on thech and interactions in\n",
      "introducing the-atics analysis, the study also that the discoveryHC can the\n",
      "energies levels can be thech and the levels, text suggests the importance of\n",
      "understanding theweak interactions in in theermh interactions in anding at the\n",
      "advances for the energiesiders. the L andCHC. the future L-energy Hron.ider.\n",
      "Section Name:  [' Acknowledgments']\n",
      "Generated Summary:   research-gement: acknowledges thanks for the-feng Jack C for his discussions on\n",
      "The. A. A the support of Physics at the Universityemia Sinica in the high Energy\n",
      "Physics Group at national T University for excellent support hospitality.\n",
      "research research. research was financial from the Department.S. Department of\n",
      "Energy. the were institutions. including, and grants. helped to the research.\n",
      "Section Name:  ['Abstract']\n",
      "Generated Summary:   text discussesves into the puzzles of to cosmic ray anisotropy in the Pev and\n",
      "sub-pev energy region. It puzzles the so anisotropy,, the in the energy\n",
      "dependence of the amplitude harmonic and amplitude and phase, and the\n",
      "contribution of the single source ray source. The\n",
      "Section Name:  ['1 Introduction']\n",
      "Generated Summary:   study of the rays' anisotropy is a due to the low level of steeply spectrum.\n",
      "The studies showed by upper limit of theisotropy, but the work showed that in\n",
      "the and phase with on the.. The variability is due by non non distribution of\n",
      "cosmic ray sources and properties medium.. The the study-pev and pev regions\n",
      "spectrum, the well is observed, the sub ray energy, with a in studying on to the\n",
      "energy and lowisotropy.. The studies problems have the area have exist further.\n",
      "Section Name:  ['2 Puzzle 1: an inverse anisotropy']\n",
      "Generated Summary:  asingotic scattering fields ( an scattering (CRs to diffuse from the of higher\n",
      "to lower density in the galaxy. The observed system is distance near k,ocarsecs\n",
      "from the galactic center causes to an cr density in the galactic center. leading\n",
      "an anotropy in the X from the inner galaxy. Theisinverse anisotropy\" is is\n",
      "observed in where the phase phase observed ampl phaseses are. with due to the\n",
      "variations fields effects. due scattering... The is is be due by the scattering\n",
      "on the specific of high density, due influence of the magnetic such the galaxy\n",
      "galaxy.reities in the flux distributionra are that presence of a sources in the\n",
      "sub galaxy. to the an an anisotropy.\n",
      "Section Name:  ['3 Puzzle 2: peculiarity of the amplitude and phase']\n",
      "Generated Summary:   text discusses the of the an amplitudeisotropy and including on the observed\n",
      "and equ of of The good is used to a parameters parameters: the observed\n",
      "coordinates, the equalo, and the region point. The model is to provide the of as\n",
      "the observed and fall of amplitude amplitude with energy, the rise of. different\n",
      "energies levels. The model of a H source to to to the results and and increases\n",
      "the. the amplitudeisotropy.. The model is a the of amplitude ray are from the\n",
      "samealo, with the amplitude source being to to the direction-lVolution. studies\n",
      "are considerations are addressed about with further authors for further\n",
      "research. further. be the model. improve potential issues.\n",
      "Section Name:  ['4 Puzzle 3: the nature of the Single Source']\n",
      "Generated Summary:   study discusses the existence of a single source, explain the puzzlingness in\n",
      "the size spectrum of extensive air showers. The single is based on the non-\n",
      "uniformity and temporal distributions of SNnov explosions and subsequent snnov\n",
      "remnant ( The single to die diedieerence-\" was used to study for an single\n",
      "source and which is to separate the die between properties between the showers\n",
      "coming from the direction source and. from opposite direction. The data obtained\n",
      "that single-- is a possible source source.. with the research is needed. The\n",
      "method also the importance of the V source for existence on the evolution\n",
      "dynamics. to other impact of other super fields.\n",
      "Section Name:  ['5 Conclusion']\n",
      "Generated Summary:   text discusses the in in the Pev and sub-pev energy region. other rays, The\n",
      "references are made, include to the discussion of the rays physicsisotropy.\n",
      "including the of the origin of evolution of cosmic rays, well as the for\n",
      "observing the measuring the ray an.. The section alsoline the importance of\n",
      "inter of the ray, with the importance for further research and investigation.\n",
      "the area.\n",
      "Section Name:  ['Abstract']\n",
      "Generated Summary:   text describes precise precise description of the lowest two-sided cell of left\n",
      "left cells in a for weighted weighted coeter group of rank. It text also\n",
      "conjectures about to the cells and the some for the based ring of the cell cell-\n",
      "sided cell.\n",
      "Section Name:  ['0. Introduction']\n",
      "Generated Summary:   text discusses the boundness of of a weighted coeter group. by L. Lusztig.\n",
      "which the on the case weight value of the longest elements of the parabolic\n",
      "subgroups of the group. The conjecture is for alleter groups with different or,\n",
      "3. with well by a calculation. a calculation paper. The text also precise\n",
      "precise description of the weighted two-sided cell in the group, showingoting C\n",
      "C. and shows calculation cell in it. The, it discusses the the conjectures hold\n",
      "for the c. the that calculating a for to the based ring of c. The\n",
      "Section Name:  ['1. Preliminaries']\n",
      "Generated Summary:   section discusses the coeter groups, their structureman-. with them. It text\n",
      "discusses the structureanir groupKarschkaanga group, thelynomialials, with well\n",
      "as theures about about theers Kusztig and the existence of the grouple algebra.\n",
      "The also discusses the structure of the in theeter groups and the the new on the\n",
      "existence of freedom in the Coxeter groups. text concludes with aollaries for to\n",
      "the He of elements in the groups. the a for the structure between the in\n",
      "weighted groups.\n",
      "Section Name:  ['3. The lowest two-side cell c0']\n",
      "Generated Summary:   this section, the text of a lowest two-sided cell of weighted weighted coeter\n",
      "group is discussed. The proof discusses a and proofs proofms, to it cell two-\n",
      "sided cell. its decomposition into left and. The also discusses a proof showing\n",
      "the description of left cells in the weighted. the Coxeter groups. rank rank.,\n",
      "it examples and results are the lowest of the are the group two-sided cell are\n",
      "presented. including with the for the..\n",
      "Section Name:  ['4. The based ring of c0']\n",
      "Generated Summary:   weighted weighted coeter group of rank,, the section ring j of its lowest two-\n",
      "sided cell c has studied. the section. The section is to calculate Txty for any\n",
      "x, y c the, and is a difficult problem. The lemma is introduced to that there\n",
      "any w w, C, there exists unique w w,, wj m, pw pj u y,, y w, suchj, that w = x w\n",
      "y. w thatw = excpwfy. The le concludesifies the work of TxTy for any, y in C,,\n",
      "w. and the still challenging to The section is further in showing that the any\n",
      "weightededeter group of rank n, with rank elementine groupx,, the a elements,\n",
      "the,, w, y w, thexTy can be calculated as TxTyy.. TyT.. section is presented by\n",
      "the lemas. the structure two-sided ring of the Coxeter groups. is shown that for\n",
      "Teter groups of not have aentlypositions elements. and the difficult to\n",
      "calculate TxTy. other of discussed, including the section is the\n",
      "Section Name:  ['Abstract']\n",
      "Generated Summary:   text discusses a field construction for for groupcast index coding problems.\n",
      "based the length scalar linear index code of is equal to the minrank of the side\n",
      "information hypergraph. The methodrank is is NP-hard, and the number introduces\n",
      "min method to derive the number time by considering minrank-critical edges in\n",
      "The, the efficient for developed for derive sub lowique cover method the side-\n",
      "information graph, The method code code are compared-size independent, the be\n",
      "applied to a data. allowing leadingforming low methods. the of efficiency size.\n",
      "complexity comput size.\n",
      "Section Name:  ['I Introduction']\n",
      "Generated Summary:   text discusses an index coding problem involving a transmitter and a set of\n",
      "messages messages and a set of receivers receivers. with of a subset of\n",
      "messages. well-information. demanding a subset of want want-set. The objective\n",
      "broadcasts coded messages over the the number of coded, that each receiver can\n",
      "decode its demanded message using its-information and the coded messages. The\n",
      "objective can solved into acast index coding problem with the receiver only\n",
      "exactly one message. The text discusses a solutions and as groupimings groupast,\n",
      "coding, andast index, and group index. address the length.. The also a for\n",
      "solutions for including the of, Cl, anduristic approaches, solve the, solve a\n",
      "codes. differentcast index coding problems. are efficient of the set.. text also\n",
      "the importance of using the elements in the theations. to therank.., it\n",
      "discusses a of examples deriv-by-step approach for solving index codes.\n",
      "different types of problems coding problems. text is to reduce a solutions for\n",
      "different the number of the codes. a applications. such in the communications..\n",
      "Section Name:  ['IV conclusion and discussions']\n",
      "Generated Summary:   text presents a method to compute non of the nonrank- non-critical edges in the\n",
      "side-information graph using It he heuristic method is presented to address the\n",
      "clique cover and binary operations on adj adjacency matrix. The, the method to\n",
      "presented to address groupcast index coding problems. The paper present to\n",
      "research of minrank and and design design of algorithms efficient algorithms to\n",
      "compute the minrank of a side-information graph. The paper was supported partly\n",
      "the Indian and Engineering Research Board of the Department of Science and\n",
      "Technology, government of India. through a B.C. Bose national Fellowship. to\n",
      "Sund. Sundar Rajan.\n",
      "Section Name:  ['Abstract']\n",
      "Generated Summary:   text discusses equivalent conditions for existence existence of three solutions\n",
      "for a problem with discontinuous and strongly-singular terms in including on a\n",
      "Kirchhop- inurbed by a discontinuous nonlinearity of the heavbride type in the\n",
      "settinglicz-soboelvs space. The paper involved by the presence-singular term\n",
      "non-continuous terms are to the a solutions for associ solution of the. which\n",
      "the on the He of of The paper is the such numericalxity, the He theory the He-.\n",
      "with thelinearlinear andchhoff problems. with-singular termslinearities, anduous\n",
      "nonurbations, and the presenceHisancheian-. The\n",
      "Section Name:  ['1 Introduction']\n",
      "Generated Summary:   text discusses equivalent for the existence of three solutions for the\n",
      "quasilinear problem. a constant-singular problem. The text discusses an\n",
      "existence between the and the solution of solutions solutions. with the\n",
      "importanceuity and-ity of the-singization-. The thisational analysis, the study\n",
      "presents a optimal-, with the -, provides the existenceicative of solutions. The\n",
      "study result are related in the analysisms and resultsollaries, with that\n",
      "properties non conditions for the solutions. the the results. the problems.\n",
      "paper alsoises the results into focusing the developingence functionsrelatedf\n",
      "andi, and the existencems and and introducing theic of terms cases.\n",
      "Section Name:  ['2 Non-smooth analysis for locally Lipschitz functional']\n",
      "Generated Summary:   section discusses non-smooth analysis, the appropriated assumptions under the-\n",
      "and, non-local term m and and discontinuous function f that approach the\n",
      "resultsorems. The section also theations and results on critical point theory\n",
      "for the functional, includingoting by a = and the the such as theom deLit\n",
      "functional and thedieial derivative The section also discusses ammaas and decom\n",
      "for the of the functional, includingions, and the of the points. The, the\n",
      "between made between the functional of the and the specific and the\n",
      "solutionsima. the functional.. leading to the formulation that the functional\n",
      "can a solutions points. with the andima. local local...\n",
      "Section Name:  ['3 Proof of Theorem ??']\n",
      "Generated Summary:   text discusses the proof of the theorem, proving proving the lemmas, The\n",
      "theoremmmaas assume that of the conve point of a functionx functional. such a\n",
      "between adieial and the functionsients. The theorem involves the theorem\n",
      "involves proving equations equationsulations, the existence of properties of the\n",
      "points. The le is the theorem involves that on the from from the work. the proof\n",
      "of these theoriesmmas to theorem details of the properties involved to prove the\n",
      "theorem. including a complete understanding of the properties properties..\n",
      "Section Name:  ['4 Proof of Theorem ??']\n",
      "Generated Summary:   section discusses equival equival of equival equival I among which the\n",
      "equivalences among, sets in The prove equival equivalences among the\n",
      "assumptionsmmas are assumptions are made, The section obstacles involved\n",
      "establishing compact assumptions under the n-function to obtain compactness\n",
      "results for minimizing sequences on the obstacles related the setsences. The\n",
      "section also with ensuring the discontinuity of the nonlinearity f and ensuring\n",
      "the lemmas. to achieving theorem XX. section discusses discusses a to the\n",
      "topics, the context of\n",
      "Section Name:  ['Abstract']\n",
      "Generated Summary:   text discusses the use of capsule networks for handwritten characteric\n",
      "character recognition using which them with the convolutional neural\n",
      "networks.Cs) for lenven and Lexnet. Theule networks are spatial spatial\n",
      "invariance issue of differents, combining them routing. different. work\n",
      "aationalance. The study also a networks in a such different indicic characters,\n",
      "found, with the applic over traditionalNet and Alex ability to achieve the\n",
      "accuracy of the conv. LexNet. findings and \",, convolutional neural network,\n",
      "conv,, andifier,, and conv conv.\n",
      "Section Name:  ['I Introduction']\n",
      "Generated Summary:   text discusses conv concept of capsule networks, a are the issue of invari\n",
      "invariance of convolutional neural networks.CNNs). Thes are based to their\n",
      "features positions of objects features, and can networks are dynamic of kernels\n",
      "to work with pass information to a routing of next relations relations. The goal\n",
      "also the with performance performance of capsule networks for digit digit and\n",
      "character datasets. including as handwritteniantagri, Bor, and Bedy.. and well\n",
      "as onla characters characters character characters. The experiments of capsule\n",
      "networks is compared to other convs. Bib, TNet. with that significant in\n",
      "performance. compared with the networks. The experiments discuss into the\n",
      "performance of conv networks and the convs to the theally with the.\n",
      "Section Name:  ['II CNN Refresher']\n",
      "Generated Summary:  volutional neural networks areCs) are designed as a- convolutional pooling\n",
      "operations along followed well as non-linear activations such such by a fully\n",
      "connected network for class. Theolutional aolving a kernel over an input of a\n",
      "parameters. such in a output tensor.. by factors like input height, input\n",
      "height, and, and padding. Non-linear activations such as sigmoid, tanLU units\n",
      "used to convolution,ing operationsresses the data, taking a values minimum\n",
      "values, resulting the areas values, network network tens areor are determined to\n",
      "a single shape. resulting into the network connected network. and the tens as a\n",
      "vector result.y isL.g. conv squaresqu-) is errorproppropagation ( theisation are\n",
      "RD are the are network for of the networks diagram theolutional class.\n",
      "withmitting theing operations re-linear activation. simplicity.\n",
      "Section Name:  ['III The Capsule Network']\n",
      "Generated Summary:   text of capsuleule Networks ( the key of convolution Neural Neural Networks\n",
      "(Cs) by different are independently. Capsule networks are a between kernels to\n",
      "allowing kernels layers receive higher activations when kernels corresponding\n",
      "with the parts of the object. Caps proposedule Network ( of two and digit\n",
      "capsule layers. with the capsules are convolution to digit capsules work\n",
      "calculated by dynamic routing. The routing is calculating agreement agreement\n",
      "among different and integrating them into a.. The Caps is a conv- algorithm to\n",
      "the capsules. aity. a factorod. to the. the conv. achieve errorsfitting. The\n",
      "Section Name:  ['IV Experimentations and Results']\n",
      "Generated Summary:  iments focus conducted on capsule networks for handwritten indic digits and\n",
      "character databases compared them with famouset and alexnet architectures. The\n",
      "experiments were tested for including B digit digit databases, three scripts,\n",
      "character databases in thela, Theule networks wereformed lenet and digit dataset\n",
      "tested with alexnet outper a a, performed better for. Theining the networks with\n",
      "a networks like better results on with theeeper learning rates and in both\n",
      "networks. The experiments efficiency was when the data, the networks.lex study\n",
      "on len-of-the-art conv was significant results, capsule performance network.\n",
      "Section Name:  ['V Conclusion']\n",
      "Generated Summary:   capsuleule networks are implemented on handwritten digits digits and character\n",
      "databases and showing their performance robust performance compared to len lenet\n",
      "architecture. Capsining capsule networks with len networks like lenet and anet\n",
      "improved in better performance. with the combination performance achieved by\n",
      "combining allnet with capsule networks for Theule networks convergeformed lennet\n",
      "in having more parameters. as that convergence and better ability to learn\n",
      "information. anet failed. The using for learning with fewer features, improving\n",
      "an improvement technique for bigger networks, capsule networks have a due slow\n",
      "iterative process and limited layerlayer routing. The research is needed to\n",
      "order area.\n",
      "Section Name:  ['Abstract']\n",
      "Generated Summary:   text discusses the wellebbles-vililenkin quintessential in model and discusses\n",
      "an in it it recent observations. The P model is based P,, is the of two\n",
      "parameters: the inaton mass min) and another smaller mass (m). to achieve the\n",
      "the dark energy density of the universe is is for about one% of the total energy\n",
      "budget. The valueaton mass ism) is calculated using the powerar powerurbation of\n",
      "power spectrum, while the mass dependsm) depends determined on rehe reheating\n",
      "temperature. the from the dynam system. initial conditions. at matter-radiation\n",
      "equality. The model is to improve understand the observed's dark and including\n",
      "on the and theessentialentially. The\n",
      "Section Name:  ['1 Introduction']\n",
      "Generated Summary:   following of links addresses for the the involved the institutions. text\n",
      "details for the, theime Harharo@upc.edu, Jaume.amoros@upc.edu, and\n",
      "supriya.maths@presiuniv.ac.in. as well as the list to the on thexiv and\n",
      "Section Name:  ['Abstract']\n",
      "Generated Summary:   text discusses an new upper bound for the sum of fractional parts of certain\n",
      "smooth functions in which is naturally found in analytic number theory.. The\n",
      "upper term is based by the use of weyls bound for exponential sums and a device\n",
      "used by popov. The\n",
      "Section Name:  ['1. Introduction and main result']\n",
      "Generated Summary:   text discusses the study of analytic of analytic number theory, discusses\n",
      "methods of trunc sums to obtain problems problems. the Dirichlet divisor\n",
      "problem, Gauss circle problem. The include by vanyl, van der Corput and and\n",
      "Vinogradov include used to obtain exponential sums. The text also a trunc\n",
      "approach, uses the previous previous method of the types, provides ayl-\n",
      "methodncing method. the new called Vinov. estimate the sum. The text is a\n",
      "results for the Dir sums. allowing leading to a solutions. the problems.\n",
      "Section Name:  ['2. Technical lemmas']\n",
      "Generated Summary:   text discusses le proofmmas discusses a proofs for the and inequalitiesal\n",
      "parts. The lemmaas are inequalities between certain,oting by an terms. the the\n",
      "of as the on the fraction of certainal parts. The proof involve on the\n",
      "factotation of the, which definition of certainal parts, and the properties of\n",
      "the. obtain the inequalities results.\n",
      "Section Name:  ['3. Proof of Theorem ??']\n",
      "Generated Summary:   section discusses the partial of the partial that le le to lemmaas. The states\n",
      "the assumptions, assumptionsulations. prove at a solution result. points include\n",
      "assuming on the of partial of partial, partial. and the consideration of the.\n",
      "result is with the proof of the conditions and to the result of the equations.\n",
      "Section Name:  ['4. Extension to integer points close to smooth curves']\n",
      "Generated Summary:   section discusses the extension of the functions of to the functions, The\n",
      "introduces a theorem,,n) to a a bound of of a functionity of the points.\n",
      "that,(z) = f�. The proof is presented to the any functions,, k, k k k fk, the\n",
      "function is r is found. on the functions. The section is compared compared to\n",
      "existing results results. such the where the results are met.\n",
      "Section Name:  ['Abstract']\n",
      "Generated Summary:   paper team proposes a disparity cross for disparityparity-preserved Deep Cross-\n",
      "Platform Association forDPC) for cross-platform video recommendation. The\n",
      "approach combines two of cross cross-platform recommendation approaches due such\n",
      "platform platform due cross-platform association due to platform-spec disparity\n",
      "and gran in semantic granularity. The modelA model is a deep preservedpres\n",
      "cross-dimensionalal associationoccoding to combine video-specific disparity and\n",
      "improve crossularity differences. The results show the-world video show that the\n",
      "D modelA model isforms existing approaches-platform recommendations approaches.\n",
      "improving of accuracy video criteria.\n",
      "Section Name:  ['1 Introduction']\n",
      "Generated Summary:  ender systems are been increasingly in to the increasing of online services,\n",
      "with to to engage on different platforms simultaneously. Cross-platform data\n",
      "associations are improve the sparsity problems improve accuracy accuracy.\n",
      "Theisting recommendation try on improving-platform performance, improve user,\n",
      "The, the in inconsistencies ambiguity between platforms can challenges in The\n",
      "address the issue a useraggate FrameworkBasedence Topic Learning-Platform\n",
      "Association FrameworkDSE) framework is proposed, This framework aims a user-\n",
      "dimensionalal approachocvironmentoding to map cross-specific information and\n",
      "associations- relationships of to map crossular and. The user-platform topic\n",
      "association framework is on DA is proposed to is, the-world data. different,\n",
      "Facebook. with significant performance compared traditional methods.\n",
      "Section Name:  ['2 Related Work']\n",
      "Generated Summary:  am cross-platform recommendation works can be c by on what to associate. The\n",
      "option isages the platform characteristics to cross learning. Another and al.\n",
      "propose a cross-platform collaborative learning framework based non\n",
      "nonparametric Bayesian dictionary learning model for Y and al. propose a multi-\n",
      "platform multi-modal topic model capable of differenting topicsalities. Man, Y\n",
      "user-centric topic is multiple sources of overl activities activities. Y cross,\n",
      "aTPportizes bridges information platforms through exploiting the from\n",
      "differentapped crowds. Man and al. propose an overlapped user-centric topic\n",
      "association framework based on latent attribute sparse coding. Man approach-\n",
      "centric approach uses based EDRDR,,, integrating and al. which uses uses user\n",
      "representations on matrix factorization and then maps them to embed user-\n",
      "dimensional embedron. The the platform, the representationscentric approaches\n",
      "outper the same concept of cross-platform recommendations is be brid. and the\n",
      "importance of cross- andaches to E and al. and Y's al. are this issue\n",
      "integrating using information between data the to to platforms. E frameworkD is\n",
      "is different-platform information to a user-centric way. approachization\n",
      "approach based platform platform user,\n",
      "Section Name:  ['3 Measurement and Observation']\n",
      "Generated Summary:   study discusses theating the in the interest between platforms, examiningizing\n",
      "users in a cross-platform dataset linking The demonstrates a dirichlet\n",
      "allocation to visual-SNSE to the, with that in interest interest between Twitter\n",
      "and YouTube. The comparison of confirms the inconsistency by by The study\n",
      "discusses explores a new inbasedence method--platform interest between, a cross-\n",
      "dimensionalal approachoccoding. identify the between users. Twitter platforms.\n",
      "study shows the-specific relationships in shows patterns across with theular and\n",
      "between highlighting the-platform understanding.. also the relationships\n",
      "betweenrices by provides a- relationships by cross relationships models. study\n",
      "is robust- is estimated, allowing it a for future-platform analysis analysis.\n",
      "Section Name:  ['5 Cross-platform Video Recommendation']\n",
      "Generated Summary:   section presents a cross-platform video rec approach based the proposedA model.\n",
      "Section Name:  ['5.1 Problem Formulation']\n",
      "Generated Summary:   text discusses the cross-platform video recommendation problem, a on aligned on\n",
      "social platforms platforms are observed and be videos for video video platform.\n",
      "The goal method uses preprocessing and match,, and a DA model to address cross-\n",
      "platform inconsistencies. Thelin mapping functions enhance non dirichlet\n",
      "allocation are used to map user representations platform representations. the\n",
      "and YouTube. The methodA model is to-platform information and is video behaviors\n",
      "for social, latent from social. Theidean distance between Twitter\n",
      "representations video representations are identified to predict videos compare\n",
      "videos. The\n",
      "Section Name:  ['6 Experiments']\n",
      "Generated Summary:   section discusses experiments experiments on a real-platform dataset and\n",
      "comparing a proposed method with state state-of-the-art algorithms. show the\n",
      "advantages of the proposed approach.\n",
      "Section Name:  ['6.1 Dataset']\n",
      "Generated Summary:   studyia-crossosn dataset is a cross-network user dataset with users and\n",
      "Twitter.. with by the Chinese of Automation, Chinese Academy of Sciences. It\n",
      "aims users users across platforms and videos time million videos videos. The\n",
      "dataset is user types of user behaviour, videos metadata rich. YouTube and The\n",
      "Twitter, users users representations extracted from tweets modeling are to\n",
      "privacy concerns are The representations videos are selected based on their.\n",
      "with in a subset containing users%000 users for videos,000 videos. The users for\n",
      "selected selected for training and and the rest % for testing. details are\n",
      "available online the://www.nlpr.ac.ac.cn.mmc/ homepagepage/ Myan/dataset.html.\n",
      "Section Name:  ['6.2 Experimental Settings']\n",
      "Generated Summary:   text data for in perplex topdimensional top distribution for Twitter user on\n",
      "Twitter and perplex the number of topics on on perplexity. YouTube video The\n",
      "methods bas were implemented, testing-platform association, including linear\n",
      "regression-based association, latent attribute-based association, and explicitP-\n",
      "based nonlinear mapping. The experiments modelA model was promising performance\n",
      "compared cross-platform association,, to previous previous modelselines. The of\n",
      "were the time uncertainty, variance- square error. cross the uncertainty.\n",
      "Twitter platforms. The modelA model wasformed the models in a the by increasing\n",
      "performance-platform association performance. to better use of a andbasederving\n",
      "data. latentlinear transfer., the modelA modelbased model-platform association\n",
      "classification model was better performance compared cross videos videos. users\n",
      "users. withforming other methods. predicting prediction with, and\n",
      "learningPCscore..\n",
      "Section Name:  ['7 Conclusion']\n",
      "Generated Summary:   text presents a DA model to address inconsistency in cross-platform\n",
      "recommendation, introducesularity difference in It cross- platform video\n",
      "recommendation method based on the modelA model outper demonstrated, outper the\n",
      "demonstrating superiority superiority over other methods. The model also the\n",
      "from the government institutions, The findings include national by key learning\n",
      "for the learning, and latent learning. cross..\n",
      "total sections 129\n",
      "Average ROUGE-1 F1: 0.4125737280545629\n",
      "Average ROUGE-2 F1: 0.18567243088568475\n",
      "Average ROUGE-L F1: 0.3443674845206921\n"
     ]
    }
   ],
   "source": [
    "# Testing model using the epoch with the lowest eval loss\n",
    "do_testing(\n",
    "  result_file=\"results/bart_large_results.json\",\n",
    "  num_train_epochs=3, \n",
    "  learning_rate=5e-6,\n",
    "  lr_scheduler_type=SchedulerType.COSINE_WITH_RESTARTS,\n",
    ")"
   ]
  }
 ],
 "metadata": {
  "kernelspec": {
   "display_name": "main",
   "language": "python",
   "name": "python3"
  },
  "language_info": {
   "codemirror_mode": {
    "name": "ipython",
    "version": 3
   },
   "file_extension": ".py",
   "mimetype": "text/x-python",
   "name": "python",
   "nbconvert_exporter": "python",
   "pygments_lexer": "ipython3",
   "version": "3.12.2"
  }
 },
 "nbformat": 4,
 "nbformat_minor": 2
}
