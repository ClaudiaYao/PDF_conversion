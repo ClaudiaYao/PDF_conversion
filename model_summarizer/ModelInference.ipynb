{
 "cells": [
  {
   "cell_type": "markdown",
   "metadata": {},
   "source": [
    "Model Inference"
   ]
  },
  {
   "cell_type": "code",
   "execution_count": null,
   "metadata": {},
   "outputs": [],
   "source": [
    "import os\n",
    "import json\n",
    "from ModelSummarizer import SummarizationModel\n",
    "from ModelSummarizer import load_data\n",
    "\n",
    "\n",
    "model_name = \"allenai/led-large-16384-arxiv\"\n",
    "summarizer = SummarizationModel(model_name)\n",
    "model = summarizer.model\n",
    "\n",
    "\n",
    "# path for the extracted pdf's json file\n",
    "data_file_path = os.path.join('../processed', 'PointNet.json')\n",
    "\n",
    "\n",
    "model_summarizer = SummarizationModel(\"allenai/led-large-16384-arxiv\")\n",
    "\n",
    "# Load  the json file for summarization\n",
    "pdf_data = load_data(data_file_path)\n",
    "\n",
    "#Write the final summary to the summary jsonfile\n",
    "output_file =os.path.join('results', 'model-summary_results.json')\n",
    "summarizer.summarize_pdf(pdf_data, output_file,model_summarizer)\n",
    "\n"
   ]
  }
 ],
 "metadata": {
  "kernelspec": {
   "display_name": "Python 3.9.13 ('base')",
   "language": "python",
   "name": "python3"
  },
  "language_info": {
   "codemirror_mode": {
    "name": "ipython",
    "version": 3
   },
   "file_extension": ".py",
   "mimetype": "text/x-python",
   "name": "python",
   "nbconvert_exporter": "python",
   "pygments_lexer": "ipython3",
   "version": "3.9.13"
  },
  "orig_nbformat": 4,
  "vscode": {
   "interpreter": {
    "hash": "2e392266d6a5626032387dc1b7e3fce21e875c52abef25ac7b7f00de119355c6"
   }
  }
 },
 "nbformat": 4,
 "nbformat_minor": 2
}
