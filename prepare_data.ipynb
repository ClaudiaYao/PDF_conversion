{
 "cells": [
  {
   "cell_type": "code",
   "execution_count": 1,
   "metadata": {},
   "outputs": [],
   "source": [
    "%load_ext autoreload\n",
    "%autoreload 2"
   ]
  },
  {
   "cell_type": "code",
   "execution_count": 2,
   "metadata": {},
   "outputs": [],
   "source": [
    "import os \n",
    "import json\n",
    "import re\n",
    "from collections import defaultdict\n",
    "import processing_pdf\n",
    "from gpt_summary import get_summaries"
   ]
  },
  {
   "cell_type": "markdown",
   "metadata": {},
   "source": [
    "Define the input and output path."
   ]
  },
  {
   "cell_type": "code",
   "execution_count": 6,
   "metadata": {},
   "outputs": [],
   "source": [
    "# path to the folder containing PDF files (1512, removed researchpaper1.pdf)\n",
    "dataset_path = \"F:\\Datasets/\"\n",
    "# output folder and file name\n",
    "output_path = \"dataset\"\n",
    "output_file_name = \"dataset.json\"\n",
    "processing_pdf.clear_processed_folder(output_path)"
   ]
  },
  {
   "cell_type": "markdown",
   "metadata": {},
   "source": [
    "Step 0: Remove duplicated files, only keep the papers (941) with newest version"
   ]
  },
  {
   "cell_type": "code",
   "execution_count": 7,
   "metadata": {},
   "outputs": [],
   "source": [
    "# Function to extract the base filename without the version suffix\n",
    "def get_base_filename(filename):\n",
    "    match = re.match(r'^(.*?)v\\d\\.pdf+$', filename)\n",
    "    if match:\n",
    "        return match.group(1)\n",
    "    else:\n",
    "        return filename\n",
    "\n",
    "# Function to find the newest version of each file\n",
    "def find_newest_versions(folder):\n",
    "    files_by_base_name = defaultdict(list)\n",
    "\n",
    "    # Group files by base filename\n",
    "    for filename in os.listdir(folder):\n",
    "        base_name = get_base_filename(filename)\n",
    "        files_by_base_name[base_name].append(filename)\n",
    "\n",
    "    # Find the newest version of each file\n",
    "    newest_versions = []\n",
    "    for base_name, filenames in files_by_base_name.items():\n",
    "        newest_version = max(filenames, key=lambda x: int(re.search(r'v(\\d+)\\.pdf$', x).group(1)))\n",
    "        newest_versions.append(newest_version)\n",
    "\n",
    "    return newest_versions\n",
    "\n",
    "# Function to remove duplicated files\n",
    "def remove_duplicates(folder):\n",
    "    newest_versions = find_newest_versions(folder)\n",
    "\n",
    "    for filename in os.listdir(folder):\n",
    "        if filename not in newest_versions:\n",
    "            file_path = os.path.join(folder, filename)\n",
    "            if os.path.isfile(file_path):\n",
    "                os.remove(file_path)\n",
    "\n",
    "remove_duplicates(dataset_path)"
   ]
  },
  {
   "cell_type": "markdown",
   "metadata": {},
   "source": [
    "Step 1: Breakdown PDF content by sections and subsections."
   ]
  },
  {
   "cell_type": "code",
   "execution_count": 8,
   "metadata": {},
   "outputs": [],
   "source": [
    "def process_one_pdf(file_path):\n",
    "    doc, total_text, _ = processing_pdf.open_file(file_path)\n",
    "    table_of_content = doc.get_toc()\n",
    "\n",
    "    if len(table_of_content) > 0:\n",
    "        print(\"Auto generated table of content:\")\n",
    "        display(table_of_content)\n",
    "        # separate content into sections\n",
    "        _, json_dict = processing_pdf.separate_content(total_text, table_of_content)\n",
    "        return json_dict\n",
    "    # some papers have not table of content\n",
    "    #if len(table_of_content) == 0:\n",
    "    #    print(\"The paper has not table of content. Need to use regular expression to map table of content.\")\n",
    "    #    table_of_content = processing_pdf.auto_find_toc(doc)\n",
    "    #    display(table_of_content)\n",
    "    \n",
    "    return {}"
   ]
  },
  {
   "cell_type": "code",
   "execution_count": 9,
   "metadata": {},
   "outputs": [
    {
     "name": "stdout",
     "output_type": "stream",
     "text": [
      "Processing PDF file: 1901.00001v1.pdf\n",
      "The paper has not table of content. Need to use regular expression to map table of content.\n",
      "starting looking for all the sections...\n"
     ]
    },
    {
     "data": {
      "text/plain": [
       "[[1, '1 \\nIntroduction ', 1],\n",
       " [1, '1 \\nFine \\nFine ', 4],\n",
       " [1, '2 \\nFine \\nCoarse ', 4],\n",
       " [1, '3 \\nCoarse \\nFine ', 4],\n",
       " [1, '4 \\nCoarse \\nCoarse ', 4],\n",
       " [1, '4 \\nResults ', 5],\n",
       " [1, '5 \\nDiscussion ', 8],\n",
       " [1, '6 \\nConclusions ', 9]]"
      ]
     },
     "metadata": {},
     "output_type": "display_data"
    },
    {
     "name": "stdout",
     "output_type": "stream",
     "text": [
      "starting looking for all the sections according to the provided section title info...\n",
      "Done with PDF file: 1901.00001v1.pdf\n",
      "# of sections: 9\n",
      "Total # of sections: 9 Total # of files: 1\n",
      "============================================================\n",
      "Processing PDF file: 1901.00002v1.pdf\n",
      "Auto generated table of content:\n"
     ]
    },
    {
     "data": {
      "text/plain": [
       "[[1, 'I Introduction', 1],\n",
       " [1, 'II  Modeling', 2],\n",
       " [2, 'A Assume f(t) proportional to (e+pe)', 3],\n",
       " [2, 'B Assume f(t) proportional to e', 5],\n",
       " [1, 'III Comparison with the early universe', 5],\n",
       " [1, 'IV Summary', 6],\n",
       " [1, ' References', 6]]"
      ]
     },
     "metadata": {},
     "output_type": "display_data"
    },
    {
     "name": "stdout",
     "output_type": "stream",
     "text": [
      "starting looking for all the sections according to the provided section title info...\n",
      "Done with PDF file: 1901.00002v1.pdf\n",
      "# of sections: 6\n",
      "Total # of sections: 15 Total # of files: 2\n",
      "============================================================\n",
      "Processing PDF file: 1901.00003v3.pdf\n",
      "The paper has not table of content. Need to use regular expression to map table of content.\n",
      "starting looking for all the sections...\n"
     ]
    },
    {
     "data": {
      "text/plain": [
       "[[1, '1. Introduction', 1],\n",
       " [1, '2.\\nGeometry-aware\\nRecurrent\\nNeural\\nNetworks', 2],\n",
       " [1, '3. GRNNs', 2],\n",
       " [1, '2. Related Work', 2],\n",
       " [1, '4. Experiments', 5],\n",
       " [1, '1. GRNNs', 6],\n",
       " [2, '4.2. Egomotion estimation', 7],\n",
       " [1, '3\\nInput  ', 8],\n",
       " [1, '5. Conclusion', 8],\n",
       " [1, '2. For', 10],\n",
       " [2, 'B. Additional results\\nIn Figures ', 10]]"
      ]
     },
     "metadata": {},
     "output_type": "display_data"
    },
    {
     "name": "stdout",
     "output_type": "stream",
     "text": [
      "starting looking for all the sections according to the provided section title info...\n",
      "Done with PDF file: 1901.00003v3.pdf\n",
      "# of sections: 10\n",
      "Total # of sections: 25 Total # of files: 3\n",
      "============================================================\n",
      "Processing PDF file: 1901.00004v1.pdf\n",
      "Auto generated table of content:\n"
     ]
    },
    {
     "data": {
      "text/plain": [
       "[[1, '1 Introduction', 1],\n",
       " [1, '2 Problem Formulation', 4],\n",
       " [1, '3 Main Results', 7],\n",
       " [1, '4 Converse Proof', 8],\n",
       " [1, '5 Achievability Proof', 11],\n",
       " [2, '5.1 Motivating Example: K=3, R=2, M=2, N=3', 12],\n",
       " [2, '5.2 General Achievability for the Case of Cyclic Graphs', 15],\n",
       " [3, '5.2.1 Decodability, Privacy, and Achievable Rate', 15],\n",
       " [2, '5.3 General Achievability for the Case of Fully-Connected Graphs', 16],\n",
       " [3, '5.3.1 Decodability, Privacy, and Achievable Rate', 16],\n",
       " [3, '5.3.2 Further Example: Fully-Connected Graph with K=4', 17],\n",
       " [2, '5.4 Discussion and Further Extensions: Extension to M 3: ', 19],\n",
       " [1, '6 Conclusion', 20]]"
      ]
     },
     "metadata": {},
     "output_type": "display_data"
    },
    {
     "name": "stdout",
     "output_type": "stream",
     "text": [
      "starting looking for all the sections according to the provided section title info...\n",
      "Done with PDF file: 1901.00004v1.pdf\n",
      "# of sections: 7\n",
      "Total # of sections: 32 Total # of files: 4\n",
      "============================================================\n",
      "Processing PDF file: 1901.00005v2.pdf\n",
      "Auto generated table of content:\n"
     ]
    },
    {
     "data": {
      "text/plain": [
       "[[1, '1 Introduction', 1],\n",
       " [1, '2 Archival, ASAS-SN and TESS data for MACHO 80.7443.1718', 2],\n",
       " [1, '3 Modelling the eccentric ellipsoidal variations', 4],\n",
       " [1, '4 SED fitting', 4],\n",
       " [1, '5 Tidally Excited Oscillations', 6],\n",
       " [1, '6 Conclusions', 6]]"
      ]
     },
     "metadata": {},
     "output_type": "display_data"
    },
    {
     "name": "stdout",
     "output_type": "stream",
     "text": [
      "starting looking for all the sections according to the provided section title info...\n",
      "Done with PDF file: 1901.00005v2.pdf\n",
      "# of sections: 7\n",
      "Total # of sections: 39 Total # of files: 5\n",
      "============================================================\n",
      "Processing PDF file: 1901.00006v2.pdf\n",
      "Auto generated table of content:\n"
     ]
    },
    {
     "data": {
      "text/plain": [
       "[[1, 'I Introduction', 1],\n",
       " [1, 'II Model', 2],\n",
       " [1, 'III Hydrodynamic flow', 5],\n",
       " [1, 'IV Surface collective modes', 7],\n",
       " [1, 'V Summary', 12],\n",
       " [1, ' Acknowledgments', 12],\n",
       " [1, 'A Derivation of the Fermi arc hydrodynamics', 12],\n",
       " [2, '1 Kinetic theory', 13],\n",
       " [2, '2 The Euler equation for the Fermi arc fluid', 13],\n",
       " [2, '3 Transfer term', 14],\n",
       " [2, '4 Electric charge and current densities of Fermi arcs', 15],\n",
       " [1, 'B Polylogarithm functions', 15],\n",
       " [1, ' References', 15]]"
      ]
     },
     "metadata": {},
     "output_type": "display_data"
    },
    {
     "name": "stdout",
     "output_type": "stream",
     "text": [
      "starting looking for all the sections according to the provided section title info...\n",
      "Done with PDF file: 1901.00006v2.pdf\n",
      "# of sections: 10\n",
      "Total # of sections: 49 Total # of files: 6\n",
      "============================================================\n",
      "Processing PDF file: 1901.00007v1.pdf\n"
     ]
    },
    {
     "name": "stderr",
     "output_type": "stream",
     "text": [
      "MuPDF error: syntax error: unknown keyword: 'pagesize'\n",
      "MuPDF error: syntax error: unknown keyword: 'width'\n",
      "MuPDF error: syntax error: unknown keyword: '597.50787pt'\n",
      "MuPDF error: syntax error: unknown keyword: 'height'\n",
      "MuPDF error: syntax error: unknown keyword: '845.04684pt'\n"
     ]
    },
    {
     "name": "stdout",
     "output_type": "stream",
     "text": [
      "Auto generated table of content:\n"
     ]
    },
    {
     "data": {
      "text/plain": [
       "[[1, '1 Introduction', 1],\n",
       " [1, '2 Model', 2],\n",
       " [2, '2.1 Basic Framework', 2],\n",
       " [2, '2.2 Thermal Evolution', 3],\n",
       " [2, '2.3 Chemical Reactions', 3],\n",
       " [2, '2.4 Fragmentation Condition', 4],\n",
       " [2, '2.5 Model setup', 4],\n",
       " [1, '3 Result', 4],\n",
       " [2, '3.1 Atomic Accretion Flows', 4],\n",
       " [2, '3.2 Molecular Accretion Flows', 7],\n",
       " [1, '4 Summary and Discussion', 10],\n",
       " [1, 'A Radiative processes', 12],\n",
       " [2, 'A1 Continuum cooling rate in the optically thin regime', 12],\n",
       " [2, 'A2 Planck and Rosseland mean opacities', 13],\n",
       " [1, 'B Lithium cooling rate', 15],\n",
       " [1, 'C Chemical Reactions', 15]]"
      ]
     },
     "metadata": {},
     "output_type": "display_data"
    },
    {
     "name": "stdout",
     "output_type": "stream",
     "text": [
      "starting looking for all the sections according to the provided section title info...\n",
      "Done with PDF file: 1901.00007v1.pdf\n",
      "# of sections: 8\n",
      "Total # of sections: 57 Total # of files: 7\n",
      "============================================================\n",
      "Processing PDF file: 1901.00008v1.pdf\n",
      "Auto generated table of content:\n"
     ]
    },
    {
     "data": {
      "text/plain": [
       "[[1, '1 Introduction', 1],\n",
       " [1, '2 Fundamental Plane', 3],\n",
       " [1, '3 Origin of the Fundamental Plane and Cluster Growth', 6],\n",
       " [1, '4 Mass–Temperature Relation and the Concentration Parameter', 9],\n",
       " [1, '5 Cluster Mass Calibration', 12],\n",
       " [1, '6 Sparsity', 12],\n",
       " [1, '7 Conclusions', 13],\n",
       " [1, 'References', 13]]"
      ]
     },
     "metadata": {},
     "output_type": "display_data"
    },
    {
     "name": "stdout",
     "output_type": "stream",
     "text": [
      "starting looking for all the sections according to the provided section title info...\n",
      "Done with PDF file: 1901.00008v1.pdf\n",
      "# of sections: 9\n",
      "Total # of sections: 66 Total # of files: 8\n",
      "============================================================\n",
      "Processing PDF file: 1901.00009v2.pdf\n",
      "Auto generated table of content:\n"
     ]
    },
    {
     "data": {
      "text/plain": [
       "[[1, '1 Introduction', 1],\n",
       " [1, '2 Observations and Data reduction', 2],\n",
       " [1, '3 Variability Analysis', 3],\n",
       " [2, '3.1 Cross-matches to external catalogs', 3],\n",
       " [2, '3.2 Variability cutoffs', 4],\n",
       " [2, '3.3 Variability Classification', 4],\n",
       " [2, '3.4 Blending Corrections', 4],\n",
       " [1, '4 Results', 5],\n",
       " [1, '5 Conclusions', 7]]"
      ]
     },
     "metadata": {},
     "output_type": "display_data"
    },
    {
     "name": "stdout",
     "output_type": "stream",
     "text": [
      "starting looking for all the sections according to the provided section title info...\n",
      "Done with PDF file: 1901.00009v2.pdf\n",
      "# of sections: 6\n",
      "Total # of sections: 72 Total # of files: 9\n",
      "============================================================\n",
      "Processing PDF file: 1901.00010v2.pdf\n",
      "Auto generated table of content:\n"
     ]
    },
    {
     "data": {
      "text/plain": [
       "[[1,\n",
       "  'Defining a bulk-edge correspondence for non-Hermitian Hamiltonians via singular-value decomposition',\n",
       "  1],\n",
       " [2, 'Abstract', 1],\n",
       " [2, 'I Introduction', 1],\n",
       " [2, 'II Breakdown of the bulk boundary correspondence', 2],\n",
       " [3, 'A Bulk-boundary correspondence', 2],\n",
       " [3, 'B Stability of edge modes and energies', 3],\n",
       " [3,\n",
       "  'C Singular values: solving both stability and bulk-boundary correspondence',\n",
       "  3],\n",
       " [2, 'III Topology through singular value decomposition', 3],\n",
       " [3, 'A Topology in non-Hermitian systems', 3],\n",
       " [3, 'B Topological invariants', 4],\n",
       " [3, 'C Entanglement spectrum', 4],\n",
       " [2, 'IV Conclusions and discussions', 5],\n",
       " [2, ' Acknowledgments', 6],\n",
       " [2, 'A The chiral nH-SSH model', 6],\n",
       " [3, '1 Phase diagram and boundary conditions', 6],\n",
       " [3, '2 Evaluating the singular value decomposition', 7],\n",
       " [3, '3 Stability of the edge states', 8],\n",
       " [3, '4 Entanglement spectrum', 8],\n",
       " [2, 'B Two-dimensional models', 8],\n",
       " [3, '1 Non-Hermitian Chern insulator', 8],\n",
       " [3, '2 Chern insulator with broken bulk-boundary correspondence', 9],\n",
       " [2, ' References', 9]]"
      ]
     },
     "metadata": {},
     "output_type": "display_data"
    },
    {
     "name": "stdout",
     "output_type": "stream",
     "text": [
      "starting looking for all the sections according to the provided section title info...\n",
      "Done with PDF file: 1901.00010v2.pdf\n",
      "# of sections: 1\n",
      "Total # of sections: 73 Total # of files: 10\n",
      "============================================================\n",
      "Processing PDF file: 1901.00011v2.pdf\n",
      "Auto generated table of content:\n"
     ]
    },
    {
     "data": {
      "text/plain": [
       "[[1, '1 Introduction', 3],\n",
       " [1,\n",
       "  '2 Feynman graphs and correlators of CFT – the strongly -deformed N=4 SYM theory ',\n",
       "  6],\n",
       " [2, '2.1 Double-trace interactions and conformal symmetry', 8],\n",
       " [2, '2.2 The bulk structure of large planar graphs', 10],\n",
       " [2, '2.3 Single-trace correlation functions', 14],\n",
       " [2, '2.4 Integrability of Wheel graphs in CFT', 15],\n",
       " [1,\n",
       "  '3 Bethe-Salpeter equation for four-point correlators and conformal data',\n",
       "  19],\n",
       " [1, '4 Exact four-point correlations function for O1(x)=O2(x)=1(x)', 24],\n",
       " [2, '4.1 The Bethe-Salpeter method for the correlator G11', 25],\n",
       " [2, '4.2 Eigenvalues of the Hamiltonian graph-building operators', 27],\n",
       " [2, '4.3 Spectrum of exchanged operators of G11(u,v)', 30],\n",
       " [2, '4.4 The structure constant of the exchanged operators', 34],\n",
       " [2, '4.5 The four-point correlation function', 36],\n",
       " [1,\n",
       "  '5 Exact four-point correlations function for O1(x)=1(x) and O2(x)=2(x)',\n",
       "  37],\n",
       " [2, '5.1 The Bethe-Salpeter method for the correlator G12', 38],\n",
       " [2, '5.2 Eigenvalues of the Hamiltonian graph-building operators', 42],\n",
       " [2, '5.3 Spectrum of exchanged operators of G12(u,v)', 45],\n",
       " [2, '5.4 The structure constant of the exchanged operators', 49],\n",
       " [2, '5.5 The four-point correlation function', 51],\n",
       " [1, '6 Correlation functions at weak coupling from Feynman diagrams', 52],\n",
       " [2, '6.1 Four-point function of O1(x)=1(x) and O2(x)=2(x)', 53],\n",
       " [2, '6.2 Four-point function of O1(x)=O2(x)=1(x)', 53],\n",
       " [2, '6.3 Four-point function of O1(x)=1(x) and O2(x)=2(x)', 55],\n",
       " [1, '7 Conclusion and discussion', 57],\n",
       " [1, 'A Notation and conventions', 59],\n",
       " [1, 'B The -deformed N=4 SYM theory', 60],\n",
       " [1, 'C The uniqueness relations', 61],\n",
       " [1, 'D Eigenvalue of the fermionic graph-building operator t', 62],\n",
       " [1, 'E Cancellation of the spurious poles', 63],\n",
       " [1, 'F Operator mixing and logarithmic multiplet', 65],\n",
       " [2, 'F.1 tr[12] sector', 66],\n",
       " [2, 'F.2 tr[1 2] sector', 67]]"
      ]
     },
     "metadata": {},
     "output_type": "display_data"
    },
    {
     "name": "stdout",
     "output_type": "stream",
     "text": [
      "starting looking for all the sections according to the provided section title info...\n",
      "Done with PDF file: 1901.00011v2.pdf\n",
      "# of sections: 14\n",
      "Total # of sections: 87 Total # of files: 11\n",
      "============================================================\n",
      "Processing PDF file: 1901.00012v1.pdf\n",
      "Auto generated table of content:\n"
     ]
    },
    {
     "data": {
      "text/plain": [
       "[[1, '1 Landau Theory of Multipolar order', 2],\n",
       " [2, 'A Interacting multipolar orders', 3],\n",
       " [2, 'B Coupling of magnetic field to multipolar moments', 3],\n",
       " [1, '2 Cubic Crystal Normal modes, and Relative Length Change Expression', 4],\n",
       " [2, 'A Elastic energy of a cubic crystal', 4],\n",
       " [2, 'B General expression for relative length change', 4],\n",
       " [1,\n",
       "  '3 Symmetry Allowed Coupling of Multipolar Moments and Cubic Crystal Normal Modes',\n",
       "  4],\n",
       " [2, 'A Coupling of quadrupolar moment to lattice strain', 5],\n",
       " [2, 'B Coupling of octupolar moment to lattice strain', 5],\n",
       " [1,\n",
       "  '4 Relative Length Change Under Magnetic Field Along Different Directions',\n",
       "  5],\n",
       " [2, 'A  [100]', 6],\n",
       " [2, 'B  [110]', 7],\n",
       " [2, 'C  [111]', 7],\n",
       " [1, '5 Hysteretic Behaviour of Octupolar Ordering', 8],\n",
       " [1, '6 Conclusions', 9],\n",
       " [2, 'A Symmetry transformations of multipolar order parameters', 11],\n",
       " [2, 'B General expression of length change in different directions', 11],\n",
       " [2, 'C Values of Landau Parameters', 11],\n",
       " [2,\n",
       "  'D Multipolar Order parameters with respect to magnetic field strength',\n",
       "  11],\n",
       " [2, 'E Domain Wall model of octupolar moments', 11]]"
      ]
     },
     "metadata": {},
     "output_type": "display_data"
    },
    {
     "name": "stdout",
     "output_type": "stream",
     "text": [
      "starting looking for all the sections according to the provided section title info...\n",
      "Done with PDF file: 1901.00012v1.pdf\n",
      "# of sections: 7\n",
      "Total # of sections: 94 Total # of files: 12\n",
      "============================================================\n",
      "Processing PDF file: 1901.00013v1.pdf\n",
      "The paper has not table of content. Need to use regular expression to map table of content.\n",
      "starting looking for all the sections...\n"
     ]
    },
    {
     "data": {
      "text/plain": [
       "[[1, '1. INTRODUCTION', 1],\n",
       " [1, '2 Ms Chandra Deep Field-North', 2],\n",
       " [1, '2. DATA', 3],\n",
       " [2, '1.2\\nNormalized transmission\\nJ\\nH\\nKs', 3],\n",
       " [1, '3. PHOTOMETRY', 4],\n",
       " [2, '3.1. Astrometry and source detection', 4],\n",
       " [1, '2\\nDETECT THRESH', 5],\n",
       " [2, '1.2\\nANALYSIS THRESH', 5],\n",
       " [1, '64\\nDEBLEND MINCONT', 5],\n",
       " [1, '24\\nBACK FILTERSIZE', 5],\n",
       " [1, '3\\nBACK TYPE\\nAUTO\\nBACKPHOTO TYPE\\nLOCAL\\nBACKPHOTO THICK', 5],\n",
       " [1, '2\\nJ-band\\n \\n \\n \\n \\n \\n ', 6],\n",
       " [1, '2\\nH-band', 6],\n",
       " [1, '2\\nKs-band', 6],\n",
       " [2, '3.3. Photometric uncertainties', 7],\n",
       " [2, '3.4. IRAC photometry', 7],\n",
       " [2, '3.5. Completeness', 7],\n",
       " [1, '4. PHOTOMETRIC REDSHIFTS', 8],\n",
       " [2, '4.1. Non-X-ray sources', 8],\n",
       " [2, '1.1. Galaxy templates', 8],\n",
       " [2, '1.2. Photo-z results', 8],\n",
       " [1, '28\\n \\n \\n \\n \\n \\nKs-band', 9],\n",
       " [2, '4.2. X-ray sources', 10],\n",
       " [2, '2.1. Cross-matching', 10],\n",
       " [2, '2.2. AGN-galaxy hybrid training', 11],\n",
       " [2, '2.3. Photo-z results', 11],\n",
       " [1, '683 X-ray', 12],\n",
       " [2, '4.3. Comparison with previous work', 12],\n",
       " [1, '5. COLUMN DESCRIPTION FOR THE RELEASED\\nCATALOGS\\nWe', 14],\n",
       " [1, '6. SUMMARY', 15],\n",
       " [1, '5\\nREFERENCES', 16]]"
      ]
     },
     "metadata": {},
     "output_type": "display_data"
    },
    {
     "name": "stdout",
     "output_type": "stream",
     "text": [
      "starting looking for all the sections according to the provided section title info...\n",
      "Done with PDF file: 1901.00013v1.pdf\n",
      "# of sections: 18\n",
      "Total # of sections: 112 Total # of files: 13\n",
      "============================================================\n",
      "Processing PDF file: 1901.00014v1.pdf\n",
      "Auto generated table of content:\n"
     ]
    },
    {
     "data": {
      "text/plain": [
       "[[1, '1 Introduction', 2],\n",
       " [1, '2 Reissner-Nordstrom Black Hole', 6],\n",
       " [2, '2.1 Complexity Growth', 8],\n",
       " [2, '2.2 Maxwell Boundary Term', 12],\n",
       " [2, '2.3 Shock Wave Geometries', 15],\n",
       " [1, '3 Charged Dilatonic Black Hole', 21],\n",
       " [2, '3.1 Complexity Growth', 24],\n",
       " [2, '3.2 Boundary Terms', 28],\n",
       " [1, '4 Black Holes in Two Dimensions', 31],\n",
       " [2, '4.1 Jackiw-Teitelboim Model', 32],\n",
       " [2, '4.2 JT-like Model', 38],\n",
       " [2, '4.3 Boundary Terms?', 42],\n",
       " [1, '5 Discussion', 45],\n",
       " [1, 'A More on Shock Waves', 52],\n",
       " [1, 'B Bulk Contribution from Maxwell Boundary Term', 56]]"
      ]
     },
     "metadata": {},
     "output_type": "display_data"
    },
    {
     "name": "stdout",
     "output_type": "stream",
     "text": [
      "starting looking for all the sections according to the provided section title info...\n",
      "Done with PDF file: 1901.00014v1.pdf\n",
      "# of sections: 8\n",
      "Total # of sections: 120 Total # of files: 14\n",
      "============================================================\n",
      "Processing PDF file: 1901.00015v2.pdf\n",
      "The paper has not table of content. Need to use regular expression to map table of content.\n",
      "starting looking for all the sections...\n"
     ]
    },
    {
     "data": {
      "text/plain": [
       "[]"
      ]
     },
     "metadata": {},
     "output_type": "display_data"
    },
    {
     "name": "stdout",
     "output_type": "stream",
     "text": [
      "starting looking for all the sections according to the provided section title info...\n",
      "Processing PDF file: 1901.00016v1.pdf\n",
      "The paper has not table of content. Need to use regular expression to map table of content.\n",
      "starting looking for all the sections...\n"
     ]
    },
    {
     "data": {
      "text/plain": [
       "[]"
      ]
     },
     "metadata": {},
     "output_type": "display_data"
    },
    {
     "name": "stdout",
     "output_type": "stream",
     "text": [
      "starting looking for all the sections according to the provided section title info...\n",
      "Processing PDF file: 1901.00017v1.pdf\n",
      "Auto generated table of content:\n"
     ]
    },
    {
     "data": {
      "text/plain": [
       "[[1, '1 Introduction', 2],\n",
       " [1, '2 Preparation: Introducing further notation. The space XT.', 5],\n",
       " [1, '3 Estimates: Recalling the case =RN+', 6],\n",
       " [1, '4 Estimates: R3\\\\B1(0)', 7],\n",
       " [1, '5 Existence. Proof of Theorem 3', 12],\n",
       " [1, '6 Upper bounds. Proofs of Theorems 4 and 5.', 14],\n",
       " [1,\n",
       "  '7 A remark on condition (10). Long-time behaviour of the heat equation on the exterior of the ball.',\n",
       "  15],\n",
       " [1, '8 Lower estimates in the halfspace: Proof of Theorem 6.', 16],\n",
       " [1, '9 Lower estimates in the exterior of the ball. Proof of Theorem 7.', 17]]"
      ]
     },
     "metadata": {},
     "output_type": "display_data"
    },
    {
     "name": "stdout",
     "output_type": "stream",
     "text": [
      "starting looking for all the sections according to the provided section title info...\n",
      "Done with PDF file: 1901.00017v1.pdf\n",
      "# of sections: 10\n",
      "Total # of sections: 130 Total # of files: 15\n",
      "============================================================\n",
      "Processing PDF file: 1901.00018v1.pdf\n",
      "Auto generated table of content:\n"
     ]
    },
    {
     "data": {
      "text/plain": [
       "[[1,\n",
       "  'Lattice-QCD Determination of the Hyperon Axial Couplings in the Continuum Limit',\n",
       "  1],\n",
       " [2, 'Abstract', 1],\n",
       " [2, 'I Introduction', 1],\n",
       " [2, 'II Lattice-QCD Calculation Setup', 2],\n",
       " [2, 'III Results and Discussion', 2],\n",
       " [2, 'IV Summary and Outlook', 4],\n",
       " [2, ' Acknowledgments', 4],\n",
       " [2, ' References', 4]]"
      ]
     },
     "metadata": {},
     "output_type": "display_data"
    },
    {
     "name": "stdout",
     "output_type": "stream",
     "text": [
      "starting looking for all the sections according to the provided section title info...\n",
      "Done with PDF file: 1901.00018v1.pdf\n",
      "# of sections: 2\n",
      "Total # of sections: 132 Total # of files: 16\n",
      "============================================================\n",
      "Processing PDF file: 1901.00019v3.pdf\n",
      "Auto generated table of content:\n"
     ]
    },
    {
     "data": {
      "text/plain": [
       "[[1,\n",
       "  'One-dimensional few-electron effective Wigner crystal in quantum and classical regimes',\n",
       "  1],\n",
       " [2, 'Abstract', 1],\n",
       " [2, 'I Introduction', 1],\n",
       " [2, 'II High-temperature and zero-temperature limits', 3],\n",
       " [3, 'A Classical high-T limit', 3],\n",
       " [3, 'B Quantum limit for spinless system', 4],\n",
       " [3, 'C Quantum limit for spinful system', 5],\n",
       " [3, 'D Exchange energy', 6],\n",
       " [2,\n",
       "  'III Interpolation between the zero-temperature quantum ground state and the classical high-temperature thermodynamic state',\n",
       "  7],\n",
       " [3, 'A Classical limit', 9],\n",
       " [3, 'B Quantum limit at zero temperature', 9],\n",
       " [3, 'C Long-range order for larger systems', 10],\n",
       " [2, 'IV Conclusion', 10],\n",
       " [2, ' acknowledgments', 12],\n",
       " [2, 'A Transverse mode excitation', 12],\n",
       " [2, 'B Additional simulation results', 13],\n",
       " [2, ' References', 13]]"
      ]
     },
     "metadata": {},
     "output_type": "display_data"
    },
    {
     "name": "stdout",
     "output_type": "stream",
     "text": [
      "starting looking for all the sections according to the provided section title info...\n",
      "Done with PDF file: 1901.00019v3.pdf\n",
      "# of sections: 1\n",
      "Total # of sections: 133 Total # of files: 17\n",
      "============================================================\n",
      "Processing PDF file: 1901.00020v2.pdf\n",
      "Auto generated table of content:\n"
     ]
    },
    {
     "data": {
      "text/plain": [
       "[[1, '1. Introduction and summary', 1],\n",
       " [2, '1.1. Structure of the paper and main results', 2],\n",
       " [1, '2. Bost-Connes systems in Grothendieck rings', 6],\n",
       " [2, '2.1. Bost-Connes algebra', 6],\n",
       " [2, '2.2. Relative Grothendieck ring', 8],\n",
       " [2, '2.3. Equivariant relative Grothendieck ring', 8],\n",
       " [2, '2.4. Equivariant Euler characteristic', 9],\n",
       " [2, '2.5. The geometric Verschiebung action', 10],\n",
       " [2, '2.6. Lifting the Bost–Connes endomorphisms', 11],\n",
       " [2, '2.7. Prime decomposition of the Bost–Connes algebra', 12],\n",
       " [2, '2.8. Lifting the FN-coprime Bost–Connes algebra', 13],\n",
       " [2, '2.9. Lifting the full Bost–Connes algebra', 14],\n",
       " [1, '3. From Grothendieck Rings to Spectra', 17],\n",
       " [2, '3.1. Assemblers', 18],\n",
       " [2, '3.2. From categories to -spaces and spectra', 19],\n",
       " [2, '3.3. Automorphism category and enhanced assemblers', 20],\n",
       " [2, '3.4. Bost–Connes systems on categories', 21],\n",
       " [2, '3.5. Assemblers for the relative Grothendieck ring', 23],\n",
       " [1, '4. Torifications, F1-points, zeta functions, and spectra', 25],\n",
       " [2, '4.1. Torifications', 26],\n",
       " [2, '4.2. Group actions', 28],\n",
       " [2, '4.3. Assembler and spectrum of torified varieties', 29],\n",
       " [2, '4.4. Lifting of the Bost–Connes system for torifications', 31],\n",
       " [1, '5. Torified varieties and zeta functions', 32],\n",
       " [2, '5.1. Counting F1-points', 32],\n",
       " [2, '5.2. Bialynicki-Birula decompositions and torified geometries', 33],\n",
       " [2, '5.3. An example of torified varieties', 34],\n",
       " [2, '5.4. Counting F1-points and zeta function', 36],\n",
       " [2, '5.5. Relation to the Hasse–Weil zeta function', 38],\n",
       " [2, '5.6. Dynamical zeta functions', 39],\n",
       " [1, '6. Spectra and zeta functions', 42],\n",
       " [2, '6.1. The Endomorphism Category', 43],\n",
       " [2, '6.2. Spectrum of the Endomorphism Category and Witt vectors', 45],\n",
       " [2, '6.3. Exponentiable measures and maps of -spaces', 47],\n",
       " [2, '6.4. Bost–Connes type systems via motivic measures', 50],\n",
       " [2, '6.5. Spectra and spectra', 52],\n",
       " [1, '7. Bost–Connes systems in categories of Nori motives', 54],\n",
       " [2, '7.1. Nori diagrams', 55],\n",
       " [2, '7.2. From geometric diagrams to Nori motives', 55],\n",
       " [2, '7.3. Category of equivariant Nori motives', 58],\n",
       " [2, '7.4. Bost–Connes system on Nori motives', 58],\n",
       " [2, '7.5. Motivic sheaves and the relative case', 61],\n",
       " [2, '7.6. Nori geometric diagrams for assemblers, and a challenge', 63],\n",
       " [2, 'Acknowledgment', 64],\n",
       " [1, 'References', 65]]"
      ]
     },
     "metadata": {},
     "output_type": "display_data"
    },
    {
     "name": "stdout",
     "output_type": "stream",
     "text": [
      "starting looking for all the sections according to the provided section title info...\n",
      "Done with PDF file: 1901.00020v2.pdf\n",
      "# of sections: 9\n",
      "Total # of sections: 142 Total # of files: 18\n",
      "============================================================\n",
      "Processing PDF file: 1901.00021v4.pdf\n",
      "Auto generated table of content:\n"
     ]
    },
    {
     "data": {
      "text/plain": [
       "[[1, 'Persistent gravitational wave observables: general framework', 1],\n",
       " [2, 'Abstract', 1],\n",
       " [2, ' Contents', 1],\n",
       " [2, 'I Introduction', 1],\n",
       " [2, 'II Persistent gravitational wave observables', 3],\n",
       " [3, 'A Traditional persistent gravitational wave observables', 3],\n",
       " [3, 'B Generalized holonomy', 5],\n",
       " [3, 'C Curve deviation', 5],\n",
       " [3, 'D Holonomies of linear and angular momentum', 7],\n",
       " [3, 'E Observables involving a spinning test particle', 9],\n",
       " [3, 'F Feasibility of measurement', 11],\n",
       " [2, 'III Review of techniques of covariant bitensors', 11],\n",
       " [3, 'A The linear and angular momentum bundle', 11],\n",
       " [3, 'B Bitensors on vector bundles', 12],\n",
       " [3, 'C Holonomies of transport laws', 13],\n",
       " [4, '1 Nongeodesic polygons', 13],\n",
       " [4, '2 Narrow loops', 14],\n",
       " [2, 'IV Computations of persistent observables', 15],\n",
       " [3, 'A Curve deviation', 15],\n",
       " [3, 'B Holonomies', 17],\n",
       " [4, '1 Affine transport holonomy', 18],\n",
       " [4, '2 Dual Killing transport holonomy', 19],\n",
       " [3, 'C Spinning particles', 21],\n",
       " [2, 'V Discussion', 22],\n",
       " [2, ' Acknowledgments', 23],\n",
       " [2, 'A Dualization of Arbitrary Tensors', 23],\n",
       " [2, 'B Coincidence limits', 24],\n",
       " [2, 'C Solution to the Mathisson-Papapetrou equations', 24],\n",
       " [2, 'D Algebraic Decomposition of Holonomies', 25],\n",
       " [2, ' References', 26]]"
      ]
     },
     "metadata": {},
     "output_type": "display_data"
    },
    {
     "name": "stdout",
     "output_type": "stream",
     "text": [
      "starting looking for all the sections according to the provided section title info...\n",
      "Done with PDF file: 1901.00021v4.pdf\n",
      "# of sections: 1\n",
      "Total # of sections: 143 Total # of files: 19\n",
      "============================================================\n",
      "Processing PDF file: 1901.00022v2.pdf\n",
      "The paper has not table of content. Need to use regular expression to map table of content.\n",
      "starting looking for all the sections...\n"
     ]
    },
    {
     "data": {
      "text/plain": [
       "[[1, '1. Introduction', 2]]"
      ]
     },
     "metadata": {},
     "output_type": "display_data"
    },
    {
     "name": "stdout",
     "output_type": "stream",
     "text": [
      "starting looking for all the sections according to the provided section title info...\n",
      "Done with PDF file: 1901.00022v2.pdf\n",
      "# of sections: 2\n",
      "Total # of sections: 145 Total # of files: 20\n",
      "============================================================\n",
      "Processing PDF file: 1901.00023v3.pdf\n",
      "Auto generated table of content:\n"
     ]
    },
    {
     "data": {
      "text/plain": [
       "[[1, '1 Introduction', 2],\n",
       " [1, '2 BPS partition functions of U(N) SYM', 3],\n",
       " [2, '2.1 BPS partition function', 4],\n",
       " [2, '2.2 12-BPS partition function', 5],\n",
       " [2, '2.3 18-BPS partition function', 7],\n",
       " [1, '3 BPS partition functions for SO and Sp theories', 9],\n",
       " [2, '3.1 12-BPS partition function', 9],\n",
       " [2, '3.2 18-BPS partition function', 10],\n",
       " [1, '4 S-fold theories', 13],\n",
       " [2, '4.1 Grand partition functions for Z3,4,6 S-folds', 14],\n",
       " [2, '4.2 SUSY enhancement from N=3 to N=4', 16],\n",
       " [2, '4.3 Discrete gauging', 18],\n",
       " [1, '5 D3-brane analysis', 20],\n",
       " [1, '6 Discussion', 22],\n",
       " [1, 'A The Molien series', 23]]"
      ]
     },
     "metadata": {},
     "output_type": "display_data"
    },
    {
     "name": "stdout",
     "output_type": "stream",
     "text": [
      "starting looking for all the sections according to the provided section title info...\n",
      "Done with PDF file: 1901.00023v3.pdf\n",
      "# of sections: 8\n",
      "Total # of sections: 153 Total # of files: 21\n",
      "============================================================\n",
      "Processing PDF file: 1901.00024v2.pdf\n",
      "Auto generated table of content:\n"
     ]
    },
    {
     "data": {
      "text/plain": [
       "[[1, '1 Introduction', 2],\n",
       " [1,\n",
       "  '2 High-temperature, non-integrable and integrable Lattice Landau-Lifshitz equations',\n",
       "  3],\n",
       " [1, '3 Easy plane at low-temperatures', 8],\n",
       " [1, '4 Numerical results at low temperature', 14],\n",
       " [1, '5 Discrete time LLL dynamics', 18],\n",
       " [1, '6 Conclusions', 21],\n",
       " [1, '7 Acknowledgements', 23],\n",
       " [1, 'A Coupling coefficients for nonlinear fluctuating hydrodynamics', 24],\n",
       " [1, 'B Low temperature approximation', 25]]"
      ]
     },
     "metadata": {},
     "output_type": "display_data"
    },
    {
     "name": "stdout",
     "output_type": "stream",
     "text": [
      "starting looking for all the sections according to the provided section title info...\n",
      "Done with PDF file: 1901.00024v2.pdf\n",
      "# of sections: 10\n",
      "Total # of sections: 163 Total # of files: 22\n",
      "============================================================\n",
      "Processing PDF file: 1901.00025v2.pdf\n",
      "The paper has not table of content. Need to use regular expression to map table of content.\n",
      "starting looking for all the sections...\n"
     ]
    },
    {
     "data": {
      "text/plain": [
       "[[1, '1. Introduction', 1],\n",
       " [1, '2. Methods', 2],\n",
       " [1, '3. Results', 4],\n",
       " [1, '4. Discussion', 5]]"
      ]
     },
     "metadata": {},
     "output_type": "display_data"
    },
    {
     "name": "stdout",
     "output_type": "stream",
     "text": [
      "starting looking for all the sections according to the provided section title info...\n",
      "Done with PDF file: 1901.00025v2.pdf\n",
      "# of sections: 5\n",
      "Total # of sections: 168 Total # of files: 23\n",
      "============================================================\n",
      "Processing PDF file: 1901.00026v2.pdf\n",
      "Auto generated table of content:\n"
     ]
    },
    {
     "data": {
      "text/plain": [
       "[[1, '1 Introduction', 1],\n",
       " [1, '2 The pattern 12@let@token k', 2],\n",
       " [1, '3 The pattern 312', 3],\n",
       " [2, '3.1 Permutations ending in 1', 4],\n",
       " [2, '3.2 Enumeration', 6],\n",
       " [2, '3.3 Equivalent patterns', 7],\n",
       " [1, '4 The pattern 321', 8],\n",
       " [1, '5 The pattern 132', 9]]"
      ]
     },
     "metadata": {},
     "output_type": "display_data"
    },
    {
     "name": "stdout",
     "output_type": "stream",
     "text": [
      "starting looking for all the sections according to the provided section title info...\n",
      "Done with PDF file: 1901.00026v2.pdf\n",
      "# of sections: 6\n",
      "Total # of sections: 174 Total # of files: 24\n",
      "============================================================\n",
      "Processing PDF file: 1901.00027v1.pdf\n",
      "Auto generated table of content:\n"
     ]
    },
    {
     "data": {
      "text/plain": [
       "[[1, '1 Introduction', 1],\n",
       " [1, '2 The Proposed Descriptor', 5],\n",
       " [2, '2.1 Laplace Gradient', 5],\n",
       " [2, '2.2 Divergence based Contrast Flipping', 7],\n",
       " [2, '2.3 The DCI Descriptor', 9],\n",
       " [1, '3 Experiments', 9],\n",
       " [2, '3.1 Logo Visual Search', 9],\n",
       " [2, '3.2 Wallpaper Visual Search', 10],\n",
       " [2, '3.3 Face Recognition', 11],\n",
       " [1, '4 Acknowledgements', 13],\n",
       " [1, '5 Conclusions', 13]]"
      ]
     },
     "metadata": {},
     "output_type": "display_data"
    },
    {
     "name": "stdout",
     "output_type": "stream",
     "text": [
      "starting looking for all the sections according to the provided section title info...\n",
      "Done with PDF file: 1901.00027v1.pdf\n",
      "# of sections: 6\n",
      "Total # of sections: 180 Total # of files: 25\n",
      "============================================================\n",
      "Processing PDF file: 1901.00028v1.pdf\n",
      "Auto generated table of content:\n"
     ]
    },
    {
     "data": {
      "text/plain": [
       "[[1, '1. Introduction and goals', 1],\n",
       " [1, '2. Preliminaries', 3],\n",
       " [2, '2.1. Center of mass', 5],\n",
       " [2, '2.2. Miscellannea', 7],\n",
       " [1, '3. Main results, motivation, and the strategy of the proof', 8],\n",
       " [2, '3.1. Strategy of the proofs of Theorems 6.2 and 6.12', 10],\n",
       " [1, '4. A priori estimates on STCMC-surfaces', 11],\n",
       " [1, '5. The linearization of spacetime mean curvature', 15],\n",
       " [2,\n",
       "  '5.1. Stability operators associated with prescribed (spacetime) mean curvature surfaces',\n",
       "  15],\n",
       " [2, '5.2. Eigenvalues and eigenfunctions of -', 16],\n",
       " [2, '5.3. Invertibility of the operator L', 20],\n",
       " [1, '6. Existence and uniqueness of the STCMC-foliation', 26],\n",
       " [2, '6.1. Existence of the STCMC-foliation', 26],\n",
       " [2, '6.2. Supplementary lemmas', 30],\n",
       " [2, '6.3. Uniqueness of the STCMC surfaces.', 37],\n",
       " [1, '7. The coordinate center of the STCMC-foliation', 38],\n",
       " [2, '7.1. A variational formula for STCMC-surfaces', 39],\n",
       " [2, '7.2. STCMC-center of mass', 40],\n",
       " [1,\n",
       "  '8. Time evolution and Poincaré covariance of the STCMC-center of mass',\n",
       "  43],\n",
       " [2, '8.1. Evolution', 43],\n",
       " [2, '8.2. Poincaré-covariance and accordance with Special Relativity', 47],\n",
       " [1, '9. A concrete graphical example in the Schwarzschild spacetime', 49],\n",
       " [1, 'Appendix A. Round surfaces in asymptotically Euclidean manifolds', 51],\n",
       " [1, 'Appendix B. The STCMC-condition in normal geodesic coordinates', 53],\n",
       " [1, 'References', 54]]"
      ]
     },
     "metadata": {},
     "output_type": "display_data"
    },
    {
     "name": "stdout",
     "output_type": "stream",
     "text": [
      "starting looking for all the sections according to the provided section title info...\n",
      "Done with PDF file: 1901.00028v1.pdf\n",
      "# of sections: 13\n",
      "Total # of sections: 193 Total # of files: 26\n",
      "============================================================\n",
      "Processing PDF file: 1901.00029v1.pdf\n",
      "The paper has not table of content. Need to use regular expression to map table of content.\n",
      "starting looking for all the sections...\n"
     ]
    },
    {
     "data": {
      "text/plain": [
       "[[1, 'I.\\nINTRODUCTION', 1],\n",
       " [1, 'II.\\nMODEL AND METHOD', 2],\n",
       " [1, 'III.\\nRESULTS', 3],\n",
       " [1, 'IV.\\nCONCLUSION', 6],\n",
       " [1, 'V.\\nACKNOWLEDGEMENT', 6],\n",
       " [2, 'A.\\nKo-\\n', 7]]"
      ]
     },
     "metadata": {},
     "output_type": "display_data"
    },
    {
     "name": "stdout",
     "output_type": "stream",
     "text": [
      "starting looking for all the sections according to the provided section title info...\n",
      "Done with PDF file: 1901.00029v1.pdf\n",
      "# of sections: 6\n",
      "Total # of sections: 199 Total # of files: 27\n",
      "============================================================\n",
      "Processing PDF file: 1901.00030v1.pdf\n",
      "The paper has not table of content. Need to use regular expression to map table of content.\n",
      "starting looking for all the sections...\n"
     ]
    },
    {
     "data": {
      "text/plain": [
       "[[1, '1. INTRODUCTION', 1],\n",
       " [1, '8\\nFermi-LAT Flux', 3],\n",
       " [1, '2. OBSERVATIONS AND DATA REDUCTION', 3],\n",
       " [1, '3. DATA ANALYSIS AND KEY RESULTS', 4],\n",
       " [2, '3.1. Fermi-LAT detailed analysis', 4],\n",
       " [2, '3.2. NuSTAR Imaging\\nWe show the ﬁltered FPMA image output by the', 4],\n",
       " [2,\n",
       "  '3.3. NuSTAR spectral analysis\\nAlthough only a small number of net counts remain',\n",
       "  5],\n",
       " [1, '4. DISCUSSION', 6],\n",
       " [2, '1.27 MeV and the', 7],\n",
       " [1, '5. CONCLUSIONS', 9]]"
      ]
     },
     "metadata": {},
     "output_type": "display_data"
    },
    {
     "name": "stdout",
     "output_type": "stream",
     "text": [
      "starting looking for all the sections according to the provided section title info...\n",
      "Done with PDF file: 1901.00030v1.pdf\n",
      "# of sections: 7\n",
      "Total # of sections: 206 Total # of files: 28\n",
      "============================================================\n",
      "Processing PDF file: 1901.00031v1.pdf\n",
      "Auto generated table of content:\n"
     ]
    },
    {
     "data": {
      "text/plain": [
       "[[1, 'I Introduction', 1],\n",
       " [1, 'II The Proposed Interest Point Detector', 1],\n",
       " [2, 'II-A Problem Formulation', 1],\n",
       " [2, 'II-B Adaptive Ternary Coding Algorithm', 2],\n",
       " [2, 'II-C The Proposed ATC Detector', 3],\n",
       " [3, 'II-C1 Ridge and Edge Suppression', 3],\n",
       " [3, 'II-C2 Algorithm for ATC Detector', 4],\n",
       " [1, 'III Experiments', 4],\n",
       " [2, 'III-A Repeatability', 4],\n",
       " [2, 'III-B Application to Face Recognition', 4],\n",
       " [1, 'IV Conclusions', 5],\n",
       " [1, 'References', 5]]"
      ]
     },
     "metadata": {},
     "output_type": "display_data"
    },
    {
     "name": "stdout",
     "output_type": "stream",
     "text": [
      "starting looking for all the sections according to the provided section title info...\n",
      "Done with PDF file: 1901.00031v1.pdf\n",
      "# of sections: 6\n",
      "Total # of sections: 212 Total # of files: 29\n",
      "============================================================\n",
      "Processing PDF file: 1901.00032v2.pdf\n",
      "Auto generated table of content:\n"
     ]
    },
    {
     "data": {
      "text/plain": [
       "[[1,\n",
       "  'Inorganic Materials Synthesis Planning with Literature-Trained Neural Networks',\n",
       "  1],\n",
       " [2, 'Abstract', 1],\n",
       " [2, ' References', 5]]"
      ]
     },
     "metadata": {},
     "output_type": "display_data"
    },
    {
     "name": "stdout",
     "output_type": "stream",
     "text": [
      "starting looking for all the sections according to the provided section title info...\n",
      "Done with PDF file: 1901.00032v2.pdf\n",
      "# of sections: 1\n",
      "Total # of sections: 213 Total # of files: 30\n",
      "============================================================\n",
      "Processing PDF file: 1901.00033v1.pdf\n",
      "The paper has not table of content. Need to use regular expression to map table of content.\n",
      "starting looking for all the sections...\n"
     ]
    },
    {
     "data": {
      "text/plain": [
       "[[1, 'I. INTRODUCTION \\n ', 1],\n",
       " [1, 'II. EXPERIMENTAL \\n ', 3],\n",
       " [1, '1 Torr ', 7],\n",
       " [1, '42 \\nNe ', 11],\n",
       " [1, '38 \\nNe ', 11],\n",
       " [1, '11 \\nNe ', 11],\n",
       " [1, 'IV. DISCUSSION \\n ', 12],\n",
       " [1, 'V. CONCLUSIONS \\n ', 15]]"
      ]
     },
     "metadata": {},
     "output_type": "display_data"
    },
    {
     "name": "stdout",
     "output_type": "stream",
     "text": [
      "starting looking for all the sections according to the provided section title info...\n",
      "Done with PDF file: 1901.00033v1.pdf\n",
      "# of sections: 9\n",
      "Total # of sections: 222 Total # of files: 31\n",
      "============================================================\n",
      "Processing PDF file: 1901.00034v1.pdf\n",
      "Auto generated table of content:\n"
     ]
    },
    {
     "data": {
      "text/plain": [
       "[[1,\n",
       "  'Comparing many-body localization lengths via non-perturbative construction of local integrals of motion',\n",
       "  1],\n",
       " [2, 'Abstract', 1],\n",
       " [2, 'I Introduction', 1],\n",
       " [2, 'II Algorithm', 2],\n",
       " [2, 'III Results', 2],\n",
       " [3, 'A Localization of operators and interactions', 2],\n",
       " [3, 'B Localization lengths', 4],\n",
       " [3, 'C Non-interacting model: tradeoff of localization', 5],\n",
       " [3, 'D Dephasing Dynamics', 5],\n",
       " [2, 'IV Conclusion and Outlook', 5],\n",
       " [2, 'A Comparison of LIOMs and physical spin operators', 5],\n",
       " [2, 'B Distribution of interaction strengths and rare regions', 6],\n",
       " [2, 'C Dephasing with Artificial Hamiltonian', 7],\n",
       " [2, ' References', 7],\n",
       " [2, ' Supplementary material', 9],\n",
       " [3,\n",
       "  '1 Rare events in the distribution of interaction strengths and rare regions',\n",
       "  9],\n",
       " [3, '2 Stability', 9],\n",
       " [3, '3 Comparison to alternative algorithms to find the LIOM set', 10],\n",
       " [3, '4 Computational complexity', 11]]"
      ]
     },
     "metadata": {},
     "output_type": "display_data"
    },
    {
     "name": "stdout",
     "output_type": "stream",
     "text": [
      "starting looking for all the sections according to the provided section title info...\n",
      "Done with PDF file: 1901.00034v1.pdf\n",
      "# of sections: 1\n",
      "Total # of sections: 223 Total # of files: 32\n",
      "============================================================\n",
      "Processing PDF file: 1901.00035v1.pdf\n",
      "Auto generated table of content:\n"
     ]
    },
    {
     "data": {
      "text/plain": [
       "[[1, '1  Introduction', 1],\n",
       " [2, '1.1  Related Work and Contributions', 1],\n",
       " [1, '2  Relaxations for a Single Neuron', 1],\n",
       " [2, '2.1  Failure of the naive relaxation', 2],\n",
       " [2, '2.2  Randomized Convex Relaxation', 2],\n",
       " [1, '3  Convolutional nets and multiple neurons', 3],\n",
       " [1, '4  Numerical Results', 4],\n",
       " [2, '4.1  Phase Transition Plots for Gaussian Distribution', 4],\n",
       " [2, '4.2  Experiments on MNIST Dataset', 4],\n",
       " [1, '5  Conclusion', 4],\n",
       " [1, '6  References', 5]]"
      ]
     },
     "metadata": {},
     "output_type": "display_data"
    },
    {
     "name": "stdout",
     "output_type": "stream",
     "text": [
      "starting looking for all the sections according to the provided section title info...\n",
      "Done with PDF file: 1901.00035v1.pdf\n",
      "# of sections: 7\n",
      "Total # of sections: 230 Total # of files: 33\n",
      "============================================================\n",
      "Processing PDF file: 1901.00036v2.pdf\n",
      "Auto generated table of content:\n"
     ]
    },
    {
     "data": {
      "text/plain": [
       "[[1, '1. Introduction', 2],\n",
       " [1, '2. notations and preliminaries', 7],\n",
       " [1, '3. A Leibniz rule', 9],\n",
       " [1, '4. Proof of Theorem ??', 12],\n",
       " [2, '4.1. Reduction of the symbols', 12],\n",
       " [2, '4.2. The Lr boundedness of Hölder type', 20],\n",
       " [1, '5. Reduction of Theorem ?? ', 27],\n",
       " [1, '6. Proof of Theorem ??', 29],\n",
       " [2, \"6.1.  Estimates for TG,G',0ab\", 31],\n",
       " [2, \"6.2.  Estimates for TE,E',0ab\", 31],\n",
       " [2, \"6.3. TE,G',0ab,TG,E',0ab \", 48],\n",
       " [1, 'Appendix A. ', 49],\n",
       " [1, 'Appendix B. ', 54],\n",
       " [1, 'Appendix C. ', 67],\n",
       " [1, 'References', 74]]"
      ]
     },
     "metadata": {},
     "output_type": "display_data"
    },
    {
     "name": "stdout",
     "output_type": "stream",
     "text": [
      "starting looking for all the sections according to the provided section title info...\n",
      "Done with PDF file: 1901.00036v2.pdf\n",
      "# of sections: 11\n",
      "Total # of sections: 241 Total # of files: 34\n",
      "============================================================\n",
      "Processing PDF file: 1901.00037v1.pdf\n",
      "Auto generated table of content:\n"
     ]
    },
    {
     "data": {
      "text/plain": [
       "[[1, 'I Introduction', 1],\n",
       " [1, 'II Equation of the NMO ellipse', 2],\n",
       " [1, 'III Homogeneous arbitrary anisotropic layer', 4],\n",
       " [2, 'A General case', 4],\n",
       " [2, 'B Special cases', 5],\n",
       " [3, '1 Model with a vertical symmetry plane', 5],\n",
       " [3, '2 Horizontal reflector', 6],\n",
       " [1, 'IV Horizontally-layered medium above a dipping reflector', 7],\n",
       " [2, 'A Generalized Dix equation', 7],\n",
       " [2, 'B Model with a vertical symmetry plane', 9],\n",
       " [2, 'C Accuracy of the rms averaging of NMO velocities', 9],\n",
       " [1, 'V Inhomogeneous anisotropic media', 11],\n",
       " [2, 'A Summary of ray tracing', 11],\n",
       " [2, 'B Computation of NMO velocity', 12],\n",
       " [2, 'C Piecewise homogeneous media', 14],\n",
       " [1, 'VI Synthetic examples for inhomogeneous media', 15],\n",
       " [1, 'VII Field-data example', 15],\n",
       " [1, 'VIII Discussion and conclusions', 16],\n",
       " [1, 'IX Acknowledgments', 20],\n",
       " [1, 'A Relation between the matrix W and the NMO-velocity ellipse', 20],\n",
       " [1, 'B NMO velocity in a single layer', 21],\n",
       " [1, 'C Relation between the exact and rms-averaged NMO velocity', 22],\n",
       " [1,\n",
       "  'D The derivatives of group velocity with respect to the ray parameters 1 and 2',\n",
       "  23],\n",
       " [1, ' References', 24]]"
      ]
     },
     "metadata": {},
     "output_type": "display_data"
    },
    {
     "name": "stdout",
     "output_type": "stream",
     "text": [
      "starting looking for all the sections according to the provided section title info...\n",
      "Done with PDF file: 1901.00037v1.pdf\n",
      "# of sections: 15\n",
      "Total # of sections: 256 Total # of files: 35\n",
      "============================================================\n",
      "Processing PDF file: 1901.00038v1.pdf\n",
      "The paper has not table of content. Need to use regular expression to map table of content.\n",
      "starting looking for all the sections...\n"
     ]
    },
    {
     "data": {
      "text/plain": [
       "[[1, 'I. INTRODUCTION', 1],\n",
       " [1, 'II. BACKGROUND', 2],\n",
       " [2, 'A. Related work\\nFinding the performance of existing video players ', 2],\n",
       " [1, 'III. EXPLAINING POOR VIDEO PERFORMANCE', 3],\n",
       " [1, 'IV. FIXING VIDEO PERFORMANCE', 4],\n",
       " [2,\n",
       "  'A. Adaptive chunk sizing\\nTo determine the appropriate size for a video ',\n",
       "  4],\n",
       " [1, '256\\nQueue Size', 5],\n",
       " [2, 'B. Two data plane implementations\\nProgram ', 6],\n",
       " [1, 'V. EVALUATION', 7],\n",
       " [2, 'A. Experimental setup and methodology\\nFixed broadband ', 7],\n",
       " [2,\n",
       "  'B. Sprint utilizes its fair-share of the network across a wide-\\nrange of ',\n",
       "  8],\n",
       " [2,\n",
       "  'C. Sprint works well with many different ABR algorithms\\nSprint provides a data plane solution that allows many\\ndifferent control plane ',\n",
       "  8],\n",
       " [1, '3 Mbps', 9],\n",
       " [2,\n",
       "  '1.5 Mbps\\n3 Mbps\\n6 Mbps\\n0\\n1000\\n2000\\n128\\n256\\n512\\n128\\n256\\n512\\n128\\n256\\n512',\n",
       "  9],\n",
       " [2,\n",
       "  'D. Sprint outperforms existing players\\nTo demonstrate that even leading industry video-on-demand\\nservices fail to achieve their fair share of ',\n",
       "  9],\n",
       " [1, 'VI. CONCLUSION', 11]]"
      ]
     },
     "metadata": {},
     "output_type": "display_data"
    },
    {
     "name": "stdout",
     "output_type": "stream",
     "text": [
      "starting looking for all the sections according to the provided section title info...\n",
      "Done with PDF file: 1901.00038v1.pdf\n",
      "# of sections: 9\n",
      "Total # of sections: 265 Total # of files: 36\n",
      "============================================================\n",
      "Processing PDF file: 1901.00039v2.pdf\n",
      "Auto generated table of content:\n"
     ]
    },
    {
     "data": {
      "text/plain": [
       "[[1, 'I Introduction', 1],\n",
       " [1, 'II Related work', 2],\n",
       " [1, 'III Our proposed method', 2],\n",
       " [2, 'III-A Density map estimation', 2],\n",
       " [2, 'III-B Method overview', 3],\n",
       " [2, 'III-C Backbone sub-network', 3],\n",
       " [2, 'III-D Mask prediction branch', 3],\n",
       " [2, 'III-E Mask-aware density density regressor', 4],\n",
       " [2, 'III-F Implementation details', 5],\n",
       " [1, 'IV Experiment', 5],\n",
       " [2, 'IV-A Evaluation metrics ', 5],\n",
       " [2, 'IV-B Datasets', 5],\n",
       " [2, 'IV-C Analysis of the proposed approaches', 6],\n",
       " [2, 'IV-D Ablation study', 6],\n",
       " [2, 'IV-E Comparison with the state-of-the-art', 8],\n",
       " [1, 'V Conclusion', 8],\n",
       " [1, 'References', 9]]"
      ]
     },
     "metadata": {},
     "output_type": "display_data"
    },
    {
     "name": "stdout",
     "output_type": "stream",
     "text": [
      "starting looking for all the sections according to the provided section title info...\n",
      "Done with PDF file: 1901.00039v2.pdf\n",
      "# of sections: 7\n",
      "Total # of sections: 272 Total # of files: 37\n",
      "============================================================\n",
      "Processing PDF file: 1901.00040v1.pdf\n",
      "Auto generated table of content:\n"
     ]
    },
    {
     "data": {
      "text/plain": [
       "[[1, 'Deep Information Theoretic Registration', 1]]"
      ]
     },
     "metadata": {},
     "output_type": "display_data"
    },
    {
     "name": "stderr",
     "output_type": "stream",
     "text": [
      "MuPDF error: syntax error: could not parse color space (112 0 R)\n"
     ]
    },
    {
     "name": "stdout",
     "output_type": "stream",
     "text": [
      "starting looking for all the sections according to the provided section title info...\n",
      "Done with PDF file: 1901.00040v1.pdf\n",
      "# of sections: 1\n",
      "Total # of sections: 273 Total # of files: 38\n",
      "============================================================\n",
      "Processing PDF file: 1901.00041v1.pdf\n",
      "Auto generated table of content:\n"
     ]
    },
    {
     "data": {
      "text/plain": [
       "[[1, '1 Introduction', 1],\n",
       " [1, '2 Application Model: A Managed Cloud Inference Service', 2],\n",
       " [1,\n",
       "  '3 Investigating limitations of space-only and time-only multiplexing',\n",
       "  3],\n",
       " [2, '3.1 Experimental Setup', 3],\n",
       " [2, '3.2 Preliminary results', 4],\n",
       " [1, '4 A new hope? Dynamic space-time scheduling', 5],\n",
       " [2, '4.1 Benchmarking dynamic space-time kernel scheduling', 6],\n",
       " [1, '5 Conclusion and Future Directions', 7]]"
      ]
     },
     "metadata": {},
     "output_type": "display_data"
    },
    {
     "name": "stdout",
     "output_type": "stream",
     "text": [
      "starting looking for all the sections according to the provided section title info...\n",
      "Done with PDF file: 1901.00041v1.pdf\n",
      "# of sections: 6\n",
      "Total # of sections: 279 Total # of files: 39\n",
      "============================================================\n",
      "Processing PDF file: 1901.00042v1.pdf\n",
      "Auto generated table of content:\n"
     ]
    },
    {
     "data": {
      "text/plain": [
       "[[1, '1 Introduction ', 1], [1, '2 Notations.', 4], [1, '3 Proof', 6]]"
      ]
     },
     "metadata": {},
     "output_type": "display_data"
    },
    {
     "name": "stdout",
     "output_type": "stream",
     "text": [
      "starting looking for all the sections according to the provided section title info...\n",
      "Done with PDF file: 1901.00042v1.pdf\n",
      "# of sections: 4\n",
      "Total # of sections: 283 Total # of files: 40\n",
      "============================================================\n",
      "Processing PDF file: 1901.00043v1.pdf\n",
      "Auto generated table of content:\n"
     ]
    },
    {
     "data": {
      "text/plain": [
       "[[1, '1 Introduction', 1],\n",
       " [1, '2 The case (G) 6.', 3],\n",
       " [1, '3 The case (G) {4,5}.', 6],\n",
       " [1, '4 The case (G)3 with (G)3.', 11],\n",
       " [1, '5 Proof of Theorem ??', 17]]"
      ]
     },
     "metadata": {},
     "output_type": "display_data"
    },
    {
     "name": "stdout",
     "output_type": "stream",
     "text": [
      "starting looking for all the sections according to the provided section title info...\n",
      "Done with PDF file: 1901.00043v1.pdf\n",
      "# of sections: 6\n",
      "Total # of sections: 289 Total # of files: 41\n",
      "============================================================\n",
      "Processing PDF file: 1901.00044v1.pdf\n",
      "Auto generated table of content:\n"
     ]
    },
    {
     "data": {
      "text/plain": [
       "[[1, '1. Introduction', 1],\n",
       " [1, '2. The self-similar solution on an asymptotically conical end', 3],\n",
       " [1,\n",
       "  '3. The analytic structure associated to a solution to the Ricci flow',\n",
       "  4],\n",
       " [1, '4. The isometry group near spatial infinity', 7],\n",
       " [1, '5. Extension of isometries in the complete case', 9],\n",
       " [1, 'References', 11]]"
      ]
     },
     "metadata": {},
     "output_type": "display_data"
    },
    {
     "name": "stdout",
     "output_type": "stream",
     "text": [
      "starting looking for all the sections according to the provided section title info...\n",
      "Done with PDF file: 1901.00044v1.pdf\n",
      "# of sections: 7\n",
      "Total # of sections: 296 Total # of files: 42\n",
      "============================================================\n",
      "Processing PDF file: 1901.00045v2.pdf\n",
      "Auto generated table of content:\n"
     ]
    },
    {
     "data": {
      "text/plain": [
       "[[1, '1 Introduction', 2],\n",
       " [2, '1.1 Statement of the main results.', 4],\n",
       " [2, '1.2 Discussions', 8],\n",
       " [1, '2 Preliminary lemmas', 10],\n",
       " [1, '3 Spreading speeds', 15],\n",
       " [1, '4 Traveling wave solutions', 23]]"
      ]
     },
     "metadata": {},
     "output_type": "display_data"
    },
    {
     "name": "stdout",
     "output_type": "stream",
     "text": [
      "starting looking for all the sections according to the provided section title info...\n",
      "Done with PDF file: 1901.00045v2.pdf\n",
      "# of sections: 5\n",
      "Total # of sections: 301 Total # of files: 43\n",
      "============================================================\n",
      "Processing PDF file: 1901.00046v2.pdf\n",
      "Auto generated table of content:\n"
     ]
    },
    {
     "data": {
      "text/plain": [
       "[[1, ' Acknowledgments', 5], [1, ' References', 5]]"
      ]
     },
     "metadata": {},
     "output_type": "display_data"
    },
    {
     "name": "stdout",
     "output_type": "stream",
     "text": [
      "starting looking for all the sections according to the provided section title info...\n",
      "Done with PDF file: 1901.00046v2.pdf\n",
      "# of sections: 2\n",
      "Total # of sections: 303 Total # of files: 44\n",
      "============================================================\n",
      "Processing PDF file: 1901.00047v4.pdf\n",
      "Auto generated table of content:\n"
     ]
    },
    {
     "data": {
      "text/plain": [
       "[[1, ' Acknowledgments', 5],\n",
       " [1, ' References', 5],\n",
       " [1, ' S1. Examples of correspondence between C,Sor12 and [p,q,Se,S]', 6],\n",
       " [1, ' S2. The Jain States from Composite Fermion Picture', 7],\n",
       " [1, ' References', 8]]"
      ]
     },
     "metadata": {},
     "output_type": "display_data"
    },
    {
     "name": "stdout",
     "output_type": "stream",
     "text": [
      "starting looking for all the sections according to the provided section title info...\n",
      "Done with PDF file: 1901.00047v4.pdf\n",
      "# of sections: 4\n",
      "Total # of sections: 307 Total # of files: 45\n",
      "============================================================\n",
      "Processing PDF file: 1901.00048v1.pdf\n",
      "Auto generated table of content:\n"
     ]
    },
    {
     "data": {
      "text/plain": [
       "[[1, '1 Introduction', 1],\n",
       " [1, '2 Observations and data analysis', 1],\n",
       " [1, '3 Results', 2],\n",
       " [1, '4 Discussion', 3],\n",
       " [1, 'A Effective temperatures', 6],\n",
       " [1, 'B Planet engulfment', 6]]"
      ]
     },
     "metadata": {},
     "output_type": "display_data"
    },
    {
     "name": "stdout",
     "output_type": "stream",
     "text": [
      "starting looking for all the sections according to the provided section title info...\n",
      "Done with PDF file: 1901.00048v1.pdf\n",
      "# of sections: 7\n",
      "Total # of sections: 314 Total # of files: 46\n",
      "============================================================\n",
      "Processing PDF file: 1901.00049v2.pdf\n",
      "The paper has not table of content. Need to use regular expression to map table of content.\n",
      "starting looking for all the sections...\n"
     ]
    },
    {
     "data": {
      "text/plain": [
       "[[1, '1. Introduction', 1],\n",
       " [1, '2. Related Work', 2],\n",
       " [1, '3. Method', 3],\n",
       " [2,\n",
       "  '3.1. Multi-View Silhouette Synthesis\\nWe seek an effective human shape representation that can\\nhandle the shape complexity due to different clothing types',\n",
       "  3],\n",
       " [2,\n",
       "  '3.2. Deep Visual Hull Prediction\\nAlthough our silhouette synthesis algorithm generates',\n",
       "  4],\n",
       " [2, '3.3. Front-to-Back Texture Synthesis', 4],\n",
       " [2, '3.4. Implementation Details', 5],\n",
       " [1, '4. Experimental Results', 6],\n",
       " [2, '4.1. Evaluations', 6],\n",
       " [1, '1.\\nInput\\nMethod\\nCD\\nEMD\\nInferred', 7],\n",
       " [2, '3.66\\nGT silhouettes', 7],\n",
       " [2, '3.19\\nGT images', 7],\n",
       " [2, '4.2. Comparisons', 7]]"
      ]
     },
     "metadata": {},
     "output_type": "display_data"
    },
    {
     "name": "stdout",
     "output_type": "stream",
     "text": [
      "starting looking for all the sections according to the provided section title info...\n",
      "Done with PDF file: 1901.00049v2.pdf\n",
      "# of sections: 6\n",
      "Total # of sections: 320 Total # of files: 47\n",
      "============================================================\n",
      "Processing PDF file: 1901.00050v1.pdf\n",
      "Auto generated table of content:\n"
     ]
    },
    {
     "data": {
      "text/plain": [
       "[[1, '1 Introduction: the numerical radius', 1],\n",
       " [1, '2 Examples of numerical radius optimization', 3],\n",
       " [1, '3 Subgradients and partial smoothness', 6],\n",
       " [1, '4 The Crabb matrix', 8],\n",
       " [1, '5 The subdifferential of the numerical radius at disk matrices', 11],\n",
       " [1, '6 Matrices with field of values the unit disk', 14],\n",
       " [1, '7 Disk matrices', 18],\n",
       " [1, '8 The Crouzeix parametrization', 20],\n",
       " [2, '8.1 The two-by-two case', 22],\n",
       " [2, '8.2 The superdiagonal case', 22],\n",
       " [1, '9 The three-by-three case', 25],\n",
       " [1, '10 Concluding Remarks', 34]]"
      ]
     },
     "metadata": {},
     "output_type": "display_data"
    },
    {
     "name": "stdout",
     "output_type": "stream",
     "text": [
      "starting looking for all the sections according to the provided section title info...\n",
      "Done with PDF file: 1901.00050v1.pdf\n",
      "# of sections: 11\n",
      "Total # of sections: 331 Total # of files: 48\n",
      "============================================================\n",
      "Processing PDF file: 1901.00051v2.pdf\n",
      "The paper has not table of content. Need to use regular expression to map table of content.\n",
      "starting looking for all the sections...\n"
     ]
    },
    {
     "data": {
      "text/plain": [
       "[[2, 'B. Scott ', 1],\n",
       " [1, '1. INTRODUCTION', 2],\n",
       " [2,\n",
       "  '2.1. TESS Photometry\\nTESS will survey nearly the entire sky over two years',\n",
       "  2],\n",
       " [1, '2. After', 2],\n",
       " [1, '59 HARPS', 2],\n",
       " [2,\n",
       "  '3.2. The presence of\\nthe neighboring star also warrants correcting the transit',\n",
       "  4],\n",
       " [2, '2.2. VLT NaCo Imaging', 4],\n",
       " [1, '279741377.\\nWe', 5],\n",
       " [2, '2.4. HARPS Spectroscopy', 5],\n",
       " [1, '3. ANALYSIS AND RESULTS', 5],\n",
       " [2, '3.1. Stellar Parameters', 5],\n",
       " [2, '3.2. Validation of HD 21749c', 6],\n",
       " [2, '3.3. Joint Photometry and Radial Velocity Fit', 6],\n",
       " [2, '3.4. Stellar Activity', 7],\n",
       " [1, '4. DISCUSSION AND CONCLUSION', 9]]"
      ]
     },
     "metadata": {},
     "output_type": "display_data"
    },
    {
     "name": "stdout",
     "output_type": "stream",
     "text": [
      "starting looking for all the sections according to the provided section title info...\n",
      "Done with PDF file: 1901.00051v2.pdf\n",
      "# of sections: 7\n",
      "Total # of sections: 338 Total # of files: 49\n",
      "============================================================\n",
      "Processing PDF file: 1901.00052v2.pdf\n",
      "The paper has not table of content. Need to use regular expression to map table of content.\n",
      "starting looking for all the sections...\n"
     ]
    },
    {
     "data": {
      "text/plain": [
       "[]"
      ]
     },
     "metadata": {},
     "output_type": "display_data"
    },
    {
     "name": "stdout",
     "output_type": "stream",
     "text": [
      "starting looking for all the sections according to the provided section title info...\n",
      "Processing PDF file: 1901.00053v3.pdf\n",
      "Auto generated table of content:\n"
     ]
    },
    {
     "data": {
      "text/plain": [
       "[[1, '1 Introduction', 2],\n",
       " [1, '2 2-Separations', 4],\n",
       " [1, '3 Applications to 2-connected graphs', 10],\n",
       " [2,\n",
       "  '3.1 Resistance distance and spanning 2-forests in the Sierpinski triangle',\n",
       "  10],\n",
       " [2, '3.2 Resistance distance in a bent linear 2-tree', 12],\n",
       " [1, '4 Conclusion', 17]]"
      ]
     },
     "metadata": {},
     "output_type": "display_data"
    },
    {
     "name": "stdout",
     "output_type": "stream",
     "text": [
      "starting looking for all the sections according to the provided section title info...\n",
      "Done with PDF file: 1901.00053v3.pdf\n",
      "# of sections: 5\n",
      "Total # of sections: 343 Total # of files: 50\n",
      "============================================================\n",
      "Processing PDF file: 1901.00054v3.pdf\n",
      "Auto generated table of content:\n"
     ]
    },
    {
     "data": {
      "text/plain": [
       "[[1, 'I Introduction', 1],\n",
       " [1, 'II Background and Motivation', 2],\n",
       " [2, 'II-A Adversarial Attacks and Defenses', 2],\n",
       " [2, 'II-B Observation', 2],\n",
       " [1, 'III Technique Framework', 3],\n",
       " [2, 'III-A Problem Settings', 3],\n",
       " [2, 'III-B Our Method NSATP', 3],\n",
       " [1, 'IV Evaluation', 4],\n",
       " [2, 'IV-A Research Questions', 4],\n",
       " [2, 'IV-B Experimental Setup', 4],\n",
       " [2, 'IV-C Performance Measurement', 4],\n",
       " [3, 'IV-C1 Effective adversarial sample ratio (Eff.)', 4],\n",
       " [3, 'IV-C2  F-measure', 4],\n",
       " [3, 'IV-C3  Effectiveness on distance metric(Eff-D)', 4],\n",
       " [2, 'IV-D Data Analysis and Results', 5],\n",
       " [3, 'IV-D1 Answer Q1', 6],\n",
       " [3, 'IV-D2 Answer Q2', 6],\n",
       " [3, 'IV-D3 Answer Q3', 7],\n",
       " [2, 'IV-E Threats to validity', 7],\n",
       " [1, 'V Related Work', 7],\n",
       " [1, 'VI Conclusion', 7],\n",
       " [1, 'VII Acknowledgements', 8],\n",
       " [1, 'References', 8]]"
      ]
     },
     "metadata": {},
     "output_type": "display_data"
    },
    {
     "name": "stdout",
     "output_type": "stream",
     "text": [
      "starting looking for all the sections according to the provided section title info...\n",
      "Done with PDF file: 1901.00054v3.pdf\n",
      "# of sections: 9\n",
      "Total # of sections: 352 Total # of files: 51\n",
      "============================================================\n",
      "Processing PDF file: 1901.00055v2.pdf\n",
      "Auto generated table of content:\n"
     ]
    },
    {
     "data": {
      "text/plain": [
       "[[1, '1 Introduction', 1],\n",
       " [1, '2 Material and methods', 5],\n",
       " [2, '2.1 Partial convolution', 5],\n",
       " [2, '2.2 Non-Local block', 5],\n",
       " [2, '2.3 Network design and implementation', 7],\n",
       " [2, '2.4 Loss function', 8],\n",
       " [2, '2.5 Data', 10],\n",
       " [2, '2.6 Data and code availability statement', 11],\n",
       " [1, '3 Results', 11],\n",
       " [2, '3.1 Qualitative evaluation', 11],\n",
       " [2, '3.2 Quantitative evaluation', 12],\n",
       " [3, '3.2.1 Synthetic lesion generation', 13],\n",
       " [3, '3.2.2 Synthesisation error', 14],\n",
       " [3, '3.2.3 WM, GM, CSF Volume Error', 14],\n",
       " [1, '4 Discussion', 15],\n",
       " [1, '5 Conclusion', 16]]"
      ]
     },
     "metadata": {},
     "output_type": "display_data"
    },
    {
     "name": "stdout",
     "output_type": "stream",
     "text": [
      "starting looking for all the sections according to the provided section title info...\n",
      "Done with PDF file: 1901.00055v2.pdf\n",
      "# of sections: 6\n",
      "Total # of sections: 358 Total # of files: 52\n",
      "============================================================\n",
      "Processing PDF file: 1901.00056v2.pdf\n",
      "Auto generated table of content:\n"
     ]
    },
    {
     "data": {
      "text/plain": [
       "[[1, '1 Introduction', 1],\n",
       " [1, '2 SynonymNet', 2],\n",
       " [2, '2.1 Context Retriever', 2],\n",
       " [2, '2.2 Context Encoder', 2],\n",
       " [2, '2.3 Bilateral Matching with Leaky Unit', 2],\n",
       " [2, '2.4 Context Aggregation', 3],\n",
       " [2, '2.5 Training Objectives', 3],\n",
       " [2, '2.6 Inference', 3],\n",
       " [1, '3 Experiments', 4],\n",
       " [2, '3.1 Experiment Setup', 4],\n",
       " [2, '3.2 Performance Evaluation', 5],\n",
       " [1, '4 Related Works', 6],\n",
       " [1, '5 Conclusions', 6]]"
      ]
     },
     "metadata": {},
     "output_type": "display_data"
    },
    {
     "name": "stdout",
     "output_type": "stream",
     "text": [
      "starting looking for all the sections according to the provided section title info...\n",
      "Done with PDF file: 1901.00056v2.pdf\n",
      "# of sections: 6\n",
      "Total # of sections: 364 Total # of files: 53\n",
      "============================================================\n",
      "Processing PDF file: 1901.00057v1.pdf\n",
      "Auto generated table of content:\n"
     ]
    },
    {
     "data": {
      "text/plain": [
       "[[1, 'Relativistic X-ray jets at high redshift', 1],\n",
       " [2, 'Abstract', 1],\n",
       " [2, '1 Introduction', 1],\n",
       " [2, '2 The high redshift survey', 3],\n",
       " [2, '3 Detection of X-ray jets', 3],\n",
       " [3, '3.1 J1405+0415', 3],\n",
       " [3, '3.2 J1610+1811', 4],\n",
       " [2, '4 Discussion', 5],\n",
       " [2, 'Acknowledgments', 5],\n",
       " [2, 'References', 5]]"
      ]
     },
     "metadata": {},
     "output_type": "display_data"
    },
    {
     "name": "stdout",
     "output_type": "stream",
     "text": [
      "starting looking for all the sections according to the provided section title info...\n",
      "Done with PDF file: 1901.00057v1.pdf\n",
      "# of sections: 2\n",
      "Total # of sections: 366 Total # of files: 54\n",
      "============================================================\n",
      "Processing PDF file: 1901.00058v1.pdf\n",
      "Auto generated table of content:\n"
     ]
    },
    {
     "data": {
      "text/plain": [
       "[[1, '1 Introduction', 2],\n",
       " [2, '1.1 Conformal and quasiconformal mappings', 3],\n",
       " [1, '2 Convexity properties of conformally invariant functions', 5],\n",
       " [1, '3 Generalized convexity properties and convex envelopes', 7],\n",
       " [2, '3.1 Main result on the quasiconvex envelope', 8],\n",
       " [1, '4 Specific relaxation examples and numerical simulations', 9],\n",
       " [2, '4.1 The deviatoric Hencky energy', 10],\n",
       " [2, '4.2 The squared logarithm of K', 11],\n",
       " [2, '4.3 The exponentiated Hencky energy', 11],\n",
       " [2, '4.4 An energy function related to a result by Yan', 13],\n",
       " [1, '5 References', 16],\n",
       " [1, 'A The quasiconvex envelope for a class of conformal energies', 18],\n",
       " [1, 'B Connections to the Grötzsch problem', 19],\n",
       " [1, 'C The convex envelope of conformally invariant planar energies', 20]]"
      ]
     },
     "metadata": {},
     "output_type": "display_data"
    },
    {
     "name": "stdout",
     "output_type": "stream",
     "text": [
      "starting looking for all the sections according to the provided section title info...\n",
      "Done with PDF file: 1901.00058v1.pdf\n",
      "# of sections: 9\n",
      "Total # of sections: 375 Total # of files: 55\n",
      "============================================================\n",
      "Processing PDF file: 1901.00059v2.pdf\n",
      "Auto generated table of content:\n"
     ]
    },
    {
     "data": {
      "text/plain": [
       "[[1,\n",
       "  'Determining Principal Component Cardinalitythrough thePrinciple of Minimum Description Length ',\n",
       "  1]]"
      ]
     },
     "metadata": {},
     "output_type": "display_data"
    },
    {
     "name": "stdout",
     "output_type": "stream",
     "text": [
      "starting looking for all the sections according to the provided section title info...\n",
      "Done with PDF file: 1901.00059v2.pdf\n",
      "# of sections: 1\n",
      "Total # of sections: 376 Total # of files: 56\n",
      "============================================================\n",
      "Processing PDF file: 1901.00060v1.pdf\n",
      "The paper has not table of content. Need to use regular expression to map table of content.\n",
      "starting looking for all the sections...\n"
     ]
    },
    {
     "data": {
      "text/plain": [
       "[[1, '1. Introduction', 2],\n",
       " [1, '2. Electromagnetic Form Factors', 2],\n",
       " [1, '3. Axial Form Factors', 4]]"
      ]
     },
     "metadata": {},
     "output_type": "display_data"
    },
    {
     "name": "stdout",
     "output_type": "stream",
     "text": [
      "starting looking for all the sections according to the provided section title info...\n",
      "Done with PDF file: 1901.00060v1.pdf\n",
      "# of sections: 4\n",
      "Total # of sections: 380 Total # of files: 57\n",
      "============================================================\n",
      "Processing PDF file: 1901.00061v10.pdf\n",
      "Auto generated table of content:\n"
     ]
    },
    {
     "data": {
      "text/plain": [
       "[[1, '1 Abstract', 1],\n",
       " [1, '2 Introduction', 2],\n",
       " [1, '3 Preliminaries', 2],\n",
       " [1, '4 Main Result', 3],\n",
       " [1, '5 Generators of commutator and commutator width of wreath product', 7],\n",
       " [1,\n",
       "  '6 Application to geometric groups of diffeomorphisms acting on the Mebius band',\n",
       "  10],\n",
       " [1, '7 Conclusion ', 17]]"
      ]
     },
     "metadata": {},
     "output_type": "display_data"
    },
    {
     "name": "stdout",
     "output_type": "stream",
     "text": [
      "starting looking for all the sections according to the provided section title info...\n",
      "Done with PDF file: 1901.00061v10.pdf\n",
      "# of sections: 8\n",
      "Total # of sections: 388 Total # of files: 58\n",
      "============================================================\n",
      "Processing PDF file: 1901.00061v11.pdf\n",
      "Auto generated table of content:\n"
     ]
    },
    {
     "data": {
      "text/plain": [
       "[[1, '1 Abstract', 1],\n",
       " [1, '2 Introduction', 2],\n",
       " [1, '3 Preliminaries', 2],\n",
       " [1, '4 Main Result', 3],\n",
       " [1, '5 Generators of commutator and commutator width of wreath product', 7],\n",
       " [1,\n",
       "  '6 Application to geometric groups of diffeomorphisms acting on the Mebius band',\n",
       "  10],\n",
       " [1, '7 Conclusion ', 17]]"
      ]
     },
     "metadata": {},
     "output_type": "display_data"
    },
    {
     "name": "stdout",
     "output_type": "stream",
     "text": [
      "starting looking for all the sections according to the provided section title info...\n",
      "Done with PDF file: 1901.00061v11.pdf\n",
      "# of sections: 8\n",
      "Total # of sections: 396 Total # of files: 59\n",
      "============================================================\n",
      "Processing PDF file: 1901.00061v12.pdf\n",
      "Auto generated table of content:\n"
     ]
    },
    {
     "data": {
      "text/plain": [
       "[[1, '1 Introduction', 1],\n",
       " [1, '2 Prelimaries', 2],\n",
       " [1, '3 Main Results', 2],\n",
       " [2, '3.1 Rooted and Directed Automorphisms', 2],\n",
       " [2, '3.2 Generators of commutator of wreath product', 5],\n",
       " [2,\n",
       "  '3.3 Application to Geometric Groups of Diffeomorphisms Acting on the Möbius Band',\n",
       "  7],\n",
       " [1, '4 Conclusion', 11]]"
      ]
     },
     "metadata": {},
     "output_type": "display_data"
    },
    {
     "name": "stdout",
     "output_type": "stream",
     "text": [
      "starting looking for all the sections according to the provided section title info...\n",
      "Done with PDF file: 1901.00061v12.pdf\n",
      "# of sections: 5\n",
      "Total # of sections: 401 Total # of files: 60\n",
      "============================================================\n",
      "Processing PDF file: 1901.00061v13.pdf\n",
      "Auto generated table of content:\n"
     ]
    },
    {
     "data": {
      "text/plain": [
       "[[1, '1 Introduction', 1],\n",
       " [1, '2 Preliminaries', 2],\n",
       " [1, '3 Center and commutator subgroup of wreath product', 2],\n",
       " [2,\n",
       "  '3.1 Minimal generating set of direct product of wreath product of cyclic groups',\n",
       "  3],\n",
       " [2, '3.2 Generators of commutator subgroup and center of wreath product', 5],\n",
       " [2,\n",
       "  '3.3 Application to Geometric Groups of Diffeomorphisms Acting on the Möbius Band',\n",
       "  9],\n",
       " [1, '4 Conclusion', 13]]"
      ]
     },
     "metadata": {},
     "output_type": "display_data"
    },
    {
     "name": "stdout",
     "output_type": "stream",
     "text": [
      "starting looking for all the sections according to the provided section title info...\n",
      "Done with PDF file: 1901.00061v13.pdf\n",
      "# of sections: 5\n",
      "Total # of sections: 406 Total # of files: 61\n",
      "============================================================\n",
      "Processing PDF file: 1901.00061v14.pdf\n",
      "Auto generated table of content:\n"
     ]
    },
    {
     "data": {
      "text/plain": [
       "[[1, '1 Introduction', 1],\n",
       " [1, '2 Preliminaries', 2],\n",
       " [1,\n",
       "  '3 Commutator subgroup and center of wreath product with non-faithful action',\n",
       "  2],\n",
       " [2,\n",
       "  '3.1 Minimal generating set of direct product of wreath product of cyclic groups',\n",
       "  3],\n",
       " [2,\n",
       "  '3.2 Generators of commutator subgroup and center of a wreath product of group with a non-faithful action ',\n",
       "  5],\n",
       " [2,\n",
       "  '3.3 Application to Geometric Groups of Diffeomorphisms Acting on the Möbius Band',\n",
       "  9],\n",
       " [1, '4 Conclusion', 14]]"
      ]
     },
     "metadata": {},
     "output_type": "display_data"
    },
    {
     "name": "stdout",
     "output_type": "stream",
     "text": [
      "starting looking for all the sections according to the provided section title info...\n",
      "Done with PDF file: 1901.00061v14.pdf\n",
      "# of sections: 5\n",
      "Total # of sections: 411 Total # of files: 62\n",
      "============================================================\n",
      "Processing PDF file: 1901.00061v15.pdf\n",
      "Auto generated table of content:\n"
     ]
    },
    {
     "data": {
      "text/plain": [
       "[[1, '1 Introduction', 1],\n",
       " [1, '2 Preliminaries', 2],\n",
       " [1,\n",
       "  '3 Commutator subgroup and center of wreath product with non-faithful action',\n",
       "  2],\n",
       " [2,\n",
       "  '3.1 Minimal generating set of direct product of wreath product of cyclic groups',\n",
       "  3],\n",
       " [2,\n",
       "  '3.2 Generators of commutator subgroup and center of a wreath product of group with a non-faithful action ',\n",
       "  5],\n",
       " [2,\n",
       "  '3.3 Application to Geometric Groups of Diffeomorphisms Acting on the Möbius Band',\n",
       "  9],\n",
       " [1, '4 Conclusion', 14]]"
      ]
     },
     "metadata": {},
     "output_type": "display_data"
    },
    {
     "name": "stdout",
     "output_type": "stream",
     "text": [
      "starting looking for all the sections according to the provided section title info...\n",
      "Done with PDF file: 1901.00061v15.pdf\n",
      "# of sections: 5\n",
      "Total # of sections: 416 Total # of files: 63\n",
      "============================================================\n",
      "Processing PDF file: 1901.00061v9.pdf\n",
      "Auto generated table of content:\n"
     ]
    },
    {
     "data": {
      "text/plain": [
       "[[1, '1 Abstract', 1],\n",
       " [1, '2 Introduction', 2],\n",
       " [1, '3 Preliminaries', 2],\n",
       " [1, '4 Main Result', 3],\n",
       " [1, '5 Generators of commutator and commutator width of wreath product', 7],\n",
       " [1,\n",
       "  '6 Application to geometric groups of diffeomorphisms acting on the Mebius band',\n",
       "  10],\n",
       " [1, '7 Conclusion ', 17]]"
      ]
     },
     "metadata": {},
     "output_type": "display_data"
    },
    {
     "name": "stdout",
     "output_type": "stream",
     "text": [
      "starting looking for all the sections according to the provided section title info...\n",
      "Done with PDF file: 1901.00061v9.pdf\n",
      "# of sections: 8\n",
      "Total # of sections: 424 Total # of files: 64\n",
      "============================================================\n",
      "Processing PDF file: 1901.00062v3.pdf\n",
      "Auto generated table of content:\n"
     ]
    },
    {
     "data": {
      "text/plain": [
       "[[1, 'I Introduction', 1],\n",
       " [1, 'II Neural network-aided inter prediction', 1],\n",
       " [2, 'II-A Prior work', 1],\n",
       " [2, 'II-B Our contribution', 2],\n",
       " [1, 'III Proposed frame prediction', 2],\n",
       " [2, 'III-A Proposed network architecture', 2],\n",
       " [2, 'III-B Loss function', 4],\n",
       " [2, 'III-C Conventional vs. proposed inter prediction', 4],\n",
       " [1, 'IV DNN training', 6],\n",
       " [2, 'IV-A Pre-training with ablation study', 6],\n",
       " [2, 'IV-B Fine tuning', 7],\n",
       " [1, 'V Experimental results', 7],\n",
       " [2, 'V-A Frame prediction performance', 7],\n",
       " [2, 'V-B Video coding performance', 9],\n",
       " [1, 'VI Conclusion', 12],\n",
       " [1, 'References', 12],\n",
       " [1, 'Biographies', 13],\n",
       " [2, 'Hyomin Choi', 13],\n",
       " [2, 'Ivan V. Bajic', 13]]"
      ]
     },
     "metadata": {},
     "output_type": "display_data"
    },
    {
     "name": "stdout",
     "output_type": "stream",
     "text": [
      "starting looking for all the sections according to the provided section title info...\n",
      "Done with PDF file: 1901.00062v3.pdf\n",
      "# of sections: 9\n",
      "Total # of sections: 433 Total # of files: 65\n",
      "============================================================\n",
      "Processing PDF file: 1901.00063v2.pdf\n",
      "The paper has not table of content. Need to use regular expression to map table of content.\n",
      "starting looking for all the sections...\n"
     ]
    },
    {
     "data": {
      "text/plain": [
       "[[1, '1. Introduction', 1],\n",
       " [1, '2. Related Work', 2],\n",
       " [1, '3. Approach', 3],\n",
       " [2, '3.1. Approach Overview', 3],\n",
       " [2,\n",
       "  '3.2. Feature Representation\\nMotivated by the particular design of our pairwise',\n",
       "  3],\n",
       " [2, '3.3. Scan Completion Modules', 4],\n",
       " [2, '3.4. Relative Pose Module', 4],\n",
       " [1, '4. Experimental Results', 5],\n",
       " [2, '4.1. We then present an analysis of', 5],\n",
       " [2, '4.3. Please refer to Appendix B for', 5],\n",
       " [2, '4.1. Experimental Setup', 5],\n",
       " [2, '1.1\\nDatasets', 5],\n",
       " [2, '1.2\\nBaseline Comparison', 6],\n",
       " [2, '1.3\\nEvaluation Protocol', 6],\n",
       " [2, '4.2. Analysis of Results', 8],\n",
       " [2, '4.3. Ablation Study', 8],\n",
       " [1, '5. Conclusions', 9],\n",
       " [2, 'A. More Technical Details about Our Ap-\\nproach\\n', 10]]"
      ]
     },
     "metadata": {},
     "output_type": "display_data"
    },
    {
     "name": "stdout",
     "output_type": "stream",
     "text": [
      "starting looking for all the sections according to the provided section title info...\n",
      "Done with PDF file: 1901.00063v2.pdf\n",
      "# of sections: 6\n",
      "Total # of sections: 439 Total # of files: 66\n",
      "============================================================\n",
      "Processing PDF file: 1901.00064v3.pdf\n",
      "Auto generated table of content:\n"
     ]
    },
    {
     "data": {
      "text/plain": [
       "[[1, '1 Introduction', 1],\n",
       " [1, '2 Impossibility Theorems in Ethics', 2],\n",
       " [2,\n",
       "  '2.1 Example: An Impossibility Theorem in Utilitarian Population Ethics',\n",
       "  2],\n",
       " [2, '2.2 Another Impossibility Theorem', 3],\n",
       " [2, '2.3 Ethical Impossibility Derives From Competing Objectives', 3],\n",
       " [1, '3 Possible Responses to Impossibility Results', 4],\n",
       " [2, '3.1 Small-scale evasion:', 4],\n",
       " [2, '3.2 Value learning:', 4],\n",
       " [2, '3.3 Theory normalization:', 4],\n",
       " [2, '3.4 Accept one of the axioms', 5],\n",
       " [2, '3.5 Treat impossibility results as uncertainty results', 5],\n",
       " [1,\n",
       "  '4 Uncertainty theorems of the first kind: via partially ordered objective functions',\n",
       "  5],\n",
       " [1,\n",
       "  '5 Uncertainty theorems of the second kind: via learned, uncertain orders',\n",
       "  7],\n",
       " [1, '6 Further Work', 9],\n",
       " [1, '7 Lessons and Conjectures for Creating Aligned AI', 10],\n",
       " [2, '7.1 Uncertainty, pluralism, and instrumental convergence', 10],\n",
       " [2, '7.2 Conclusion', 10]]"
      ]
     },
     "metadata": {},
     "output_type": "display_data"
    },
    {
     "name": "stdout",
     "output_type": "stream",
     "text": [
      "starting looking for all the sections according to the provided section title info...\n",
      "Done with PDF file: 1901.00064v3.pdf\n",
      "# of sections: 8\n",
      "Total # of sections: 447 Total # of files: 67\n",
      "============================================================\n",
      "Processing PDF file: 1901.00065v1.pdf\n",
      "Auto generated table of content:\n"
     ]
    },
    {
     "data": {
      "text/plain": [
       "[[1, '1. Introduction', 1],\n",
       " [1, '2. Experiments', 3],\n",
       " [2, '2.1. Methods', 3],\n",
       " [2, '2.2. Data Analysis', 4],\n",
       " [1, '3. Model formulation', 5],\n",
       " [1, '4.  Film stabilization model and stability analysis', 11],\n",
       " [1, '5. Results', 15],\n",
       " [2, '5.1. Experimental comparisons', 15],\n",
       " [2, '5.2. Regime Transition', 17],\n",
       " [2, '5.3. The effects of slip and curvature', 19],\n",
       " [1, '6. Conclusion', 21],\n",
       " [1, 'Appendix A', 22],\n",
       " [1, 'Appendix B', 22]]"
      ]
     },
     "metadata": {},
     "output_type": "display_data"
    },
    {
     "name": "stdout",
     "output_type": "stream",
     "text": [
      "starting looking for all the sections according to the provided section title info...\n",
      "Done with PDF file: 1901.00065v1.pdf\n",
      "# of sections: 9\n",
      "Total # of sections: 456 Total # of files: 68\n",
      "============================================================\n",
      "Processing PDF file: 1901.00066v1.pdf\n",
      "Auto generated table of content:\n"
     ]
    },
    {
     "data": {
      "text/plain": [
       "[[1, 'I Introduction', 1],\n",
       " [1, 'II Related work', 2],\n",
       " [1, 'III The Model', 2],\n",
       " [2, 'III-A Incompatibility of standard LSTM and Tree structured data', 2],\n",
       " [2, 'III-B Tree-LSTM', 3],\n",
       " [2, 'III-C Attention', 4],\n",
       " [1, 'IV Experimental Setup and Analysis', 6],\n",
       " [1, 'V Conclusion', 8],\n",
       " [1, 'References', 8]]"
      ]
     },
     "metadata": {},
     "output_type": "display_data"
    },
    {
     "name": "stdout",
     "output_type": "stream",
     "text": [
      "starting looking for all the sections according to the provided section title info...\n",
      "Done with PDF file: 1901.00066v1.pdf\n",
      "# of sections: 7\n",
      "Total # of sections: 463 Total # of files: 69\n",
      "============================================================\n",
      "Processing PDF file: 1901.00067v1.pdf\n",
      "Auto generated table of content:\n"
     ]
    },
    {
     "data": {
      "text/plain": [
       "[[1, ' References', 5]]"
      ]
     },
     "metadata": {},
     "output_type": "display_data"
    },
    {
     "name": "stdout",
     "output_type": "stream",
     "text": [
      "starting looking for all the sections according to the provided section title info...\n",
      "Done with PDF file: 1901.00067v1.pdf\n",
      "# of sections: 1\n",
      "Total # of sections: 464 Total # of files: 70\n",
      "============================================================\n",
      "Processing PDF file: 1901.00068v4.pdf\n",
      "Auto generated table of content:\n"
     ]
    },
    {
     "data": {
      "text/plain": [
       "[[1, '1 Introduction', 3],\n",
       " [1, '2 Bayesian Spatial Regression Model', 7],\n",
       " [1, '3 Computation and SNP Selection', 9],\n",
       " [2, '3.1 Bayesian Computation', 9],\n",
       " [2, '3.2 Bayesian FDR', 12],\n",
       " [2, '3.3 Model Selection and Tuning', 13],\n",
       " [1, '4 Simulation Studies', 14],\n",
       " [1, '5 ADNI-1 Study of MRI and Genetics', 16],\n",
       " [1, '6 Conclusion', 20]]"
      ]
     },
     "metadata": {},
     "output_type": "display_data"
    },
    {
     "name": "stdout",
     "output_type": "stream",
     "text": [
      "starting looking for all the sections according to the provided section title info...\n",
      "Done with PDF file: 1901.00068v4.pdf\n",
      "# of sections: 7\n",
      "Total # of sections: 471 Total # of files: 71\n",
      "============================================================\n",
      "Processing PDF file: 1901.00069v1.pdf\n",
      "Auto generated table of content:\n"
     ]
    },
    {
     "data": {
      "text/plain": [
       "[[1, '1 Introduction', 1],\n",
       " [1, '2 Neural networks for forecasting', 1],\n",
       " [1, '3 Recurrent neural networks', 2],\n",
       " [2, '3.1 LSTM', 2],\n",
       " [2, '3.2 GRU', 3],\n",
       " [2, '3.3 Recurrent neural networks for forecasting', 3],\n",
       " [1, '4 Features', 4],\n",
       " [2, '4.1 Feature engineering', 4],\n",
       " [3, '4.1.1 Lags', 4],\n",
       " [3, '4.1.2 Trend', 5],\n",
       " [3, '4.1.3 Seasonality', 5],\n",
       " [3, '4.1.4 Dummy indicators', 5],\n",
       " [2, '4.2 Feature importances', 5],\n",
       " [1, '5 Prediction', 6],\n",
       " [2, '5.1 Point predictions', 6],\n",
       " [2, '5.2 Prediction intervals', 6],\n",
       " [1, '6 Validation', 9],\n",
       " [2, '6.1 Point forecasts', 9],\n",
       " [2, '6.2 Interval forecasts', 10],\n",
       " [1, '7 Empirical study', 10],\n",
       " [2, '7.1 Features', 11],\n",
       " [2, '7.2 Predictions', 13],\n",
       " [2, '7.3 Evaluation', 14],\n",
       " [1, '8 Conclusions and Future Perspectives', 18]]"
      ]
     },
     "metadata": {},
     "output_type": "display_data"
    },
    {
     "name": "stdout",
     "output_type": "stream",
     "text": [
      "starting looking for all the sections according to the provided section title info...\n",
      "Done with PDF file: 1901.00069v1.pdf\n",
      "# of sections: 9\n",
      "Total # of sections: 480 Total # of files: 72\n",
      "============================================================\n",
      "Processing PDF file: 1901.00070v1.pdf\n",
      "Auto generated table of content:\n"
     ]
    },
    {
     "data": {
      "text/plain": [
       "[[1, '1 Introduction', 1],\n",
       " [1, '2 Observations', 2],\n",
       " [2, '2.1 ALMA observations and data reduction', 2],\n",
       " [2, '2.2 IK Tau', 3],\n",
       " [2, '2.3 W Hya', 3],\n",
       " [2, '2.4 R Dor', 4],\n",
       " [1, '3 Radiative transfer modelling', 5],\n",
       " [2, '3.1 Modelling procedure', 5],\n",
       " [2, '3.2 Input parameters', 5],\n",
       " [2, '3.3 IK Tau model results', 8],\n",
       " [2, '3.4 W Hya model results', 9],\n",
       " [2, '3.5 R Dor model results', 11],\n",
       " [1, '4 Discussion', 12],\n",
       " [2, '4.1 Difference between lower and higher mass-loss rate stars', 12],\n",
       " [2, '4.2 Comparison with previous studies', 14],\n",
       " [2, '4.3 Isotopologue ratios and galactic chemical evolution', 15],\n",
       " [1, '5 Conclusions', 16]]"
      ]
     },
     "metadata": {},
     "output_type": "display_data"
    },
    {
     "name": "stdout",
     "output_type": "stream",
     "text": [
      "starting looking for all the sections according to the provided section title info...\n",
      "Done with PDF file: 1901.00070v1.pdf\n",
      "# of sections: 6\n",
      "Total # of sections: 486 Total # of files: 73\n",
      "============================================================\n",
      "Processing PDF file: 1901.00071v1.pdf\n",
      "Auto generated table of content:\n"
     ]
    },
    {
     "data": {
      "text/plain": [
       "[[1, '1 Introduction', 1],\n",
       " [2, '1.1 The proposed modulator', 3],\n",
       " [2, '1.2 Comparison to prior art', 5],\n",
       " [1, '2 Principle of operation', 6],\n",
       " [2, '2.1 Problem formulation', 6],\n",
       " [2, '2.2 Optical design', 7],\n",
       " [2, '2.3 RF configurations', 8],\n",
       " [1, '3 Analysis of the optical design', 9],\n",
       " [1, '4 Analysis of the RF design', 15],\n",
       " [1, '5 Discussion and summary', 18]]"
      ]
     },
     "metadata": {},
     "output_type": "display_data"
    },
    {
     "name": "stdout",
     "output_type": "stream",
     "text": [
      "starting looking for all the sections according to the provided section title info...\n",
      "Done with PDF file: 1901.00071v1.pdf\n",
      "# of sections: 6\n",
      "Total # of sections: 492 Total # of files: 74\n",
      "============================================================\n",
      "Processing PDF file: 1901.00072v1.pdf\n",
      "Auto generated table of content:\n"
     ]
    },
    {
     "data": {
      "text/plain": [
       "[[1, '1 Introduction', 1],\n",
       " [1, '2 Mel-scaled log filter banks', 2],\n",
       " [1, '3 Filter types', 2],\n",
       " [2, '3.1 Gabor filters', 3],\n",
       " [2, '3.2 Gammatone', 3],\n",
       " [1, '4 Short integration', 3],\n",
       " [1, '5 Experiment', 5],\n",
       " [2, '5.1 Data', 5],\n",
       " [2, '5.2 Model', 5],\n",
       " [2, '5.3 Training and decoding', 5],\n",
       " [2, '5.4 Features', 5],\n",
       " [2, '5.5 Evaluation', 6],\n",
       " [1, '6 Results and discussion', 6],\n",
       " [1, '7 Conclusions', 7],\n",
       " [1, '8 Acknowledgements', 7]]"
      ]
     },
     "metadata": {},
     "output_type": "display_data"
    },
    {
     "name": "stdout",
     "output_type": "stream",
     "text": [
      "starting looking for all the sections according to the provided section title info...\n",
      "Done with PDF file: 1901.00072v1.pdf\n",
      "# of sections: 9\n",
      "Total # of sections: 501 Total # of files: 75\n",
      "============================================================\n",
      "Processing PDF file: 1901.00074v4.pdf\n",
      "Auto generated table of content:\n"
     ]
    },
    {
     "data": {
      "text/plain": [
       "[[1, '1 Introduction', 1],\n",
       " [1, '2 Theory', 1],\n",
       " [2, '2.1 Solution of the dirac equation for r<R', 2],\n",
       " [2, '2.2 Solution of the dirac equation for r>R', 3],\n",
       " [2, '2.3 Boundary condition at r=R', 5],\n",
       " [1, '3 Results', 5],\n",
       " [1, '4 Conclusion', 8],\n",
       " [1, '5 Acknowledgment', 9]]"
      ]
     },
     "metadata": {},
     "output_type": "display_data"
    },
    {
     "name": "stdout",
     "output_type": "stream",
     "text": [
      "starting looking for all the sections according to the provided section title info...\n",
      "Done with PDF file: 1901.00074v4.pdf\n",
      "# of sections: 6\n",
      "Total # of sections: 507 Total # of files: 76\n",
      "============================================================\n",
      "Processing PDF file: 1901.00075v2.pdf\n",
      "Auto generated table of content:\n"
     ]
    },
    {
     "data": {
      "text/plain": [
       "[[1, ' Acknowledgments', 5],\n",
       " [1, ' Appendix: The transfer cross section', 5],\n",
       " [1, ' References', 5]]"
      ]
     },
     "metadata": {},
     "output_type": "display_data"
    },
    {
     "name": "stdout",
     "output_type": "stream",
     "text": [
      "starting looking for all the sections according to the provided section title info...\n",
      "Done with PDF file: 1901.00075v2.pdf\n",
      "# of sections: 4\n",
      "Total # of sections: 511 Total # of files: 77\n",
      "============================================================\n",
      "Processing PDF file: 1901.00076v1.pdf\n",
      "Auto generated table of content:\n"
     ]
    },
    {
     "data": {
      "text/plain": [
       "[[1, '1 Introduction', 1],\n",
       " [1, '2 Theory', 3],\n",
       " [2, '2.1 Extension to include Twitter and Blog', 4],\n",
       " [1, '3 Data', 5],\n",
       " [1, '4 Result', 5],\n",
       " [1, '5 Discussion', 7],\n",
       " [1, '6 Conclusion', 8]]"
      ]
     },
     "metadata": {},
     "output_type": "display_data"
    },
    {
     "name": "stdout",
     "output_type": "stream",
     "text": [
      "starting looking for all the sections according to the provided section title info...\n",
      "Done with PDF file: 1901.00076v1.pdf\n",
      "# of sections: 7\n",
      "Total # of sections: 518 Total # of files: 78\n",
      "============================================================\n",
      "Processing PDF file: 1901.00077v1.pdf\n",
      "Auto generated table of content:\n"
     ]
    },
    {
     "data": {
      "text/plain": [
       "[[1, '1. Introduction', 1],\n",
       " [1, '2. Quantum cylinder', 2],\n",
       " [1, '3. Classification of Derivations in the Quantum cylinder', 6],\n",
       " [1, '4. Reflection Positivity of Laplace-type Operators', 11],\n",
       " [2, '4.1. Reflection Positivity: Invariant Case', 13],\n",
       " [2, '4.2. Reflection Positivity: Covariant Case', 15],\n",
       " [1, 'References', 19]]"
      ]
     },
     "metadata": {},
     "output_type": "display_data"
    },
    {
     "name": "stdout",
     "output_type": "stream",
     "text": [
      "starting looking for all the sections according to the provided section title info...\n",
      "Done with PDF file: 1901.00077v1.pdf\n",
      "# of sections: 6\n",
      "Total # of sections: 524 Total # of files: 79\n",
      "============================================================\n",
      "Processing PDF file: 1901.00078v5.pdf\n",
      "Auto generated table of content:\n"
     ]
    },
    {
     "data": {
      "text/plain": [
       "[[1, '1. Introduction', 1],\n",
       " [1, '2. Higher codimensional alpha invariants', 3],\n",
       " [1, '3. Weighted complete intersection', 7],\n",
       " [1, '4. Hypersurface with ordinary singularities', 8],\n",
       " [1, '5. Counterexample', 12],\n",
       " [1, 'Appendix A. On a conjecture of Tian', 14],\n",
       " [1, 'References', 17]]"
      ]
     },
     "metadata": {},
     "output_type": "display_data"
    },
    {
     "name": "stdout",
     "output_type": "stream",
     "text": [
      "starting looking for all the sections according to the provided section title info...\n",
      "Done with PDF file: 1901.00078v5.pdf\n",
      "# of sections: 8\n",
      "Total # of sections: 532 Total # of files: 80\n",
      "============================================================\n",
      "Processing PDF file: 1901.00079v2.pdf\n",
      "Auto generated table of content:\n"
     ]
    },
    {
     "data": {
      "text/plain": [
       "[[1, '1 Introduction', 1],\n",
       " [1, '2 The HDG formulation', 4],\n",
       " [1, '3 Preliminaries', 6],\n",
       " [1, '4 Well-posedness of the HDG formulation', 12],\n",
       " [2, '4.1 Existence and uniqueness', 13],\n",
       " [2, '4.2 Energy stability', 16],\n",
       " [2, '4.3 The uniform estimate of uhn ', 22],\n",
       " [1, '5 Error analysis', 24],\n",
       " [2, '5.1 The main result', 25],\n",
       " [2, '5.2 The HDG elliptic projection', 25],\n",
       " [3, '5.2.1 Step 1: The error equation', 26],\n",
       " [3, '5.2.2 Step 2: An energy argument', 27],\n",
       " [3,\n",
       "  '5.2.3 Step 3: The error estimate of the scalar variable by the duality argument',\n",
       "  28],\n",
       " [2, '5.3 Error estimate in the negative norm', 29],\n",
       " [2, '5.4 Proof of mainres', 30],\n",
       " [1, '6 Numerical results', 38],\n",
       " [1, '7 Appendix', 40]]"
      ]
     },
     "metadata": {},
     "output_type": "display_data"
    },
    {
     "name": "stdout",
     "output_type": "stream",
     "text": [
      "starting looking for all the sections according to the provided section title info...\n",
      "Done with PDF file: 1901.00079v2.pdf\n",
      "# of sections: 8\n",
      "Total # of sections: 540 Total # of files: 81\n",
      "============================================================\n",
      "Processing PDF file: 1901.00080v1.pdf\n",
      "Auto generated table of content:\n"
     ]
    },
    {
     "data": {
      "text/plain": [
       "[[1, 'Agent-based simulations of China inbound tourism network', 1],\n",
       " [2, 'Abstract', 1],\n",
       " [2, ' Introduction', 2],\n",
       " [2, ' Results', 3],\n",
       " [2, ' Discussions', 18],\n",
       " [2, ' Methods', 20],\n",
       " [2, ' Data Availability', 22],\n",
       " [2, ' References', 22],\n",
       " [2, ' Acknowledgement', 24],\n",
       " [2, ' Author contributions', 24],\n",
       " [2, ' Competing financial interests', 24],\n",
       " [2, ' Additional information', 25]]"
      ]
     },
     "metadata": {},
     "output_type": "display_data"
    },
    {
     "name": "stdout",
     "output_type": "stream",
     "text": [
      "starting looking for all the sections according to the provided section title info...\n",
      "Done with PDF file: 1901.00080v1.pdf\n",
      "# of sections: 1\n",
      "Total # of sections: 541 Total # of files: 82\n",
      "============================================================\n",
      "Processing PDF file: 1901.00081v3.pdf\n",
      "Auto generated table of content:\n"
     ]
    },
    {
     "data": {
      "text/plain": [
       "[[1, '1 Introduction', 1],\n",
       " [1, '2 Integrable Deep Neural Network', 3],\n",
       " [2, '2.1 Enforcing symmetries', 6],\n",
       " [1,\n",
       "  '3 Bridging atomic to continuum scales via an IDNN representation of the free energy density',\n",
       "  6],\n",
       " [2, '3.1 Training free energy DNN', 9],\n",
       " [2, '3.2 Phase field computation', 10],\n",
       " [3, '3.2.1 Formulation', 11],\n",
       " [3, '3.2.2 Phase field results', 13],\n",
       " [1, '4 Comparison with B-spline surface fit', 14],\n",
       " [2, '4.1 Formulation', 14],\n",
       " [2, '4.2 Selection of knots', 16],\n",
       " [2, '4.3 B-spline results, and comparison with DNN', 16],\n",
       " [1, '5 Conclusions', 18],\n",
       " [1, '6 Acknowledgements', 19]]"
      ]
     },
     "metadata": {},
     "output_type": "display_data"
    },
    {
     "name": "stdout",
     "output_type": "stream",
     "text": [
      "starting looking for all the sections according to the provided section title info...\n",
      "Done with PDF file: 1901.00081v3.pdf\n",
      "# of sections: 7\n",
      "Total # of sections: 548 Total # of files: 83\n",
      "============================================================\n",
      "Processing PDF file: 1901.00082v3.pdf\n",
      "Auto generated table of content:\n"
     ]
    },
    {
     "data": {
      "text/plain": [
       "[[1, '1 Introduction', 1],\n",
       " [2, '1.1 Background context', 1],\n",
       " [2, '1.2 New work', 2],\n",
       " [2, '1.3 Future work', 2],\n",
       " [1, '2 Background and preliminaries', 3],\n",
       " [2, '2.1 Notational conventions', 3],\n",
       " [2, '2.2 Semilattices, characters and filters', 3],\n",
       " [2, '2.3 AMNM for weighted semilattices', 5],\n",
       " [1, '3 Characterizing stability of filters', 7],\n",
       " [2, '3.1 Initial remarks', 7],\n",
       " [2, '3.2 Characterizing sets on which dist is small.', 8],\n",
       " [2, '3.3 Characterizing sets with small -defect', 8],\n",
       " [2, '3.4 fbpC-stability and propagation', 9],\n",
       " [2, '3.5 An example where our theorem improves on earlier results', 11],\n",
       " [1, '4 Breadth and propagation', 11]]"
      ]
     },
     "metadata": {},
     "output_type": "display_data"
    },
    {
     "name": "stdout",
     "output_type": "stream",
     "text": [
      "starting looking for all the sections according to the provided section title info...\n",
      "Done with PDF file: 1901.00082v3.pdf\n",
      "# of sections: 5\n",
      "Total # of sections: 553 Total # of files: 84\n",
      "============================================================\n",
      "Processing PDF file: 1901.00083v1.pdf\n",
      "The paper has not table of content. Need to use regular expression to map table of content.\n",
      "starting looking for all the sections...\n"
     ]
    },
    {
     "data": {
      "text/plain": [
       "[[2, 'A. The\\nmini-Brillouin zone of the superlattice is greatly ', 1]]"
      ]
     },
     "metadata": {},
     "output_type": "display_data"
    },
    {
     "name": "stdout",
     "output_type": "stream",
     "text": [
      "starting looking for all the sections according to the provided section title info...\n",
      "Processing PDF file: 1901.00084v1.pdf\n",
      "Auto generated table of content:\n"
     ]
    },
    {
     "data": {
      "text/plain": [
       "[[1, '1. Introduction', 1],\n",
       " [1, '2. Preliminaries', 1],\n",
       " [1, '3. Arc-transitive graphs of prime valency', 2],\n",
       " [1, '4. Proof of Theorem ??', 3],\n",
       " [1, 'References', 5]]"
      ]
     },
     "metadata": {},
     "output_type": "display_data"
    },
    {
     "name": "stdout",
     "output_type": "stream",
     "text": [
      "starting looking for all the sections according to the provided section title info...\n",
      "Done with PDF file: 1901.00084v1.pdf\n",
      "# of sections: 6\n",
      "Total # of sections: 559 Total # of files: 85\n",
      "============================================================\n",
      "Processing PDF file: 1901.00085v3.pdf\n",
      "Auto generated table of content:\n"
     ]
    },
    {
     "data": {
      "text/plain": [
       "[[1, \"Observation and study of the decay J/'\", 1],\n",
       " [2, 'Abstract', 3],\n",
       " [2, 'I INTRODUCTION', 3],\n",
       " [2, 'II BESIII EXPERIMENT AND MONTE CARLO SIMULATION', 3],\n",
       " [2, 'III Event selection and data analysis', 4],\n",
       " [2, 'IV Measurement of B(J/)', 4],\n",
       " [2, 'V Study of an intermediate state in the  mass spectrum', 5],\n",
       " [3, 'A Simultaneous fit', 6],\n",
       " [3, 'B Angular distribution', 7],\n",
       " [3, 'C Measurement of the product branching fraction', 8],\n",
       " [3, 'D Systematic uncertainties', 8],\n",
       " [2, 'VI Summary and discussion', 9],\n",
       " [2, ' Acknowledgments', 9],\n",
       " [2, ' References', 9]]"
      ]
     },
     "metadata": {},
     "output_type": "display_data"
    },
    {
     "name": "stdout",
     "output_type": "stream",
     "text": [
      "starting looking for all the sections according to the provided section title info...\n",
      "Done with PDF file: 1901.00085v3.pdf\n",
      "# of sections: 1\n",
      "Total # of sections: 560 Total # of files: 86\n",
      "============================================================\n",
      "Processing PDF file: 1901.00086v1.pdf\n",
      "The paper has not table of content. Need to use regular expression to map table of content.\n",
      "starting looking for all the sections...\n"
     ]
    },
    {
     "data": {
      "text/plain": [
       "[[1, '1. INTRODUCTION ', 2],\n",
       " [1, '2. OBSERVATIONS AND DATA PROCESSING ', 3],\n",
       " [1, '4. RESULTS ', 4],\n",
       " [1, '5. DISCUSSION AND CONCLUSIONS ', 6],\n",
       " [1, '1 OBSERVING LOG \\n \\n \\nDate ', 9]]"
      ]
     },
     "metadata": {},
     "output_type": "display_data"
    },
    {
     "name": "stdout",
     "output_type": "stream",
     "text": [
      "starting looking for all the sections according to the provided section title info...\n",
      "Done with PDF file: 1901.00086v1.pdf\n",
      "# of sections: 6\n",
      "Total # of sections: 566 Total # of files: 87\n",
      "============================================================\n",
      "Processing PDF file: 1901.00087v2.pdf\n",
      "Auto generated table of content:\n"
     ]
    },
    {
     "data": {
      "text/plain": [
       "[[1, '1. introduction', 1],\n",
       " [1, '2. preliminaries', 1],\n",
       " [1, '3. Upper bound', 4],\n",
       " [1, '4. Lower bound', 5],\n",
       " [1, '5. Acknowledgments', 7],\n",
       " [1, 'References', 7]]"
      ]
     },
     "metadata": {},
     "output_type": "display_data"
    },
    {
     "name": "stdout",
     "output_type": "stream",
     "text": [
      "starting looking for all the sections according to the provided section title info...\n",
      "Done with PDF file: 1901.00087v2.pdf\n",
      "# of sections: 7\n",
      "Total # of sections: 573 Total # of files: 88\n",
      "============================================================\n",
      "Processing PDF file: 1901.00088v1.pdf\n",
      "The paper has not table of content. Need to use regular expression to map table of content.\n",
      "starting looking for all the sections...\n"
     ]
    },
    {
     "data": {
      "text/plain": [
       "[[1, '1 \\nIntroduction ', 1],\n",
       " [1, '3 \\nQuantum Annealing ', 6],\n",
       " [1, '4 \\nQuantum Annealing Based Binary Compressive Sensing  ', 9],\n",
       " [1, 'I\\nGc', 11],\n",
       " [1, '6 \\nDiscussion  ', 12]]"
      ]
     },
     "metadata": {},
     "output_type": "display_data"
    },
    {
     "name": "stdout",
     "output_type": "stream",
     "text": [
      "starting looking for all the sections according to the provided section title info...\n",
      "Done with PDF file: 1901.00088v1.pdf\n",
      "# of sections: 6\n",
      "Total # of sections: 579 Total # of files: 89\n",
      "============================================================\n",
      "Processing PDF file: 1901.00089v1.pdf\n",
      "Auto generated table of content:\n"
     ]
    },
    {
     "data": {
      "text/plain": [
       "[[1, 'I Introduction', 1],\n",
       " [1, 'II Problem Specification', 1],\n",
       " [1, 'III An Approximation for the CUT', 2],\n",
       " [1, 'IV Conclusion', 3],\n",
       " [1, 'References', 3]]"
      ]
     },
     "metadata": {},
     "output_type": "display_data"
    },
    {
     "name": "stdout",
     "output_type": "stream",
     "text": [
      "starting looking for all the sections according to the provided section title info...\n",
      "Done with PDF file: 1901.00089v1.pdf\n",
      "# of sections: 6\n",
      "Total # of sections: 585 Total # of files: 90\n",
      "============================================================\n",
      "Processing PDF file: 1901.00090v1.pdf\n",
      "Auto generated table of content:\n"
     ]
    },
    {
     "data": {
      "text/plain": [
       "[[1, '1 Introduction', 1],\n",
       " [1, '2 Problem Description and Assumptions', 4],\n",
       " [2, '2.1 Key assumptions', 5],\n",
       " [1, '3 Inventory Optimization Algorithm', 5],\n",
       " [2, '3.1 Simulation Module', 6],\n",
       " [3, '3.1.1 Place replenishment order', 6],\n",
       " [3, '3.1.2 Fulfill replenishment order', 7],\n",
       " [3, '3.1.3 Deliver replenishment', 8],\n",
       " [3, '3.1.4 Serve customer demand', 9],\n",
       " [3, '3.1.5 Simulation initialization', 10],\n",
       " [2, '3.2 Optimization Module', 11],\n",
       " [1, '4 Algorithm Implementation', 13],\n",
       " [2, '4.1 Optimization Solvers', 13],\n",
       " [2, '4.2 Implementation Code', 14],\n",
       " [1, '5 Results and Solver Comparison', 14],\n",
       " [1, '6 Conclusions', 20]]"
      ]
     },
     "metadata": {},
     "output_type": "display_data"
    },
    {
     "name": "stdout",
     "output_type": "stream",
     "text": [
      "starting looking for all the sections according to the provided section title info...\n",
      "Done with PDF file: 1901.00090v1.pdf\n",
      "# of sections: 7\n",
      "Total # of sections: 592 Total # of files: 91\n",
      "============================================================\n",
      "Processing PDF file: 1901.00091v2.pdf\n",
      "Auto generated table of content:\n"
     ]
    },
    {
     "data": {
      "text/plain": [
       "[[1, '1 Introduction', 2],\n",
       " [1, '2 Hierarchical Clustering — Theory and Example', 3],\n",
       " [2, '2.1 Overview of Algorithm', 3],\n",
       " [2, '2.2 An Example', 4],\n",
       " [2, '2.3 Sample Code and Required Libraries', 4],\n",
       " [1, '3 Handling Periodic Boundaries of the 2D Lattice', 5],\n",
       " [2, '3.1 The Use of Breadth-First Search To Merge Clusters', 6],\n",
       " [1, '4 Conclusions', 8],\n",
       " [1, '5 Acknowledgements', 8]]"
      ]
     },
     "metadata": {},
     "output_type": "display_data"
    },
    {
     "name": "stdout",
     "output_type": "stream",
     "text": [
      "starting looking for all the sections according to the provided section title info...\n",
      "Done with PDF file: 1901.00091v2.pdf\n",
      "# of sections: 6\n",
      "Total # of sections: 598 Total # of files: 92\n",
      "============================================================\n",
      "Processing PDF file: 1901.00092v1.pdf\n",
      "The paper has not table of content. Need to use regular expression to map table of content.\n",
      "starting looking for all the sections...\n"
     ]
    },
    {
     "data": {
      "text/plain": [
       "[[1, 'I. \\nINTRODUCTION ', 1],\n",
       " [1, 'II. GNRFET Model  \\n ', 2],\n",
       " [2, 'A. GMCPG with GNR Single Power Switch ', 3],\n",
       " [1, '7. The ', 4],\n",
       " [2, 'B. Quadratic Modes GMCPG ', 4],\n",
       " [1, '1 \\nON \\nOFF ', 4],\n",
       " [1, '1 \\nOFF \\nOFF \\nGMCPG-NS ', 4],\n",
       " [1, '1 \\nAll GNRPSs ON ', 5],\n",
       " [2, 'B. Performance Parameters for GMCPG-SS ', 6],\n",
       " [1, '12. On ', 7],\n",
       " [1, 'VI. CONCLUSION ', 8]]"
      ]
     },
     "metadata": {},
     "output_type": "display_data"
    },
    {
     "name": "stdout",
     "output_type": "stream",
     "text": [
      "starting looking for all the sections according to the provided section title info...\n",
      "Done with PDF file: 1901.00092v1.pdf\n",
      "# of sections: 9\n",
      "Total # of sections: 607 Total # of files: 93\n",
      "============================================================\n",
      "Processing PDF file: 1901.00093v1.pdf\n",
      "Auto generated table of content:\n"
     ]
    },
    {
     "data": {
      "text/plain": [
       "[[1, '1 Introduction', 3],\n",
       " [2, '1.1 Defining the E7-model', 4],\n",
       " [2, '1.2 E7 facts and conjectures', 5],\n",
       " [2, '1.3 Summary of results', 6],\n",
       " [1, '2 Preliminaries', 11],\n",
       " [2, '2.1 G-models and Coulomb phases', 11],\n",
       " [2,\n",
       "  '2.2 Geography of minimal models: decomposition of the relative movable cone into relative nef-cones.',\n",
       "  11],\n",
       " [1, '3 The hyperplane arrangement I(E7, 56) ', 13],\n",
       " [2, '3.1 E7 root system and Dynkin diagram', 13],\n",
       " [2, '3.2 Root system of types E7 and E8, and representation 56 of E7.', 14],\n",
       " [2, '3.3 Chamber structure of the hyperplane I(E7,56) ', 17],\n",
       " [1, '4 Minimal models Y4, Y5, Y6, and Y8', 19],\n",
       " [2, '4.1 Overview of the sequence of blowups defining the resolutions', 19],\n",
       " [2, '4.2 The geometry of Y4', 21],\n",
       " [2, '4.3 The geometry of Y5', 22],\n",
       " [2, '4.4 The geometry of Y6', 24],\n",
       " [2, '4.5 The geometry of Y8', 25],\n",
       " [2, '4.6 SPP (suspended pinch point) flops', 26],\n",
       " [2, '4.7 SPP flopping between Y4, Y5, Y6, and Y8', 30],\n",
       " [1, '5  Application to N=1 five-dimensional theories', 30],\n",
       " [2, '5.1 Prepotential and Coulomb phases', 32],\n",
       " [2,\n",
       "  '5.2 Counting charged hypermultiplets in 5d using triple intersection numbers',\n",
       "  32],\n",
       " [1, '6 Application to N=(1,0) six-dimensional theories', 33],\n",
       " [2, '6.1 Anomaly cancellations in N=(1,0) six-dimensional theories', 33],\n",
       " [2,\n",
       "  '6.2 Counting hypermultiplets in 6d using anomaly cancellation conditions',\n",
       "  35],\n",
       " [1, 'A Relevant Definitions', 36]]"
      ]
     },
     "metadata": {},
     "output_type": "display_data"
    },
    {
     "name": "stdout",
     "output_type": "stream",
     "text": [
      "starting looking for all the sections according to the provided section title info...\n",
      "Done with PDF file: 1901.00093v1.pdf\n",
      "# of sections: 8\n",
      "Total # of sections: 615 Total # of files: 94\n",
      "============================================================\n",
      "Processing PDF file: 1901.00094v2.pdf\n",
      "Auto generated table of content:\n"
     ]
    },
    {
     "data": {
      "text/plain": [
       "[[1,\n",
       "  'The dynamics of bimeron skyrmions in easy-plane magnets induced by a spin supercurrent',\n",
       "  1],\n",
       " [2, 'Abstract', 1],\n",
       " [2, 'I Introduction', 1],\n",
       " [2, 'II Bimeron skyrmion in frustrated magnets', 2],\n",
       " [2, 'III Interaction of a bimeron skyrmion with a spin supercurrent', 2],\n",
       " [3, 'A Spin-supercurrent-induced skymion motion', 3],\n",
       " [3, 'B Skyrmion racetrack', 4],\n",
       " [2, 'IV Discussion', 5],\n",
       " [2, ' Acknowledgments', 5],\n",
       " [2,\n",
       "  'A The spin continuity equation for easy-plane ferromagnets in their uniform ground states',\n",
       "  5],\n",
       " [2,\n",
       "  'B The spin continuity equation for easy-plane antiferromagnets in their uniform ground states',\n",
       "  6],\n",
       " [2, ' References', 6]]"
      ]
     },
     "metadata": {},
     "output_type": "display_data"
    },
    {
     "name": "stdout",
     "output_type": "stream",
     "text": [
      "starting looking for all the sections according to the provided section title info...\n",
      "Done with PDF file: 1901.00094v2.pdf\n",
      "# of sections: 1\n",
      "Total # of sections: 616 Total # of files: 95\n",
      "============================================================\n",
      "Processing PDF file: 1901.00095v3.pdf\n",
      "Auto generated table of content:\n"
     ]
    },
    {
     "data": {
      "text/plain": [
       "[[1, '1 Introduction', 3],\n",
       " [1, '2 IKKT model', 5],\n",
       " [2, '2.1 Ishibashi-Kawai-Kitazawa-Tsuchiya (IKKT) model', 5],\n",
       " [2, '2.2 NC torus in the IKKT model', 7],\n",
       " [1, '3 Toroidal compactifications of 10D SYM theory', 9],\n",
       " [2, '3.1 Twisted bundle on the torus', 9],\n",
       " [2, '3.2 Zero-modes of Dirac operator on T2', 10],\n",
       " [1, '4 Dirac operator on the NC torus and the IKKT model', 13],\n",
       " [2, '4.1 Differential operators on the NC torus', 13],\n",
       " [2, '4.2 Dirac operator on the NC torus based on the IKKT model', 14],\n",
       " [1, '5 Zero-mode analysis on the magnetized NC torus', 16],\n",
       " [2, '5.1 Twisted bundle on the NC torus', 16],\n",
       " [2,\n",
       "  '5.2 Zero-modes of the Dirac operator D/4—0-0.08-to4 toto4D/4—0-0.08-to4 toto4D/4—0-0.08-to4 toto4D/4—0-0.08-to4 toto4phys',\n",
       "  17],\n",
       " [2, '5.3 Eigenvalues of the Laplacian', 21],\n",
       " [2, '5.4 Normalizations and Yukawa couplings', 22],\n",
       " [1, '6 Conclusions and discussions', 26],\n",
       " [2, 'A Effective action of the IKKT model', 29]]"
      ]
     },
     "metadata": {},
     "output_type": "display_data"
    },
    {
     "name": "stdout",
     "output_type": "stream",
     "text": [
      "starting looking for all the sections according to the provided section title info...\n",
      "Done with PDF file: 1901.00095v3.pdf\n",
      "# of sections: 7\n",
      "Total # of sections: 623 Total # of files: 96\n",
      "============================================================\n",
      "Processing PDF file: 1901.00096v1.pdf\n",
      "The paper has not table of content. Need to use regular expression to map table of content.\n",
      "starting looking for all the sections...\n"
     ]
    },
    {
     "data": {
      "text/plain": [
       "[[1, 'I.\\nINTRODUCTION', 1],\n",
       " [1, 'II.\\nANISOTROPIC EIT MEDIUM', 2],\n",
       " [1, 'III.\\nATOMIC SHEL AND GH SHIFTS', 4],\n",
       " [2, 'A.\\nSpin Accumulation\\nIn the momentum ', 4],\n",
       " [2, 'B.\\nSHEL and GH Shifts\\nThe spin accumulation ', 5],\n",
       " [1, 'IV.\\nMEASUREMENT SCHEME OF SHEL', 6],\n",
       " [1, 'V.\\nCONCLUSIONS', 8],\n",
       " [1, '8. The Z-', 9]]"
      ]
     },
     "metadata": {},
     "output_type": "display_data"
    },
    {
     "name": "stdout",
     "output_type": "stream",
     "text": [
      "starting looking for all the sections according to the provided section title info...\n",
      "Done with PDF file: 1901.00096v1.pdf\n",
      "# of sections: 7\n",
      "Total # of sections: 630 Total # of files: 97\n",
      "============================================================\n",
      "Processing PDF file: 1901.00097v1.pdf\n",
      "The paper has not table of content. Need to use regular expression to map table of content.\n",
      "starting looking for all the sections...\n"
     ]
    },
    {
     "data": {
      "text/plain": [
       "[[1, '1\\nIntroduction', 1],\n",
       " [1, '2\\nRelated Work', 3],\n",
       " [2, '3.1\\nOverall Framework', 3],\n",
       " [2, '3.2\\nHierarchical Visual Features Extraction', 4],\n",
       " [2,\n",
       "  '3.3\\nHierarchical Attention Mechanism\\nHierarchical attention mechanism is an effective achitecture to exploit hierarchical visual',\n",
       "  4],\n",
       " [2, '3.4\\nInformation Loss', 6],\n",
       " [1, '7\\nModels\\nMSVD\\nMSR-VTT', 7],\n",
       " [2, '4.1\\nDataset and Evaluation Metrics', 7],\n",
       " [1, '512. Dropout', 8],\n",
       " [2, '4.3\\nExperiment Analysis', 8],\n",
       " [1, '5\\nConclusion', 10]]"
      ]
     },
     "metadata": {},
     "output_type": "display_data"
    },
    {
     "name": "stdout",
     "output_type": "stream",
     "text": [
      "starting looking for all the sections according to the provided section title info...\n",
      "Done with PDF file: 1901.00097v1.pdf\n",
      "# of sections: 6\n",
      "Total # of sections: 636 Total # of files: 98\n",
      "============================================================\n",
      "Processing PDF file: 1901.00098v1.pdf\n",
      "The paper has not table of content. Need to use regular expression to map table of content.\n",
      "starting looking for all the sections...\n"
     ]
    },
    {
     "data": {
      "text/plain": [
       "[[1, '1. Introduction', 1],\n",
       " [1, '2. Related Work\\nPrivacy-Preserving\\nVisual', 2],\n",
       " [2, '3.1. Formulation', 3],\n",
       " [1, '4. Training', 4],\n",
       " [1, '5. Experiments', 5],\n",
       " [2, '5.1. Datasets\\nWe have evaluated our obfuscation method with three', 5],\n",
       " [2, '5.3. Baselines', 5],\n",
       " [2, '5.4. Image Classiﬁcation', 5],\n",
       " [1, '1.\\nDataset', 6],\n",
       " [2, '5.5. Attribute Classiﬁcation', 7],\n",
       " [2, '5.6. Facial Landmark Detection', 7],\n",
       " [1, '6. Conclusion', 8],\n",
       " [1, '32\\nCBR', 9],\n",
       " [1, '32\\nCBR', 9],\n",
       " [1, '32\\nCS', 9],\n",
       " [1, '32\\nCBR', 9],\n",
       " [1, '32\\nCBR', 9],\n",
       " [1, '32\\nCBR', 9],\n",
       " [1, '32\\nCT', 9],\n",
       " [1, '32\\nCBR', 9],\n",
       " [1, '32\\nCBR', 9],\n",
       " [1, '32\\nCBR', 9],\n",
       " [1, '32\\nCBR', 9],\n",
       " [1, '32\\nCS', 9],\n",
       " [1, '16\\nCBL', 9],\n",
       " [1, '32\\nCBL', 9],\n",
       " [1, '64\\nCBL', 9],\n",
       " [1, '128\\nCBR', 9],\n",
       " [1, '128\\nCBDR', 9],\n",
       " [1, '256\\nCBDR', 9],\n",
       " [1, '128\\nCBDR', 9],\n",
       " [1, '64\\nCBR', 9],\n",
       " [1, '32\\nCS', 9],\n",
       " [1, '5.\\nLayer\\nKernel\\nStride\\nPadding\\nDilation\\nOut\\nCBR', 9],\n",
       " [1, '8\\nCBR', 9],\n",
       " [1, '16\\nCBR', 9],\n",
       " [1, '32\\nCBR', 9],\n",
       " [1, '32\\nCR', 10],\n",
       " [2,\n",
       "  'B. Hyperparameters of Baselines\\nWe present the hyperparameters of non recognition-\\naware ',\n",
       "  10],\n",
       " [1, '4\\nSVHN', 10],\n",
       " [1, '4\\nMTFL', 10]]"
      ]
     },
     "metadata": {},
     "output_type": "display_data"
    },
    {
     "name": "stdout",
     "output_type": "stream",
     "text": [
      "starting looking for all the sections according to the provided section title info...\n",
      "Done with PDF file: 1901.00098v1.pdf\n",
      "# of sections: 23\n",
      "Total # of sections: 659 Total # of files: 99\n",
      "============================================================\n",
      "Processing PDF file: 1901.00099v2.pdf\n",
      "The paper has not table of content. Need to use regular expression to map table of content.\n",
      "starting looking for all the sections...\n"
     ]
    },
    {
     "data": {
      "text/plain": [
       "[[1, '1959 NE Pacific St ', 1],\n",
       " [1, '2 \\nAbstract \\n ', 2],\n",
       " [1, '1. Introduction \\n ', 3],\n",
       " [1, '8. Conclusions \\n ', 18],\n",
       " [1, 'I. Parkinson Study ', 22],\n",
       " [2, 'D. Posthuma ', 26]]"
      ]
     },
     "metadata": {},
     "output_type": "display_data"
    },
    {
     "name": "stdout",
     "output_type": "stream",
     "text": [
      "starting looking for all the sections according to the provided section title info...\n",
      "Done with PDF file: 1901.00099v2.pdf\n",
      "# of sections: 6\n",
      "Total # of sections: 665 Total # of files: 100\n",
      "============================================================\n"
     ]
    }
   ],
   "source": [
    "# number of PDFs used for training data preparation\n",
    "dataset_limit = 100\n",
    "\n",
    "file_count = 0\n",
    "all_json_dicts = []\n",
    "# Loop through files in the folder\n",
    "for file_name in os.listdir(dataset_path):\n",
    "    file_path = os.path.join(dataset_path, file_name)\n",
    "    # Check if it's a file and if it has a \".pdf\" extension\n",
    "    if os.path.isfile(file_path) and file_name.endswith('.pdf'):\n",
    "        # Process the PDF file\n",
    "        print(\"Processing PDF file:\", file_name)\n",
    "        json_dict = process_one_pdf(file_path)\n",
    "        if len(json_dict) > 0:\n",
    "            all_json_dicts.extend(list(json_dict.values()))\n",
    "            file_count += 1\n",
    "            print(\"Done with PDF file:\", file_name)\n",
    "            print(\"# of sections:\", len(json_dict.values()))\n",
    "            print(\"Total # of sections:\", len(all_json_dicts), \"Total # of files:\", file_count)\n",
    "            print(60*\"=\")\n",
    "        \n",
    "        # Terminate when reaching dataset limit\n",
    "        if file_count >= dataset_limit:\n",
    "            break\n",
    "\n",
    "# get_summaries(all_json_dicts)\n",
    "json_list = json.dumps(all_json_dicts)\n",
    "full_name = \"dataset/dataset.json\"\n",
    "with open(full_name, \"w\") as jsonfile: \n",
    "    jsonfile.write(json_list)"
   ]
  },
  {
   "cell_type": "markdown",
   "metadata": {},
   "source": [
    "Step 2: Generate GPT summary for each section and subsection as ground truth."
   ]
  }
 ],
 "metadata": {
  "kernelspec": {
   "display_name": "Python 3",
   "language": "python",
   "name": "python3"
  },
  "language_info": {
   "codemirror_mode": {
    "name": "ipython",
    "version": 3
   },
   "file_extension": ".py",
   "mimetype": "text/x-python",
   "name": "python",
   "nbconvert_exporter": "python",
   "pygments_lexer": "ipython3",
   "version": "3.10.9"
  }
 },
 "nbformat": 4,
 "nbformat_minor": 2
}
